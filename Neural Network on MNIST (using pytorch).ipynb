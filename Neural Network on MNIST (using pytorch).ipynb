{
 "cells": [
  {
   "cell_type": "markdown",
   "metadata": {},
   "source": [
    "# Neural Networks on MNIST data"
   ]
  },
  {
   "cell_type": "code",
   "execution_count": 1,
   "metadata": {
    "collapsed": true
   },
   "outputs": [],
   "source": [
    "%load_ext autoreload\n",
    "%autoreload 2\n",
    "%matplotlib inline"
   ]
  },
  {
   "cell_type": "code",
   "execution_count": 25,
   "metadata": {},
   "outputs": [],
   "source": [
    "import torch\n",
    "from IPython.core.debugger import set_trace"
   ]
  },
  {
   "cell_type": "code",
   "execution_count": 24,
   "metadata": {},
   "outputs": [],
   "source": [
    "from fastai.imports import *\n",
    "from fastai.torch_imports import *\n",
    "from fastai.io import *"
   ]
  },
  {
   "cell_type": "markdown",
   "metadata": {},
   "source": [
    "---\n",
    "## Data loading "
   ]
  },
  {
   "cell_type": "code",
   "execution_count": 4,
   "metadata": {
    "collapsed": true
   },
   "outputs": [],
   "source": [
    "path = 'data/'"
   ]
  },
  {
   "cell_type": "code",
   "execution_count": 5,
   "metadata": {
    "collapsed": true
   },
   "outputs": [],
   "source": [
    "URL='http://deeplearning.net/data/mnist/'\n",
    "FILENAME='mnist.pkl.gz'\n",
    "\n",
    "def load_mnist(filename):\n",
    "    return pickle.load(gzip.open(filename, 'rb'), encoding='latin-1')"
   ]
  },
  {
   "cell_type": "code",
   "execution_count": 6,
   "metadata": {
    "collapsed": true
   },
   "outputs": [],
   "source": [
    "get_data(URL+FILENAME, path+FILENAME)\n",
    "\n",
    "((x, y), (x_valid, y_valid), (x_test,y_test)) = load_mnist(path+FILENAME)"
   ]
  },
  {
   "cell_type": "code",
   "execution_count": 7,
   "metadata": {
    "collapsed": true
   },
   "outputs": [
    {
     "data": {
      "text/plain": [
       "(50000, 50000, 10000, 10000, 10000, 10000)"
      ]
     },
     "execution_count": 7,
     "metadata": {},
     "output_type": "execute_result"
    }
   ],
   "source": [
    "len(x), len(y), len(x_valid), len(y_valid), len(x_test),len(y_test)"
   ]
  },
  {
   "cell_type": "markdown",
   "metadata": {},
   "source": [
    "We have 50000 images in train. 10000 images in validation and test data. There are 10 classes"
   ]
  },
  {
   "cell_type": "markdown",
   "metadata": {},
   "source": [
    "---\n",
    "## Normalization"
   ]
  },
  {
   "cell_type": "markdown",
   "metadata": {},
   "source": [
    "##### Normalization is better when feeding data to neural networks. RF is not affected by scale so not required. But neural networks are affected by scale otherwise NN has to learn the mean and std by itself."
   ]
  },
  {
   "cell_type": "code",
   "execution_count": 8,
   "metadata": {
    "collapsed": true
   },
   "outputs": [
    {
     "data": {
      "text/plain": [
       "(0.13044983, 0.30728981, -3.1638146e-07, 0.99999934)"
      ]
     },
     "execution_count": 8,
     "metadata": {},
     "output_type": "execute_result"
    }
   ],
   "source": [
    "mean = x.mean()\n",
    "\n",
    "std = x.std()\n",
    "\n",
    "x = (x -mean)/std\n",
    "\n",
    "mean,std,x.mean(),x.std()"
   ]
  },
  {
   "cell_type": "markdown",
   "metadata": {},
   "source": [
    "### Note on normalization:\n",
    "* Train and validation should have same normalization\n",
    "* For RGB image,normalization for each channel\n",
    "* Structural: Normalization for each fetaure separately"
   ]
  },
  {
   "cell_type": "markdown",
   "metadata": {},
   "source": [
    "##### Same normalization has to applied to validation/test data"
   ]
  },
  {
   "cell_type": "code",
   "execution_count": 9,
   "metadata": {
    "collapsed": true
   },
   "outputs": [],
   "source": [
    "x_valid = (x_valid-mean)/std"
   ]
  },
  {
   "cell_type": "code",
   "execution_count": 10,
   "metadata": {
    "collapsed": true
   },
   "outputs": [
    {
     "data": {
      "text/plain": [
       "(-0.0058509219, 0.99243325)"
      ]
     },
     "execution_count": 10,
     "metadata": {},
     "output_type": "execute_result"
    }
   ],
   "source": [
    "x_valid.mean(),x_valid.std()"
   ]
  },
  {
   "cell_type": "code",
   "execution_count": 11,
   "metadata": {
    "collapsed": true
   },
   "outputs": [
    {
     "data": {
      "text/plain": [
       "(10000, 784)"
      ]
     },
     "execution_count": 11,
     "metadata": {},
     "output_type": "execute_result"
    }
   ],
   "source": [
    "x_valid.shape"
   ]
  },
  {
   "cell_type": "markdown",
   "metadata": {},
   "source": [
    "### Reshaping your tensors"
   ]
  },
  {
   "cell_type": "code",
   "execution_count": 12,
   "metadata": {
    "collapsed": true
   },
   "outputs": [
    {
     "data": {
      "text/plain": [
       "(10000, 28, 28)"
      ]
     },
     "execution_count": 12,
     "metadata": {},
     "output_type": "execute_result"
    }
   ],
   "source": [
    "x_valid.reshape(-1, 28,28).shape #-1 is entered as reshape will identify by itself what is that order based on input"
   ]
  },
  {
   "cell_type": "code",
   "execution_count": 13,
   "metadata": {
    "collapsed": true
   },
   "outputs": [],
   "source": [
    "x_imgs = x_valid.reshape(-1,28,28) #store 10000 images as matrix of 28*28"
   ]
  },
  {
   "cell_type": "code",
   "execution_count": 14,
   "metadata": {
    "collapsed": true
   },
   "outputs": [],
   "source": [
    "def img_show(img,title = None):\n",
    "    plt.imshow(img,cmap='gray')\n",
    "    if title is not None: plt.title(title) "
   ]
  },
  {
   "cell_type": "code",
   "execution_count": 15,
   "metadata": {
    "collapsed": true
   },
   "outputs": [
    {
     "data": {
      "image/png": "[encoded data removed]",
      "text/plain": [
       "<matplotlib.figure.Figure at 0x1058de7f0>"
      ]
     },
     "metadata": {},
     "output_type": "display_data"
    }
   ],
   "source": [
    "img_show(x_imgs[0],\"sample\") #this will pick the first image"
   ]
  },
  {
   "cell_type": "code",
   "execution_count": 16,
   "metadata": {
    "collapsed": true
   },
   "outputs": [
    {
     "data": {
      "image/png": "[encoded data removed]",
      "text/plain": [
       "<matplotlib.figure.Figure at 0x1c1ad053c8>"
      ]
     },
     "metadata": {},
     "output_type": "display_data"
    }
   ],
   "source": [
    "img_show(x_imgs[0,0:28,0:15]) #indexing into the image and grabbing a portion of the image"
   ]
  },
  {
   "cell_type": "code",
   "execution_count": 17,
   "metadata": {
    "collapsed": true
   },
   "outputs": [
    {
     "data": {
      "image/png": "[encoded data removed]",
      "text/plain": [
       "<matplotlib.figure.Figure at 0x1c1e332780>"
      ]
     },
     "metadata": {},
     "output_type": "display_data"
    }
   ],
   "source": [
    "img_show(x_imgs[1,0:15,])"
   ]
  },
  {
   "cell_type": "markdown",
   "metadata": {},
   "source": [
    "##### len will return the length of the 1st dimension"
   ]
  },
  {
   "cell_type": "code",
   "execution_count": 18,
   "metadata": {
    "collapsed": true
   },
   "outputs": [
    {
     "data": {
      "text/plain": [
       "10000"
      ]
     },
     "execution_count": 18,
     "metadata": {},
     "output_type": "execute_result"
    }
   ],
   "source": [
    "len(x_imgs) "
   ]
  },
  {
   "cell_type": "code",
   "execution_count": 19,
   "metadata": {
    "collapsed": true
   },
   "outputs": [],
   "source": [
    "def plots(ims, figsize=(12,6), rows=2, titles=None):\n",
    "    f = plt.figure(figsize=figsize)\n",
    "    cols = len(ims)//rows\n",
    "    for i in range(len(ims)):\n",
    "        sp = f.add_subplot(rows, cols, i+1)\n",
    "        sp.axis('Off')\n",
    "        if titles is not None: sp.set_title(titles[i], fontsize=16)\n",
    "        plt.imshow(ims[i], cmap='gray')"
   ]
  },
  {
   "cell_type": "markdown",
   "metadata": {},
   "source": [
    "## Neural Nets with Pytorch"
   ]
  },
  {
   "cell_type": "code",
   "execution_count": 31,
   "metadata": {},
   "outputs": [],
   "source": [
    "from fastai.metrics import *\n",
    "from fastai.model import *\n",
    "from fastai.dataset import *\n",
    "import torch.nn as nn\n",
    "import torch\n",
    "from torch.autograd import Variable\n"
   ]
  },
  {
   "cell_type": "code",
   "execution_count": 40,
   "metadata": {},
   "outputs": [
    {
     "data": {
      "text/plain": [
       "\n",
       " 0.3435 -1.8753  0.0314\n",
       "-0.2613 -0.6217  1.3435\n",
       "[torch.FloatTensor of size 2x3]"
      ]
     },
     "execution_count": 40,
     "metadata": {},
     "output_type": "execute_result"
    }
   ],
   "source": [
    "d = torch.randn(2,3);d #creating a tensor of size 2*3"
   ]
  },
  {
   "cell_type": "markdown",
   "metadata": {},
   "source": [
    "### Creating neural network, the easiest way"
   ]
  },
  {
   "cell_type": "markdown",
   "metadata": {},
   "source": [
    "### Defining the network using pytorch completely"
   ]
  },
  {
   "cell_type": "code",
   "execution_count": 22,
   "metadata": {},
   "outputs": [],
   "source": [
    "net1 = nn.Sequential(\n",
    "nn.Linear(28*28,10,bias=True), #assuming input the network is number of images * 784, \n",
    "    #output of this layer will be number of images * 10\n",
    "nn.LogSoftmax())"
   ]
  },
  {
   "cell_type": "code",
   "execution_count": 27,
   "metadata": {},
   "outputs": [],
   "source": [
    "md = ImageClassifierData.from_arrays(path,(x,y),(x_valid,y_valid))\n",
    "loss = nn.CrossEntropyLoss() #calculate cross entropy\n",
    "metrics = [accuracy] #calculate accuracy based on predicted labels\n",
    "opt = optim.Adam(net1.parameters()) #default learning rate = 1e-3"
   ]
  },
  {
   "cell_type": "markdown",
   "metadata": {},
   "source": [
    "### Breaking it down"
   ]
  },
  {
   "cell_type": "markdown",
   "metadata": {},
   "source": [
    "#### Looking at the linear layer"
   ]
  },
  {
   "cell_type": "code",
   "execution_count": 43,
   "metadata": {
    "collapsed": true
   },
   "outputs": [
    {
     "data": {
      "text/plain": [
       "Linear(in_features=4, out_features=2)"
      ]
     },
     "execution_count": 43,
     "metadata": {},
     "output_type": "execute_result"
    }
   ],
   "source": [
    "a = nn.Linear(2*2,2);a"
   ]
  },
  {
   "cell_type": "code",
   "execution_count": 44,
   "metadata": {
    "collapsed": true
   },
   "outputs": [
    {
     "data": {
      "text/plain": [
       "(Parameter containing:\n",
       " -0.0653 -0.0126  0.3459  0.2476\n",
       " -0.2021  0.3311 -0.0455  0.3022\n",
       " [torch.FloatTensor of size 2x4], Parameter containing:\n",
       " 1.00000e-02 *\n",
       "  -3.8037\n",
       "   1.6915\n",
       " [torch.FloatTensor of size 2])"
      ]
     },
     "execution_count": 44,
     "metadata": {},
     "output_type": "execute_result"
    }
   ],
   "source": [
    "a.weight,a.bias #these are randomly initialized"
   ]
  },
  {
   "cell_type": "code",
   "execution_count": 45,
   "metadata": {
    "collapsed": true
   },
   "outputs": [
    {
     "data": {
      "text/plain": [
       "array([[-0.42452, -0.42452, -0.42452, ..., -0.42452, -0.42452, -0.42452],\n",
       "       [-0.42452, -0.42452, -0.42452, ..., -0.42452, -0.42452, -0.42452],\n",
       "       [-0.42452, -0.42452, -0.42452, ..., -0.42452, -0.42452, -0.42452],\n",
       "       ..., \n",
       "       [-0.42452, -0.42452, -0.42452, ..., -0.42452, -0.42452, -0.42452],\n",
       "       [-0.42452, -0.42452, -0.42452, ..., -0.42452, -0.42452, -0.42452],\n",
       "       [-0.42452, -0.42452, -0.42452, ..., -0.42452, -0.42452, -0.42452]], dtype=float32)"
      ]
     },
     "execution_count": 45,
     "metadata": {},
     "output_type": "execute_result"
    }
   ],
   "source": [
    "b = torch.autograd.Variable(torch.randn(5,4));x #sample input"
   ]
  },
  {
   "cell_type": "code",
   "execution_count": 46,
   "metadata": {
    "collapsed": true
   },
   "outputs": [
    {
     "data": {
      "text/plain": [
       "Variable containing:\n",
       " 0.4217 -0.5243\n",
       "-0.0145 -0.1121\n",
       "-0.3915  0.4453\n",
       "-0.1654  0.3737\n",
       "-0.3140 -0.0277\n",
       "[torch.FloatTensor of size 5x2]"
      ]
     },
     "execution_count": 46,
     "metadata": {},
     "output_type": "execute_result"
    }
   ],
   "source": [
    "a(b) #it applies the linear layer on the sample input defined"
   ]
  },
  {
   "cell_type": "markdown",
   "metadata": {},
   "source": [
    "#### Looking at the softmax function"
   ]
  },
  {
   "cell_type": "code",
   "execution_count": 48,
   "metadata": {
    "collapsed": true
   },
   "outputs": [],
   "source": [
    "m = nn.LogSoftmax()"
   ]
  },
  {
   "cell_type": "code",
   "execution_count": 49,
   "metadata": {
    "collapsed": true
   },
   "outputs": [
    {
     "data": {
      "text/plain": [
       "Variable containing:\n",
       " 0.4217 -0.5243\n",
       "-0.0145 -0.1121\n",
       "-0.3915  0.4453\n",
       "-0.1654  0.3737\n",
       "-0.3140 -0.0277\n",
       "[torch.FloatTensor of size 5x2]"
      ]
     },
     "execution_count": 49,
     "metadata": {},
     "output_type": "execute_result"
    }
   ],
   "source": [
    "a(b) #sample input: assume 5 images of 2*2 size flattened out"
   ]
  },
  {
   "cell_type": "code",
   "execution_count": 51,
   "metadata": {
    "collapsed": true
   },
   "outputs": [
    {
     "data": {
      "text/plain": [
       "Variable containing:\n",
       "-0.3281 -1.2741\n",
       "-0.6455 -0.7432\n",
       "-1.1966 -0.3598\n",
       "-0.9986 -0.4595\n",
       "-0.8465 -0.5602\n",
       "[torch.FloatTensor of size 5x2]"
      ]
     },
     "execution_count": 51,
     "metadata": {},
     "output_type": "execute_result"
    }
   ],
   "source": [
    "o = m(a(b));o #applying logsoftmax to x"
   ]
  },
  {
   "cell_type": "code",
   "execution_count": 52,
   "metadata": {
    "collapsed": true
   },
   "outputs": [
    {
     "data": {
      "text/plain": [
       "Variable containing:\n",
       " 0.7203  0.2797\n",
       " 0.5244  0.4756\n",
       " 0.3022  0.6978\n",
       " 0.3684  0.6316\n",
       " 0.4289  0.5711\n",
       "[torch.FloatTensor of size 5x2]"
      ]
     },
     "execution_count": 52,
     "metadata": {},
     "output_type": "execute_result"
    }
   ],
   "source": [
    "c = torch.exp(o);c #visualize what happens before the log....each row is an image with probabilities for 2 classes"
   ]
  },
  {
   "cell_type": "code",
   "execution_count": 53,
   "metadata": {
    "collapsed": true
   },
   "outputs": [
    {
     "data": {
      "text/plain": [
       "Variable containing:\n",
       " 1\n",
       " 1\n",
       " 1\n",
       " 1\n",
       " 1\n",
       "[torch.FloatTensor of size 5]"
      ]
     },
     "execution_count": 53,
     "metadata": {},
     "output_type": "execute_result"
    }
   ],
   "source": [
    "c.sum(dim = 1) #if we sum probabilities for each row it should comes out to be 1 as expected"
   ]
  },
  {
   "cell_type": "markdown",
   "metadata": {},
   "source": [
    "#### Understanding how loss function works"
   ]
  },
  {
   "cell_type": "code",
   "execution_count": 56,
   "metadata": {
    "collapsed": true
   },
   "outputs": [
    {
     "data": {
      "text/plain": [
       "Variable containing:\n",
       "-0.3281 -1.2741\n",
       "-0.6455 -0.7432\n",
       "-1.1966 -0.3598\n",
       "-0.9986 -0.4595\n",
       "-0.8465 -0.5602\n",
       "[torch.FloatTensor of size 5x2]"
      ]
     },
     "execution_count": 56,
     "metadata": {},
     "output_type": "execute_result"
    }
   ],
   "source": [
    "o #output of the network: 5 images and 2 probabilities, one for each class"
   ]
  },
  {
   "cell_type": "code",
   "execution_count": 57,
   "metadata": {
    "collapsed": true
   },
   "outputs": [
    {
     "data": {
      "text/plain": [
       "Variable containing:\n",
       " 1\n",
       " 0\n",
       " 0\n",
       " 1\n",
       " 1\n",
       "[torch.LongTensor of size 5]"
      ]
     },
     "execution_count": 57,
     "metadata": {},
     "output_type": "execute_result"
    }
   ],
   "source": [
    "target = torch.autograd.Variable(torch.LongTensor([1,0,0,1,1]));target #actual labels for the images"
   ]
  },
  {
   "cell_type": "code",
   "execution_count": 81,
   "metadata": {
    "collapsed": true
   },
   "outputs": [
    {
     "data": {
      "text/plain": [
       "Variable containing:\n",
       " 0.8272\n",
       "[torch.FloatTensor of size 1]"
      ]
     },
     "execution_count": 81,
     "metadata": {},
     "output_type": "execute_result"
    }
   ],
   "source": [
    "loss(o,target)"
   ]
  },
  {
   "cell_type": "markdown",
   "metadata": {},
   "source": [
    "#### Understanding the parameters of the network"
   ]
  },
  {
   "cell_type": "markdown",
   "metadata": {},
   "source": [
    "##### Parameters are special variables that need to be optimized"
   ]
  },
  {
   "cell_type": "code",
   "execution_count": 59,
   "metadata": {
    "collapsed": true
   },
   "outputs": [
    {
     "name": "stdout",
     "output_type": "stream",
     "text": [
      "\n",
      "1.00000e-02 *\n",
      "-2.3515  0.7402  2.3409  ...   1.9743  0.4335  1.1682\n",
      " 1.3010 -2.2125  1.0557  ...  -1.6530 -0.8854 -1.5714\n",
      " 1.8836  0.5618  2.2912  ...  -1.2920  1.8926 -2.0600\n",
      "          ...             ⋱             ...          \n",
      "-2.2435  1.7190 -2.3596  ...  -1.3464 -2.0486 -2.4651\n",
      "-1.8301 -2.3354 -1.1920  ...   1.8446 -2.9820 -0.1622\n",
      "-2.0340  3.4815  1.1783  ...  -2.1601  3.0085 -0.6187\n",
      "[torch.FloatTensor of size 10x784]\n",
      " torch.Size([10, 784])\n",
      "\n",
      "1.00000e-02 *\n",
      " -0.6637\n",
      "  3.5713\n",
      "  0.5087\n",
      " -2.2796\n",
      " -2.7554\n",
      "  2.5491\n",
      " -1.4423\n",
      "  1.1600\n",
      " -2.9389\n",
      " -3.2559\n",
      "[torch.FloatTensor of size 10]\n",
      " torch.Size([10])\n"
     ]
    }
   ],
   "source": [
    "#print the weight and bias that is initialized for the network\n",
    "for param in net1.parameters():\n",
    "    print(param.data,param.size())"
   ]
  },
  {
   "cell_type": "markdown",
   "metadata": {},
   "source": [
    "### Network training "
   ]
  },
  {
   "cell_type": "code",
   "execution_count": 82,
   "metadata": {
    "collapsed": true
   },
   "outputs": [
    {
     "data": {
      "application/vnd.jupyter.widget-view+json": {
       "model_id": "3624e2bc980e4b948503fba9c60ab7c7",
       "version_major": 2,
       "version_minor": 0
      },
      "text/html": [
       "<p>Failed to display Jupyter Widget of type <code>HBox</code>.</p>\n",
       "<p>\n",
       "  If you're reading this message in the Jupyter Notebook or JupyterLab Notebook, it may mean\n",
       "  that the widgets JavaScript is still loading. If this message persists, it\n",
       "  likely means that the widgets JavaScript library is either not installed or\n",
       "  not enabled. See the <a href=\"https://ipywidgets.readthedocs.io/en/stable/user_install.html\">Jupyter\n",
       "  Widgets Documentation</a> for setup instructions.\n",
       "</p>\n",
       "<p>\n",
       "  If you're reading this message in another frontend (for example, a static\n",
       "  rendering on GitHub or <a href=\"https://nbviewer.jupyter.org/\">NBViewer</a>),\n",
       "  it may mean that your frontend doesn't currently support widgets.\n",
       "</p>\n"
      ],
      "text/plain": [
       "HBox(children=(IntProgress(value=0, description='Epoch', max=3), HTML(value='')))"
      ]
     },
     "metadata": {},
     "output_type": "display_data"
    },
    {
     "name": "stdout",
     "output_type": "stream",
     "text": [
      "[ 0.       0.3269   0.28869  0.91909]                         \n",
      "[ 1.       0.29029  0.27693  0.92158]                         \n",
      "[ 2.       0.29616  0.27416  0.92297]                         \n",
      "\n"
     ]
    }
   ],
   "source": [
    "fit(net1,md,opt=opt,epochs=3,crit=loss, metrics = metrics) #accuracy is calculated on validation: the right most value"
   ]
  },
  {
   "cell_type": "markdown",
   "metadata": {},
   "source": [
    "**Learning rate annealing: When the accuracy is not changing much...one step could be higher learning rate so decrease that**"
   ]
  },
  {
   "cell_type": "code",
   "execution_count": 68,
   "metadata": {
    "collapsed": true
   },
   "outputs": [],
   "source": [
    "set_lrs(opt,1e-4) #you can change the learning rate. I'm reducing it for now to 1e-4"
   ]
  },
  {
   "cell_type": "code",
   "execution_count": 69,
   "metadata": {
    "collapsed": true
   },
   "outputs": [
    {
     "data": {
      "application/vnd.jupyter.widget-view+json": {
       "model_id": "35b0077a0e56484780e011d632985c69",
       "version_major": 2,
       "version_minor": 0
      },
      "text/html": [
       "<p>Failed to display Jupyter Widget of type <code>HBox</code>.</p>\n",
       "<p>\n",
       "  If you're reading this message in the Jupyter Notebook or JupyterLab Notebook, it may mean\n",
       "  that the widgets JavaScript is still loading. If this message persists, it\n",
       "  likely means that the widgets JavaScript library is either not installed or\n",
       "  not enabled. See the <a href=\"https://ipywidgets.readthedocs.io/en/stable/user_install.html\">Jupyter\n",
       "  Widgets Documentation</a> for setup instructions.\n",
       "</p>\n",
       "<p>\n",
       "  If you're reading this message in another frontend (for example, a static\n",
       "  rendering on GitHub or <a href=\"https://nbviewer.jupyter.org/\">NBViewer</a>),\n",
       "  it may mean that your frontend doesn't currently support widgets.\n",
       "</p>\n"
      ],
      "text/plain": [
       "HBox(children=(IntProgress(value=0, description='Epoch', max=3), HTML(value='')))"
      ]
     },
     "metadata": {},
     "output_type": "display_data"
    },
    {
     "name": "stdout",
     "output_type": "stream",
     "text": [
      "[ 0.       0.22552  0.25487  0.93123]                         \n",
      "[ 1.       0.26174  0.25458  0.93033]                         \n",
      "[ 2.       0.23447  0.25411  0.93173]                         \n",
      "\n"
     ]
    }
   ],
   "source": [
    "fit(net1,md,opt=opt,epochs=3,crit=loss, metrics = metrics)"
   ]
  },
  {
   "cell_type": "markdown",
   "metadata": {},
   "source": [
    "##### And we can see that it worked!!"
   ]
  },
  {
   "cell_type": "markdown",
   "metadata": {},
   "source": [
    "### Prediction on validation and calculating the accuracy"
   ]
  },
  {
   "cell_type": "code",
   "execution_count": 70,
   "metadata": {
    "collapsed": true
   },
   "outputs": [],
   "source": [
    "preds_logp = predict(net1,md.val_dl)"
   ]
  },
  {
   "cell_type": "code",
   "execution_count": 71,
   "metadata": {
    "collapsed": true
   },
   "outputs": [
    {
     "data": {
      "text/plain": [
       "(10000, 10)"
      ]
     },
     "execution_count": 71,
     "metadata": {},
     "output_type": "execute_result"
    }
   ],
   "source": [
    "preds_logp.shape"
   ]
  },
  {
   "cell_type": "code",
   "execution_count": 72,
   "metadata": {
    "collapsed": true
   },
   "outputs": [
    {
     "data": {
      "text/plain": [
       "array([[-11.16182,  -5.08505,  -2.63484, ..., -18.82728,  -3.74848, -13.18584],\n",
       "       [-14.73604, -11.44917,  -5.03179, ..., -12.527  ,  -0.02473,  -8.57314],\n",
       "       [ -4.85929, -14.92674,  -3.44053, ...,  -8.91454,  -9.50627, -10.67652],\n",
       "       ..., \n",
       "       [-11.32161, -11.63077, -13.99092, ..., -13.13085,  -4.95353,  -9.40182],\n",
       "       [ -5.52254, -12.54687,  -5.89197, ...,  -7.79232,  -9.55045,  -7.85595],\n",
       "       [ -2.58306, -14.55401,  -6.24447, ...,  -9.15672,  -0.18943,  -4.00708]], dtype=float32)"
      ]
     },
     "execution_count": 72,
     "metadata": {},
     "output_type": "execute_result"
    }
   ],
   "source": [
    "preds_logp #these are log probabilities for 10000 images and 10 classes"
   ]
  },
  {
   "cell_type": "code",
   "execution_count": 73,
   "metadata": {
    "collapsed": true
   },
   "outputs": [],
   "source": [
    "preds = preds_logp.argmax(axis=1) #converting them to labels"
   ]
  },
  {
   "cell_type": "code",
   "execution_count": 74,
   "metadata": {
    "collapsed": true
   },
   "outputs": [
    {
     "data": {
      "text/plain": [
       "((10000,), array([3, 8, 6, ..., 5, 6, 8]))"
      ]
     },
     "execution_count": 74,
     "metadata": {},
     "output_type": "execute_result"
    }
   ],
   "source": [
    "preds.shape,preds #class prediction for each image"
   ]
  },
  {
   "cell_type": "code",
   "execution_count": 75,
   "metadata": {
    "collapsed": true
   },
   "outputs": [
    {
     "data": {
      "text/plain": [
       "0.93140000000000001"
      ]
     },
     "execution_count": 75,
     "metadata": {},
     "output_type": "execute_result"
    }
   ],
   "source": [
    "np.mean(preds == md.val_y) # accuracy calculation"
   ]
  },
  {
   "cell_type": "markdown",
   "metadata": {},
   "source": [
    "---"
   ]
  },
  {
   "cell_type": "markdown",
   "metadata": {},
   "source": [
    "### Building it from scratch with minimum use of pytorch inbuilt functions"
   ]
  },
  {
   "cell_type": "markdown",
   "metadata": {},
   "source": [
    "### Defining your network"
   ]
  },
  {
   "cell_type": "markdown",
   "metadata": {},
   "source": [
    "##### We are defining layers by ourselves instead of using nn.Sequential"
   ]
  },
  {
   "cell_type": "code",
   "execution_count": 40,
   "metadata": {},
   "outputs": [],
   "source": [
    "def get_params(*dims): return nn.Parameter(torch.randn(dims)/dims[0]) #for numerical stability otherwise weights will explode or die out\n",
    "def softmax(x): return torch.exp(x)/(torch.exp(x).sum(dim=1)[:,None])\n",
    "class custom_net(nn.Module):\n",
    "    def __init__(self):\n",
    "        super().__init__()\n",
    "        self.w = get_params(28*28,10) #creating weight matrix\n",
    "        self.b = get_params(10) #creating bias matrix\n",
    "    def forward(self,x):\n",
    "#         set_trace()\n",
    "        x = x.view(x.size(0),-1) #flattens the input matrix\n",
    "        x = x@self.w + self.b #applying the linear layer  \n",
    "        x = torch.log(softmax(x)) #applying logsoftmax\n",
    "        return x\n",
    "\n",
    "net2 = custom_net()\n",
    "md = ImageClassifierData.from_arrays(path,(x,y),(x_valid,y_valid),bs=64)\n",
    "opt = optim.Adam(net2.parameters(),lr=1e-3)\n",
    "loss = nn.CrossEntropyLoss() #calculate cross entropy\n",
    "metrics = [accuracy] #calculate accuracy based on predicted labels"
   ]
  },
  {
   "cell_type": "code",
   "execution_count": 41,
   "metadata": {},
   "outputs": [
    {
     "data": {
      "text/plain": [
       "(torch.Size([10]), torch.Size([784, 10]))"
      ]
     },
     "execution_count": 41,
     "metadata": {},
     "output_type": "execute_result"
    }
   ],
   "source": [
    "net2.b.size(),net2.w.size()"
   ]
  },
  {
   "cell_type": "markdown",
   "metadata": {},
   "source": [
    "### Training your network"
   ]
  },
  {
   "cell_type": "code",
   "execution_count": 42,
   "metadata": {
    "collapsed": true
   },
   "outputs": [
    {
     "data": {
      "application/vnd.jupyter.widget-view+json": {
       "model_id": "b716a87fc2e44dc88c337ecec16359be",
       "version_major": 2,
       "version_minor": 0
      },
      "text/html": [
       "<p>Failed to display Jupyter Widget of type <code>HBox</code>.</p>\n",
       "<p>\n",
       "  If you're reading this message in the Jupyter Notebook or JupyterLab Notebook, it may mean\n",
       "  that the widgets JavaScript is still loading. If this message persists, it\n",
       "  likely means that the widgets JavaScript library is either not installed or\n",
       "  not enabled. See the <a href=\"https://ipywidgets.readthedocs.io/en/stable/user_install.html\">Jupyter\n",
       "  Widgets Documentation</a> for setup instructions.\n",
       "</p>\n",
       "<p>\n",
       "  If you're reading this message in another frontend (for example, a static\n",
       "  rendering on GitHub or <a href=\"https://nbviewer.jupyter.org/\">NBViewer</a>),\n",
       "  it may mean that your frontend doesn't currently support widgets.\n",
       "</p>\n"
      ],
      "text/plain": [
       "HBox(children=(IntProgress(value=0, description='Epoch', max=3), HTML(value='')))"
      ]
     },
     "metadata": {},
     "output_type": "display_data"
    },
    {
     "name": "stdout",
     "output_type": "stream",
     "text": [
      "\n",
      "  0%|          | 0/782 [00:00<?, ?it/s]\u001b[A\n",
      "  0%|          | 0/782 [00:00<?, ?it/s, loss=2.28]\u001b[A\n",
      "  0%|          | 0/782 [00:00<?, ?it/s, loss=2.23]\u001b[A\n",
      "  0%|          | 2/782 [00:00<00:40, 19.16it/s, loss=2.23]\u001b[A\n",
      "  0%|          | 2/782 [00:00<00:48, 16.10it/s, loss=2.22]\u001b[A\n",
      "  0%|          | 2/782 [00:00<00:55, 14.15it/s, loss=2.15]\u001b[A\n",
      "  0%|          | 2/782 [00:00<01:03, 12.22it/s, loss=2.13]\u001b[A\n",
      "  0%|          | 2/782 [00:00<01:10, 10.99it/s, loss=2.08]\u001b[A\n",
      "  0%|          | 2/782 [00:00<01:18,  9.90it/s, loss=2.02]\u001b[A\n",
      "  1%|          | 7/782 [00:00<00:23, 33.47it/s, loss=2.02]\u001b[A\n",
      "  1%|          | 7/782 [00:00<00:25, 30.89it/s, loss=1.97]\u001b[A\n",
      "  1%|          | 7/782 [00:00<00:27, 28.40it/s, loss=1.91]\u001b[A\n",
      "  1%|          | 7/782 [00:00<00:28, 26.89it/s, loss=1.87]\u001b[A\n",
      "  1%|          | 7/782 [00:00<00:30, 25.24it/s, loss=1.83]\u001b[A\n",
      "  1%|          | 7/782 [00:00<00:32, 23.99it/s, loss=1.79]\u001b[A\n",
      "  1%|          | 7/782 [00:00<00:33, 22.82it/s, loss=1.75]\u001b[A\n",
      "  2%|▏         | 13/782 [00:00<00:18, 41.26it/s, loss=1.75]\u001b[A\n",
      "  2%|▏         | 13/782 [00:00<00:19, 39.17it/s, loss=1.7] \u001b[A\n",
      "  2%|▏         | 13/782 [00:00<00:20, 36.66it/s, loss=1.67]\u001b[A\n",
      "  2%|▏         | 13/782 [00:00<00:21, 35.13it/s, loss=1.63]\u001b[A\n",
      "  2%|▏         | 13/782 [00:00<00:22, 33.74it/s, loss=1.6] \u001b[A\n",
      "  2%|▏         | 13/782 [00:00<00:23, 32.43it/s, loss=1.57]\u001b[A\n",
      "  2%|▏         | 13/782 [00:00<00:24, 31.29it/s, loss=1.53]\u001b[A\n",
      "  2%|▏         | 19/782 [00:00<00:17, 44.32it/s, loss=1.53]\u001b[A\n",
      "  2%|▏         | 19/782 [00:00<00:18, 42.32it/s, loss=1.5] \u001b[A\n",
      "  2%|▏         | 19/782 [00:00<00:18, 40.91it/s, loss=1.47]\u001b[A\n",
      "  2%|▏         | 19/782 [00:00<00:19, 39.50it/s, loss=1.43]\u001b[A\n",
      "  2%|▏         | 19/782 [00:00<00:19, 38.54it/s, loss=1.4] \u001b[A\n",
      "  2%|▏         | 19/782 [00:00<00:20, 37.76it/s, loss=1.38]\u001b[A\n",
      "  2%|▏         | 19/782 [00:00<00:20, 37.12it/s, loss=1.35]\u001b[A\n",
      "  2%|▏         | 19/782 [00:00<00:21, 35.80it/s, loss=1.33]\u001b[A\n",
      "  3%|▎         | 26/782 [00:00<00:15, 47.94it/s, loss=1.33]\u001b[A\n",
      "  3%|▎         | 26/782 [00:00<00:16, 46.88it/s, loss=1.3] \u001b[A\n",
      "  3%|▎         | 26/782 [00:00<00:16, 44.82it/s, loss=1.27]\u001b[A\n",
      "  3%|▎         | 26/782 [00:00<00:17, 43.72it/s, loss=1.25]\u001b[A\n",
      "  3%|▎         | 26/782 [00:00<00:17, 42.73it/s, loss=1.24]\u001b[A\n",
      "  3%|▎         | 26/782 [00:00<00:18, 41.28it/s, loss=1.22]\u001b[A\n",
      "  3%|▎         | 26/782 [00:00<00:18, 40.18it/s, loss=1.2] \u001b[A\n",
      "  4%|▍         | 32/782 [00:00<00:15, 48.66it/s, loss=1.2]\u001b[A\n",
      "  4%|▍         | 32/782 [00:00<00:15, 47.65it/s, loss=1.19]\u001b[A\n",
      "  4%|▍         | 32/782 [00:00<00:15, 46.88it/s, loss=1.17]\u001b[A\n",
      "  4%|▍         | 32/782 [00:00<00:16, 45.15it/s, loss=1.15]\u001b[A\n",
      "  4%|▍         | 32/782 [00:00<00:17, 43.76it/s, loss=1.14]\u001b[A\n",
      "  4%|▍         | 32/782 [00:00<00:17, 42.87it/s, loss=1.13]\u001b[A\n",
      "  5%|▍         | 37/782 [00:00<00:15, 48.91it/s, loss=1.13]\u001b[A\n",
      "  5%|▍         | 37/782 [00:00<00:15, 48.21it/s, loss=1.11]\u001b[A\n",
      "  5%|▍         | 37/782 [00:00<00:15, 47.42it/s, loss=1.09]\u001b[A\n",
      "  5%|▍         | 37/782 [00:00<00:16, 46.51it/s, loss=1.08]\u001b[A\n",
      "  5%|▍         | 37/782 [00:00<00:16, 45.83it/s, loss=1.07]\u001b[A\n",
      "  5%|▍         | 37/782 [00:00<00:16, 44.94it/s, loss=1.05]\u001b[A\n",
      "  5%|▍         | 37/782 [00:00<00:17, 43.58it/s, loss=1.03]\u001b[A\n",
      "  5%|▍         | 37/782 [00:00<00:17, 42.69it/s, loss=1.02]\u001b[A\n",
      "  6%|▌         | 44/782 [00:00<00:14, 50.36it/s, loss=1.02]\u001b[A\n",
      "  6%|▌         | 44/782 [00:00<00:14, 49.56it/s, loss=1.01]\u001b[A\n",
      "  6%|▌         | 44/782 [00:00<00:15, 48.76it/s, loss=0.997]\u001b[A\n",
      "  6%|▌         | 44/782 [00:00<00:15, 48.10it/s, loss=0.985]\u001b[A\n",
      "  6%|▌         | 44/782 [00:00<00:15, 47.09it/s, loss=0.967]\u001b[A\n",
      "  6%|▌         | 44/782 [00:00<00:15, 46.44it/s, loss=0.96] \u001b[A\n",
      "  6%|▌         | 44/782 [00:00<00:16, 45.92it/s, loss=0.947]\u001b[A\n",
      "  6%|▌         | 44/782 [00:00<00:16, 45.36it/s, loss=0.939]\u001b[A\n",
      "  7%|▋         | 51/782 [00:00<00:14, 52.10it/s, loss=0.939]\u001b[A\n",
      "  7%|▋         | 51/782 [00:00<00:14, 51.15it/s, loss=0.929]\u001b[A\n",
      "  7%|▋         | 51/782 [00:01<00:14, 50.48it/s, loss=0.919]\u001b[A\n",
      "  7%|▋         | 51/782 [00:01<00:14, 49.92it/s, loss=0.912]\u001b[A\n",
      "  7%|▋         | 51/782 [00:01<00:14, 49.22it/s, loss=0.905]\u001b[A\n",
      "  7%|▋         | 51/782 [00:01<00:15, 48.54it/s, loss=0.892]\u001b[A\n",
      "  7%|▋         | 51/782 [00:01<00:15, 47.91it/s, loss=0.88] \u001b[A\n",
      "  7%|▋         | 51/782 [00:01<00:15, 47.13it/s, loss=0.87]\u001b[A\n",
      "  7%|▋         | 58/782 [00:01<00:13, 53.19it/s, loss=0.87]\u001b[A\n",
      "  7%|▋         | 58/782 [00:01<00:13, 52.57it/s, loss=0.862]\u001b[A\n",
      "  7%|▋         | 58/782 [00:01<00:13, 51.75it/s, loss=0.848]\u001b[A\n",
      "  7%|▋         | 58/782 [00:01<00:14, 51.12it/s, loss=0.835]\u001b[A\n",
      "  7%|▋         | 58/782 [00:01<00:14, 50.55it/s, loss=0.828]\u001b[A\n",
      "  7%|▋         | 58/782 [00:01<00:14, 49.79it/s, loss=0.818]\u001b[A\n",
      "  7%|▋         | 58/782 [00:01<00:14, 49.05it/s, loss=0.81] \u001b[A\n",
      "  8%|▊         | 64/782 [00:01<00:13, 53.78it/s, loss=0.81]\u001b[A\n",
      "  8%|▊         | 64/782 [00:01<00:13, 53.14it/s, loss=0.808]\u001b[A\n",
      "  8%|▊         | 64/782 [00:01<00:13, 52.50it/s, loss=0.799]\u001b[A\n",
      "  8%|▊         | 64/782 [00:01<00:13, 51.87it/s, loss=0.789]\u001b[A\n",
      "  8%|▊         | 64/782 [00:01<00:14, 51.18it/s, loss=0.782]\u001b[A\n",
      "  8%|▊         | 64/782 [00:01<00:14, 50.68it/s, loss=0.772]\u001b[A\n",
      "  8%|▊         | 64/782 [00:01<00:14, 50.06it/s, loss=0.769]\u001b[A\n",
      "  8%|▊         | 64/782 [00:01<00:14, 49.57it/s, loss=0.763]\u001b[A\n",
      "  9%|▉         | 71/782 [00:01<00:12, 54.74it/s, loss=0.763]\u001b[A\n",
      "  9%|▉         | 71/782 [00:01<00:13, 54.23it/s, loss=0.754]\u001b[A\n",
      "  9%|▉         | 71/782 [00:01<00:13, 52.08it/s, loss=0.746]\u001b[A\n",
      "  9%|▉         | 71/782 [00:01<00:14, 49.78it/s, loss=0.742]\u001b[A\n",
      "  9%|▉         | 71/782 [00:01<00:14, 48.23it/s, loss=0.735]\u001b[A\n",
      "  9%|▉         | 71/782 [00:01<00:15, 46.72it/s, loss=0.731]\u001b[A\n",
      "  9%|▉         | 71/782 [00:01<00:15, 46.15it/s, loss=0.727]\u001b[A\n",
      "  9%|▉         | 71/782 [00:01<00:15, 45.56it/s, loss=0.72] \u001b[A\n",
      " 10%|▉         | 78/782 [00:01<00:14, 49.78it/s, loss=0.72]\u001b[A\n",
      " 10%|▉         | 78/782 [00:01<00:14, 49.15it/s, loss=0.719]\u001b[A\n",
      " 10%|▉         | 78/782 [00:01<00:14, 48.62it/s, loss=0.714]\u001b[A\n",
      " 10%|▉         | 78/782 [00:01<00:14, 47.73it/s, loss=0.708]\u001b[A\n",
      " 10%|▉         | 78/782 [00:01<00:14, 47.19it/s, loss=0.701]\u001b[A\n",
      " 10%|▉         | 78/782 [00:01<00:15, 46.71it/s, loss=0.692]\u001b[A\n",
      " 10%|▉         | 78/782 [00:01<00:15, 46.13it/s, loss=0.687]\u001b[A\n",
      " 11%|█         | 84/782 [00:01<00:14, 49.47it/s, loss=0.687]\u001b[A\n",
      " 11%|█         | 84/782 [00:01<00:14, 49.09it/s, loss=0.68] \u001b[A\n",
      " 11%|█         | 84/782 [00:01<00:14, 48.73it/s, loss=0.677]\u001b[A\n",
      " 11%|█         | 84/782 [00:01<00:14, 48.42it/s, loss=0.671]\u001b[A\n",
      " 11%|█         | 84/782 [00:01<00:14, 48.10it/s, loss=0.668]\u001b[A\n",
      " 11%|█         | 84/782 [00:01<00:14, 47.70it/s, loss=0.662]\u001b[A\n",
      " 11%|█         | 84/782 [00:01<00:14, 47.34it/s, loss=0.655]\u001b[A\n",
      " 11%|█         | 84/782 [00:01<00:14, 47.02it/s, loss=0.651]\u001b[A\n",
      " 11%|█         | 84/782 [00:01<00:15, 46.47it/s, loss=0.645]\u001b[A\n",
      " 12%|█▏        | 92/782 [00:01<00:13, 50.72it/s, loss=0.645]\u001b[A\n",
      " 12%|█▏        | 92/782 [00:01<00:13, 50.19it/s, loss=0.64] \u001b[A\n",
      " 12%|█▏        | 92/782 [00:01<00:13, 49.78it/s, loss=0.637]\u001b[A\n",
      " 12%|█▏        | 92/782 [00:01<00:13, 49.38it/s, loss=0.633]\u001b[A\n",
      " 12%|█▏        | 92/782 [00:01<00:14, 49.02it/s, loss=0.629]\u001b[A\n",
      " 12%|█▏        | 92/782 [00:01<00:14, 48.68it/s, loss=0.627]\u001b[A\n",
      " 12%|█▏        | 92/782 [00:01<00:14, 48.30it/s, loss=0.622]\u001b[A\n",
      " 12%|█▏        | 92/782 [00:01<00:14, 47.98it/s, loss=0.618]\u001b[A\n",
      " 13%|█▎        | 99/782 [00:01<00:13, 51.35it/s, loss=0.618]\u001b[A\n",
      " 13%|█▎        | 99/782 [00:01<00:13, 50.99it/s, loss=0.617]\u001b[A\n",
      " 13%|█▎        | 99/782 [00:01<00:13, 50.55it/s, loss=0.61] \u001b[A\n",
      " 13%|█▎        | 99/782 [00:01<00:13, 50.20it/s, loss=0.608]\u001b[A\n",
      " 13%|█▎        | 99/782 [00:01<00:13, 49.78it/s, loss=0.605]\u001b[A\n",
      " 13%|█▎        | 99/782 [00:02<00:13, 49.33it/s, loss=0.603]\u001b[A\n",
      " 13%|█▎        | 99/782 [00:02<00:13, 49.00it/s, loss=0.6]  \u001b[A\n",
      " 13%|█▎        | 105/782 [00:02<00:13, 51.70it/s, loss=0.6]\u001b[A\n",
      " 13%|█▎        | 105/782 [00:02<00:13, 51.51it/s, loss=0.596]\u001b[A\n",
      " 13%|█▎        | 105/782 [00:02<00:13, 51.37it/s, loss=0.589]\u001b[A\n",
      " 13%|█▎        | 105/782 [00:02<00:13, 51.27it/s, loss=0.589]\u001b[A\n",
      " 13%|█▎        | 105/782 [00:02<00:13, 51.16it/s, loss=0.583]\u001b[A\n",
      " 13%|█▎        | 105/782 [00:02<00:13, 51.02it/s, loss=0.581]\u001b[A\n",
      " 13%|█▎        | 105/782 [00:02<00:13, 50.91it/s, loss=0.58] \u001b[A\n"
     ]
    },
    {
     "name": "stdout",
     "output_type": "stream",
     "text": [
      " 13%|█▎        | 105/782 [00:02<00:13, 50.80it/s, loss=0.576]\u001b[A\n",
      " 13%|█▎        | 105/782 [00:02<00:13, 50.71it/s, loss=0.574]\u001b[A\n",
      " 13%|█▎        | 105/782 [00:02<00:13, 50.58it/s, loss=0.569]\u001b[A\n",
      " 13%|█▎        | 105/782 [00:02<00:13, 50.48it/s, loss=0.564]\u001b[A\n",
      " 13%|█▎        | 105/782 [00:02<00:13, 50.37it/s, loss=0.559]\u001b[A\n",
      " 13%|█▎        | 105/782 [00:02<00:13, 50.26it/s, loss=0.554]\u001b[A\n",
      " 13%|█▎        | 105/782 [00:02<00:13, 50.12it/s, loss=0.549]\u001b[A\n",
      " 13%|█▎        | 105/782 [00:02<00:13, 49.79it/s, loss=0.549]\u001b[A\n",
      " 13%|█▎        | 105/782 [00:02<00:13, 49.68it/s, loss=0.544]\u001b[A\n",
      " 13%|█▎        | 105/782 [00:02<00:13, 49.57it/s, loss=0.54] \u001b[A\n",
      " 13%|█▎        | 105/782 [00:02<00:13, 49.39it/s, loss=0.538]\u001b[A\n",
      " 13%|█▎        | 105/782 [00:02<00:13, 49.28it/s, loss=0.541]\u001b[A\n",
      " 16%|█▌        | 123/782 [00:02<00:11, 57.66it/s, loss=0.541]\u001b[A\n",
      " 16%|█▌        | 123/782 [00:02<00:11, 57.53it/s, loss=0.538]\u001b[A\n",
      " 16%|█▌        | 123/782 [00:02<00:11, 57.38it/s, loss=0.537]\u001b[A\n",
      " 16%|█▌        | 123/782 [00:02<00:11, 57.25it/s, loss=0.533]\u001b[A\n",
      " 16%|█▌        | 123/782 [00:02<00:11, 57.13it/s, loss=0.531]\u001b[A\n",
      " 16%|█▌        | 123/782 [00:02<00:11, 57.01it/s, loss=0.527]\u001b[A\n",
      " 16%|█▌        | 123/782 [00:02<00:11, 56.88it/s, loss=0.526]\u001b[A\n",
      " 16%|█▌        | 123/782 [00:02<00:11, 56.75it/s, loss=0.522]\u001b[A\n",
      " 16%|█▌        | 123/782 [00:02<00:11, 56.61it/s, loss=0.519]\u001b[A\n",
      " 16%|█▌        | 123/782 [00:02<00:11, 56.47it/s, loss=0.515]\u001b[A\n",
      " 16%|█▌        | 123/782 [00:02<00:11, 56.34it/s, loss=0.51] \u001b[A\n",
      " 16%|█▌        | 123/782 [00:02<00:11, 56.22it/s, loss=0.513]\u001b[A\n",
      " 16%|█▌        | 123/782 [00:02<00:11, 56.07it/s, loss=0.51] \u001b[A\n",
      " 16%|█▌        | 123/782 [00:02<00:11, 55.95it/s, loss=0.51]\u001b[A\n",
      " 16%|█▌        | 123/782 [00:02<00:11, 55.82it/s, loss=0.506]\u001b[A\n",
      " 16%|█▌        | 123/782 [00:02<00:11, 55.70it/s, loss=0.506]\u001b[A\n",
      " 16%|█▌        | 123/782 [00:02<00:11, 55.58it/s, loss=0.501]\u001b[A\n",
      " 16%|█▌        | 123/782 [00:02<00:11, 55.46it/s, loss=0.503]\u001b[A\n",
      " 16%|█▌        | 123/782 [00:02<00:11, 55.33it/s, loss=0.499]\u001b[A\n",
      " 16%|█▌        | 123/782 [00:02<00:11, 55.21it/s, loss=0.496]\u001b[A\n",
      " 16%|█▌        | 123/782 [00:02<00:11, 55.11it/s, loss=0.496]\u001b[A\n",
      " 18%|█▊        | 143/782 [00:02<00:09, 64.00it/s, loss=0.496]\u001b[A\n",
      " 18%|█▊        | 143/782 [00:02<00:10, 63.88it/s, loss=0.494]\u001b[A\n",
      " 18%|█▊        | 143/782 [00:02<00:10, 63.75it/s, loss=0.498]\u001b[A\n",
      " 18%|█▊        | 143/782 [00:02<00:10, 63.62it/s, loss=0.496]\u001b[A\n",
      " 18%|█▊        | 143/782 [00:02<00:10, 63.49it/s, loss=0.495]\u001b[A\n",
      " 18%|█▊        | 143/782 [00:02<00:10, 63.36it/s, loss=0.493]\u001b[A\n",
      " 18%|█▊        | 143/782 [00:02<00:10, 63.22it/s, loss=0.488]\u001b[A\n",
      " 18%|█▊        | 143/782 [00:02<00:10, 63.11it/s, loss=0.483]\u001b[A\n",
      " 18%|█▊        | 143/782 [00:02<00:10, 62.98it/s, loss=0.481]\u001b[A\n",
      " 18%|█▊        | 143/782 [00:02<00:10, 62.85it/s, loss=0.479]\u001b[A\n",
      " 18%|█▊        | 143/782 [00:02<00:10, 62.73it/s, loss=0.479]\u001b[A\n",
      " 18%|█▊        | 143/782 [00:02<00:10, 62.60it/s, loss=0.481]\u001b[A\n",
      " 18%|█▊        | 143/782 [00:02<00:10, 62.49it/s, loss=0.476]\u001b[A\n",
      " 18%|█▊        | 143/782 [00:02<00:10, 62.36it/s, loss=0.475]\u001b[A\n",
      " 18%|█▊        | 143/782 [00:02<00:10, 62.23it/s, loss=0.473]\u001b[A\n",
      " 18%|█▊        | 143/782 [00:02<00:10, 62.12it/s, loss=0.472]\u001b[A\n",
      " 18%|█▊        | 143/782 [00:02<00:10, 61.76it/s, loss=0.473]\u001b[A\n",
      " 18%|█▊        | 143/782 [00:02<00:10, 61.63it/s, loss=0.471]\u001b[A\n",
      " 18%|█▊        | 143/782 [00:02<00:10, 61.42it/s, loss=0.468]\u001b[A\n",
      " 18%|█▊        | 143/782 [00:02<00:10, 61.28it/s, loss=0.469]\u001b[A\n",
      " 21%|██        | 162/782 [00:02<00:08, 69.34it/s, loss=0.469]\u001b[A\n",
      " 21%|██        | 162/782 [00:02<00:08, 69.18it/s, loss=0.466]\u001b[A\n",
      " 21%|██        | 162/782 [00:02<00:08, 69.01it/s, loss=0.464]\u001b[A\n",
      " 21%|██        | 162/782 [00:02<00:09, 68.87it/s, loss=0.463]\u001b[A\n",
      " 21%|██        | 162/782 [00:02<00:09, 68.69it/s, loss=0.461]\u001b[A\n",
      " 21%|██        | 162/782 [00:02<00:09, 68.54it/s, loss=0.463]\u001b[A\n",
      " 21%|██        | 162/782 [00:02<00:09, 68.41it/s, loss=0.46] \u001b[A\n",
      " 21%|██        | 162/782 [00:02<00:09, 68.25it/s, loss=0.459]\u001b[A\n",
      " 21%|██        | 162/782 [00:02<00:09, 68.11it/s, loss=0.461]\u001b[A\n",
      " 21%|██        | 162/782 [00:02<00:09, 67.98it/s, loss=0.459]\u001b[A\n",
      " 21%|██        | 162/782 [00:02<00:09, 67.87it/s, loss=0.459]\u001b[A\n",
      " 21%|██        | 162/782 [00:02<00:09, 67.73it/s, loss=0.459]\u001b[A\n",
      " 21%|██        | 162/782 [00:02<00:09, 67.60it/s, loss=0.456]\u001b[A\n",
      " 21%|██        | 162/782 [00:02<00:09, 67.45it/s, loss=0.456]\u001b[A\n",
      " 21%|██        | 162/782 [00:02<00:09, 67.33it/s, loss=0.455]\u001b[A\n",
      " 21%|██        | 162/782 [00:02<00:09, 67.19it/s, loss=0.454]\u001b[A\n",
      " 21%|██        | 162/782 [00:02<00:09, 67.07it/s, loss=0.455]\u001b[A\n",
      " 21%|██        | 162/782 [00:02<00:09, 66.95it/s, loss=0.455]\u001b[A\n",
      " 21%|██        | 162/782 [00:02<00:09, 66.82it/s, loss=0.453]\u001b[A\n",
      " 21%|██        | 162/782 [00:02<00:09, 66.62it/s, loss=0.451]\u001b[A\n",
      " 21%|██        | 162/782 [00:02<00:09, 66.28it/s, loss=0.449]\u001b[A\n",
      " 23%|██▎       | 182/782 [00:02<00:08, 74.37it/s, loss=0.449]\u001b[A\n",
      " 23%|██▎       | 182/782 [00:02<00:08, 74.21it/s, loss=0.448]\u001b[A\n",
      " 23%|██▎       | 182/782 [00:02<00:08, 74.04it/s, loss=0.447]\u001b[A\n",
      " 23%|██▎       | 182/782 [00:02<00:08, 73.88it/s, loss=0.447]\u001b[A\n",
      " 23%|██▎       | 182/782 [00:02<00:08, 73.73it/s, loss=0.444]\u001b[A\n",
      " 23%|██▎       | 182/782 [00:02<00:08, 73.56it/s, loss=0.443]\u001b[A\n",
      " 23%|██▎       | 182/782 [00:02<00:08, 73.42it/s, loss=0.439]\u001b[A\n",
      " 23%|██▎       | 182/782 [00:02<00:08, 73.29it/s, loss=0.437]\u001b[A\n",
      " 23%|██▎       | 182/782 [00:02<00:08, 73.15it/s, loss=0.433]\u001b[A\n",
      " 23%|██▎       | 182/782 [00:02<00:08, 72.99it/s, loss=0.435]\u001b[A\n",
      " 23%|██▎       | 182/782 [00:02<00:08, 72.86it/s, loss=0.434]\u001b[A\n",
      " 23%|██▎       | 182/782 [00:02<00:08, 72.74it/s, loss=0.432]\u001b[A\n",
      " 23%|██▎       | 182/782 [00:02<00:08, 72.59it/s, loss=0.428]\u001b[A\n",
      " 23%|██▎       | 182/782 [00:02<00:08, 72.46it/s, loss=0.427]\u001b[A\n",
      " 23%|██▎       | 182/782 [00:02<00:08, 72.32it/s, loss=0.427]\u001b[A\n",
      " 23%|██▎       | 182/782 [00:02<00:08, 72.20it/s, loss=0.424]\u001b[A\n",
      " 23%|██▎       | 182/782 [00:02<00:08, 72.02it/s, loss=0.424]\u001b[A\n",
      " 23%|██▎       | 182/782 [00:02<00:08, 71.75it/s, loss=0.422]\u001b[A\n",
      " 23%|██▎       | 182/782 [00:02<00:08, 71.60it/s, loss=0.424]\u001b[A\n",
      " 23%|██▎       | 182/782 [00:02<00:08, 71.24it/s, loss=0.422]\u001b[A\n",
      " 26%|██▌       | 201/782 [00:02<00:07, 78.48it/s, loss=0.422]\u001b[A\n",
      " 26%|██▌       | 201/782 [00:02<00:07, 78.34it/s, loss=0.419]\u001b[A\n",
      " 26%|██▌       | 201/782 [00:02<00:07, 78.19it/s, loss=0.416]\u001b[A\n",
      " 26%|██▌       | 201/782 [00:02<00:07, 78.02it/s, loss=0.416]\u001b[A\n",
      " 26%|██▌       | 201/782 [00:02<00:07, 77.85it/s, loss=0.416]\u001b[A\n",
      " 26%|██▌       | 201/782 [00:02<00:07, 77.69it/s, loss=0.414]\u001b[A\n",
      " 26%|██▌       | 201/782 [00:02<00:07, 77.52it/s, loss=0.412]\u001b[A\n",
      " 26%|██▌       | 201/782 [00:02<00:07, 77.36it/s, loss=0.412]\u001b[A\n",
      " 26%|██▌       | 201/782 [00:02<00:07, 77.21it/s, loss=0.411]\u001b[A\n",
      " 26%|██▌       | 201/782 [00:02<00:07, 77.06it/s, loss=0.412]\u001b[A\n",
      " 26%|██▌       | 201/782 [00:02<00:07, 76.92it/s, loss=0.412]\u001b[A\n",
      " 26%|██▌       | 201/782 [00:02<00:07, 76.79it/s, loss=0.409]\u001b[A\n",
      " 26%|██▌       | 201/782 [00:02<00:07, 76.66it/s, loss=0.411]\u001b[A\n",
      " 26%|██▌       | 201/782 [00:02<00:07, 76.52it/s, loss=0.41] \u001b[A\n",
      " 26%|██▌       | 201/782 [00:02<00:07, 75.68it/s, loss=0.411]\u001b[A\n",
      " 26%|██▌       | 201/782 [00:02<00:07, 75.11it/s, loss=0.412]\u001b[A\n",
      " 26%|██▌       | 201/782 [00:02<00:07, 74.96it/s, loss=0.411]\u001b[A\n",
      " 28%|██▊       | 217/782 [00:02<00:06, 80.82it/s, loss=0.411]\u001b[A\n",
      " 28%|██▊       | 217/782 [00:02<00:07, 80.49it/s, loss=0.413]\u001b[A\n",
      " 28%|██▊       | 217/782 [00:02<00:07, 80.32it/s, loss=0.412]\u001b[A\n",
      " 28%|██▊       | 217/782 [00:02<00:07, 80.10it/s, loss=0.412]\u001b[A\n",
      " 28%|██▊       | 217/782 [00:02<00:07, 79.93it/s, loss=0.416]\u001b[A\n",
      " 28%|██▊       | 217/782 [00:02<00:07, 79.79it/s, loss=0.416]\u001b[A\n",
      " 28%|██▊       | 217/782 [00:02<00:07, 79.65it/s, loss=0.416]\u001b[A\n",
      " 28%|██▊       | 217/782 [00:02<00:07, 79.49it/s, loss=0.414]\u001b[A\n",
      " 28%|██▊       | 217/782 [00:02<00:07, 79.33it/s, loss=0.414]\u001b[A\n",
      " 28%|██▊       | 217/782 [00:02<00:07, 79.18it/s, loss=0.413]\u001b[A\n",
      " 28%|██▊       | 217/782 [00:02<00:07, 79.03it/s, loss=0.415]\u001b[A\n",
      " 28%|██▊       | 217/782 [00:02<00:07, 78.90it/s, loss=0.413]\u001b[A\n",
      " 28%|██▊       | 217/782 [00:02<00:07, 78.77it/s, loss=0.412]\u001b[A\n",
      " 28%|██▊       | 217/782 [00:02<00:07, 78.63it/s, loss=0.411]\u001b[A\n",
      " 28%|██▊       | 217/782 [00:02<00:07, 78.50it/s, loss=0.416]\u001b[A\n"
     ]
    },
    {
     "name": "stdout",
     "output_type": "stream",
     "text": [
      " 28%|██▊       | 217/782 [00:02<00:07, 78.37it/s, loss=0.415]\u001b[A\n",
      " 28%|██▊       | 217/782 [00:02<00:07, 78.20it/s, loss=0.415]\u001b[A\n",
      " 28%|██▊       | 217/782 [00:02<00:07, 78.08it/s, loss=0.413]\u001b[A\n",
      " 28%|██▊       | 217/782 [00:02<00:07, 77.95it/s, loss=0.411]\u001b[A\n",
      " 30%|███       | 235/782 [00:02<00:06, 84.35it/s, loss=0.411]\u001b[A\n",
      " 30%|███       | 235/782 [00:02<00:06, 84.20it/s, loss=0.409]\u001b[A\n",
      " 30%|███       | 235/782 [00:02<00:06, 84.05it/s, loss=0.407]\u001b[A\n",
      " 30%|███       | 235/782 [00:02<00:06, 83.93it/s, loss=0.405]\u001b[A\n",
      " 30%|███       | 235/782 [00:02<00:06, 83.50it/s, loss=0.408]\u001b[A\n",
      " 30%|███       | 235/782 [00:02<00:06, 83.18it/s, loss=0.404]\u001b[A\n",
      " 30%|███       | 235/782 [00:02<00:06, 82.70it/s, loss=0.402]\u001b[A\n",
      " 30%|███       | 235/782 [00:02<00:06, 82.46it/s, loss=0.403]\u001b[A\n",
      " 30%|███       | 235/782 [00:02<00:06, 82.28it/s, loss=0.404]\u001b[A\n",
      " 30%|███       | 235/782 [00:02<00:06, 82.07it/s, loss=0.403]\u001b[A\n",
      " 30%|███       | 235/782 [00:02<00:06, 81.87it/s, loss=0.402]\u001b[A\n",
      " 30%|███       | 235/782 [00:02<00:06, 81.66it/s, loss=0.399]\u001b[A\n",
      " 30%|███       | 235/782 [00:02<00:06, 81.53it/s, loss=0.399]\u001b[A\n",
      " 30%|███       | 235/782 [00:02<00:06, 81.37it/s, loss=0.396]\u001b[A\n",
      " 30%|███       | 235/782 [00:02<00:06, 81.17it/s, loss=0.394]\u001b[A\n",
      " 30%|███       | 235/782 [00:02<00:06, 80.97it/s, loss=0.394]\u001b[A\n",
      " 30%|███       | 235/782 [00:02<00:06, 80.76it/s, loss=0.394]\u001b[A\n",
      " 32%|███▏      | 251/782 [00:02<00:06, 86.19it/s, loss=0.394]\u001b[A\n",
      " 32%|███▏      | 251/782 [00:02<00:06, 86.01it/s, loss=0.394]\u001b[A\n",
      " 32%|███▏      | 251/782 [00:02<00:06, 85.84it/s, loss=0.397]\u001b[A\n",
      " 32%|███▏      | 251/782 [00:02<00:06, 85.71it/s, loss=0.396]\u001b[A\n",
      " 32%|███▏      | 251/782 [00:02<00:06, 85.53it/s, loss=0.394]\u001b[A\n",
      " 32%|███▏      | 251/782 [00:02<00:06, 85.41it/s, loss=0.394]\u001b[A\n",
      " 32%|███▏      | 251/782 [00:02<00:06, 85.24it/s, loss=0.395]\u001b[A\n",
      " 32%|███▏      | 251/782 [00:02<00:06, 85.09it/s, loss=0.396]\u001b[A\n",
      " 32%|███▏      | 251/782 [00:02<00:06, 84.97it/s, loss=0.395]\u001b[A\n",
      " 32%|███▏      | 251/782 [00:02<00:06, 84.80it/s, loss=0.397]\u001b[A\n",
      " 32%|███▏      | 251/782 [00:02<00:06, 84.66it/s, loss=0.393]\u001b[A\n",
      " 32%|███▏      | 251/782 [00:02<00:06, 84.52it/s, loss=0.392]\u001b[A\n",
      " 32%|███▏      | 251/782 [00:02<00:06, 84.29it/s, loss=0.392]\u001b[A\n",
      " 32%|███▏      | 251/782 [00:02<00:06, 84.05it/s, loss=0.39] \u001b[A\n",
      " 32%|███▏      | 251/782 [00:02<00:06, 83.86it/s, loss=0.389]\u001b[A\n",
      " 32%|███▏      | 251/782 [00:02<00:06, 83.69it/s, loss=0.385]\u001b[A\n",
      " 32%|███▏      | 251/782 [00:03<00:06, 83.55it/s, loss=0.386]\u001b[A\n",
      " 32%|███▏      | 251/782 [00:03<00:06, 83.39it/s, loss=0.385]\u001b[A\n",
      " 34%|███▍      | 268/782 [00:03<00:05, 88.93it/s, loss=0.385]\u001b[A\n",
      " 34%|███▍      | 268/782 [00:03<00:05, 88.78it/s, loss=0.388]\u001b[A\n",
      " 34%|███▍      | 268/782 [00:03<00:05, 88.64it/s, loss=0.386]\u001b[A\n",
      " 34%|███▍      | 268/782 [00:03<00:05, 88.46it/s, loss=0.382]\u001b[A\n",
      " 34%|███▍      | 268/782 [00:03<00:05, 88.32it/s, loss=0.379]\u001b[A\n",
      " 34%|███▍      | 268/782 [00:03<00:05, 88.14it/s, loss=0.381]\u001b[A\n",
      " 34%|███▍      | 268/782 [00:03<00:05, 87.98it/s, loss=0.378]\u001b[A\n",
      " 34%|███▍      | 268/782 [00:03<00:05, 87.85it/s, loss=0.378]\u001b[A\n",
      " 34%|███▍      | 268/782 [00:03<00:05, 87.73it/s, loss=0.376]\u001b[A\n",
      " 34%|███▍      | 268/782 [00:03<00:05, 87.58it/s, loss=0.373]\u001b[A\n",
      " 34%|███▍      | 268/782 [00:03<00:06, 84.87it/s, loss=0.373]\u001b[A\n",
      " 34%|███▍      | 268/782 [00:03<00:06, 84.72it/s, loss=0.375]\u001b[A\n",
      " 34%|███▍      | 268/782 [00:03<00:06, 84.59it/s, loss=0.375]\u001b[A\n",
      " 34%|███▍      | 268/782 [00:03<00:06, 84.44it/s, loss=0.376]\u001b[A\n",
      " 34%|███▍      | 268/782 [00:03<00:06, 84.29it/s, loss=0.374]\u001b[A\n",
      " 34%|███▍      | 268/782 [00:03<00:06, 84.15it/s, loss=0.372]\u001b[A\n",
      " 34%|███▍      | 268/782 [00:03<00:06, 84.02it/s, loss=0.369]\u001b[A\n",
      " 36%|███▋      | 284/782 [00:03<00:05, 88.93it/s, loss=0.369]\u001b[A\n",
      " 36%|███▋      | 284/782 [00:03<00:05, 88.80it/s, loss=0.371]\u001b[A\n",
      " 36%|███▋      | 284/782 [00:03<00:05, 88.67it/s, loss=0.375]\u001b[A\n",
      " 36%|███▋      | 284/782 [00:03<00:05, 88.52it/s, loss=0.373]\u001b[A\n",
      " 36%|███▋      | 284/782 [00:03<00:05, 88.37it/s, loss=0.372]\u001b[A\n",
      " 36%|███▋      | 284/782 [00:03<00:05, 88.24it/s, loss=0.371]\u001b[A\n",
      " 36%|███▋      | 284/782 [00:03<00:05, 88.11it/s, loss=0.375]\u001b[A\n",
      " 36%|███▋      | 284/782 [00:03<00:05, 87.96it/s, loss=0.375]\u001b[A\n",
      " 36%|███▋      | 284/782 [00:03<00:05, 87.84it/s, loss=0.371]\u001b[A\n",
      " 36%|███▋      | 284/782 [00:03<00:05, 87.72it/s, loss=0.37] \u001b[A\n",
      " 36%|███▋      | 284/782 [00:03<00:05, 87.58it/s, loss=0.371]\u001b[A\n",
      " 36%|███▋      | 284/782 [00:03<00:05, 87.41it/s, loss=0.369]\u001b[A\n",
      " 36%|███▋      | 284/782 [00:03<00:05, 87.29it/s, loss=0.367]\u001b[A\n",
      " 36%|███▋      | 284/782 [00:03<00:05, 87.16it/s, loss=0.366]\u001b[A\n",
      " 36%|███▋      | 284/782 [00:03<00:05, 87.04it/s, loss=0.366]\u001b[A\n",
      " 36%|███▋      | 284/782 [00:03<00:05, 86.93it/s, loss=0.368]\u001b[A\n",
      " 36%|███▋      | 284/782 [00:03<00:05, 86.81it/s, loss=0.37] \u001b[A\n",
      " 36%|███▋      | 284/782 [00:03<00:05, 86.68it/s, loss=0.37]\u001b[A\n",
      " 36%|███▋      | 284/782 [00:03<00:05, 86.36it/s, loss=0.366]\u001b[A\n",
      " 36%|███▋      | 284/782 [00:03<00:05, 86.22it/s, loss=0.367]\u001b[A\n",
      " 39%|███▊      | 303/782 [00:03<00:05, 91.90it/s, loss=0.367]\u001b[A\n",
      " 39%|███▊      | 303/782 [00:03<00:05, 91.77it/s, loss=0.369]\u001b[A\n",
      " 39%|███▊      | 303/782 [00:03<00:05, 91.63it/s, loss=0.37] \u001b[A\n",
      " 39%|███▊      | 303/782 [00:03<00:05, 91.45it/s, loss=0.369]\u001b[A\n",
      " 39%|███▊      | 303/782 [00:03<00:05, 91.31it/s, loss=0.367]\u001b[A\n",
      " 39%|███▊      | 303/782 [00:03<00:05, 91.18it/s, loss=0.367]\u001b[A\n",
      " 39%|███▊      | 303/782 [00:03<00:05, 91.01it/s, loss=0.364]\u001b[A\n",
      " 39%|███▊      | 303/782 [00:03<00:05, 90.89it/s, loss=0.364]\u001b[A\n",
      " 39%|███▊      | 303/782 [00:03<00:05, 90.76it/s, loss=0.366]\u001b[A\n",
      " 39%|███▊      | 303/782 [00:03<00:05, 90.62it/s, loss=0.364]\u001b[A\n",
      " 39%|███▊      | 303/782 [00:03<00:05, 90.49it/s, loss=0.366]\u001b[A\n",
      " 39%|███▊      | 303/782 [00:03<00:05, 90.37it/s, loss=0.366]\u001b[A\n",
      " 39%|███▊      | 303/782 [00:03<00:05, 90.20it/s, loss=0.362]\u001b[A\n",
      " 39%|███▊      | 303/782 [00:03<00:05, 90.08it/s, loss=0.364]\u001b[A\n",
      " 39%|███▊      | 303/782 [00:03<00:05, 89.96it/s, loss=0.367]\u001b[A\n",
      " 39%|███▊      | 303/782 [00:03<00:05, 89.83it/s, loss=0.365]\u001b[A\n",
      " 39%|███▊      | 303/782 [00:03<00:05, 89.70it/s, loss=0.369]\u001b[A\n",
      " 39%|███▊      | 303/782 [00:03<00:05, 89.56it/s, loss=0.373]\u001b[A\n",
      " 39%|███▊      | 303/782 [00:03<00:05, 89.44it/s, loss=0.377]\u001b[A\n",
      " 39%|███▊      | 303/782 [00:03<00:05, 89.31it/s, loss=0.377]\u001b[A\n",
      " 39%|███▊      | 303/782 [00:03<00:05, 89.19it/s, loss=0.376]\u001b[A\n",
      " 41%|████▏     | 323/782 [00:03<00:04, 95.00it/s, loss=0.376]\u001b[A\n",
      " 41%|████▏     | 323/782 [00:03<00:04, 94.89it/s, loss=0.373]\u001b[A\n",
      " 41%|████▏     | 323/782 [00:03<00:04, 94.77it/s, loss=0.376]\u001b[A\n",
      " 41%|████▏     | 323/782 [00:03<00:04, 94.61it/s, loss=0.375]\u001b[A\n",
      " 41%|████▏     | 323/782 [00:03<00:04, 94.48it/s, loss=0.373]\u001b[A\n",
      " 41%|████▏     | 323/782 [00:03<00:04, 94.35it/s, loss=0.374]\u001b[A\n",
      " 41%|████▏     | 323/782 [00:03<00:04, 94.21it/s, loss=0.376]\u001b[A\n",
      " 41%|████▏     | 323/782 [00:03<00:04, 94.07it/s, loss=0.377]\u001b[A\n",
      " 41%|████▏     | 323/782 [00:03<00:04, 93.76it/s, loss=0.375]\u001b[A\n",
      " 41%|████▏     | 323/782 [00:03<00:04, 93.58it/s, loss=0.374]\u001b[A\n",
      " 41%|████▏     | 323/782 [00:03<00:04, 93.44it/s, loss=0.372]\u001b[A\n",
      " 41%|████▏     | 323/782 [00:03<00:04, 92.95it/s, loss=0.368]\u001b[A\n",
      " 41%|████▏     | 323/782 [00:03<00:04, 92.57it/s, loss=0.368]\u001b[A\n",
      " 41%|████▏     | 323/782 [00:03<00:04, 92.25it/s, loss=0.366]\u001b[A\n",
      " 41%|████▏     | 323/782 [00:03<00:04, 91.97it/s, loss=0.365]\u001b[A\n",
      " 41%|████▏     | 323/782 [00:03<00:05, 91.63it/s, loss=0.365]\u001b[A\n",
      " 41%|████▏     | 323/782 [00:03<00:05, 91.07it/s, loss=0.365]\u001b[A\n",
      " 41%|████▏     | 323/782 [00:03<00:05, 90.60it/s, loss=0.362]\u001b[A\n",
      " 43%|████▎     | 340/782 [00:03<00:04, 94.85it/s, loss=0.362]\u001b[A\n",
      " 43%|████▎     | 340/782 [00:03<00:04, 94.19it/s, loss=0.362]\u001b[A\n",
      " 43%|████▎     | 340/782 [00:03<00:04, 93.89it/s, loss=0.368]\u001b[A\n",
      " 43%|████▎     | 340/782 [00:03<00:04, 93.66it/s, loss=0.368]\u001b[A\n",
      " 43%|████▎     | 340/782 [00:03<00:04, 93.37it/s, loss=0.372]\u001b[A\n",
      " 43%|████▎     | 340/782 [00:03<00:04, 92.99it/s, loss=0.372]\u001b[A\n",
      " 43%|████▎     | 340/782 [00:03<00:04, 92.74it/s, loss=0.373]\u001b[A\n",
      " 43%|████▎     | 340/782 [00:03<00:04, 92.63it/s, loss=0.373]\u001b[A\n",
      " 43%|████▎     | 340/782 [00:03<00:04, 92.52it/s, loss=0.37] \u001b[A\n",
      " 43%|████▎     | 340/782 [00:03<00:04, 92.38it/s, loss=0.369]\u001b[A\n",
      " 43%|████▎     | 340/782 [00:03<00:04, 92.26it/s, loss=0.366]\u001b[A\n"
     ]
    },
    {
     "name": "stdout",
     "output_type": "stream",
     "text": [
      " 43%|████▎     | 340/782 [00:03<00:04, 92.16it/s, loss=0.367]\u001b[A\n",
      " 43%|████▎     | 340/782 [00:03<00:04, 92.03it/s, loss=0.365]\u001b[A\n",
      " 43%|████▎     | 340/782 [00:03<00:04, 91.92it/s, loss=0.365]\u001b[A\n",
      " 43%|████▎     | 340/782 [00:03<00:04, 91.81it/s, loss=0.365]\u001b[A\n",
      " 43%|████▎     | 340/782 [00:03<00:04, 91.71it/s, loss=0.362]\u001b[A\n",
      " 45%|████▌     | 355/782 [00:03<00:04, 95.67it/s, loss=0.362]\u001b[A\n",
      " 45%|████▌     | 355/782 [00:03<00:04, 94.07it/s, loss=0.363]\u001b[A\n",
      " 45%|████▌     | 355/782 [00:03<00:04, 93.94it/s, loss=0.367]\u001b[A\n",
      " 45%|████▌     | 355/782 [00:03<00:04, 93.82it/s, loss=0.372]\u001b[A\n",
      " 45%|████▌     | 355/782 [00:03<00:04, 93.71it/s, loss=0.371]\u001b[A\n",
      " 45%|████▌     | 355/782 [00:03<00:04, 93.58it/s, loss=0.374]\u001b[A\n",
      " 45%|████▌     | 355/782 [00:03<00:04, 93.46it/s, loss=0.375]\u001b[A\n",
      " 45%|████▌     | 355/782 [00:03<00:04, 93.36it/s, loss=0.378]\u001b[A\n",
      " 45%|████▌     | 355/782 [00:03<00:04, 93.25it/s, loss=0.379]\u001b[A\n",
      " 45%|████▌     | 355/782 [00:03<00:04, 93.14it/s, loss=0.376]\u001b[A\n",
      " 45%|████▌     | 355/782 [00:03<00:04, 92.99it/s, loss=0.376]\u001b[A\n",
      " 45%|████▌     | 355/782 [00:03<00:04, 92.86it/s, loss=0.38] \u001b[A\n",
      " 45%|████▌     | 355/782 [00:03<00:04, 92.74it/s, loss=0.376]\u001b[A\n",
      " 45%|████▌     | 355/782 [00:03<00:04, 92.61it/s, loss=0.375]\u001b[A\n",
      " 45%|████▌     | 355/782 [00:03<00:04, 92.26it/s, loss=0.375]\u001b[A\n",
      " 47%|████▋     | 369/782 [00:03<00:04, 95.84it/s, loss=0.375]\u001b[A\n",
      " 47%|████▋     | 369/782 [00:03<00:04, 95.69it/s, loss=0.378]\u001b[A\n",
      " 47%|████▋     | 369/782 [00:03<00:04, 95.51it/s, loss=0.377]\u001b[A\n",
      " 47%|████▋     | 369/782 [00:03<00:04, 95.41it/s, loss=0.374]\u001b[A\n",
      " 47%|████▋     | 369/782 [00:03<00:04, 95.05it/s, loss=0.37] \u001b[A\n",
      " 47%|████▋     | 369/782 [00:03<00:04, 94.89it/s, loss=0.368]\u001b[A\n",
      " 47%|████▋     | 369/782 [00:03<00:04, 94.64it/s, loss=0.37] \u001b[A\n",
      " 47%|████▋     | 369/782 [00:03<00:04, 94.50it/s, loss=0.37]\u001b[A\n",
      " 47%|████▋     | 369/782 [00:03<00:04, 94.35it/s, loss=0.369]\u001b[A\n",
      " 47%|████▋     | 369/782 [00:03<00:04, 94.23it/s, loss=0.373]\u001b[A\n",
      " 47%|████▋     | 369/782 [00:03<00:04, 94.08it/s, loss=0.375]\u001b[A\n",
      " 47%|████▋     | 369/782 [00:03<00:04, 93.92it/s, loss=0.379]\u001b[A\n",
      " 47%|████▋     | 369/782 [00:03<00:04, 93.80it/s, loss=0.381]\u001b[A\n",
      " 47%|████▋     | 369/782 [00:03<00:04, 93.67it/s, loss=0.382]\u001b[A\n",
      " 47%|████▋     | 369/782 [00:03<00:04, 93.50it/s, loss=0.379]\u001b[A\n",
      " 47%|████▋     | 369/782 [00:03<00:04, 93.37it/s, loss=0.376]\u001b[A\n",
      " 49%|████▉     | 384/782 [00:03<00:04, 97.10it/s, loss=0.376]\u001b[A\n",
      " 49%|████▉     | 384/782 [00:03<00:04, 96.94it/s, loss=0.375]\u001b[A\n",
      " 49%|████▉     | 384/782 [00:03<00:04, 96.81it/s, loss=0.373]\u001b[A\n",
      " 49%|████▉     | 384/782 [00:03<00:04, 96.70it/s, loss=0.373]\u001b[A\n",
      " 49%|████▉     | 384/782 [00:03<00:04, 96.54it/s, loss=0.37] \u001b[A\n",
      " 49%|████▉     | 384/782 [00:03<00:04, 96.37it/s, loss=0.369]\u001b[A\n",
      " 49%|████▉     | 384/782 [00:03<00:04, 96.27it/s, loss=0.369]\u001b[A\n",
      " 49%|████▉     | 384/782 [00:03<00:04, 96.15it/s, loss=0.368]\u001b[A\n",
      " 49%|████▉     | 384/782 [00:03<00:04, 96.04it/s, loss=0.364]\u001b[A\n",
      " 49%|████▉     | 384/782 [00:04<00:04, 95.93it/s, loss=0.361]\u001b[A\n",
      " 49%|████▉     | 384/782 [00:04<00:04, 95.79it/s, loss=0.363]\u001b[A\n",
      " 49%|████▉     | 384/782 [00:04<00:04, 95.65it/s, loss=0.362]\u001b[A\n",
      " 49%|████▉     | 384/782 [00:04<00:04, 95.54it/s, loss=0.358]\u001b[A\n",
      " 49%|████▉     | 384/782 [00:04<00:04, 95.41it/s, loss=0.362]\u001b[A\n",
      " 49%|████▉     | 384/782 [00:04<00:04, 95.28it/s, loss=0.362]\u001b[A\n",
      " 49%|████▉     | 384/782 [00:04<00:04, 95.16it/s, loss=0.365]\u001b[A\n",
      " 49%|████▉     | 384/782 [00:04<00:04, 94.88it/s, loss=0.364]\u001b[A\n",
      " 49%|████▉     | 384/782 [00:04<00:04, 94.76it/s, loss=0.364]\u001b[A\n",
      " 51%|█████▏    | 401/782 [00:04<00:03, 98.87it/s, loss=0.364]\u001b[A\n",
      " 51%|█████▏    | 401/782 [00:04<00:03, 98.67it/s, loss=0.366]\u001b[A\n",
      " 51%|█████▏    | 401/782 [00:04<00:03, 98.56it/s, loss=0.366]\u001b[A\n",
      " 51%|█████▏    | 401/782 [00:04<00:03, 98.42it/s, loss=0.365]\u001b[A\n",
      " 51%|█████▏    | 401/782 [00:04<00:03, 98.29it/s, loss=0.368]\u001b[A\n",
      " 51%|█████▏    | 401/782 [00:04<00:03, 98.17it/s, loss=0.363]\u001b[A\n",
      " 51%|█████▏    | 401/782 [00:04<00:03, 98.06it/s, loss=0.362]\u001b[A\n",
      " 51%|█████▏    | 401/782 [00:04<00:03, 97.94it/s, loss=0.36] \u001b[A\n",
      " 51%|█████▏    | 401/782 [00:04<00:03, 97.83it/s, loss=0.357]\u001b[A\n",
      " 51%|█████▏    | 401/782 [00:04<00:03, 97.73it/s, loss=0.359]\u001b[A\n",
      " 51%|█████▏    | 401/782 [00:04<00:03, 97.62it/s, loss=0.356]\u001b[A\n",
      " 51%|█████▏    | 401/782 [00:04<00:03, 97.46it/s, loss=0.355]\u001b[A\n",
      " 51%|█████▏    | 401/782 [00:04<00:03, 97.36it/s, loss=0.354]\u001b[A\n",
      " 51%|█████▏    | 401/782 [00:04<00:03, 97.25it/s, loss=0.356]\u001b[A\n",
      " 51%|█████▏    | 401/782 [00:04<00:03, 97.13it/s, loss=0.354]\u001b[A\n",
      " 51%|█████▏    | 401/782 [00:04<00:03, 97.03it/s, loss=0.354]\u001b[A\n",
      " 51%|█████▏    | 401/782 [00:04<00:03, 96.92it/s, loss=0.353]\u001b[A\n",
      " 51%|█████▏    | 401/782 [00:04<00:03, 96.82it/s, loss=0.354]\u001b[A\n",
      " 51%|█████▏    | 401/782 [00:04<00:03, 96.71it/s, loss=0.355]\u001b[A\n",
      " 51%|█████▏    | 401/782 [00:04<00:03, 96.60it/s, loss=0.352]\u001b[A\n",
      " 51%|█████▏    | 401/782 [00:04<00:03, 96.50it/s, loss=0.351]\u001b[A\n",
      " 54%|█████▍    | 421/782 [00:04<00:03, 101.24it/s, loss=0.351]\u001b[A\n",
      " 54%|█████▍    | 421/782 [00:04<00:03, 101.12it/s, loss=0.358]\u001b[A\n",
      " 54%|█████▍    | 421/782 [00:04<00:03, 101.02it/s, loss=0.357]\u001b[A\n",
      " 54%|█████▍    | 421/782 [00:04<00:03, 100.91it/s, loss=0.357]\u001b[A\n",
      " 54%|█████▍    | 421/782 [00:04<00:03, 100.56it/s, loss=0.356]\u001b[A\n",
      " 54%|█████▍    | 421/782 [00:04<00:03, 100.45it/s, loss=0.354]\u001b[A\n",
      " 54%|█████▍    | 421/782 [00:04<00:03, 100.24it/s, loss=0.358]\u001b[A\n",
      " 54%|█████▍    | 421/782 [00:04<00:03, 100.11it/s, loss=0.356]\u001b[A\n",
      " 54%|█████▍    | 421/782 [00:04<00:03, 99.96it/s, loss=0.352] \u001b[A\n",
      " 54%|█████▍    | 421/782 [00:04<00:03, 99.86it/s, loss=0.351]\u001b[A\n",
      " 54%|█████▍    | 421/782 [00:04<00:03, 99.74it/s, loss=0.353]\u001b[A\n",
      " 54%|█████▍    | 421/782 [00:04<00:03, 99.61it/s, loss=0.351]\u001b[A\n",
      " 54%|█████▍    | 421/782 [00:04<00:03, 99.47it/s, loss=0.351]\u001b[A\n",
      " 54%|█████▍    | 421/782 [00:04<00:03, 99.35it/s, loss=0.351]\u001b[A\n",
      " 54%|█████▍    | 421/782 [00:04<00:03, 97.43it/s, loss=0.354]\u001b[A\n",
      " 54%|█████▍    | 421/782 [00:04<00:03, 97.31it/s, loss=0.352]\u001b[A\n",
      " 54%|█████▍    | 421/782 [00:04<00:03, 97.12it/s, loss=0.357]\u001b[A\n",
      " 56%|█████▌    | 437/782 [00:04<00:03, 100.74it/s, loss=0.357]\u001b[A\n",
      " 56%|█████▌    | 437/782 [00:04<00:03, 100.60it/s, loss=0.355]\u001b[A\n",
      " 56%|█████▌    | 437/782 [00:04<00:03, 100.48it/s, loss=0.355]\u001b[A\n",
      " 56%|█████▌    | 437/782 [00:04<00:03, 100.37it/s, loss=0.353]\u001b[A\n",
      " 56%|█████▌    | 437/782 [00:04<00:03, 100.26it/s, loss=0.349]\u001b[A\n",
      " 56%|█████▌    | 437/782 [00:04<00:03, 100.13it/s, loss=0.35] \u001b[A\n",
      " 56%|█████▌    | 437/782 [00:04<00:03, 100.01it/s, loss=0.35]\u001b[A\n",
      " 56%|█████▌    | 437/782 [00:04<00:03, 99.91it/s, loss=0.35] \u001b[A\n",
      " 56%|█████▌    | 437/782 [00:04<00:03, 99.80it/s, loss=0.349]\u001b[A\n",
      " 56%|█████▌    | 437/782 [00:04<00:03, 99.70it/s, loss=0.349]\u001b[A\n",
      " 56%|█████▌    | 437/782 [00:04<00:03, 99.60it/s, loss=0.347]\u001b[A\n",
      " 56%|█████▌    | 437/782 [00:04<00:03, 99.49it/s, loss=0.347]\u001b[A\n",
      " 56%|█████▌    | 437/782 [00:04<00:03, 99.38it/s, loss=0.349]\u001b[A\n",
      " 56%|█████▌    | 437/782 [00:04<00:03, 99.28it/s, loss=0.347]\u001b[A\n",
      " 56%|█████▌    | 437/782 [00:04<00:03, 99.19it/s, loss=0.345]\u001b[A\n",
      " 56%|█████▌    | 437/782 [00:04<00:03, 99.09it/s, loss=0.345]\u001b[A\n",
      " 56%|█████▌    | 437/782 [00:04<00:03, 98.99it/s, loss=0.342]\u001b[A\n",
      " 56%|█████▌    | 437/782 [00:04<00:03, 98.88it/s, loss=0.347]\u001b[A\n",
      " 56%|█████▌    | 437/782 [00:04<00:03, 98.79it/s, loss=0.345]\u001b[A\n",
      " 56%|█████▌    | 437/782 [00:04<00:03, 98.67it/s, loss=0.344]\u001b[A\n",
      " 56%|█████▌    | 437/782 [00:04<00:03, 98.57it/s, loss=0.342]\u001b[A\n",
      " 56%|█████▌    | 437/782 [00:04<00:03, 98.47it/s, loss=0.342]\u001b[A\n",
      " 59%|█████▊    | 458/782 [00:04<00:03, 103.14it/s, loss=0.342]\u001b[A\n",
      " 59%|█████▊    | 458/782 [00:04<00:03, 103.03it/s, loss=0.341]\u001b[A\n",
      " 59%|█████▊    | 458/782 [00:04<00:03, 102.92it/s, loss=0.339]\u001b[A\n",
      " 59%|█████▊    | 458/782 [00:04<00:03, 102.62it/s, loss=0.342]\u001b[A\n",
      " 59%|█████▊    | 458/782 [00:04<00:03, 102.49it/s, loss=0.339]\u001b[A\n",
      " 59%|█████▊    | 458/782 [00:04<00:03, 102.37it/s, loss=0.34] \u001b[A\n",
      " 59%|█████▊    | 458/782 [00:04<00:03, 102.24it/s, loss=0.34]\u001b[A\n",
      " 59%|█████▊    | 458/782 [00:04<00:03, 102.12it/s, loss=0.341]\u001b[A\n",
      " 59%|█████▊    | 458/782 [00:04<00:03, 102.01it/s, loss=0.343]\u001b[A\n",
      " 59%|█████▊    | 458/782 [00:04<00:03, 101.90it/s, loss=0.343]\u001b[A\n",
      " 59%|█████▊    | 458/782 [00:04<00:03, 101.78it/s, loss=0.343]\u001b[A\n"
     ]
    },
    {
     "name": "stdout",
     "output_type": "stream",
     "text": [
      " 59%|█████▊    | 458/782 [00:04<00:03, 101.68it/s, loss=0.339]\u001b[A\n",
      " 59%|█████▊    | 458/782 [00:04<00:03, 101.56it/s, loss=0.337]\u001b[A\n",
      " 59%|█████▊    | 458/782 [00:04<00:03, 101.45it/s, loss=0.337]\u001b[A\n",
      " 59%|█████▊    | 458/782 [00:04<00:03, 101.35it/s, loss=0.335]\u001b[A\n",
      " 59%|█████▊    | 458/782 [00:04<00:03, 101.24it/s, loss=0.339]\u001b[A\n",
      " 59%|█████▊    | 458/782 [00:04<00:03, 101.13it/s, loss=0.34] \u001b[A\n",
      " 59%|█████▊    | 458/782 [00:04<00:03, 101.04it/s, loss=0.34]\u001b[A\n",
      " 59%|█████▊    | 458/782 [00:04<00:03, 100.94it/s, loss=0.34]\u001b[A\n",
      " 59%|█████▊    | 458/782 [00:04<00:03, 100.84it/s, loss=0.339]\u001b[A\n",
      " 61%|██████    | 477/782 [00:04<00:02, 104.96it/s, loss=0.339]\u001b[A\n",
      " 61%|██████    | 477/782 [00:04<00:02, 104.85it/s, loss=0.338]\u001b[A\n",
      " 61%|██████    | 477/782 [00:04<00:02, 104.73it/s, loss=0.337]\u001b[A\n",
      " 61%|██████    | 477/782 [00:04<00:02, 104.62it/s, loss=0.337]\u001b[A\n",
      " 61%|██████    | 477/782 [00:04<00:02, 104.50it/s, loss=0.342]\u001b[A\n",
      " 61%|██████    | 477/782 [00:04<00:02, 104.39it/s, loss=0.343]\u001b[A\n",
      " 61%|██████    | 477/782 [00:04<00:02, 104.29it/s, loss=0.341]\u001b[A\n",
      " 61%|██████    | 477/782 [00:04<00:02, 104.16it/s, loss=0.341]\u001b[A\n",
      " 61%|██████    | 477/782 [00:04<00:02, 104.05it/s, loss=0.342]\u001b[A\n",
      " 61%|██████    | 477/782 [00:04<00:02, 103.94it/s, loss=0.34] \u001b[A\n",
      " 61%|██████    | 477/782 [00:04<00:02, 103.83it/s, loss=0.342]\u001b[A\n",
      " 61%|██████    | 477/782 [00:04<00:02, 103.71it/s, loss=0.343]\u001b[A\n",
      " 61%|██████    | 477/782 [00:04<00:02, 103.61it/s, loss=0.342]\u001b[A\n",
      " 61%|██████    | 477/782 [00:04<00:02, 103.45it/s, loss=0.341]\u001b[A\n",
      " 61%|██████    | 477/782 [00:04<00:02, 103.17it/s, loss=0.341]\u001b[A\n",
      " 61%|██████    | 477/782 [00:04<00:02, 103.05it/s, loss=0.34] \u001b[A\n",
      " 61%|██████    | 477/782 [00:04<00:02, 102.89it/s, loss=0.341]\u001b[A\n",
      " 61%|██████    | 477/782 [00:04<00:02, 102.76it/s, loss=0.34] \u001b[A\n",
      " 63%|██████▎   | 494/782 [00:04<00:02, 106.35it/s, loss=0.34]\u001b[A\n",
      " 63%|██████▎   | 494/782 [00:04<00:02, 106.20it/s, loss=0.34]\u001b[A\n",
      " 63%|██████▎   | 494/782 [00:04<00:02, 106.03it/s, loss=0.34]\u001b[A\n",
      " 63%|██████▎   | 494/782 [00:04<00:02, 105.89it/s, loss=0.341]\u001b[A\n",
      " 63%|██████▎   | 494/782 [00:04<00:02, 105.76it/s, loss=0.34] \u001b[A\n",
      " 63%|██████▎   | 494/782 [00:04<00:02, 105.63it/s, loss=0.338]\u001b[A\n",
      " 63%|██████▎   | 494/782 [00:04<00:02, 105.47it/s, loss=0.344]\u001b[A\n",
      " 63%|██████▎   | 494/782 [00:04<00:02, 105.33it/s, loss=0.345]\u001b[A\n",
      " 63%|██████▎   | 494/782 [00:04<00:02, 105.15it/s, loss=0.343]\u001b[A\n",
      " 63%|██████▎   | 494/782 [00:04<00:02, 105.01it/s, loss=0.344]\u001b[A\n",
      " 63%|██████▎   | 494/782 [00:04<00:02, 104.90it/s, loss=0.344]\u001b[A\n",
      " 63%|██████▎   | 494/782 [00:04<00:02, 104.76it/s, loss=0.346]\u001b[A\n",
      " 63%|██████▎   | 494/782 [00:04<00:02, 104.64it/s, loss=0.347]\u001b[A\n",
      " 63%|██████▎   | 494/782 [00:04<00:02, 104.50it/s, loss=0.346]\u001b[A\n",
      " 63%|██████▎   | 494/782 [00:04<00:02, 104.34it/s, loss=0.348]\u001b[A\n",
      " 63%|██████▎   | 494/782 [00:04<00:02, 104.22it/s, loss=0.346]\u001b[A\n",
      " 63%|██████▎   | 494/782 [00:04<00:02, 104.06it/s, loss=0.345]\u001b[A\n",
      " 63%|██████▎   | 494/782 [00:04<00:02, 103.92it/s, loss=0.342]\u001b[A\n",
      " 65%|██████▌   | 511/782 [00:04<00:02, 107.44it/s, loss=0.342]\u001b[A\n",
      " 65%|██████▌   | 511/782 [00:04<00:02, 107.30it/s, loss=0.341]\u001b[A\n",
      " 65%|██████▌   | 511/782 [00:04<00:02, 107.19it/s, loss=0.34] \u001b[A\n",
      " 65%|██████▌   | 511/782 [00:04<00:02, 104.56it/s, loss=0.34]\u001b[A\n",
      " 65%|██████▌   | 511/782 [00:04<00:02, 104.45it/s, loss=0.339]\u001b[A\n",
      " 65%|██████▌   | 511/782 [00:04<00:02, 104.19it/s, loss=0.336]\u001b[A\n",
      " 65%|██████▌   | 511/782 [00:04<00:02, 104.08it/s, loss=0.341]\u001b[A\n",
      " 65%|██████▌   | 511/782 [00:04<00:02, 103.93it/s, loss=0.34] \u001b[A\n",
      " 65%|██████▌   | 511/782 [00:04<00:02, 103.82it/s, loss=0.339]\u001b[A\n",
      " 65%|██████▌   | 511/782 [00:04<00:02, 103.70it/s, loss=0.338]\u001b[A\n",
      " 65%|██████▌   | 511/782 [00:04<00:02, 103.58it/s, loss=0.338]\u001b[A\n",
      " 65%|██████▌   | 511/782 [00:04<00:02, 103.47it/s, loss=0.338]\u001b[A\n",
      " 65%|██████▌   | 511/782 [00:04<00:02, 103.38it/s, loss=0.34] \u001b[A\n",
      " 65%|██████▌   | 511/782 [00:04<00:02, 103.27it/s, loss=0.339]\u001b[A\n",
      " 65%|██████▌   | 511/782 [00:04<00:02, 103.18it/s, loss=0.336]\u001b[A\n",
      " 65%|██████▌   | 511/782 [00:04<00:02, 103.07it/s, loss=0.338]\u001b[A\n",
      " 65%|██████▌   | 511/782 [00:04<00:02, 102.98it/s, loss=0.337]\u001b[A\n",
      " 65%|██████▌   | 511/782 [00:04<00:02, 102.87it/s, loss=0.335]\u001b[A\n",
      " 68%|██████▊   | 528/782 [00:04<00:02, 106.24it/s, loss=0.335]\u001b[A\n",
      " 68%|██████▊   | 528/782 [00:04<00:02, 106.15it/s, loss=0.336]\u001b[A\n",
      " 68%|██████▊   | 528/782 [00:04<00:02, 106.06it/s, loss=0.338]\u001b[A\n",
      " 68%|██████▊   | 528/782 [00:04<00:02, 105.96it/s, loss=0.342]\u001b[A\n",
      " 68%|██████▊   | 528/782 [00:04<00:02, 105.87it/s, loss=0.34] \u001b[A\n",
      " 68%|██████▊   | 528/782 [00:04<00:02, 105.76it/s, loss=0.341]\u001b[A\n",
      " 68%|██████▊   | 528/782 [00:04<00:02, 105.66it/s, loss=0.339]\u001b[A\n",
      " 68%|██████▊   | 528/782 [00:05<00:02, 105.56it/s, loss=0.339]\u001b[A\n",
      " 68%|██████▊   | 528/782 [00:05<00:02, 105.47it/s, loss=0.341]\u001b[A\n",
      " 68%|██████▊   | 528/782 [00:05<00:02, 105.38it/s, loss=0.34] \u001b[A\n",
      " 68%|██████▊   | 528/782 [00:05<00:02, 104.67it/s, loss=0.341]\u001b[A\n",
      " 68%|██████▊   | 528/782 [00:05<00:02, 104.51it/s, loss=0.342]\u001b[A\n",
      " 68%|██████▊   | 528/782 [00:05<00:02, 104.23it/s, loss=0.343]\u001b[A\n",
      " 68%|██████▊   | 528/782 [00:05<00:02, 104.13it/s, loss=0.346]\u001b[A\n",
      " 68%|██████▊   | 528/782 [00:05<00:02, 104.03it/s, loss=0.347]\u001b[A\n",
      " 69%|██████▉   | 542/782 [00:05<00:02, 106.73it/s, loss=0.347]\u001b[A\n",
      " 69%|██████▉   | 542/782 [00:05<00:02, 106.63it/s, loss=0.348]\u001b[A\n",
      " 69%|██████▉   | 542/782 [00:05<00:02, 106.53it/s, loss=0.35] \u001b[A\n",
      " 69%|██████▉   | 542/782 [00:05<00:02, 106.44it/s, loss=0.353]\u001b[A\n",
      " 69%|██████▉   | 542/782 [00:05<00:02, 106.33it/s, loss=0.352]\u001b[A\n",
      " 69%|██████▉   | 542/782 [00:05<00:02, 106.24it/s, loss=0.351]\u001b[A\n",
      " 69%|██████▉   | 542/782 [00:05<00:02, 106.15it/s, loss=0.354]\u001b[A\n",
      " 69%|██████▉   | 542/782 [00:05<00:02, 106.05it/s, loss=0.351]\u001b[A\n",
      " 69%|██████▉   | 542/782 [00:05<00:02, 105.95it/s, loss=0.354]\u001b[A\n",
      " 69%|██████▉   | 542/782 [00:05<00:02, 105.85it/s, loss=0.354]\u001b[A\n",
      " 69%|██████▉   | 542/782 [00:05<00:02, 105.72it/s, loss=0.351]\u001b[A\n",
      " 69%|██████▉   | 542/782 [00:05<00:02, 105.62it/s, loss=0.349]\u001b[A\n",
      " 69%|██████▉   | 542/782 [00:05<00:02, 105.52it/s, loss=0.348]\u001b[A\n",
      " 69%|██████▉   | 542/782 [00:05<00:02, 105.44it/s, loss=0.347]\u001b[A\n",
      " 69%|██████▉   | 542/782 [00:05<00:02, 105.22it/s, loss=0.348]\u001b[A\n",
      " 69%|██████▉   | 542/782 [00:05<00:02, 105.12it/s, loss=0.346]\u001b[A\n",
      " 69%|██████▉   | 542/782 [00:05<00:02, 105.01it/s, loss=0.347]\u001b[A\n",
      " 69%|██████▉   | 542/782 [00:05<00:02, 104.84it/s, loss=0.345]\u001b[A\n",
      " 69%|██████▉   | 542/782 [00:05<00:02, 104.72it/s, loss=0.348]\u001b[A\n",
      " 72%|███████▏  | 560/782 [00:05<00:02, 108.14it/s, loss=0.348]\u001b[A\n",
      " 72%|███████▏  | 560/782 [00:05<00:02, 108.01it/s, loss=0.347]\u001b[A\n",
      " 72%|███████▏  | 560/782 [00:05<00:02, 107.89it/s, loss=0.344]\u001b[A\n",
      " 72%|███████▏  | 560/782 [00:05<00:02, 107.75it/s, loss=0.344]\u001b[A\n",
      " 72%|███████▏  | 560/782 [00:05<00:02, 107.65it/s, loss=0.344]\u001b[A\n",
      " 72%|███████▏  | 560/782 [00:05<00:02, 107.51it/s, loss=0.344]\u001b[A\n",
      " 72%|███████▏  | 560/782 [00:05<00:02, 107.39it/s, loss=0.344]\u001b[A\n",
      " 72%|███████▏  | 560/782 [00:05<00:02, 107.30it/s, loss=0.342]\u001b[A\n",
      " 72%|███████▏  | 560/782 [00:05<00:02, 107.22it/s, loss=0.342]\u001b[A\n",
      " 72%|███████▏  | 560/782 [00:05<00:02, 107.12it/s, loss=0.34] \u001b[A\n",
      " 72%|███████▏  | 560/782 [00:05<00:02, 107.02it/s, loss=0.342]\u001b[A\n",
      " 72%|███████▏  | 560/782 [00:05<00:02, 106.93it/s, loss=0.339]\u001b[A\n",
      " 72%|███████▏  | 560/782 [00:05<00:02, 106.84it/s, loss=0.339]\u001b[A\n",
      " 72%|███████▏  | 560/782 [00:05<00:02, 106.75it/s, loss=0.338]\u001b[A\n",
      " 72%|███████▏  | 560/782 [00:05<00:02, 106.65it/s, loss=0.335]\u001b[A\n",
      " 72%|███████▏  | 560/782 [00:05<00:02, 106.55it/s, loss=0.335]\u001b[A\n",
      " 72%|███████▏  | 560/782 [00:05<00:02, 106.45it/s, loss=0.333]\u001b[A\n",
      " 72%|███████▏  | 560/782 [00:05<00:02, 106.35it/s, loss=0.329]\u001b[A\n",
      " 72%|███████▏  | 560/782 [00:05<00:02, 106.26it/s, loss=0.329]\u001b[A\n",
      " 72%|███████▏  | 560/782 [00:05<00:02, 105.99it/s, loss=0.329]\u001b[A\n",
      " 74%|███████▍  | 579/782 [00:05<00:01, 109.53it/s, loss=0.329]\u001b[A\n",
      " 74%|███████▍  | 579/782 [00:05<00:01, 109.42it/s, loss=0.329]\u001b[A\n",
      " 74%|███████▍  | 579/782 [00:05<00:01, 109.32it/s, loss=0.328]\u001b[A\n",
      " 74%|███████▍  | 579/782 [00:05<00:01, 109.17it/s, loss=0.325]\u001b[A\n",
      " 74%|███████▍  | 579/782 [00:05<00:01, 108.95it/s, loss=0.325]\u001b[A\n",
      " 74%|███████▍  | 579/782 [00:05<00:01, 108.82it/s, loss=0.327]\u001b[A\n",
      " 74%|███████▍  | 579/782 [00:05<00:01, 108.67it/s, loss=0.326]\u001b[A\n"
     ]
    },
    {
     "name": "stdout",
     "output_type": "stream",
     "text": [
      " 74%|███████▍  | 579/782 [00:05<00:01, 108.52it/s, loss=0.324]\u001b[A\n",
      " 74%|███████▍  | 579/782 [00:05<00:01, 108.41it/s, loss=0.323]\u001b[A\n",
      " 74%|███████▍  | 579/782 [00:05<00:01, 108.31it/s, loss=0.323]\u001b[A\n",
      " 74%|███████▍  | 579/782 [00:05<00:01, 108.18it/s, loss=0.319]\u001b[A\n",
      " 74%|███████▍  | 579/782 [00:05<00:01, 108.04it/s, loss=0.318]\u001b[A\n",
      " 74%|███████▍  | 579/782 [00:05<00:01, 107.94it/s, loss=0.317]\u001b[A\n",
      " 74%|███████▍  | 579/782 [00:05<00:01, 107.85it/s, loss=0.319]\u001b[A\n",
      " 74%|███████▍  | 579/782 [00:05<00:01, 105.88it/s, loss=0.319]\u001b[A\n",
      " 74%|███████▍  | 579/782 [00:05<00:01, 105.77it/s, loss=0.324]\u001b[A\n",
      " 74%|███████▍  | 579/782 [00:05<00:01, 105.65it/s, loss=0.321]\u001b[A\n",
      " 76%|███████▌  | 595/782 [00:05<00:01, 108.51it/s, loss=0.321]\u001b[A\n",
      " 76%|███████▌  | 595/782 [00:05<00:01, 108.41it/s, loss=0.322]\u001b[A\n",
      " 76%|███████▌  | 595/782 [00:05<00:01, 108.29it/s, loss=0.321]\u001b[A\n",
      " 76%|███████▌  | 595/782 [00:05<00:01, 108.20it/s, loss=0.325]\u001b[A\n",
      " 76%|███████▌  | 595/782 [00:05<00:01, 108.09it/s, loss=0.326]\u001b[A\n",
      " 76%|███████▌  | 595/782 [00:05<00:01, 107.97it/s, loss=0.324]\u001b[A\n",
      " 76%|███████▌  | 595/782 [00:05<00:01, 107.89it/s, loss=0.326]\u001b[A\n",
      " 76%|███████▌  | 595/782 [00:05<00:01, 107.78it/s, loss=0.324]\u001b[A\n",
      " 76%|███████▌  | 595/782 [00:05<00:01, 107.69it/s, loss=0.325]\u001b[A\n",
      " 76%|███████▌  | 595/782 [00:05<00:01, 107.61it/s, loss=0.323]\u001b[A\n",
      " 76%|███████▌  | 595/782 [00:05<00:01, 107.51it/s, loss=0.321]\u001b[A\n",
      " 76%|███████▌  | 595/782 [00:05<00:01, 107.42it/s, loss=0.323]\u001b[A\n",
      " 76%|███████▌  | 595/782 [00:05<00:01, 107.33it/s, loss=0.322]\u001b[A\n",
      " 76%|███████▌  | 595/782 [00:05<00:01, 107.23it/s, loss=0.325]\u001b[A\n",
      " 76%|███████▌  | 595/782 [00:05<00:01, 107.13it/s, loss=0.33] \u001b[A\n",
      " 76%|███████▌  | 595/782 [00:05<00:01, 107.04it/s, loss=0.328]\u001b[A\n",
      " 76%|███████▌  | 595/782 [00:05<00:01, 106.95it/s, loss=0.327]\u001b[A\n",
      " 76%|███████▌  | 595/782 [00:05<00:01, 106.85it/s, loss=0.326]\u001b[A\n",
      " 76%|███████▌  | 595/782 [00:05<00:01, 106.77it/s, loss=0.324]\u001b[A\n",
      " 76%|███████▌  | 595/782 [00:05<00:01, 106.50it/s, loss=0.323]\u001b[A\n",
      " 79%|███████▊  | 614/782 [00:05<00:01, 109.85it/s, loss=0.323]\u001b[A\n",
      " 79%|███████▊  | 614/782 [00:05<00:01, 109.73it/s, loss=0.325]\u001b[A\n",
      " 79%|███████▊  | 614/782 [00:05<00:01, 109.57it/s, loss=0.322]\u001b[A\n",
      " 79%|███████▊  | 614/782 [00:05<00:01, 109.38it/s, loss=0.32] \u001b[A\n",
      " 79%|███████▊  | 614/782 [00:05<00:01, 109.28it/s, loss=0.321]\u001b[A\n",
      " 79%|███████▊  | 614/782 [00:05<00:01, 109.19it/s, loss=0.324]\u001b[A\n",
      " 79%|███████▊  | 614/782 [00:05<00:01, 109.06it/s, loss=0.326]\u001b[A\n",
      " 79%|███████▊  | 614/782 [00:05<00:01, 108.84it/s, loss=0.326]\u001b[A\n",
      " 79%|███████▊  | 614/782 [00:05<00:01, 108.51it/s, loss=0.327]\u001b[A\n",
      " 79%|███████▊  | 614/782 [00:05<00:01, 108.41it/s, loss=0.324]\u001b[A\n",
      " 79%|███████▊  | 614/782 [00:05<00:01, 108.31it/s, loss=0.326]\u001b[A\n",
      " 79%|███████▊  | 614/782 [00:05<00:01, 108.22it/s, loss=0.33] \u001b[A\n",
      " 79%|███████▊  | 614/782 [00:05<00:01, 108.02it/s, loss=0.333]\u001b[A\n",
      " 79%|███████▊  | 614/782 [00:05<00:01, 107.78it/s, loss=0.335]\u001b[A\n",
      " 79%|███████▊  | 614/782 [00:05<00:01, 107.46it/s, loss=0.333]\u001b[A\n",
      " 79%|███████▊  | 614/782 [00:05<00:01, 107.02it/s, loss=0.334]\u001b[A\n",
      " 80%|████████  | 629/782 [00:05<00:01, 109.38it/s, loss=0.334]\u001b[A\n",
      " 80%|████████  | 629/782 [00:05<00:01, 108.70it/s, loss=0.333]\u001b[A\n",
      " 80%|████████  | 629/782 [00:05<00:01, 108.42it/s, loss=0.334]\u001b[A\n",
      " 80%|████████  | 629/782 [00:05<00:01, 108.33it/s, loss=0.331]\u001b[A\n",
      " 80%|████████  | 629/782 [00:05<00:01, 108.25it/s, loss=0.33] \u001b[A\n",
      " 80%|████████  | 629/782 [00:05<00:01, 108.16it/s, loss=0.328]\u001b[A\n",
      " 80%|████████  | 629/782 [00:05<00:01, 108.08it/s, loss=0.326]\u001b[A\n",
      " 80%|████████  | 629/782 [00:05<00:01, 107.99it/s, loss=0.326]\u001b[A\n",
      " 80%|████████  | 629/782 [00:05<00:01, 107.89it/s, loss=0.326]\u001b[A\n",
      " 80%|████████  | 629/782 [00:05<00:01, 107.80it/s, loss=0.326]\u001b[A\n",
      " 80%|████████  | 629/782 [00:05<00:01, 107.71it/s, loss=0.327]\u001b[A\n",
      " 80%|████████  | 629/782 [00:05<00:01, 107.63it/s, loss=0.325]\u001b[A\n",
      " 80%|████████  | 629/782 [00:05<00:01, 107.54it/s, loss=0.324]\u001b[A\n",
      " 80%|████████  | 629/782 [00:05<00:01, 107.47it/s, loss=0.321]\u001b[A\n",
      " 80%|████████  | 629/782 [00:05<00:01, 107.38it/s, loss=0.321]\u001b[A\n",
      " 82%|████████▏ | 643/782 [00:05<00:01, 109.72it/s, loss=0.321]\u001b[A\n",
      " 82%|████████▏ | 643/782 [00:05<00:01, 109.64it/s, loss=0.32] \u001b[A\n",
      " 82%|████████▏ | 643/782 [00:05<00:01, 109.54it/s, loss=0.319]\u001b[A\n",
      " 82%|████████▏ | 643/782 [00:05<00:01, 109.45it/s, loss=0.316]\u001b[A\n",
      " 82%|████████▏ | 643/782 [00:05<00:01, 109.35it/s, loss=0.315]\u001b[A\n",
      " 82%|████████▏ | 643/782 [00:05<00:01, 109.25it/s, loss=0.319]\u001b[A\n",
      " 82%|████████▏ | 643/782 [00:05<00:01, 109.17it/s, loss=0.321]\u001b[A\n",
      " 82%|████████▏ | 643/782 [00:05<00:01, 109.07it/s, loss=0.319]\u001b[A\n",
      " 82%|████████▏ | 643/782 [00:05<00:01, 108.85it/s, loss=0.32] \u001b[A\n",
      " 82%|████████▏ | 643/782 [00:05<00:01, 108.76it/s, loss=0.323]\u001b[A\n",
      " 82%|████████▏ | 643/782 [00:05<00:01, 108.62it/s, loss=0.323]\u001b[A\n",
      " 82%|████████▏ | 643/782 [00:05<00:01, 108.51it/s, loss=0.324]\u001b[A\n",
      " 82%|████████▏ | 643/782 [00:05<00:01, 108.43it/s, loss=0.325]\u001b[A\n",
      " 82%|████████▏ | 643/782 [00:05<00:01, 108.29it/s, loss=0.326]\u001b[A\n",
      " 82%|████████▏ | 643/782 [00:05<00:01, 108.19it/s, loss=0.33] \u001b[A\n",
      " 82%|████████▏ | 643/782 [00:05<00:01, 108.10it/s, loss=0.327]\u001b[A\n",
      " 82%|████████▏ | 643/782 [00:05<00:01, 108.01it/s, loss=0.324]\u001b[A\n",
      " 82%|████████▏ | 643/782 [00:05<00:01, 107.91it/s, loss=0.326]\u001b[A\n",
      " 84%|████████▍ | 660/782 [00:05<00:01, 110.70it/s, loss=0.326]\u001b[A\n",
      " 84%|████████▍ | 660/782 [00:05<00:01, 110.61it/s, loss=0.325]\u001b[A\n",
      " 84%|████████▍ | 660/782 [00:05<00:01, 110.54it/s, loss=0.326]\u001b[A\n",
      " 84%|████████▍ | 660/782 [00:05<00:01, 110.45it/s, loss=0.324]\u001b[A\n",
      " 84%|████████▍ | 660/782 [00:05<00:01, 110.37it/s, loss=0.322]\u001b[A\n",
      " 84%|████████▍ | 660/782 [00:05<00:01, 110.28it/s, loss=0.325]\u001b[A\n",
      " 84%|████████▍ | 660/782 [00:05<00:01, 110.18it/s, loss=0.327]\u001b[A\n",
      " 84%|████████▍ | 660/782 [00:05<00:01, 110.10it/s, loss=0.327]\u001b[A\n",
      " 84%|████████▍ | 660/782 [00:05<00:01, 110.02it/s, loss=0.328]\u001b[A\n",
      " 84%|████████▍ | 660/782 [00:06<00:01, 109.93it/s, loss=0.328]\u001b[A\n",
      " 84%|████████▍ | 660/782 [00:06<00:01, 109.85it/s, loss=0.329]\u001b[A\n",
      " 84%|████████▍ | 660/782 [00:06<00:01, 108.40it/s, loss=0.326]\u001b[A\n",
      " 84%|████████▍ | 660/782 [00:06<00:01, 108.32it/s, loss=0.326]\u001b[A\n",
      " 84%|████████▍ | 660/782 [00:06<00:01, 108.23it/s, loss=0.326]\u001b[A\n",
      " 84%|████████▍ | 660/782 [00:06<00:01, 108.13it/s, loss=0.329]\u001b[A\n",
      " 84%|████████▍ | 660/782 [00:06<00:01, 108.04it/s, loss=0.331]\u001b[A\n",
      " 86%|████████▋ | 675/782 [00:06<00:00, 110.45it/s, loss=0.331]\u001b[A\n",
      " 86%|████████▋ | 675/782 [00:06<00:00, 110.37it/s, loss=0.327]\u001b[A\n",
      " 86%|████████▋ | 675/782 [00:06<00:00, 110.28it/s, loss=0.327]\u001b[A\n",
      " 86%|████████▋ | 675/782 [00:06<00:00, 110.19it/s, loss=0.327]\u001b[A\n",
      " 86%|████████▋ | 675/782 [00:06<00:00, 110.11it/s, loss=0.33] \u001b[A\n",
      " 86%|████████▋ | 675/782 [00:06<00:00, 110.02it/s, loss=0.33]\u001b[A\n",
      " 86%|████████▋ | 675/782 [00:06<00:00, 109.94it/s, loss=0.334]\u001b[A\n",
      " 86%|████████▋ | 675/782 [00:06<00:00, 109.86it/s, loss=0.332]\u001b[A\n",
      " 86%|████████▋ | 675/782 [00:06<00:00, 109.77it/s, loss=0.33] \u001b[A\n",
      " 86%|████████▋ | 675/782 [00:06<00:00, 109.68it/s, loss=0.336]\u001b[A\n",
      " 86%|████████▋ | 675/782 [00:06<00:00, 109.59it/s, loss=0.341]\u001b[A\n",
      " 86%|████████▋ | 675/782 [00:06<00:00, 109.52it/s, loss=0.338]\u001b[A\n",
      " 86%|████████▋ | 675/782 [00:06<00:00, 109.26it/s, loss=0.341]\u001b[A\n",
      " 86%|████████▋ | 675/782 [00:06<00:00, 109.16it/s, loss=0.343]\u001b[A\n",
      " 86%|████████▋ | 675/782 [00:06<00:00, 109.05it/s, loss=0.345]\u001b[A\n",
      " 86%|████████▋ | 675/782 [00:06<00:00, 108.94it/s, loss=0.34] \u001b[A\n",
      " 86%|████████▋ | 675/782 [00:06<00:00, 108.83it/s, loss=0.339]\u001b[A\n",
      " 86%|████████▋ | 675/782 [00:06<00:00, 108.69it/s, loss=0.339]\u001b[A\n",
      " 88%|████████▊ | 692/782 [00:06<00:00, 111.39it/s, loss=0.339]\u001b[A\n",
      " 88%|████████▊ | 692/782 [00:06<00:00, 111.28it/s, loss=0.338]\u001b[A\n",
      " 88%|████████▊ | 692/782 [00:06<00:00, 111.18it/s, loss=0.342]\u001b[A\n",
      " 88%|████████▊ | 692/782 [00:06<00:00, 111.10it/s, loss=0.338]\u001b[A\n",
      " 88%|████████▊ | 692/782 [00:06<00:00, 111.01it/s, loss=0.336]\u001b[A\n",
      " 88%|████████▊ | 692/782 [00:06<00:00, 110.93it/s, loss=0.334]\u001b[A\n",
      " 88%|████████▊ | 692/782 [00:06<00:00, 110.84it/s, loss=0.333]\u001b[A\n",
      " 88%|████████▊ | 692/782 [00:06<00:00, 110.74it/s, loss=0.337]\u001b[A\n",
      " 88%|████████▊ | 692/782 [00:06<00:00, 110.65it/s, loss=0.333]\u001b[A\n",
      " 88%|████████▊ | 692/782 [00:06<00:00, 110.56it/s, loss=0.331]\u001b[A\n",
      " 88%|████████▊ | 692/782 [00:06<00:00, 110.46it/s, loss=0.332]\u001b[A\n"
     ]
    },
    {
     "name": "stdout",
     "output_type": "stream",
     "text": [
      " 88%|████████▊ | 692/782 [00:06<00:00, 110.37it/s, loss=0.337]\u001b[A\n",
      " 88%|████████▊ | 692/782 [00:06<00:00, 110.27it/s, loss=0.336]\u001b[A\n",
      " 88%|████████▊ | 692/782 [00:06<00:00, 110.19it/s, loss=0.336]\u001b[A\n",
      " 88%|████████▊ | 692/782 [00:06<00:00, 110.11it/s, loss=0.335]\u001b[A\n",
      " 88%|████████▊ | 692/782 [00:06<00:00, 110.02it/s, loss=0.339]\u001b[A\n",
      " 88%|████████▊ | 692/782 [00:06<00:00, 109.75it/s, loss=0.339]\u001b[A\n",
      " 88%|████████▊ | 692/782 [00:06<00:00, 109.65it/s, loss=0.337]\u001b[A\n",
      " 91%|█████████ | 709/782 [00:06<00:00, 112.29it/s, loss=0.337]\u001b[A\n",
      " 91%|█████████ | 709/782 [00:06<00:00, 112.14it/s, loss=0.335]\u001b[A\n",
      " 91%|█████████ | 709/782 [00:06<00:00, 112.02it/s, loss=0.336]\u001b[A\n",
      " 91%|█████████ | 709/782 [00:06<00:00, 111.93it/s, loss=0.335]\u001b[A\n",
      " 91%|█████████ | 709/782 [00:06<00:00, 111.83it/s, loss=0.335]\u001b[A\n",
      " 91%|█████████ | 709/782 [00:06<00:00, 111.73it/s, loss=0.334]\u001b[A\n",
      " 91%|█████████ | 709/782 [00:06<00:00, 111.63it/s, loss=0.335]\u001b[A\n",
      " 91%|█████████ | 709/782 [00:06<00:00, 111.55it/s, loss=0.335]\u001b[A\n",
      " 91%|█████████ | 709/782 [00:06<00:00, 111.45it/s, loss=0.332]\u001b[A\n",
      " 91%|█████████ | 709/782 [00:06<00:00, 111.37it/s, loss=0.331]\u001b[A\n",
      " 91%|█████████ | 709/782 [00:06<00:00, 111.28it/s, loss=0.329]\u001b[A\n",
      " 91%|█████████ | 709/782 [00:06<00:00, 111.19it/s, loss=0.329]\u001b[A\n",
      " 91%|█████████ | 709/782 [00:06<00:00, 111.11it/s, loss=0.329]\u001b[A\n",
      " 91%|█████████ | 709/782 [00:06<00:00, 111.02it/s, loss=0.334]\u001b[A\n",
      " 91%|█████████ | 709/782 [00:06<00:00, 110.92it/s, loss=0.339]\u001b[A\n",
      " 91%|█████████ | 709/782 [00:06<00:00, 110.84it/s, loss=0.34] \u001b[A\n",
      " 91%|█████████ | 709/782 [00:06<00:00, 110.75it/s, loss=0.34]\u001b[A\n",
      " 91%|█████████ | 709/782 [00:06<00:00, 110.66it/s, loss=0.337]\u001b[A\n",
      " 91%|█████████ | 709/782 [00:06<00:00, 110.57it/s, loss=0.337]\u001b[A\n",
      " 93%|█████████▎| 727/782 [00:06<00:00, 113.34it/s, loss=0.337]\u001b[A\n",
      " 93%|█████████▎| 727/782 [00:06<00:00, 113.25it/s, loss=0.338]\u001b[A\n",
      " 93%|█████████▎| 727/782 [00:06<00:00, 113.15it/s, loss=0.335]\u001b[A\n",
      " 93%|█████████▎| 727/782 [00:06<00:00, 113.07it/s, loss=0.332]\u001b[A\n",
      " 93%|█████████▎| 727/782 [00:06<00:00, 112.98it/s, loss=0.332]\u001b[A\n",
      " 93%|█████████▎| 727/782 [00:06<00:00, 112.88it/s, loss=0.332]\u001b[A\n",
      " 93%|█████████▎| 727/782 [00:06<00:00, 112.80it/s, loss=0.329]\u001b[A\n",
      " 93%|█████████▎| 727/782 [00:06<00:00, 112.70it/s, loss=0.329]\u001b[A\n",
      " 93%|█████████▎| 727/782 [00:06<00:00, 112.61it/s, loss=0.326]\u001b[A\n",
      " 93%|█████████▎| 727/782 [00:06<00:00, 112.38it/s, loss=0.328]\u001b[A\n",
      " 93%|█████████▎| 727/782 [00:06<00:00, 112.29it/s, loss=0.324]\u001b[A\n",
      " 93%|█████████▎| 727/782 [00:06<00:00, 112.19it/s, loss=0.322]\u001b[A\n",
      " 93%|█████████▎| 727/782 [00:06<00:00, 112.04it/s, loss=0.32] \u001b[A\n",
      " 93%|█████████▎| 727/782 [00:06<00:00, 111.95it/s, loss=0.32]\u001b[A\n",
      " 93%|█████████▎| 727/782 [00:06<00:00, 111.85it/s, loss=0.321]\u001b[A\n",
      " 93%|█████████▎| 727/782 [00:06<00:00, 111.76it/s, loss=0.324]\u001b[A\n",
      " 93%|█████████▎| 727/782 [00:06<00:00, 111.66it/s, loss=0.323]\u001b[A\n",
      " 93%|█████████▎| 727/782 [00:06<00:00, 111.57it/s, loss=0.32] \u001b[A\n",
      " 95%|█████████▌| 744/782 [00:06<00:00, 114.12it/s, loss=0.32]\u001b[A\n",
      " 95%|█████████▌| 744/782 [00:06<00:00, 114.03it/s, loss=0.321]\u001b[A\n",
      " 95%|█████████▌| 744/782 [00:06<00:00, 113.94it/s, loss=0.326]\u001b[A\n",
      " 95%|█████████▌| 744/782 [00:06<00:00, 113.86it/s, loss=0.328]\u001b[A\n",
      " 95%|█████████▌| 744/782 [00:06<00:00, 113.77it/s, loss=0.326]\u001b[A\n",
      " 95%|█████████▌| 744/782 [00:06<00:00, 113.68it/s, loss=0.326]\u001b[A\n",
      " 95%|█████████▌| 744/782 [00:06<00:00, 111.75it/s, loss=0.326]\u001b[A\n",
      " 95%|█████████▌| 744/782 [00:06<00:00, 111.67it/s, loss=0.329]\u001b[A\n",
      " 95%|█████████▌| 744/782 [00:06<00:00, 111.57it/s, loss=0.328]\u001b[A\n",
      " 95%|█████████▌| 744/782 [00:06<00:00, 111.49it/s, loss=0.327]\u001b[A\n",
      " 95%|█████████▌| 744/782 [00:06<00:00, 111.40it/s, loss=0.328]\u001b[A\n",
      " 95%|█████████▌| 744/782 [00:06<00:00, 111.29it/s, loss=0.328]\u001b[A\n",
      " 95%|█████████▌| 744/782 [00:06<00:00, 111.22it/s, loss=0.328]\u001b[A\n",
      " 95%|█████████▌| 744/782 [00:06<00:00, 111.13it/s, loss=0.328]\u001b[A\n",
      " 95%|█████████▌| 744/782 [00:06<00:00, 111.05it/s, loss=0.329]\u001b[A\n",
      " 95%|█████████▌| 744/782 [00:06<00:00, 110.95it/s, loss=0.327]\u001b[A\n",
      " 95%|█████████▌| 744/782 [00:06<00:00, 110.87it/s, loss=0.325]\u001b[A\n",
      " 97%|█████████▋| 760/782 [00:06<00:00, 113.20it/s, loss=0.325]\u001b[A\n",
      " 97%|█████████▋| 760/782 [00:06<00:00, 113.12it/s, loss=0.324]\u001b[A\n",
      " 97%|█████████▋| 760/782 [00:06<00:00, 113.04it/s, loss=0.325]\u001b[A\n",
      " 97%|█████████▋| 760/782 [00:06<00:00, 112.96it/s, loss=0.322]\u001b[A\n",
      " 97%|█████████▋| 760/782 [00:06<00:00, 112.87it/s, loss=0.323]\u001b[A\n",
      " 97%|█████████▋| 760/782 [00:06<00:00, 112.77it/s, loss=0.321]\u001b[A\n",
      " 97%|█████████▋| 760/782 [00:06<00:00, 112.69it/s, loss=0.319]\u001b[A\n",
      " 97%|█████████▋| 760/782 [00:06<00:00, 112.60it/s, loss=0.321]\u001b[A\n",
      " 97%|█████████▋| 760/782 [00:06<00:00, 112.52it/s, loss=0.321]\u001b[A\n",
      " 97%|█████████▋| 760/782 [00:06<00:00, 112.45it/s, loss=0.323]\u001b[A\n",
      " 97%|█████████▋| 760/782 [00:06<00:00, 112.37it/s, loss=0.323]\u001b[A\n",
      " 97%|█████████▋| 760/782 [00:06<00:00, 112.25it/s, loss=0.322]\u001b[A\n",
      " 97%|█████████▋| 760/782 [00:06<00:00, 112.18it/s, loss=0.325]\u001b[A\n",
      " 97%|█████████▋| 760/782 [00:06<00:00, 112.10it/s, loss=0.323]\u001b[A\n",
      " 97%|█████████▋| 760/782 [00:06<00:00, 112.03it/s, loss=0.325]\u001b[A\n",
      " 97%|█████████▋| 760/782 [00:06<00:00, 111.94it/s, loss=0.322]\u001b[A\n",
      " 97%|█████████▋| 760/782 [00:06<00:00, 111.85it/s, loss=0.323]\u001b[A\n",
      " 97%|█████████▋| 760/782 [00:06<00:00, 111.78it/s, loss=0.326]\u001b[A\n",
      " 97%|█████████▋| 760/782 [00:06<00:00, 111.69it/s, loss=0.327]\u001b[A\n",
      " 97%|█████████▋| 760/782 [00:06<00:00, 111.61it/s, loss=0.329]\u001b[A\n",
      " 97%|█████████▋| 760/782 [00:06<00:00, 111.53it/s, loss=0.326]\u001b[A\n",
      "100%|█████████▉| 780/782 [00:06<00:00, 114.43it/s, loss=0.326]\u001b[A\n",
      "100%|█████████▉| 780/782 [00:06<00:00, 114.34it/s, loss=0.325]\u001b[A\n",
      "100%|█████████▉| 780/782 [00:06<00:00, 114.27it/s, loss=0.327]\u001b[A\n",
      "                                                              \u001b[A[ 0.       0.32726  0.27743  0.92178]\n",
      "\n",
      "  0%|          | 0/782 [00:00<?, ?it/s]\u001b[A\n",
      "  0%|          | 0/782 [00:00<?, ?it/s, loss=0.325]\u001b[A\n",
      "  0%|          | 1/782 [00:00<01:35,  8.16it/s, loss=0.325]\u001b[A\n",
      "  0%|          | 1/782 [00:00<01:52,  6.96it/s, loss=0.324]\u001b[A\n",
      "  0%|          | 1/782 [00:00<02:06,  6.16it/s, loss=0.324]\u001b[A\n",
      "  0%|          | 1/782 [00:00<02:28,  5.28it/s, loss=0.327]\u001b[A\n",
      "  0%|          | 1/782 [00:00<02:44,  4.74it/s, loss=0.328]\u001b[A\n",
      "  1%|          | 5/782 [00:00<00:34, 22.74it/s, loss=0.328]\u001b[A\n",
      "  1%|          | 5/782 [00:00<00:41, 18.64it/s, loss=0.327]\u001b[A\n",
      "  1%|          | 5/782 [00:00<00:45, 16.96it/s, loss=0.326]\u001b[A\n",
      "  1%|          | 5/782 [00:00<00:51, 14.97it/s, loss=0.325]\u001b[A\n",
      "  1%|          | 8/782 [00:00<00:33, 23.39it/s, loss=0.325]\u001b[A\n",
      "  1%|          | 8/782 [00:00<00:35, 22.11it/s, loss=0.323]\u001b[A\n",
      "  1%|          | 8/782 [00:00<00:44, 17.56it/s, loss=0.327]\u001b[A\n",
      "  1%|▏         | 10/782 [00:00<00:40, 19.00it/s, loss=0.327]\u001b[A\n",
      "  1%|▏         | 10/782 [00:00<00:46, 16.54it/s, loss=0.338]\u001b[A\n",
      "  1%|▏         | 10/782 [00:00<00:48, 15.97it/s, loss=0.335]\u001b[A\n",
      "  2%|▏         | 12/782 [00:00<00:40, 18.80it/s, loss=0.335]\u001b[A\n",
      "  2%|▏         | 12/782 [00:00<00:42, 18.30it/s, loss=0.334]\u001b[A\n",
      "  2%|▏         | 12/782 [00:00<00:42, 17.92it/s, loss=0.333]\u001b[A\n",
      "  2%|▏         | 12/782 [00:00<00:44, 17.41it/s, loss=0.329]\u001b[A\n",
      "  2%|▏         | 12/782 [00:00<00:45, 17.04it/s, loss=0.327]\u001b[A\n",
      "  2%|▏         | 12/782 [00:00<00:45, 16.80it/s, loss=0.332]\u001b[A\n",
      "  2%|▏         | 12/782 [00:00<00:46, 16.49it/s, loss=0.336]\u001b[A\n",
      "  2%|▏         | 12/782 [00:00<00:47, 16.24it/s, loss=0.335]\u001b[A\n",
      "  2%|▏         | 19/782 [00:00<00:30, 25.41it/s, loss=0.335]\u001b[A\n",
      "  2%|▏         | 19/782 [00:00<00:30, 24.83it/s, loss=0.334]\u001b[A\n",
      "  2%|▏         | 19/782 [00:00<00:31, 24.36it/s, loss=0.332]\u001b[A\n",
      "  2%|▏         | 19/782 [00:00<00:31, 23.95it/s, loss=0.332]\u001b[A\n",
      "  2%|▏         | 19/782 [00:00<00:32, 23.39it/s, loss=0.334]\u001b[A\n",
      "  2%|▏         | 19/782 [00:00<00:33, 22.95it/s, loss=0.334]\u001b[A\n",
      "  2%|▏         | 19/782 [00:00<00:34, 22.38it/s, loss=0.332]\u001b[A\n",
      "  3%|▎         | 25/782 [00:00<00:25, 29.21it/s, loss=0.332]\u001b[A\n",
      "  3%|▎         | 25/782 [00:00<00:26, 28.77it/s, loss=0.329]\u001b[A\n",
      "  3%|▎         | 25/782 [00:00<00:26, 28.13it/s, loss=0.329]\u001b[A\n",
      "  3%|▎         | 25/782 [00:00<00:27, 27.55it/s, loss=0.334]\u001b[A\n",
      "  3%|▎         | 25/782 [00:00<00:27, 27.15it/s, loss=0.333]\u001b[A\n",
      "  3%|▎         | 25/782 [00:00<00:28, 26.60it/s, loss=0.33] \u001b[A\n",
      "  3%|▎         | 25/782 [00:00<00:29, 26.01it/s, loss=0.329]\u001b[A\n"
     ]
    },
    {
     "name": "stdout",
     "output_type": "stream",
     "text": [
      "  4%|▍         | 31/782 [00:00<00:23, 31.93it/s, loss=0.329]\u001b[A\n",
      "  4%|▍         | 31/782 [00:00<00:23, 31.40it/s, loss=0.331]\u001b[A\n",
      "  4%|▍         | 31/782 [00:01<00:24, 30.70it/s, loss=0.329]\u001b[A\n",
      "  4%|▍         | 31/782 [00:01<00:24, 30.29it/s, loss=0.328]\u001b[A\n",
      "  4%|▍         | 31/782 [00:01<00:25, 29.87it/s, loss=0.327]\u001b[A\n",
      "  4%|▍         | 31/782 [00:01<00:25, 29.56it/s, loss=0.324]\u001b[A\n",
      "  4%|▍         | 31/782 [00:01<00:26, 28.85it/s, loss=0.325]\u001b[A\n",
      "  5%|▍         | 37/782 [00:01<00:21, 34.11it/s, loss=0.325]\u001b[A\n",
      "  5%|▍         | 37/782 [00:01<00:22, 33.36it/s, loss=0.325]\u001b[A\n",
      "  5%|▍         | 37/782 [00:01<00:22, 32.99it/s, loss=0.324]\u001b[A\n",
      "  5%|▍         | 37/782 [00:01<00:23, 32.39it/s, loss=0.323]\u001b[A\n",
      "  5%|▍         | 37/782 [00:01<00:23, 32.01it/s, loss=0.323]\u001b[A\n",
      "  5%|▍         | 37/782 [00:01<00:23, 31.77it/s, loss=0.321]\u001b[A\n",
      "  5%|▍         | 37/782 [00:01<00:23, 31.35it/s, loss=0.324]\u001b[A\n",
      "  5%|▌         | 43/782 [00:01<00:20, 36.24it/s, loss=0.324]\u001b[A\n",
      "  5%|▌         | 43/782 [00:01<00:20, 35.56it/s, loss=0.326]\u001b[A\n",
      "  5%|▌         | 43/782 [00:01<00:21, 35.10it/s, loss=0.324]\u001b[A\n",
      "  5%|▌         | 43/782 [00:01<00:21, 34.75it/s, loss=0.322]\u001b[A\n",
      "  5%|▌         | 43/782 [00:01<00:21, 34.41it/s, loss=0.322]\u001b[A\n",
      "  5%|▌         | 43/782 [00:01<00:21, 34.07it/s, loss=0.323]\u001b[A\n",
      "  5%|▌         | 43/782 [00:01<00:22, 33.44it/s, loss=0.322]\u001b[A\n",
      "  6%|▋         | 49/782 [00:01<00:19, 37.92it/s, loss=0.322]\u001b[A\n",
      "  6%|▋         | 49/782 [00:01<00:19, 37.35it/s, loss=0.321]\u001b[A\n",
      "  6%|▋         | 49/782 [00:01<00:19, 36.88it/s, loss=0.323]\u001b[A\n",
      "  6%|▋         | 49/782 [00:01<00:20, 36.31it/s, loss=0.326]\u001b[A\n",
      "  6%|▋         | 49/782 [00:01<00:20, 35.83it/s, loss=0.326]\u001b[A\n",
      "  6%|▋         | 49/782 [00:01<00:20, 35.24it/s, loss=0.324]\u001b[A\n",
      "  6%|▋         | 49/782 [00:01<00:21, 34.81it/s, loss=0.325]\u001b[A\n",
      "  7%|▋         | 55/782 [00:01<00:18, 38.81it/s, loss=0.325]\u001b[A\n",
      "  7%|▋         | 55/782 [00:01<00:19, 38.26it/s, loss=0.327]\u001b[A\n",
      "  7%|▋         | 55/782 [00:01<00:19, 37.82it/s, loss=0.327]\u001b[A\n",
      "  7%|▋         | 55/782 [00:01<00:19, 37.39it/s, loss=0.325]\u001b[A\n",
      "  7%|▋         | 55/782 [00:01<00:19, 36.79it/s, loss=0.33] \u001b[A\n",
      "  7%|▋         | 55/782 [00:01<00:19, 36.45it/s, loss=0.33]\u001b[A\n",
      "  7%|▋         | 55/782 [00:01<00:20, 36.15it/s, loss=0.328]\u001b[A\n",
      "  8%|▊         | 61/782 [00:01<00:18, 39.86it/s, loss=0.328]\u001b[A\n",
      "  8%|▊         | 61/782 [00:01<00:18, 39.36it/s, loss=0.327]\u001b[A\n",
      "  8%|▊         | 61/782 [00:01<00:18, 38.74it/s, loss=0.327]\u001b[A\n",
      "  8%|▊         | 61/782 [00:01<00:18, 38.30it/s, loss=0.325]\u001b[A\n",
      "  8%|▊         | 61/782 [00:01<00:19, 37.70it/s, loss=0.322]\u001b[A\n",
      "  8%|▊         | 61/782 [00:01<00:19, 37.32it/s, loss=0.323]\u001b[A\n",
      "  8%|▊         | 61/782 [00:01<00:19, 36.92it/s, loss=0.322]\u001b[A\n",
      "  9%|▊         | 67/782 [00:01<00:17, 40.30it/s, loss=0.322]\u001b[A\n",
      "  9%|▊         | 67/782 [00:01<00:17, 39.76it/s, loss=0.319]\u001b[A\n",
      "  9%|▊         | 67/782 [00:01<00:18, 39.16it/s, loss=0.319]\u001b[A\n",
      "  9%|▊         | 67/782 [00:01<00:18, 38.64it/s, loss=0.319]\u001b[A\n",
      "  9%|▊         | 67/782 [00:01<00:18, 38.31it/s, loss=0.318]\u001b[A\n",
      "  9%|▊         | 67/782 [00:01<00:18, 38.04it/s, loss=0.318]\u001b[A\n",
      "  9%|▉         | 72/782 [00:01<00:17, 40.72it/s, loss=0.318]\u001b[A\n",
      "  9%|▉         | 72/782 [00:01<00:17, 40.34it/s, loss=0.317]\u001b[A\n",
      "  9%|▉         | 72/782 [00:01<00:17, 39.99it/s, loss=0.315]\u001b[A\n",
      "  9%|▉         | 72/782 [00:01<00:17, 39.63it/s, loss=0.311]\u001b[A\n",
      "  9%|▉         | 72/782 [00:01<00:18, 39.33it/s, loss=0.309]\u001b[A\n",
      "  9%|▉         | 72/782 [00:01<00:18, 38.80it/s, loss=0.306]\u001b[A\n",
      "  9%|▉         | 72/782 [00:01<00:18, 38.32it/s, loss=0.305]\u001b[A\n",
      " 10%|▉         | 78/782 [00:01<00:17, 41.14it/s, loss=0.305]\u001b[A\n",
      " 10%|▉         | 78/782 [00:01<00:17, 40.92it/s, loss=0.307]\u001b[A\n",
      " 10%|▉         | 78/782 [00:01<00:17, 40.82it/s, loss=0.304]\u001b[A\n",
      " 10%|▉         | 78/782 [00:01<00:17, 40.70it/s, loss=0.304]\u001b[A\n",
      " 10%|▉         | 78/782 [00:01<00:17, 40.58it/s, loss=0.306]\u001b[A\n",
      " 10%|▉         | 78/782 [00:01<00:17, 40.48it/s, loss=0.307]\u001b[A\n",
      " 10%|▉         | 78/782 [00:01<00:17, 40.36it/s, loss=0.304]\u001b[A\n",
      " 10%|▉         | 78/782 [00:01<00:17, 40.25it/s, loss=0.305]\u001b[A\n",
      " 10%|▉         | 78/782 [00:01<00:17, 40.15it/s, loss=0.304]\u001b[A\n",
      " 10%|▉         | 78/782 [00:01<00:17, 40.06it/s, loss=0.304]\u001b[A\n",
      " 10%|▉         | 78/782 [00:01<00:17, 39.94it/s, loss=0.303]\u001b[A\n",
      " 10%|▉         | 78/782 [00:01<00:17, 39.83it/s, loss=0.303]\u001b[A\n",
      " 10%|▉         | 78/782 [00:01<00:17, 39.73it/s, loss=0.302]\u001b[A\n",
      " 10%|▉         | 78/782 [00:01<00:17, 39.62it/s, loss=0.301]\u001b[A\n",
      " 10%|▉         | 78/782 [00:01<00:17, 39.53it/s, loss=0.299]\u001b[A\n",
      " 10%|▉         | 78/782 [00:01<00:17, 39.44it/s, loss=0.301]\u001b[A\n",
      " 10%|▉         | 78/782 [00:01<00:17, 39.33it/s, loss=0.298]\u001b[A\n",
      " 10%|▉         | 78/782 [00:01<00:17, 39.25it/s, loss=0.299]\u001b[A\n",
      " 10%|▉         | 78/782 [00:01<00:17, 39.16it/s, loss=0.303]\u001b[A\n",
      " 10%|▉         | 78/782 [00:01<00:18, 39.08it/s, loss=0.301]\u001b[A\n",
      " 12%|█▏        | 97/782 [00:01<00:14, 48.52it/s, loss=0.301]\u001b[A\n",
      " 12%|█▏        | 97/782 [00:02<00:14, 48.39it/s, loss=0.301]\u001b[A\n",
      " 12%|█▏        | 97/782 [00:02<00:14, 48.29it/s, loss=0.301]\u001b[A\n",
      " 12%|█▏        | 97/782 [00:02<00:14, 48.18it/s, loss=0.3]  \u001b[A\n",
      " 12%|█▏        | 97/782 [00:02<00:14, 48.05it/s, loss=0.301]\u001b[A\n",
      " 12%|█▏        | 97/782 [00:02<00:14, 47.94it/s, loss=0.304]\u001b[A\n",
      " 12%|█▏        | 97/782 [00:02<00:14, 47.83it/s, loss=0.305]\u001b[A\n",
      " 12%|█▏        | 97/782 [00:02<00:14, 47.71it/s, loss=0.302]\u001b[A\n",
      " 12%|█▏        | 97/782 [00:02<00:14, 47.61it/s, loss=0.304]\u001b[A\n",
      " 12%|█▏        | 97/782 [00:02<00:14, 47.51it/s, loss=0.305]\u001b[A\n",
      " 12%|█▏        | 97/782 [00:02<00:14, 47.37it/s, loss=0.302]\u001b[A\n",
      " 12%|█▏        | 97/782 [00:02<00:14, 47.26it/s, loss=0.3]  \u001b[A\n",
      " 12%|█▏        | 97/782 [00:02<00:14, 47.16it/s, loss=0.301]\u001b[A\n",
      " 12%|█▏        | 97/782 [00:02<00:14, 47.06it/s, loss=0.3]  \u001b[A\n",
      " 12%|█▏        | 97/782 [00:02<00:14, 46.95it/s, loss=0.3]\u001b[A\n",
      " 12%|█▏        | 97/782 [00:02<00:14, 46.83it/s, loss=0.301]\u001b[A\n",
      " 12%|█▏        | 97/782 [00:02<00:14, 46.73it/s, loss=0.303]\u001b[A\n",
      " 12%|█▏        | 97/782 [00:02<00:14, 46.63it/s, loss=0.302]\u001b[A\n",
      " 12%|█▏        | 97/782 [00:02<00:14, 46.33it/s, loss=0.299]\u001b[A\n",
      " 12%|█▏        | 97/782 [00:02<00:14, 46.18it/s, loss=0.299]\u001b[A\n",
      " 15%|█▍        | 116/782 [00:02<00:12, 55.13it/s, loss=0.299]\u001b[A\n",
      " 15%|█▍        | 116/782 [00:02<00:12, 54.99it/s, loss=0.302]\u001b[A\n",
      " 15%|█▍        | 116/782 [00:02<00:12, 54.85it/s, loss=0.306]\u001b[A\n",
      " 15%|█▍        | 116/782 [00:02<00:12, 54.70it/s, loss=0.305]\u001b[A\n",
      " 15%|█▍        | 116/782 [00:02<00:12, 54.58it/s, loss=0.301]\u001b[A\n",
      " 15%|█▍        | 116/782 [00:02<00:12, 54.46it/s, loss=0.298]\u001b[A\n",
      " 15%|█▍        | 116/782 [00:02<00:12, 54.32it/s, loss=0.297]\u001b[A\n",
      " 15%|█▍        | 116/782 [00:02<00:12, 54.17it/s, loss=0.296]\u001b[A\n",
      " 15%|█▍        | 116/782 [00:02<00:12, 54.04it/s, loss=0.294]\u001b[A\n",
      " 15%|█▍        | 116/782 [00:02<00:12, 53.89it/s, loss=0.291]\u001b[A\n",
      " 15%|█▍        | 116/782 [00:02<00:12, 53.76it/s, loss=0.295]\u001b[A\n",
      " 15%|█▍        | 116/782 [00:02<00:12, 53.63it/s, loss=0.293]\u001b[A\n",
      " 15%|█▍        | 116/782 [00:02<00:12, 53.49it/s, loss=0.29] \u001b[A\n",
      " 15%|█▍        | 116/782 [00:02<00:12, 53.35it/s, loss=0.291]\u001b[A\n",
      " 15%|█▍        | 116/782 [00:02<00:12, 53.23it/s, loss=0.289]\u001b[A\n",
      " 15%|█▍        | 116/782 [00:02<00:12, 53.11it/s, loss=0.288]\u001b[A\n",
      " 15%|█▍        | 116/782 [00:02<00:12, 52.98it/s, loss=0.29] \u001b[A\n",
      " 15%|█▍        | 116/782 [00:02<00:12, 52.87it/s, loss=0.29]\u001b[A\n",
      " 15%|█▍        | 116/782 [00:02<00:12, 52.76it/s, loss=0.289]\u001b[A\n",
      " 15%|█▍        | 116/782 [00:02<00:12, 52.61it/s, loss=0.288]\u001b[A\n",
      " 17%|█▋        | 135/782 [00:02<00:10, 61.16it/s, loss=0.288]\u001b[A\n",
      " 17%|█▋        | 135/782 [00:02<00:10, 61.03it/s, loss=0.288]\u001b[A\n",
      " 17%|█▋        | 135/782 [00:02<00:10, 60.89it/s, loss=0.289]\u001b[A\n",
      " 17%|█▋        | 135/782 [00:02<00:10, 60.76it/s, loss=0.292]\u001b[A\n",
      " 17%|█▋        | 135/782 [00:02<00:10, 60.60it/s, loss=0.295]\u001b[A\n",
      " 17%|█▋        | 135/782 [00:02<00:10, 60.46it/s, loss=0.295]\u001b[A\n",
      " 17%|█▋        | 135/782 [00:02<00:10, 60.32it/s, loss=0.292]\u001b[A\n",
      " 17%|█▋        | 135/782 [00:02<00:10, 60.19it/s, loss=0.291]\u001b[A\n",
      " 17%|█▋        | 135/782 [00:02<00:10, 60.09it/s, loss=0.291]\u001b[A\n",
      " 17%|█▋        | 135/782 [00:02<00:10, 59.95it/s, loss=0.292]\u001b[A\n",
      " 17%|█▋        | 135/782 [00:02<00:10, 59.83it/s, loss=0.291]\u001b[A\n",
      " 17%|█▋        | 135/782 [00:02<00:10, 59.72it/s, loss=0.294]\u001b[A\n"
     ]
    },
    {
     "name": "stdout",
     "output_type": "stream",
     "text": [
      " 17%|█▋        | 135/782 [00:02<00:10, 59.60it/s, loss=0.294]\u001b[A\n",
      " 17%|█▋        | 135/782 [00:02<00:10, 59.44it/s, loss=0.291]\u001b[A\n",
      " 17%|█▋        | 135/782 [00:02<00:10, 59.33it/s, loss=0.293]\u001b[A\n",
      " 17%|█▋        | 135/782 [00:02<00:10, 59.22it/s, loss=0.297]\u001b[A\n",
      " 17%|█▋        | 135/782 [00:02<00:10, 59.08it/s, loss=0.3]  \u001b[A\n",
      " 17%|█▋        | 135/782 [00:02<00:10, 58.96it/s, loss=0.298]\u001b[A\n",
      " 17%|█▋        | 135/782 [00:02<00:10, 58.84it/s, loss=0.295]\u001b[A\n",
      " 17%|█▋        | 135/782 [00:02<00:11, 58.51it/s, loss=0.293]\u001b[A\n",
      " 20%|█▉        | 154/782 [00:02<00:09, 66.68it/s, loss=0.293]\u001b[A\n",
      " 20%|█▉        | 154/782 [00:02<00:09, 66.52it/s, loss=0.292]\u001b[A\n",
      " 20%|█▉        | 154/782 [00:02<00:09, 66.29it/s, loss=0.289]\u001b[A\n",
      " 20%|█▉        | 154/782 [00:02<00:09, 66.14it/s, loss=0.29] \u001b[A\n",
      " 20%|█▉        | 154/782 [00:02<00:09, 65.97it/s, loss=0.292]\u001b[A\n",
      " 20%|█▉        | 154/782 [00:02<00:09, 65.82it/s, loss=0.289]\u001b[A\n",
      " 20%|█▉        | 154/782 [00:02<00:09, 65.69it/s, loss=0.289]\u001b[A\n",
      " 20%|█▉        | 154/782 [00:02<00:09, 65.54it/s, loss=0.289]\u001b[A\n",
      " 20%|█▉        | 154/782 [00:02<00:09, 65.38it/s, loss=0.29] \u001b[A\n",
      " 20%|█▉        | 154/782 [00:02<00:09, 65.24it/s, loss=0.287]\u001b[A\n",
      " 20%|█▉        | 154/782 [00:02<00:09, 65.12it/s, loss=0.284]\u001b[A\n",
      " 20%|█▉        | 154/782 [00:02<00:09, 64.95it/s, loss=0.284]\u001b[A\n",
      " 20%|█▉        | 154/782 [00:02<00:09, 64.82it/s, loss=0.285]\u001b[A\n",
      " 20%|█▉        | 154/782 [00:02<00:09, 64.68it/s, loss=0.285]\u001b[A\n",
      " 20%|█▉        | 154/782 [00:02<00:09, 64.53it/s, loss=0.282]\u001b[A\n",
      " 20%|█▉        | 154/782 [00:02<00:09, 64.41it/s, loss=0.282]\u001b[A\n",
      " 20%|█▉        | 154/782 [00:02<00:09, 64.29it/s, loss=0.283]\u001b[A\n",
      " 20%|█▉        | 154/782 [00:02<00:09, 64.17it/s, loss=0.285]\u001b[A\n",
      " 20%|█▉        | 154/782 [00:02<00:09, 64.04it/s, loss=0.284]\u001b[A\n",
      " 20%|█▉        | 154/782 [00:02<00:09, 63.91it/s, loss=0.283]\u001b[A\n",
      " 22%|██▏       | 173/782 [00:02<00:08, 71.73it/s, loss=0.283]\u001b[A\n",
      " 22%|██▏       | 173/782 [00:02<00:08, 71.57it/s, loss=0.283]\u001b[A\n",
      " 22%|██▏       | 173/782 [00:02<00:08, 71.43it/s, loss=0.282]\u001b[A\n",
      " 22%|██▏       | 173/782 [00:02<00:08, 71.30it/s, loss=0.279]\u001b[A\n",
      " 22%|██▏       | 173/782 [00:02<00:08, 71.16it/s, loss=0.281]\u001b[A\n",
      " 22%|██▏       | 173/782 [00:02<00:08, 70.98it/s, loss=0.283]\u001b[A\n",
      " 22%|██▏       | 173/782 [00:02<00:08, 70.86it/s, loss=0.285]\u001b[A\n",
      " 22%|██▏       | 173/782 [00:02<00:08, 70.73it/s, loss=0.284]\u001b[A\n",
      " 22%|██▏       | 173/782 [00:02<00:08, 70.58it/s, loss=0.283]\u001b[A\n",
      " 22%|██▏       | 173/782 [00:02<00:08, 70.43it/s, loss=0.285]\u001b[A\n",
      " 22%|██▏       | 173/782 [00:02<00:08, 70.30it/s, loss=0.284]\u001b[A\n",
      " 22%|██▏       | 173/782 [00:02<00:08, 70.16it/s, loss=0.289]\u001b[A\n",
      " 22%|██▏       | 173/782 [00:02<00:08, 70.02it/s, loss=0.293]\u001b[A\n",
      " 22%|██▏       | 173/782 [00:02<00:08, 69.89it/s, loss=0.29] \u001b[A\n",
      " 22%|██▏       | 173/782 [00:02<00:08, 69.76it/s, loss=0.288]\u001b[A\n",
      " 22%|██▏       | 173/782 [00:02<00:08, 69.62it/s, loss=0.286]\u001b[A\n",
      " 22%|██▏       | 173/782 [00:02<00:08, 69.26it/s, loss=0.29] \u001b[A\n",
      " 22%|██▏       | 173/782 [00:02<00:08, 69.04it/s, loss=0.292]\u001b[A\n",
      " 22%|██▏       | 173/782 [00:02<00:08, 68.90it/s, loss=0.292]\u001b[A\n",
      " 24%|██▍       | 191/782 [00:02<00:08, 71.21it/s, loss=0.292]\u001b[A\n",
      " 24%|██▍       | 191/782 [00:02<00:08, 70.65it/s, loss=0.297]\u001b[A\n",
      " 24%|██▍       | 191/782 [00:02<00:08, 69.71it/s, loss=0.3]  \u001b[A\n",
      " 24%|██▍       | 191/782 [00:02<00:08, 69.60it/s, loss=0.3]\u001b[A\n",
      " 24%|██▍       | 191/782 [00:02<00:08, 69.48it/s, loss=0.304]\u001b[A\n",
      " 24%|██▍       | 191/782 [00:02<00:08, 69.35it/s, loss=0.306]\u001b[A\n",
      " 24%|██▍       | 191/782 [00:02<00:08, 69.24it/s, loss=0.302]\u001b[A\n",
      " 24%|██▍       | 191/782 [00:02<00:08, 69.10it/s, loss=0.301]\u001b[A\n",
      " 24%|██▍       | 191/782 [00:02<00:08, 68.98it/s, loss=0.3]  \u001b[A\n",
      " 24%|██▍       | 191/782 [00:02<00:08, 68.87it/s, loss=0.301]\u001b[A\n",
      " 24%|██▍       | 191/782 [00:02<00:08, 68.75it/s, loss=0.301]\u001b[A\n",
      " 24%|██▍       | 191/782 [00:02<00:08, 68.65it/s, loss=0.301]\u001b[A\n",
      " 24%|██▍       | 191/782 [00:02<00:08, 68.35it/s, loss=0.302]\u001b[A\n",
      " 24%|██▍       | 191/782 [00:02<00:08, 68.24it/s, loss=0.302]\u001b[A\n",
      " 24%|██▍       | 191/782 [00:02<00:08, 67.99it/s, loss=0.3]  \u001b[A\n",
      " 24%|██▍       | 191/782 [00:02<00:08, 67.86it/s, loss=0.298]\u001b[A\n",
      " 24%|██▍       | 191/782 [00:02<00:08, 67.69it/s, loss=0.299]\u001b[A\n",
      " 24%|██▍       | 191/782 [00:02<00:08, 67.53it/s, loss=0.296]\u001b[A\n",
      " 27%|██▋       | 208/782 [00:02<00:07, 73.46it/s, loss=0.296]\u001b[A\n",
      " 27%|██▋       | 208/782 [00:02<00:07, 73.31it/s, loss=0.296]\u001b[A\n",
      " 27%|██▋       | 208/782 [00:02<00:07, 73.16it/s, loss=0.294]\u001b[A\n",
      " 27%|██▋       | 208/782 [00:02<00:07, 73.01it/s, loss=0.292]\u001b[A\n",
      " 27%|██▋       | 208/782 [00:02<00:07, 72.86it/s, loss=0.292]\u001b[A\n",
      " 27%|██▋       | 208/782 [00:02<00:07, 72.72it/s, loss=0.293]\u001b[A\n",
      " 27%|██▋       | 208/782 [00:02<00:07, 72.59it/s, loss=0.299]\u001b[A\n",
      " 27%|██▋       | 208/782 [00:02<00:07, 72.43it/s, loss=0.3]  \u001b[A\n",
      " 27%|██▋       | 208/782 [00:02<00:07, 72.29it/s, loss=0.3]\u001b[A\n",
      " 27%|██▋       | 208/782 [00:02<00:07, 72.16it/s, loss=0.3]\u001b[A\n",
      " 27%|██▋       | 208/782 [00:02<00:07, 72.04it/s, loss=0.296]\u001b[A\n",
      " 27%|██▋       | 208/782 [00:02<00:07, 71.90it/s, loss=0.297]\u001b[A\n",
      " 27%|██▋       | 208/782 [00:02<00:07, 71.78it/s, loss=0.297]\u001b[A\n",
      " 27%|██▋       | 208/782 [00:02<00:08, 71.66it/s, loss=0.293]\u001b[A\n",
      " 27%|██▋       | 208/782 [00:02<00:08, 71.53it/s, loss=0.291]\u001b[A\n",
      " 27%|██▋       | 208/782 [00:02<00:08, 71.42it/s, loss=0.291]\u001b[A\n",
      " 27%|██▋       | 208/782 [00:02<00:08, 71.28it/s, loss=0.292]\u001b[A\n",
      " 27%|██▋       | 208/782 [00:02<00:08, 71.13it/s, loss=0.295]\u001b[A\n",
      " 27%|██▋       | 208/782 [00:02<00:08, 71.03it/s, loss=0.298]\u001b[A\n",
      " 29%|██▉       | 226/782 [00:02<00:07, 77.08it/s, loss=0.298]\u001b[A\n",
      " 29%|██▉       | 226/782 [00:02<00:07, 76.96it/s, loss=0.299]\u001b[A\n",
      " 29%|██▉       | 226/782 [00:02<00:07, 76.83it/s, loss=0.301]\u001b[A\n",
      " 29%|██▉       | 226/782 [00:02<00:07, 76.71it/s, loss=0.299]\u001b[A\n",
      " 29%|██▉       | 226/782 [00:02<00:07, 76.57it/s, loss=0.297]\u001b[A\n",
      " 29%|██▉       | 226/782 [00:02<00:07, 76.27it/s, loss=0.299]\u001b[A\n",
      " 29%|██▉       | 226/782 [00:02<00:07, 76.09it/s, loss=0.3]  \u001b[A\n",
      " 29%|██▉       | 226/782 [00:02<00:07, 75.92it/s, loss=0.3]\u001b[A\n",
      " 29%|██▉       | 226/782 [00:02<00:07, 75.77it/s, loss=0.304]\u001b[A\n",
      " 29%|██▉       | 226/782 [00:02<00:07, 75.62it/s, loss=0.306]\u001b[A\n",
      " 29%|██▉       | 226/782 [00:02<00:07, 75.50it/s, loss=0.309]\u001b[A\n",
      " 29%|██▉       | 226/782 [00:02<00:07, 75.36it/s, loss=0.31] \u001b[A\n",
      " 29%|██▉       | 226/782 [00:03<00:07, 75.23it/s, loss=0.312]\u001b[A\n",
      " 29%|██▉       | 226/782 [00:03<00:07, 75.11it/s, loss=0.31] \u001b[A\n",
      " 29%|██▉       | 226/782 [00:03<00:07, 74.94it/s, loss=0.313]\u001b[A\n",
      " 29%|██▉       | 226/782 [00:03<00:07, 74.82it/s, loss=0.313]\u001b[A\n",
      " 29%|██▉       | 226/782 [00:03<00:07, 74.71it/s, loss=0.312]\u001b[A\n",
      " 29%|██▉       | 226/782 [00:03<00:07, 74.59it/s, loss=0.311]\u001b[A\n",
      " 31%|███       | 243/782 [00:03<00:06, 80.13it/s, loss=0.311]\u001b[A\n",
      " 31%|███       | 243/782 [00:03<00:06, 79.98it/s, loss=0.309]\u001b[A\n",
      " 31%|███       | 243/782 [00:03<00:06, 79.85it/s, loss=0.313]\u001b[A\n",
      " 31%|███       | 243/782 [00:03<00:06, 79.73it/s, loss=0.314]\u001b[A\n",
      " 31%|███       | 243/782 [00:03<00:06, 79.62it/s, loss=0.318]\u001b[A\n",
      " 31%|███       | 243/782 [00:03<00:06, 79.46it/s, loss=0.317]\u001b[A\n",
      " 31%|███       | 243/782 [00:03<00:06, 79.32it/s, loss=0.317]\u001b[A\n",
      " 31%|███       | 243/782 [00:03<00:06, 79.18it/s, loss=0.318]\u001b[A\n",
      " 31%|███       | 243/782 [00:03<00:06, 79.07it/s, loss=0.314]\u001b[A\n",
      " 31%|███       | 243/782 [00:03<00:06, 78.95it/s, loss=0.312]\u001b[A\n",
      " 31%|███       | 243/782 [00:03<00:06, 78.82it/s, loss=0.311]\u001b[A\n",
      " 31%|███       | 243/782 [00:03<00:06, 78.71it/s, loss=0.311]\u001b[A\n",
      " 31%|███       | 243/782 [00:03<00:06, 78.60it/s, loss=0.316]\u001b[A\n",
      " 31%|███       | 243/782 [00:03<00:06, 78.48it/s, loss=0.313]\u001b[A\n",
      " 31%|███       | 243/782 [00:03<00:06, 78.36it/s, loss=0.316]\u001b[A\n",
      " 31%|███       | 243/782 [00:03<00:06, 78.24it/s, loss=0.316]\u001b[A\n",
      " 31%|███       | 243/782 [00:03<00:06, 77.81it/s, loss=0.318]\u001b[A\n",
      " 31%|███       | 243/782 [00:03<00:06, 77.68it/s, loss=0.316]\u001b[A\n",
      " 31%|███       | 243/782 [00:03<00:06, 77.53it/s, loss=0.313]\u001b[A\n",
      " 33%|███▎      | 261/782 [00:03<00:06, 83.20it/s, loss=0.313]\u001b[A\n",
      " 33%|███▎      | 261/782 [00:03<00:06, 83.07it/s, loss=0.311]\u001b[A\n",
      " 33%|███▎      | 261/782 [00:03<00:06, 82.93it/s, loss=0.31] \u001b[A\n",
      " 33%|███▎      | 261/782 [00:03<00:06, 82.76it/s, loss=0.309]\u001b[A\n",
      " 33%|███▎      | 261/782 [00:03<00:06, 82.63it/s, loss=0.309]\u001b[A\n"
     ]
    },
    {
     "name": "stdout",
     "output_type": "stream",
     "text": [
      " 33%|███▎      | 261/782 [00:03<00:06, 82.48it/s, loss=0.308]\u001b[A\n",
      " 33%|███▎      | 261/782 [00:03<00:06, 82.32it/s, loss=0.307]\u001b[A\n",
      " 33%|███▎      | 261/782 [00:03<00:06, 82.20it/s, loss=0.305]\u001b[A\n",
      " 33%|███▎      | 261/782 [00:03<00:06, 82.06it/s, loss=0.303]\u001b[A\n",
      " 33%|███▎      | 261/782 [00:03<00:06, 81.92it/s, loss=0.313]\u001b[A\n",
      " 33%|███▎      | 261/782 [00:03<00:06, 80.35it/s, loss=0.311]\u001b[A\n",
      " 33%|███▎      | 261/782 [00:03<00:06, 80.23it/s, loss=0.311]\u001b[A\n",
      " 33%|███▎      | 261/782 [00:03<00:06, 80.11it/s, loss=0.313]\u001b[A\n",
      " 33%|███▎      | 261/782 [00:03<00:06, 80.01it/s, loss=0.312]\u001b[A\n",
      " 33%|███▎      | 261/782 [00:03<00:06, 79.88it/s, loss=0.31] \u001b[A\n",
      " 33%|███▎      | 261/782 [00:03<00:06, 79.54it/s, loss=0.309]\u001b[A\n",
      " 33%|███▎      | 261/782 [00:03<00:06, 79.37it/s, loss=0.308]\u001b[A\n",
      " 35%|███▌      | 277/782 [00:03<00:06, 84.16it/s, loss=0.308]\u001b[A\n",
      " 35%|███▌      | 277/782 [00:03<00:06, 84.02it/s, loss=0.305]\u001b[A\n",
      " 35%|███▌      | 277/782 [00:03<00:06, 83.87it/s, loss=0.305]\u001b[A\n",
      " 35%|███▌      | 277/782 [00:03<00:06, 83.73it/s, loss=0.303]\u001b[A\n",
      " 35%|███▌      | 277/782 [00:03<00:06, 83.59it/s, loss=0.303]\u001b[A\n",
      " 35%|███▌      | 277/782 [00:03<00:06, 83.45it/s, loss=0.303]\u001b[A\n",
      " 35%|███▌      | 277/782 [00:03<00:06, 83.31it/s, loss=0.301]\u001b[A\n",
      " 35%|███▌      | 277/782 [00:03<00:06, 83.15it/s, loss=0.303]\u001b[A\n",
      " 35%|███▌      | 277/782 [00:03<00:06, 83.01it/s, loss=0.303]\u001b[A\n",
      " 35%|███▌      | 277/782 [00:03<00:06, 82.89it/s, loss=0.3]  \u001b[A\n",
      " 35%|███▌      | 277/782 [00:03<00:06, 82.74it/s, loss=0.303]\u001b[A\n",
      " 35%|███▌      | 277/782 [00:03<00:06, 82.62it/s, loss=0.302]\u001b[A\n",
      " 35%|███▌      | 277/782 [00:03<00:06, 82.49it/s, loss=0.302]\u001b[A\n",
      " 35%|███▌      | 277/782 [00:03<00:06, 82.33it/s, loss=0.301]\u001b[A\n",
      " 35%|███▌      | 277/782 [00:03<00:06, 82.22it/s, loss=0.298]\u001b[A\n",
      " 35%|███▌      | 277/782 [00:03<00:06, 82.11it/s, loss=0.298]\u001b[A\n",
      " 35%|███▌      | 277/782 [00:03<00:06, 82.00it/s, loss=0.298]\u001b[A\n",
      " 35%|███▌      | 277/782 [00:03<00:06, 81.89it/s, loss=0.296]\u001b[A\n",
      " 35%|███▌      | 277/782 [00:03<00:06, 81.78it/s, loss=0.3]  \u001b[A\n",
      " 35%|███▌      | 277/782 [00:03<00:06, 81.67it/s, loss=0.301]\u001b[A\n",
      " 38%|███▊      | 296/782 [00:03<00:05, 87.21it/s, loss=0.301]\u001b[A\n",
      " 38%|███▊      | 296/782 [00:03<00:05, 87.09it/s, loss=0.302]\u001b[A\n",
      " 38%|███▊      | 296/782 [00:03<00:05, 86.96it/s, loss=0.302]\u001b[A\n",
      " 38%|███▊      | 296/782 [00:03<00:05, 86.86it/s, loss=0.305]\u001b[A\n",
      " 38%|███▊      | 296/782 [00:03<00:05, 86.75it/s, loss=0.304]\u001b[A\n",
      " 38%|███▊      | 296/782 [00:03<00:05, 86.63it/s, loss=0.303]\u001b[A\n",
      " 38%|███▊      | 296/782 [00:03<00:05, 86.51it/s, loss=0.3]  \u001b[A\n",
      " 38%|███▊      | 296/782 [00:03<00:05, 86.39it/s, loss=0.303]\u001b[A\n",
      " 38%|███▊      | 296/782 [00:03<00:05, 86.26it/s, loss=0.306]\u001b[A\n",
      " 38%|███▊      | 296/782 [00:03<00:05, 86.11it/s, loss=0.305]\u001b[A\n",
      " 38%|███▊      | 296/782 [00:03<00:05, 86.00it/s, loss=0.308]\u001b[A\n",
      " 38%|███▊      | 296/782 [00:03<00:05, 85.89it/s, loss=0.308]\u001b[A\n",
      " 38%|███▊      | 296/782 [00:03<00:05, 85.76it/s, loss=0.307]\u001b[A\n",
      " 38%|███▊      | 296/782 [00:03<00:05, 85.65it/s, loss=0.306]\u001b[A\n",
      " 38%|███▊      | 296/782 [00:03<00:05, 85.37it/s, loss=0.302]\u001b[A\n",
      " 38%|███▊      | 296/782 [00:03<00:05, 85.17it/s, loss=0.301]\u001b[A\n",
      " 38%|███▊      | 296/782 [00:03<00:05, 85.03it/s, loss=0.299]\u001b[A\n",
      " 38%|███▊      | 296/782 [00:03<00:05, 84.91it/s, loss=0.298]\u001b[A\n",
      " 38%|███▊      | 296/782 [00:03<00:05, 84.78it/s, loss=0.296]\u001b[A\n",
      " 38%|███▊      | 296/782 [00:03<00:05, 84.67it/s, loss=0.299]\u001b[A\n",
      " 40%|████      | 315/782 [00:03<00:05, 90.00it/s, loss=0.299]\u001b[A\n",
      " 40%|████      | 315/782 [00:03<00:05, 89.87it/s, loss=0.298]\u001b[A\n",
      " 40%|████      | 315/782 [00:03<00:05, 89.74it/s, loss=0.299]\u001b[A\n",
      " 40%|████      | 315/782 [00:03<00:05, 89.58it/s, loss=0.3]  \u001b[A\n",
      " 40%|████      | 315/782 [00:03<00:05, 89.43it/s, loss=0.304]\u001b[A\n",
      " 40%|████      | 315/782 [00:03<00:05, 89.31it/s, loss=0.304]\u001b[A\n",
      " 40%|████      | 315/782 [00:03<00:05, 89.17it/s, loss=0.303]\u001b[A\n",
      " 40%|████      | 315/782 [00:03<00:05, 88.98it/s, loss=0.303]\u001b[A\n",
      " 40%|████      | 315/782 [00:03<00:05, 88.83it/s, loss=0.306]\u001b[A\n",
      " 40%|████      | 315/782 [00:03<00:05, 88.69it/s, loss=0.305]\u001b[A\n",
      " 40%|████      | 315/782 [00:03<00:05, 88.55it/s, loss=0.305]\u001b[A\n",
      " 40%|████      | 315/782 [00:03<00:05, 88.40it/s, loss=0.304]\u001b[A\n",
      " 40%|████      | 315/782 [00:03<00:05, 88.26it/s, loss=0.308]\u001b[A\n",
      " 40%|████      | 315/782 [00:03<00:05, 88.15it/s, loss=0.31] \u001b[A\n",
      " 40%|████      | 315/782 [00:03<00:05, 88.03it/s, loss=0.309]\u001b[A\n",
      " 40%|████      | 315/782 [00:03<00:05, 87.88it/s, loss=0.313]\u001b[A\n",
      " 40%|████      | 315/782 [00:03<00:05, 87.76it/s, loss=0.312]\u001b[A\n",
      " 40%|████      | 315/782 [00:03<00:05, 87.64it/s, loss=0.314]\u001b[A\n",
      " 40%|████      | 315/782 [00:03<00:05, 87.51it/s, loss=0.312]\u001b[A\n",
      " 43%|████▎     | 333/782 [00:03<00:04, 92.44it/s, loss=0.312]\u001b[A\n",
      " 43%|████▎     | 333/782 [00:03<00:04, 92.33it/s, loss=0.313]\u001b[A\n",
      " 43%|████▎     | 333/782 [00:03<00:04, 92.23it/s, loss=0.316]\u001b[A\n",
      " 43%|████▎     | 333/782 [00:03<00:04, 92.11it/s, loss=0.315]\u001b[A\n",
      " 43%|████▎     | 333/782 [00:03<00:04, 91.99it/s, loss=0.313]\u001b[A\n",
      " 43%|████▎     | 333/782 [00:03<00:04, 91.88it/s, loss=0.312]\u001b[A\n",
      " 43%|████▎     | 333/782 [00:03<00:04, 91.78it/s, loss=0.308]\u001b[A\n",
      " 43%|████▎     | 333/782 [00:03<00:04, 91.65it/s, loss=0.308]\u001b[A\n",
      " 43%|████▎     | 333/782 [00:03<00:04, 91.54it/s, loss=0.306]\u001b[A\n",
      " 43%|████▎     | 333/782 [00:03<00:04, 91.42it/s, loss=0.306]\u001b[A\n",
      " 43%|████▎     | 333/782 [00:03<00:04, 91.30it/s, loss=0.306]\u001b[A\n",
      " 43%|████▎     | 333/782 [00:03<00:04, 91.04it/s, loss=0.304]\u001b[A\n",
      " 43%|████▎     | 333/782 [00:03<00:04, 90.90it/s, loss=0.305]\u001b[A\n",
      " 43%|████▎     | 333/782 [00:03<00:04, 90.74it/s, loss=0.307]\u001b[A\n",
      " 43%|████▎     | 333/782 [00:03<00:04, 90.57it/s, loss=0.308]\u001b[A\n",
      " 43%|████▎     | 333/782 [00:03<00:04, 90.41it/s, loss=0.309]\u001b[A\n",
      " 43%|████▎     | 333/782 [00:03<00:04, 90.28it/s, loss=0.314]\u001b[A\n",
      " 43%|████▎     | 333/782 [00:03<00:05, 87.61it/s, loss=0.317]\u001b[A\n",
      " 45%|████▍     | 350/782 [00:03<00:04, 91.97it/s, loss=0.317]\u001b[A\n",
      " 45%|████▍     | 350/782 [00:03<00:04, 91.87it/s, loss=0.317]\u001b[A\n",
      " 45%|████▍     | 350/782 [00:03<00:04, 91.52it/s, loss=0.316]\u001b[A\n",
      " 45%|████▍     | 350/782 [00:03<00:04, 91.34it/s, loss=0.313]\u001b[A\n",
      " 45%|████▍     | 350/782 [00:03<00:04, 91.09it/s, loss=0.314]\u001b[A\n",
      " 45%|████▍     | 350/782 [00:03<00:04, 90.97it/s, loss=0.312]\u001b[A\n",
      " 45%|████▍     | 350/782 [00:03<00:04, 90.81it/s, loss=0.311]\u001b[A\n",
      " 45%|████▍     | 350/782 [00:03<00:04, 90.69it/s, loss=0.31] \u001b[A\n",
      " 45%|████▍     | 350/782 [00:03<00:04, 90.56it/s, loss=0.307]\u001b[A\n",
      " 45%|████▍     | 350/782 [00:03<00:04, 90.42it/s, loss=0.307]\u001b[A\n",
      " 45%|████▍     | 350/782 [00:03<00:04, 90.26it/s, loss=0.309]\u001b[A\n",
      " 45%|████▍     | 350/782 [00:03<00:04, 90.14it/s, loss=0.309]\u001b[A\n",
      " 45%|████▍     | 350/782 [00:03<00:04, 90.00it/s, loss=0.31] \u001b[A\n",
      " 45%|████▍     | 350/782 [00:03<00:04, 89.87it/s, loss=0.308]\u001b[A\n",
      " 45%|████▍     | 350/782 [00:03<00:04, 89.76it/s, loss=0.309]\u001b[A\n",
      " 45%|████▍     | 350/782 [00:03<00:04, 89.65it/s, loss=0.305]\u001b[A\n",
      " 47%|████▋     | 365/782 [00:03<00:04, 93.43it/s, loss=0.305]\u001b[A\n",
      " 47%|████▋     | 365/782 [00:03<00:04, 93.31it/s, loss=0.303]\u001b[A\n",
      " 47%|████▋     | 365/782 [00:03<00:04, 93.17it/s, loss=0.304]\u001b[A\n",
      " 47%|████▋     | 365/782 [00:03<00:04, 93.05it/s, loss=0.306]\u001b[A\n",
      " 47%|████▋     | 365/782 [00:03<00:04, 92.94it/s, loss=0.308]\u001b[A\n",
      " 47%|████▋     | 365/782 [00:03<00:04, 92.81it/s, loss=0.305]\u001b[A\n",
      " 47%|████▋     | 365/782 [00:03<00:04, 92.69it/s, loss=0.303]\u001b[A\n",
      " 47%|████▋     | 365/782 [00:03<00:04, 92.58it/s, loss=0.304]\u001b[A\n",
      " 47%|████▋     | 365/782 [00:03<00:04, 92.44it/s, loss=0.308]\u001b[A\n",
      " 47%|████▋     | 365/782 [00:03<00:04, 92.35it/s, loss=0.309]\u001b[A\n",
      " 47%|████▋     | 365/782 [00:03<00:04, 92.22it/s, loss=0.311]\u001b[A\n",
      " 47%|████▋     | 365/782 [00:03<00:04, 92.12it/s, loss=0.31] \u001b[A\n",
      " 47%|████▋     | 365/782 [00:03<00:04, 92.00it/s, loss=0.309]\u001b[A\n",
      " 47%|████▋     | 365/782 [00:03<00:04, 91.88it/s, loss=0.306]\u001b[A\n",
      " 47%|████▋     | 365/782 [00:03<00:04, 91.77it/s, loss=0.304]\u001b[A\n",
      " 47%|████▋     | 365/782 [00:03<00:04, 91.66it/s, loss=0.303]\u001b[A\n",
      " 47%|████▋     | 365/782 [00:03<00:04, 91.54it/s, loss=0.302]\u001b[A\n",
      " 47%|████▋     | 365/782 [00:03<00:04, 91.44it/s, loss=0.305]\u001b[A\n",
      " 47%|████▋     | 365/782 [00:03<00:04, 91.34it/s, loss=0.303]\u001b[A\n",
      " 47%|████▋     | 365/782 [00:04<00:04, 91.04it/s, loss=0.303]\u001b[A\n",
      " 49%|████▉     | 384/782 [00:04<00:04, 95.70it/s, loss=0.303]\u001b[A\n"
     ]
    },
    {
     "name": "stdout",
     "output_type": "stream",
     "text": [
      " 49%|████▉     | 384/782 [00:04<00:04, 95.58it/s, loss=0.305]\u001b[A\n",
      " 49%|████▉     | 384/782 [00:04<00:04, 95.39it/s, loss=0.306]\u001b[A\n",
      " 49%|████▉     | 384/782 [00:04<00:04, 95.27it/s, loss=0.306]\u001b[A\n",
      " 49%|████▉     | 384/782 [00:04<00:04, 95.14it/s, loss=0.306]\u001b[A\n",
      " 49%|████▉     | 384/782 [00:04<00:04, 95.01it/s, loss=0.309]\u001b[A\n",
      " 49%|████▉     | 384/782 [00:04<00:04, 94.90it/s, loss=0.31] \u001b[A\n",
      " 49%|████▉     | 384/782 [00:04<00:04, 94.76it/s, loss=0.309]\u001b[A\n",
      " 49%|████▉     | 384/782 [00:04<00:04, 94.64it/s, loss=0.308]\u001b[A\n",
      " 49%|████▉     | 384/782 [00:04<00:04, 94.53it/s, loss=0.307]\u001b[A\n",
      " 49%|████▉     | 384/782 [00:04<00:04, 94.36it/s, loss=0.305]\u001b[A\n",
      " 49%|████▉     | 384/782 [00:04<00:04, 94.25it/s, loss=0.306]\u001b[A\n",
      " 49%|████▉     | 384/782 [00:04<00:04, 94.15it/s, loss=0.304]\u001b[A\n",
      " 49%|████▉     | 384/782 [00:04<00:04, 94.04it/s, loss=0.308]\u001b[A\n",
      " 49%|████▉     | 384/782 [00:04<00:04, 93.93it/s, loss=0.309]\u001b[A\n",
      " 49%|████▉     | 384/782 [00:04<00:04, 93.83it/s, loss=0.309]\u001b[A\n",
      " 49%|████▉     | 384/782 [00:04<00:04, 93.72it/s, loss=0.307]\u001b[A\n",
      " 49%|████▉     | 384/782 [00:04<00:04, 93.62it/s, loss=0.306]\u001b[A\n",
      " 49%|████▉     | 384/782 [00:04<00:04, 93.52it/s, loss=0.305]\u001b[A\n",
      " 49%|████▉     | 384/782 [00:04<00:04, 93.41it/s, loss=0.303]\u001b[A\n",
      " 52%|█████▏    | 403/782 [00:04<00:03, 97.98it/s, loss=0.303]\u001b[A\n",
      " 52%|█████▏    | 403/782 [00:04<00:03, 97.86it/s, loss=0.305]\u001b[A\n",
      " 52%|█████▏    | 403/782 [00:04<00:03, 97.74it/s, loss=0.311]\u001b[A\n",
      " 52%|█████▏    | 403/782 [00:04<00:03, 97.64it/s, loss=0.311]\u001b[A\n",
      " 52%|█████▏    | 403/782 [00:04<00:03, 97.53it/s, loss=0.31] \u001b[A\n",
      " 52%|█████▏    | 403/782 [00:04<00:03, 97.42it/s, loss=0.308]\u001b[A\n",
      " 52%|█████▏    | 403/782 [00:04<00:03, 97.31it/s, loss=0.307]\u001b[A\n",
      " 52%|█████▏    | 403/782 [00:04<00:03, 97.21it/s, loss=0.306]\u001b[A\n",
      " 52%|█████▏    | 403/782 [00:04<00:03, 97.10it/s, loss=0.303]\u001b[A\n",
      " 52%|█████▏    | 403/782 [00:04<00:03, 96.98it/s, loss=0.305]\u001b[A\n",
      " 52%|█████▏    | 403/782 [00:04<00:03, 96.69it/s, loss=0.309]\u001b[A\n",
      " 52%|█████▏    | 403/782 [00:04<00:03, 96.49it/s, loss=0.308]\u001b[A\n",
      " 52%|█████▏    | 403/782 [00:04<00:03, 96.32it/s, loss=0.308]\u001b[A\n",
      " 52%|█████▏    | 403/782 [00:04<00:03, 96.16it/s, loss=0.309]\u001b[A\n",
      " 52%|█████▏    | 403/782 [00:04<00:03, 96.02it/s, loss=0.307]\u001b[A\n",
      " 52%|█████▏    | 403/782 [00:04<00:03, 95.89it/s, loss=0.308]\u001b[A\n",
      " 52%|█████▏    | 403/782 [00:04<00:03, 95.76it/s, loss=0.306]\u001b[A\n",
      " 52%|█████▏    | 403/782 [00:04<00:03, 95.63it/s, loss=0.306]\u001b[A\n",
      " 54%|█████▎    | 420/782 [00:04<00:03, 99.60it/s, loss=0.306]\u001b[A\n",
      " 54%|█████▎    | 420/782 [00:04<00:03, 99.44it/s, loss=0.305]\u001b[A\n",
      " 54%|█████▎    | 420/782 [00:04<00:03, 99.29it/s, loss=0.305]\u001b[A\n",
      " 54%|█████▎    | 420/782 [00:04<00:03, 99.14it/s, loss=0.306]\u001b[A\n",
      " 54%|█████▎    | 420/782 [00:04<00:03, 99.02it/s, loss=0.305]\u001b[A\n",
      " 54%|█████▎    | 420/782 [00:04<00:03, 98.88it/s, loss=0.305]\u001b[A\n",
      " 54%|█████▎    | 420/782 [00:04<00:03, 98.77it/s, loss=0.303]\u001b[A\n",
      " 54%|█████▎    | 420/782 [00:04<00:03, 98.65it/s, loss=0.303]\u001b[A\n",
      " 54%|█████▎    | 420/782 [00:04<00:03, 95.77it/s, loss=0.304]\u001b[A\n",
      " 54%|█████▎    | 420/782 [00:04<00:03, 95.66it/s, loss=0.305]\u001b[A\n",
      " 54%|█████▎    | 420/782 [00:04<00:03, 95.56it/s, loss=0.304]\u001b[A\n",
      " 54%|█████▎    | 420/782 [00:04<00:03, 95.45it/s, loss=0.306]\u001b[A\n",
      " 54%|█████▎    | 420/782 [00:04<00:03, 95.35it/s, loss=0.31] \u001b[A\n",
      " 54%|█████▎    | 420/782 [00:04<00:03, 95.25it/s, loss=0.309]\u001b[A\n",
      " 54%|█████▎    | 420/782 [00:04<00:03, 95.15it/s, loss=0.31] \u001b[A\n",
      " 54%|█████▎    | 420/782 [00:04<00:03, 95.04it/s, loss=0.312]\u001b[A\n",
      " 54%|█████▎    | 420/782 [00:04<00:03, 94.94it/s, loss=0.316]\u001b[A\n",
      " 54%|█████▎    | 420/782 [00:04<00:03, 94.84it/s, loss=0.314]\u001b[A\n",
      " 56%|█████▌    | 437/782 [00:04<00:03, 98.62it/s, loss=0.314]\u001b[A\n",
      " 56%|█████▌    | 437/782 [00:04<00:03, 98.52it/s, loss=0.311]\u001b[A\n",
      " 56%|█████▌    | 437/782 [00:04<00:03, 98.41it/s, loss=0.311]\u001b[A\n",
      " 56%|█████▌    | 437/782 [00:04<00:03, 98.31it/s, loss=0.309]\u001b[A\n",
      " 56%|█████▌    | 437/782 [00:04<00:03, 98.20it/s, loss=0.315]\u001b[A\n",
      " 56%|█████▌    | 437/782 [00:04<00:03, 98.11it/s, loss=0.315]\u001b[A\n",
      " 56%|█████▌    | 437/782 [00:04<00:03, 98.00it/s, loss=0.313]\u001b[A\n",
      " 56%|█████▌    | 437/782 [00:04<00:03, 97.89it/s, loss=0.31] \u001b[A\n",
      " 56%|█████▌    | 437/782 [00:04<00:03, 97.64it/s, loss=0.307]\u001b[A\n",
      " 56%|█████▌    | 437/782 [00:04<00:03, 97.52it/s, loss=0.308]\u001b[A\n",
      " 56%|█████▌    | 437/782 [00:04<00:03, 97.41it/s, loss=0.313]\u001b[A\n",
      " 56%|█████▌    | 437/782 [00:04<00:03, 97.14it/s, loss=0.309]\u001b[A\n",
      " 56%|█████▌    | 437/782 [00:04<00:03, 97.04it/s, loss=0.311]\u001b[A\n",
      " 56%|█████▌    | 437/782 [00:04<00:03, 96.92it/s, loss=0.309]\u001b[A\n",
      " 56%|█████▌    | 437/782 [00:04<00:03, 96.81it/s, loss=0.308]\u001b[A\n",
      " 56%|█████▌    | 437/782 [00:04<00:03, 96.70it/s, loss=0.309]\u001b[A\n",
      " 56%|█████▌    | 437/782 [00:04<00:03, 96.59it/s, loss=0.311]\u001b[A\n",
      " 56%|█████▌    | 437/782 [00:04<00:03, 96.49it/s, loss=0.311]\u001b[A\n",
      " 58%|█████▊    | 454/782 [00:04<00:03, 100.18it/s, loss=0.311]\u001b[A\n",
      " 58%|█████▊    | 454/782 [00:04<00:03, 100.09it/s, loss=0.314]\u001b[A\n",
      " 58%|█████▊    | 454/782 [00:04<00:03, 99.98it/s, loss=0.312] \u001b[A\n",
      " 58%|█████▊    | 454/782 [00:04<00:03, 99.86it/s, loss=0.311]\u001b[A\n",
      " 58%|█████▊    | 454/782 [00:04<00:03, 99.74it/s, loss=0.312]\u001b[A\n",
      " 58%|█████▊    | 454/782 [00:04<00:03, 99.60it/s, loss=0.31] \u001b[A\n",
      " 58%|█████▊    | 454/782 [00:04<00:03, 99.24it/s, loss=0.308]\u001b[A\n",
      " 58%|█████▊    | 454/782 [00:04<00:03, 99.13it/s, loss=0.307]\u001b[A\n",
      " 58%|█████▊    | 454/782 [00:04<00:03, 98.86it/s, loss=0.306]\u001b[A\n",
      " 58%|█████▊    | 454/782 [00:04<00:03, 98.50it/s, loss=0.308]\u001b[A\n",
      " 58%|█████▊    | 454/782 [00:04<00:03, 98.19it/s, loss=0.306]\u001b[A\n",
      " 58%|█████▊    | 454/782 [00:04<00:03, 98.02it/s, loss=0.306]\u001b[A\n",
      " 58%|█████▊    | 454/782 [00:04<00:03, 97.83it/s, loss=0.305]\u001b[A\n",
      " 58%|█████▊    | 454/782 [00:04<00:03, 97.39it/s, loss=0.305]\u001b[A\n",
      " 58%|█████▊    | 454/782 [00:04<00:03, 97.15it/s, loss=0.305]\u001b[A\n",
      " 58%|█████▊    | 454/782 [00:04<00:03, 96.52it/s, loss=0.303]\u001b[A\n",
      " 60%|█████▉    | 469/782 [00:04<00:03, 98.81it/s, loss=0.303]\u001b[A\n",
      " 60%|█████▉    | 469/782 [00:04<00:03, 98.51it/s, loss=0.306]\u001b[A\n",
      " 60%|█████▉    | 469/782 [00:04<00:03, 98.12it/s, loss=0.305]\u001b[A\n",
      " 60%|█████▉    | 469/782 [00:04<00:03, 97.86it/s, loss=0.305]\u001b[A\n",
      " 60%|█████▉    | 469/782 [00:04<00:03, 97.55it/s, loss=0.301]\u001b[A\n",
      " 60%|█████▉    | 469/782 [00:04<00:03, 97.29it/s, loss=0.298]\u001b[A\n",
      " 60%|█████▉    | 469/782 [00:04<00:03, 97.12it/s, loss=0.297]\u001b[A\n",
      " 60%|█████▉    | 469/782 [00:04<00:03, 96.99it/s, loss=0.3]  \u001b[A\n",
      " 60%|█████▉    | 469/782 [00:04<00:03, 96.78it/s, loss=0.302]\u001b[A\n",
      " 60%|█████▉    | 469/782 [00:04<00:03, 96.45it/s, loss=0.299]\u001b[A\n",
      " 60%|█████▉    | 469/782 [00:04<00:03, 96.28it/s, loss=0.301]\u001b[A\n",
      " 60%|█████▉    | 469/782 [00:04<00:03, 96.18it/s, loss=0.3]  \u001b[A\n",
      " 60%|█████▉    | 469/782 [00:04<00:03, 96.10it/s, loss=0.3]\u001b[A\n",
      " 60%|█████▉    | 469/782 [00:04<00:03, 96.01it/s, loss=0.302]\u001b[A\n",
      " 62%|██████▏   | 482/782 [00:04<00:03, 98.62it/s, loss=0.302]\u001b[A\n",
      " 62%|██████▏   | 482/782 [00:04<00:03, 98.52it/s, loss=0.301]\u001b[A\n",
      " 62%|██████▏   | 482/782 [00:04<00:03, 98.43it/s, loss=0.299]\u001b[A\n",
      " 62%|██████▏   | 482/782 [00:04<00:03, 98.32it/s, loss=0.3]  \u001b[A\n",
      " 62%|██████▏   | 482/782 [00:04<00:03, 98.22it/s, loss=0.303]\u001b[A\n",
      " 62%|██████▏   | 482/782 [00:04<00:03, 98.13it/s, loss=0.303]\u001b[A\n",
      " 62%|██████▏   | 482/782 [00:04<00:03, 98.04it/s, loss=0.303]\u001b[A\n",
      " 62%|██████▏   | 482/782 [00:04<00:03, 97.95it/s, loss=0.304]\u001b[A\n",
      " 62%|██████▏   | 482/782 [00:04<00:03, 97.86it/s, loss=0.305]\u001b[A\n",
      " 62%|██████▏   | 482/782 [00:04<00:03, 97.77it/s, loss=0.315]\u001b[A\n",
      " 62%|██████▏   | 482/782 [00:04<00:03, 97.67it/s, loss=0.312]\u001b[A\n",
      " 62%|██████▏   | 482/782 [00:04<00:03, 97.57it/s, loss=0.31] \u001b[A\n",
      " 62%|██████▏   | 482/782 [00:04<00:03, 97.48it/s, loss=0.308]\u001b[A\n",
      " 62%|██████▏   | 482/782 [00:04<00:03, 97.39it/s, loss=0.31] \u001b[A\n",
      " 62%|██████▏   | 482/782 [00:04<00:03, 97.30it/s, loss=0.308]\u001b[A\n",
      " 62%|██████▏   | 482/782 [00:04<00:03, 97.21it/s, loss=0.316]\u001b[A\n",
      " 62%|██████▏   | 482/782 [00:04<00:03, 97.13it/s, loss=0.316]\u001b[A\n",
      " 62%|██████▏   | 482/782 [00:04<00:03, 97.02it/s, loss=0.313]\u001b[A\n",
      " 62%|██████▏   | 482/782 [00:04<00:03, 96.91it/s, loss=0.314]\u001b[A\n",
      " 62%|██████▏   | 482/782 [00:04<00:03, 96.81it/s, loss=0.313]\u001b[A\n",
      " 62%|██████▏   | 482/782 [00:04<00:03, 96.69it/s, loss=0.314]\u001b[A\n",
      " 64%|██████▍   | 502/782 [00:04<00:02, 100.65it/s, loss=0.314]\u001b[A\n",
      " 64%|██████▍   | 502/782 [00:05<00:02, 100.36it/s, loss=0.313]\u001b[A\n"
     ]
    },
    {
     "name": "stdout",
     "output_type": "stream",
     "text": [
      " 64%|██████▍   | 502/782 [00:05<00:02, 100.24it/s, loss=0.316]\u001b[A\n",
      " 64%|██████▍   | 502/782 [00:05<00:02, 100.13it/s, loss=0.314]\u001b[A\n",
      " 64%|██████▍   | 502/782 [00:05<00:02, 100.01it/s, loss=0.312]\u001b[A\n",
      " 64%|██████▍   | 502/782 [00:05<00:02, 98.65it/s, loss=0.311] \u001b[A\n",
      " 64%|██████▍   | 502/782 [00:05<00:02, 98.54it/s, loss=0.31] \u001b[A\n",
      " 64%|██████▍   | 502/782 [00:05<00:02, 98.46it/s, loss=0.307]\u001b[A\n",
      " 64%|██████▍   | 502/782 [00:05<00:02, 98.37it/s, loss=0.307]\u001b[A\n",
      " 64%|██████▍   | 502/782 [00:05<00:02, 98.27it/s, loss=0.311]\u001b[A\n",
      " 64%|██████▍   | 502/782 [00:05<00:02, 98.18it/s, loss=0.307]\u001b[A\n",
      " 64%|██████▍   | 502/782 [00:05<00:02, 98.09it/s, loss=0.307]\u001b[A\n",
      " 64%|██████▍   | 502/782 [00:05<00:02, 98.00it/s, loss=0.304]\u001b[A\n",
      " 64%|██████▍   | 502/782 [00:05<00:02, 97.92it/s, loss=0.308]\u001b[A\n",
      " 64%|██████▍   | 502/782 [00:05<00:02, 97.83it/s, loss=0.305]\u001b[A\n",
      " 66%|██████▌   | 516/782 [00:05<00:02, 100.50it/s, loss=0.305]\u001b[A\n",
      " 66%|██████▌   | 516/782 [00:05<00:02, 100.41it/s, loss=0.304]\u001b[A\n",
      " 66%|██████▌   | 516/782 [00:05<00:02, 100.32it/s, loss=0.302]\u001b[A\n",
      " 66%|██████▌   | 516/782 [00:05<00:02, 100.24it/s, loss=0.301]\u001b[A\n",
      " 66%|██████▌   | 516/782 [00:05<00:02, 100.15it/s, loss=0.3]  \u001b[A\n",
      " 66%|██████▌   | 516/782 [00:05<00:02, 100.06it/s, loss=0.299]\u001b[A\n",
      " 66%|██████▌   | 516/782 [00:05<00:02, 99.98it/s, loss=0.3]   \u001b[A\n",
      " 66%|██████▌   | 516/782 [00:05<00:02, 99.89it/s, loss=0.299]\u001b[A\n",
      " 66%|██████▌   | 516/782 [00:05<00:02, 99.81it/s, loss=0.296]\u001b[A\n",
      " 66%|██████▌   | 516/782 [00:05<00:02, 99.71it/s, loss=0.297]\u001b[A\n",
      " 66%|██████▌   | 516/782 [00:05<00:02, 99.63it/s, loss=0.297]\u001b[A\n",
      " 66%|██████▌   | 516/782 [00:05<00:02, 99.54it/s, loss=0.294]\u001b[A\n",
      " 66%|██████▌   | 516/782 [00:05<00:02, 99.46it/s, loss=0.297]\u001b[A\n",
      " 66%|██████▌   | 516/782 [00:05<00:02, 99.37it/s, loss=0.298]\u001b[A\n",
      " 66%|██████▌   | 516/782 [00:05<00:02, 99.28it/s, loss=0.295]\u001b[A\n",
      " 66%|██████▌   | 516/782 [00:05<00:02, 99.20it/s, loss=0.295]\u001b[A\n",
      " 66%|██████▌   | 516/782 [00:05<00:02, 99.12it/s, loss=0.295]\u001b[A\n",
      " 66%|██████▌   | 516/782 [00:05<00:02, 99.04it/s, loss=0.303]\u001b[A\n",
      " 66%|██████▌   | 516/782 [00:05<00:02, 98.95it/s, loss=0.302]\u001b[A\n",
      " 66%|██████▌   | 516/782 [00:05<00:02, 98.87it/s, loss=0.304]\u001b[A\n",
      " 66%|██████▌   | 516/782 [00:05<00:02, 98.79it/s, loss=0.301]\u001b[A\n",
      " 66%|██████▌   | 516/782 [00:05<00:02, 98.71it/s, loss=0.299]\u001b[A\n",
      " 66%|██████▌   | 516/782 [00:05<00:02, 98.63it/s, loss=0.299]\u001b[A\n",
      " 66%|██████▌   | 516/782 [00:05<00:02, 98.54it/s, loss=0.298]\u001b[A\n",
      " 69%|██████▉   | 539/782 [00:05<00:02, 102.89it/s, loss=0.298]\u001b[A\n",
      " 69%|██████▉   | 539/782 [00:05<00:02, 102.69it/s, loss=0.299]\u001b[A\n",
      " 69%|██████▉   | 539/782 [00:05<00:02, 102.59it/s, loss=0.305]\u001b[A\n",
      " 69%|██████▉   | 539/782 [00:05<00:02, 102.48it/s, loss=0.304]\u001b[A\n",
      " 69%|██████▉   | 539/782 [00:05<00:02, 102.38it/s, loss=0.304]\u001b[A\n",
      " 69%|██████▉   | 539/782 [00:05<00:02, 102.27it/s, loss=0.303]\u001b[A\n",
      " 69%|██████▉   | 539/782 [00:05<00:02, 102.16it/s, loss=0.301]\u001b[A\n",
      " 69%|██████▉   | 539/782 [00:05<00:02, 102.06it/s, loss=0.3]  \u001b[A\n",
      " 69%|██████▉   | 539/782 [00:05<00:02, 101.94it/s, loss=0.301]\u001b[A\n",
      " 69%|██████▉   | 539/782 [00:05<00:02, 101.84it/s, loss=0.299]\u001b[A\n",
      " 69%|██████▉   | 539/782 [00:05<00:02, 101.73it/s, loss=0.298]\u001b[A\n",
      " 69%|██████▉   | 539/782 [00:05<00:02, 101.63it/s, loss=0.3]  \u001b[A\n",
      " 69%|██████▉   | 539/782 [00:05<00:02, 101.52it/s, loss=0.3]\u001b[A\n",
      " 69%|██████▉   | 539/782 [00:05<00:02, 101.40it/s, loss=0.298]\u001b[A\n",
      " 69%|██████▉   | 539/782 [00:05<00:02, 101.33it/s, loss=0.294]\u001b[A\n",
      " 69%|██████▉   | 539/782 [00:05<00:02, 101.23it/s, loss=0.296]\u001b[A\n",
      " 69%|██████▉   | 539/782 [00:05<00:02, 101.10it/s, loss=0.295]\u001b[A\n",
      " 69%|██████▉   | 539/782 [00:05<00:02, 100.99it/s, loss=0.297]\u001b[A\n",
      " 71%|███████   | 556/782 [00:05<00:02, 104.14it/s, loss=0.297]\u001b[A\n",
      " 71%|███████   | 556/782 [00:05<00:02, 104.05it/s, loss=0.296]\u001b[A\n",
      " 71%|███████   | 556/782 [00:05<00:02, 103.96it/s, loss=0.293]\u001b[A\n",
      " 71%|███████   | 556/782 [00:05<00:02, 103.87it/s, loss=0.291]\u001b[A\n",
      " 71%|███████   | 556/782 [00:05<00:02, 103.78it/s, loss=0.293]\u001b[A\n",
      " 71%|███████   | 556/782 [00:05<00:02, 103.68it/s, loss=0.294]\u001b[A\n",
      " 71%|███████   | 556/782 [00:05<00:02, 103.59it/s, loss=0.294]\u001b[A\n",
      " 71%|███████   | 556/782 [00:05<00:02, 103.23it/s, loss=0.293]\u001b[A\n",
      " 71%|███████   | 556/782 [00:05<00:02, 103.13it/s, loss=0.296]\u001b[A\n",
      " 71%|███████   | 556/782 [00:05<00:02, 103.03it/s, loss=0.295]\u001b[A\n",
      " 71%|███████   | 556/782 [00:05<00:02, 102.93it/s, loss=0.299]\u001b[A\n",
      " 71%|███████   | 556/782 [00:05<00:02, 102.85it/s, loss=0.297]\u001b[A\n",
      " 71%|███████   | 556/782 [00:05<00:02, 102.75it/s, loss=0.297]\u001b[A\n",
      " 71%|███████   | 556/782 [00:05<00:02, 102.66it/s, loss=0.298]\u001b[A\n",
      " 71%|███████   | 556/782 [00:05<00:02, 102.57it/s, loss=0.297]\u001b[A\n",
      " 71%|███████   | 556/782 [00:05<00:02, 102.47it/s, loss=0.298]\u001b[A\n",
      " 71%|███████   | 556/782 [00:05<00:02, 102.39it/s, loss=0.3]  \u001b[A\n",
      " 71%|███████   | 556/782 [00:05<00:02, 102.31it/s, loss=0.302]\u001b[A\n",
      " 71%|███████   | 556/782 [00:05<00:02, 102.18it/s, loss=0.307]\u001b[A\n",
      " 73%|███████▎  | 574/782 [00:05<00:01, 105.45it/s, loss=0.307]\u001b[A\n",
      " 73%|███████▎  | 574/782 [00:05<00:01, 105.36it/s, loss=0.305]\u001b[A\n",
      " 73%|███████▎  | 574/782 [00:05<00:01, 105.26it/s, loss=0.304]\u001b[A\n",
      " 73%|███████▎  | 574/782 [00:05<00:01, 105.12it/s, loss=0.303]\u001b[A\n",
      " 73%|███████▎  | 574/782 [00:05<00:01, 104.99it/s, loss=0.311]\u001b[A\n",
      " 73%|███████▎  | 574/782 [00:05<00:01, 104.89it/s, loss=0.312]\u001b[A\n",
      " 73%|███████▎  | 574/782 [00:05<00:01, 104.74it/s, loss=0.312]\u001b[A\n",
      " 73%|███████▎  | 574/782 [00:05<00:01, 104.65it/s, loss=0.312]\u001b[A\n",
      " 73%|███████▎  | 574/782 [00:05<00:01, 104.55it/s, loss=0.311]\u001b[A\n",
      " 73%|███████▎  | 574/782 [00:05<00:01, 104.45it/s, loss=0.309]\u001b[A\n",
      " 73%|███████▎  | 574/782 [00:05<00:01, 104.35it/s, loss=0.311]\u001b[A\n",
      " 73%|███████▎  | 574/782 [00:05<00:01, 104.27it/s, loss=0.313]\u001b[A\n",
      " 73%|███████▎  | 574/782 [00:05<00:02, 101.79it/s, loss=0.312]\u001b[A\n",
      " 73%|███████▎  | 574/782 [00:05<00:02, 101.68it/s, loss=0.311]\u001b[A\n",
      " 73%|███████▎  | 574/782 [00:05<00:02, 101.58it/s, loss=0.312]\u001b[A\n",
      " 73%|███████▎  | 574/782 [00:05<00:02, 101.48it/s, loss=0.312]\u001b[A\n",
      " 73%|███████▎  | 574/782 [00:05<00:02, 101.36it/s, loss=0.313]\u001b[A\n",
      " 73%|███████▎  | 574/782 [00:05<00:02, 101.22it/s, loss=0.313]\u001b[A\n",
      " 76%|███████▌  | 591/782 [00:05<00:01, 104.15it/s, loss=0.313]\u001b[A\n",
      " 76%|███████▌  | 591/782 [00:05<00:01, 104.06it/s, loss=0.317]\u001b[A\n",
      " 76%|███████▌  | 591/782 [00:05<00:01, 103.96it/s, loss=0.316]\u001b[A\n",
      " 76%|███████▌  | 591/782 [00:05<00:01, 103.85it/s, loss=0.316]\u001b[A\n",
      " 76%|███████▌  | 591/782 [00:05<00:01, 103.74it/s, loss=0.314]\u001b[A\n",
      " 76%|███████▌  | 591/782 [00:05<00:01, 103.65it/s, loss=0.314]\u001b[A\n",
      " 76%|███████▌  | 591/782 [00:05<00:01, 103.54it/s, loss=0.314]\u001b[A\n",
      " 76%|███████▌  | 591/782 [00:05<00:01, 103.44it/s, loss=0.312]\u001b[A\n",
      " 76%|███████▌  | 591/782 [00:05<00:01, 103.34it/s, loss=0.314]\u001b[A\n",
      " 76%|███████▌  | 591/782 [00:05<00:01, 103.26it/s, loss=0.314]\u001b[A\n",
      " 76%|███████▌  | 591/782 [00:05<00:01, 103.15it/s, loss=0.312]\u001b[A\n",
      " 76%|███████▌  | 591/782 [00:05<00:01, 103.07it/s, loss=0.31] \u001b[A\n",
      " 76%|███████▌  | 591/782 [00:05<00:01, 102.98it/s, loss=0.307]\u001b[A\n",
      " 76%|███████▌  | 591/782 [00:05<00:01, 102.86it/s, loss=0.308]\u001b[A\n",
      " 76%|███████▌  | 591/782 [00:05<00:01, 102.78it/s, loss=0.307]\u001b[A\n",
      " 76%|███████▌  | 591/782 [00:05<00:01, 102.60it/s, loss=0.304]\u001b[A\n",
      " 76%|███████▌  | 591/782 [00:05<00:01, 102.26it/s, loss=0.305]\u001b[A\n",
      " 78%|███████▊  | 607/782 [00:05<00:01, 104.96it/s, loss=0.305]\u001b[A\n",
      " 78%|███████▊  | 607/782 [00:05<00:01, 104.52it/s, loss=0.305]\u001b[A\n",
      " 78%|███████▊  | 607/782 [00:05<00:01, 103.80it/s, loss=0.305]\u001b[A\n",
      " 78%|███████▊  | 607/782 [00:05<00:01, 103.66it/s, loss=0.302]\u001b[A\n",
      " 78%|███████▊  | 607/782 [00:05<00:01, 103.55it/s, loss=0.304]\u001b[A\n",
      " 78%|███████▊  | 607/782 [00:05<00:01, 103.45it/s, loss=0.302]\u001b[A\n",
      " 78%|███████▊  | 607/782 [00:05<00:01, 103.32it/s, loss=0.299]\u001b[A\n",
      " 78%|███████▊  | 607/782 [00:05<00:01, 103.24it/s, loss=0.297]\u001b[A\n",
      " 78%|███████▊  | 607/782 [00:05<00:01, 103.15it/s, loss=0.295]\u001b[A\n",
      " 78%|███████▊  | 607/782 [00:05<00:01, 103.08it/s, loss=0.296]\u001b[A\n",
      " 78%|███████▊  | 607/782 [00:05<00:01, 102.98it/s, loss=0.293]\u001b[A\n",
      " 78%|███████▊  | 607/782 [00:05<00:01, 102.90it/s, loss=0.296]\u001b[A\n",
      " 78%|███████▊  | 607/782 [00:05<00:01, 102.82it/s, loss=0.297]\u001b[A\n",
      " 78%|███████▊  | 607/782 [00:05<00:01, 102.72it/s, loss=0.296]\u001b[A\n",
      " 78%|███████▊  | 607/782 [00:05<00:01, 102.64it/s, loss=0.303]\u001b[A\n"
     ]
    },
    {
     "name": "stdout",
     "output_type": "stream",
     "text": [
      " 79%|███████▉  | 621/782 [00:05<00:01, 104.96it/s, loss=0.303]\u001b[A\n",
      " 79%|███████▉  | 621/782 [00:05<00:01, 104.88it/s, loss=0.302]\u001b[A\n",
      " 79%|███████▉  | 621/782 [00:05<00:01, 104.79it/s, loss=0.303]\u001b[A\n",
      " 79%|███████▉  | 621/782 [00:05<00:01, 104.72it/s, loss=0.303]\u001b[A\n",
      " 79%|███████▉  | 621/782 [00:05<00:01, 104.63it/s, loss=0.301]\u001b[A\n",
      " 79%|███████▉  | 621/782 [00:05<00:01, 104.54it/s, loss=0.298]\u001b[A\n",
      " 79%|███████▉  | 621/782 [00:05<00:01, 104.32it/s, loss=0.297]\u001b[A\n",
      " 79%|███████▉  | 621/782 [00:05<00:01, 104.22it/s, loss=0.296]\u001b[A\n",
      " 79%|███████▉  | 621/782 [00:05<00:01, 104.08it/s, loss=0.293]\u001b[A\n",
      " 79%|███████▉  | 621/782 [00:05<00:01, 103.99it/s, loss=0.29] \u001b[A\n",
      " 79%|███████▉  | 621/782 [00:05<00:01, 103.88it/s, loss=0.29]\u001b[A\n",
      " 79%|███████▉  | 621/782 [00:05<00:01, 103.78it/s, loss=0.289]\u001b[A\n",
      " 79%|███████▉  | 621/782 [00:05<00:01, 103.69it/s, loss=0.288]\u001b[A\n",
      " 79%|███████▉  | 621/782 [00:05<00:01, 103.60it/s, loss=0.289]\u001b[A\n",
      " 79%|███████▉  | 621/782 [00:05<00:01, 103.51it/s, loss=0.289]\u001b[A\n",
      " 79%|███████▉  | 621/782 [00:06<00:01, 103.43it/s, loss=0.287]\u001b[A\n",
      " 79%|███████▉  | 621/782 [00:06<00:01, 103.34it/s, loss=0.287]\u001b[A\n",
      " 79%|███████▉  | 621/782 [00:06<00:01, 103.25it/s, loss=0.286]\u001b[A\n",
      " 82%|████████▏ | 638/782 [00:06<00:01, 106.02it/s, loss=0.286]\u001b[A\n",
      " 82%|████████▏ | 638/782 [00:06<00:01, 105.93it/s, loss=0.284]\u001b[A\n",
      " 82%|████████▏ | 638/782 [00:06<00:01, 105.83it/s, loss=0.284]\u001b[A\n",
      " 82%|████████▏ | 638/782 [00:06<00:01, 105.74it/s, loss=0.283]\u001b[A\n",
      " 82%|████████▏ | 638/782 [00:06<00:01, 105.66it/s, loss=0.284]\u001b[A\n",
      " 82%|████████▏ | 638/782 [00:06<00:01, 105.57it/s, loss=0.286]\u001b[A\n",
      " 82%|████████▏ | 638/782 [00:06<00:01, 105.49it/s, loss=0.283]\u001b[A\n",
      " 82%|████████▏ | 638/782 [00:06<00:01, 105.41it/s, loss=0.282]\u001b[A\n",
      " 82%|████████▏ | 638/782 [00:06<00:01, 105.31it/s, loss=0.281]\u001b[A\n",
      " 82%|████████▏ | 638/782 [00:06<00:01, 105.22it/s, loss=0.282]\u001b[A\n",
      " 82%|████████▏ | 638/782 [00:06<00:01, 105.15it/s, loss=0.282]\u001b[A\n",
      " 82%|████████▏ | 638/782 [00:06<00:01, 105.01it/s, loss=0.28] \u001b[A\n",
      " 82%|████████▏ | 638/782 [00:06<00:01, 104.92it/s, loss=0.28]\u001b[A\n",
      " 82%|████████▏ | 638/782 [00:06<00:01, 104.84it/s, loss=0.283]\u001b[A\n",
      " 82%|████████▏ | 638/782 [00:06<00:01, 104.71it/s, loss=0.283]\u001b[A\n",
      " 82%|████████▏ | 638/782 [00:06<00:01, 104.64it/s, loss=0.284]\u001b[A\n",
      " 82%|████████▏ | 638/782 [00:06<00:01, 104.55it/s, loss=0.281]\u001b[A\n",
      " 82%|████████▏ | 638/782 [00:06<00:01, 104.47it/s, loss=0.285]\u001b[A\n",
      " 82%|████████▏ | 638/782 [00:06<00:01, 104.36it/s, loss=0.286]\u001b[A\n",
      " 82%|████████▏ | 638/782 [00:06<00:01, 104.27it/s, loss=0.285]\u001b[A\n",
      " 84%|████████▍ | 657/782 [00:06<00:01, 107.33it/s, loss=0.285]\u001b[A\n",
      " 84%|████████▍ | 657/782 [00:06<00:01, 107.24it/s, loss=0.288]\u001b[A\n",
      " 84%|████████▍ | 657/782 [00:06<00:01, 107.16it/s, loss=0.289]\u001b[A\n",
      " 84%|████████▍ | 657/782 [00:06<00:01, 107.08it/s, loss=0.292]\u001b[A\n",
      " 84%|████████▍ | 657/782 [00:06<00:01, 107.00it/s, loss=0.293]\u001b[A\n",
      " 84%|████████▍ | 657/782 [00:06<00:01, 106.92it/s, loss=0.297]\u001b[A\n",
      " 84%|████████▍ | 657/782 [00:06<00:01, 106.82it/s, loss=0.293]\u001b[A\n",
      " 84%|████████▍ | 657/782 [00:06<00:01, 105.60it/s, loss=0.294]\u001b[A\n",
      " 84%|████████▍ | 657/782 [00:06<00:01, 105.53it/s, loss=0.29] \u001b[A\n",
      " 84%|████████▍ | 657/782 [00:06<00:01, 105.43it/s, loss=0.291]\u001b[A\n",
      " 84%|████████▍ | 657/782 [00:06<00:01, 105.37it/s, loss=0.288]\u001b[A\n",
      " 84%|████████▍ | 657/782 [00:06<00:01, 105.29it/s, loss=0.289]\u001b[A\n",
      " 84%|████████▍ | 657/782 [00:06<00:01, 105.19it/s, loss=0.293]\u001b[A\n",
      " 84%|████████▍ | 657/782 [00:06<00:01, 105.11it/s, loss=0.294]\u001b[A\n",
      " 84%|████████▍ | 657/782 [00:06<00:01, 105.02it/s, loss=0.29] \u001b[A\n",
      " 84%|████████▍ | 657/782 [00:06<00:01, 104.94it/s, loss=0.288]\u001b[A\n",
      " 84%|████████▍ | 657/782 [00:06<00:01, 104.86it/s, loss=0.288]\u001b[A\n",
      " 86%|████████▌ | 673/782 [00:06<00:01, 107.37it/s, loss=0.288]\u001b[A\n",
      " 86%|████████▌ | 673/782 [00:06<00:01, 107.25it/s, loss=0.288]\u001b[A\n",
      " 86%|████████▌ | 673/782 [00:06<00:01, 107.17it/s, loss=0.289]\u001b[A\n",
      " 86%|████████▌ | 673/782 [00:06<00:01, 107.07it/s, loss=0.29] \u001b[A\n",
      " 86%|████████▌ | 673/782 [00:06<00:01, 106.99it/s, loss=0.289]\u001b[A\n",
      " 86%|████████▌ | 673/782 [00:06<00:01, 106.90it/s, loss=0.289]\u001b[A\n",
      " 86%|████████▌ | 673/782 [00:06<00:01, 106.82it/s, loss=0.29] \u001b[A\n",
      " 86%|████████▌ | 673/782 [00:06<00:01, 106.74it/s, loss=0.295]\u001b[A\n",
      " 86%|████████▌ | 673/782 [00:06<00:01, 106.65it/s, loss=0.294]\u001b[A\n",
      " 86%|████████▌ | 673/782 [00:06<00:01, 106.55it/s, loss=0.292]\u001b[A\n",
      " 86%|████████▌ | 673/782 [00:06<00:01, 106.48it/s, loss=0.293]\u001b[A\n",
      " 86%|████████▌ | 673/782 [00:06<00:01, 106.38it/s, loss=0.299]\u001b[A\n",
      " 86%|████████▌ | 673/782 [00:06<00:01, 106.29it/s, loss=0.295]\u001b[A\n",
      " 86%|████████▌ | 673/782 [00:06<00:01, 105.96it/s, loss=0.292]\u001b[A\n",
      " 86%|████████▌ | 673/782 [00:06<00:01, 105.84it/s, loss=0.29] \u001b[A\n",
      " 86%|████████▌ | 673/782 [00:06<00:01, 105.70it/s, loss=0.29]\u001b[A\n",
      " 88%|████████▊ | 688/782 [00:06<00:00, 107.98it/s, loss=0.29]\u001b[A\n",
      " 88%|████████▊ | 688/782 [00:06<00:00, 107.86it/s, loss=0.287]\u001b[A\n",
      " 88%|████████▊ | 688/782 [00:06<00:00, 107.76it/s, loss=0.284]\u001b[A\n",
      " 88%|████████▊ | 688/782 [00:06<00:00, 107.64it/s, loss=0.285]\u001b[A\n",
      " 88%|████████▊ | 688/782 [00:06<00:00, 107.52it/s, loss=0.283]\u001b[A\n",
      " 88%|████████▊ | 688/782 [00:06<00:00, 107.43it/s, loss=0.288]\u001b[A\n",
      " 88%|████████▊ | 688/782 [00:06<00:00, 107.35it/s, loss=0.29] \u001b[A\n",
      " 88%|████████▊ | 688/782 [00:06<00:00, 107.27it/s, loss=0.29]\u001b[A\n",
      " 88%|████████▊ | 688/782 [00:06<00:00, 107.18it/s, loss=0.29]\u001b[A\n",
      " 88%|████████▊ | 688/782 [00:06<00:00, 107.12it/s, loss=0.293]\u001b[A\n",
      " 88%|████████▊ | 688/782 [00:06<00:00, 107.03it/s, loss=0.293]\u001b[A\n",
      " 88%|████████▊ | 688/782 [00:06<00:00, 106.95it/s, loss=0.295]\u001b[A\n",
      " 88%|████████▊ | 688/782 [00:06<00:00, 106.88it/s, loss=0.293]\u001b[A\n",
      " 88%|████████▊ | 688/782 [00:06<00:00, 106.80it/s, loss=0.295]\u001b[A\n",
      " 88%|████████▊ | 688/782 [00:06<00:00, 106.70it/s, loss=0.298]\u001b[A\n",
      " 88%|████████▊ | 688/782 [00:06<00:00, 106.62it/s, loss=0.3]  \u001b[A\n",
      " 88%|████████▊ | 688/782 [00:06<00:00, 106.55it/s, loss=0.305]\u001b[A\n",
      " 88%|████████▊ | 688/782 [00:06<00:00, 106.42it/s, loss=0.304]\u001b[A\n",
      " 88%|████████▊ | 688/782 [00:06<00:00, 106.33it/s, loss=0.303]\u001b[A\n",
      " 90%|█████████ | 706/782 [00:06<00:00, 109.06it/s, loss=0.303]\u001b[A\n",
      " 90%|█████████ | 706/782 [00:06<00:00, 108.93it/s, loss=0.304]\u001b[A\n",
      " 90%|█████████ | 706/782 [00:06<00:00, 108.85it/s, loss=0.3]  \u001b[A\n",
      " 90%|█████████ | 706/782 [00:06<00:00, 108.77it/s, loss=0.3]\u001b[A\n",
      " 90%|█████████ | 706/782 [00:06<00:00, 108.69it/s, loss=0.3]\u001b[A\n",
      " 90%|█████████ | 706/782 [00:06<00:00, 108.61it/s, loss=0.298]\u001b[A\n",
      " 90%|█████████ | 706/782 [00:06<00:00, 108.53it/s, loss=0.298]\u001b[A\n",
      " 90%|█████████ | 706/782 [00:06<00:00, 108.43it/s, loss=0.297]\u001b[A\n",
      " 90%|█████████ | 706/782 [00:06<00:00, 108.33it/s, loss=0.299]\u001b[A\n",
      " 90%|█████████ | 706/782 [00:06<00:00, 108.26it/s, loss=0.298]\u001b[A\n",
      " 90%|█████████ | 706/782 [00:06<00:00, 108.19it/s, loss=0.299]\u001b[A\n",
      " 90%|█████████ | 706/782 [00:06<00:00, 108.11it/s, loss=0.3]  \u001b[A\n",
      " 90%|█████████ | 706/782 [00:06<00:00, 108.00it/s, loss=0.3]\u001b[A\n",
      " 90%|█████████ | 706/782 [00:06<00:00, 107.93it/s, loss=0.303]\u001b[A\n",
      " 90%|█████████ | 706/782 [00:06<00:00, 107.86it/s, loss=0.302]\u001b[A\n",
      " 90%|█████████ | 706/782 [00:06<00:00, 107.77it/s, loss=0.302]\u001b[A\n",
      " 90%|█████████ | 706/782 [00:06<00:00, 107.70it/s, loss=0.299]\u001b[A\n",
      " 90%|█████████ | 706/782 [00:06<00:00, 107.61it/s, loss=0.299]\u001b[A\n",
      " 90%|█████████ | 706/782 [00:06<00:00, 107.54it/s, loss=0.298]\u001b[A\n",
      " 90%|█████████ | 706/782 [00:06<00:00, 107.45it/s, loss=0.3]  \u001b[A\n",
      " 90%|█████████ | 706/782 [00:06<00:00, 107.38it/s, loss=0.299]\u001b[A\n",
      " 93%|█████████▎| 726/782 [00:06<00:00, 110.38it/s, loss=0.299]\u001b[A\n",
      " 93%|█████████▎| 726/782 [00:06<00:00, 110.29it/s, loss=0.296]\u001b[A\n",
      " 93%|█████████▎| 726/782 [00:06<00:00, 110.22it/s, loss=0.294]\u001b[A\n",
      " 93%|█████████▎| 726/782 [00:06<00:00, 110.14it/s, loss=0.292]\u001b[A\n",
      " 93%|█████████▎| 726/782 [00:06<00:00, 109.93it/s, loss=0.292]\u001b[A\n",
      " 93%|█████████▎| 726/782 [00:06<00:00, 109.83it/s, loss=0.294]\u001b[A\n",
      " 93%|█████████▎| 726/782 [00:06<00:00, 109.70it/s, loss=0.291]\u001b[A\n",
      " 93%|█████████▎| 726/782 [00:06<00:00, 109.60it/s, loss=0.292]\u001b[A\n",
      " 93%|█████████▎| 726/782 [00:06<00:00, 109.52it/s, loss=0.292]\u001b[A\n",
      " 93%|█████████▎| 726/782 [00:06<00:00, 109.43it/s, loss=0.291]\u001b[A\n",
      " 93%|█████████▎| 726/782 [00:06<00:00, 109.34it/s, loss=0.29] \u001b[A\n",
      " 93%|█████████▎| 726/782 [00:06<00:00, 109.26it/s, loss=0.29]\u001b[A\n",
      " 93%|█████████▎| 726/782 [00:06<00:00, 109.16it/s, loss=0.289]\u001b[A\n"
     ]
    },
    {
     "name": "stdout",
     "output_type": "stream",
     "text": [
      " 93%|█████████▎| 726/782 [00:06<00:00, 109.07it/s, loss=0.29] \u001b[A\n",
      " 93%|█████████▎| 726/782 [00:06<00:00, 108.98it/s, loss=0.289]\u001b[A\n",
      " 93%|█████████▎| 726/782 [00:06<00:00, 108.88it/s, loss=0.288]\u001b[A\n",
      " 93%|█████████▎| 726/782 [00:06<00:00, 108.78it/s, loss=0.289]\u001b[A\n",
      " 93%|█████████▎| 726/782 [00:06<00:00, 108.70it/s, loss=0.288]\u001b[A\n",
      " 95%|█████████▌| 743/782 [00:06<00:00, 109.26it/s, loss=0.288]\u001b[A\n",
      " 95%|█████████▌| 743/782 [00:06<00:00, 109.17it/s, loss=0.284]\u001b[A\n",
      " 95%|█████████▌| 743/782 [00:06<00:00, 109.10it/s, loss=0.285]\u001b[A\n",
      " 95%|█████████▌| 743/782 [00:06<00:00, 109.00it/s, loss=0.285]\u001b[A\n",
      " 95%|█████████▌| 743/782 [00:06<00:00, 108.92it/s, loss=0.283]\u001b[A\n",
      " 95%|█████████▌| 743/782 [00:06<00:00, 108.84it/s, loss=0.281]\u001b[A\n",
      " 95%|█████████▌| 743/782 [00:06<00:00, 108.73it/s, loss=0.278]\u001b[A\n",
      " 95%|█████████▌| 743/782 [00:06<00:00, 108.53it/s, loss=0.281]\u001b[A\n",
      " 95%|█████████▌| 743/782 [00:06<00:00, 108.44it/s, loss=0.28] \u001b[A\n",
      " 95%|█████████▌| 743/782 [00:06<00:00, 108.34it/s, loss=0.282]\u001b[A\n",
      " 95%|█████████▌| 743/782 [00:06<00:00, 108.26it/s, loss=0.281]\u001b[A\n",
      " 95%|█████████▌| 743/782 [00:06<00:00, 108.18it/s, loss=0.289]\u001b[A\n",
      " 95%|█████████▌| 743/782 [00:06<00:00, 108.04it/s, loss=0.287]\u001b[A\n",
      " 95%|█████████▌| 743/782 [00:06<00:00, 107.88it/s, loss=0.287]\u001b[A\n",
      " 95%|█████████▌| 743/782 [00:06<00:00, 107.80it/s, loss=0.297]\u001b[A\n",
      " 95%|█████████▌| 743/782 [00:06<00:00, 107.71it/s, loss=0.299]\u001b[A\n",
      " 97%|█████████▋| 758/782 [00:06<00:00, 109.83it/s, loss=0.299]\u001b[A\n",
      " 97%|█████████▋| 758/782 [00:06<00:00, 109.77it/s, loss=0.301]\u001b[A\n",
      " 97%|█████████▋| 758/782 [00:06<00:00, 109.70it/s, loss=0.299]\u001b[A\n",
      " 97%|█████████▋| 758/782 [00:06<00:00, 109.63it/s, loss=0.296]\u001b[A\n",
      " 97%|█████████▋| 758/782 [00:06<00:00, 109.53it/s, loss=0.298]\u001b[A\n",
      " 97%|█████████▋| 758/782 [00:06<00:00, 109.47it/s, loss=0.297]\u001b[A\n",
      " 97%|█████████▋| 758/782 [00:06<00:00, 109.40it/s, loss=0.299]\u001b[A\n",
      " 97%|█████████▋| 758/782 [00:06<00:00, 109.23it/s, loss=0.303]\u001b[A\n",
      " 97%|█████████▋| 758/782 [00:06<00:00, 108.69it/s, loss=0.3]  \u001b[A\n",
      " 97%|█████████▋| 758/782 [00:06<00:00, 108.45it/s, loss=0.297]\u001b[A\n",
      " 97%|█████████▋| 758/782 [00:06<00:00, 108.34it/s, loss=0.296]\u001b[A\n",
      " 97%|█████████▋| 758/782 [00:07<00:00, 108.25it/s, loss=0.298]\u001b[A\n",
      " 97%|█████████▋| 758/782 [00:07<00:00, 108.18it/s, loss=0.296]\u001b[A\n",
      " 97%|█████████▋| 758/782 [00:07<00:00, 108.06it/s, loss=0.296]\u001b[A\n",
      " 97%|█████████▋| 758/782 [00:07<00:00, 107.92it/s, loss=0.296]\u001b[A\n",
      " 97%|█████████▋| 758/782 [00:07<00:00, 107.85it/s, loss=0.295]\u001b[A\n",
      " 99%|█████████▉| 773/782 [00:07<00:00, 109.94it/s, loss=0.295]\u001b[A\n",
      " 99%|█████████▉| 773/782 [00:07<00:00, 109.88it/s, loss=0.296]\u001b[A\n",
      " 99%|█████████▉| 773/782 [00:07<00:00, 109.81it/s, loss=0.296]\u001b[A\n",
      " 99%|█████████▉| 773/782 [00:07<00:00, 109.75it/s, loss=0.296]\u001b[A\n",
      " 99%|█████████▉| 773/782 [00:07<00:00, 109.60it/s, loss=0.293]\u001b[A\n",
      " 99%|█████████▉| 773/782 [00:07<00:00, 109.53it/s, loss=0.296]\u001b[A\n",
      " 99%|█████████▉| 773/782 [00:07<00:00, 109.43it/s, loss=0.293]\u001b[A\n",
      " 99%|█████████▉| 773/782 [00:07<00:00, 109.35it/s, loss=0.293]\u001b[A\n",
      " 99%|█████████▉| 773/782 [00:07<00:00, 109.28it/s, loss=0.296]\u001b[A\n",
      " 99%|█████████▉| 773/782 [00:07<00:00, 109.20it/s, loss=0.292]\u001b[A\n",
      "                                                              \u001b[A[ 1.       0.29168  0.26723  0.92406]\n",
      "\n",
      "  0%|          | 0/782 [00:00<?, ?it/s]\u001b[A\n",
      "  0%|          | 0/782 [00:00<?, ?it/s, loss=0.292]\u001b[A\n",
      "  0%|          | 1/782 [00:00<01:38,  7.90it/s, loss=0.292]\u001b[A\n",
      "  0%|          | 1/782 [00:00<01:48,  7.23it/s, loss=0.289]\u001b[A\n",
      "  0%|          | 1/782 [00:00<02:00,  6.47it/s, loss=0.293]\u001b[A\n",
      "  0%|          | 1/782 [00:00<02:17,  5.68it/s, loss=0.293]\u001b[A\n",
      "  0%|          | 1/782 [00:00<02:39,  4.90it/s, loss=0.295]\u001b[A\n",
      "  0%|          | 1/782 [00:00<02:54,  4.49it/s, loss=0.295]\u001b[A\n",
      "  1%|          | 6/782 [00:00<00:29, 26.11it/s, loss=0.295]\u001b[A\n",
      "  1%|          | 6/782 [00:00<00:33, 23.40it/s, loss=0.294]\u001b[A\n",
      "  1%|          | 6/782 [00:00<00:36, 21.29it/s, loss=0.292]\u001b[A\n",
      "  1%|          | 6/782 [00:00<00:39, 19.89it/s, loss=0.289]\u001b[A\n",
      "  1%|          | 6/782 [00:00<00:43, 18.04it/s, loss=0.289]\u001b[A\n",
      "  1%|▏         | 10/782 [00:00<00:26, 28.98it/s, loss=0.289]\u001b[A\n",
      "  1%|▏         | 10/782 [00:00<00:28, 26.66it/s, loss=0.286]\u001b[A\n",
      "  1%|▏         | 10/782 [00:00<00:31, 24.90it/s, loss=0.285]\u001b[A\n",
      "  1%|▏         | 10/782 [00:00<00:32, 23.45it/s, loss=0.286]\u001b[A\n",
      "  1%|▏         | 10/782 [00:00<00:35, 21.67it/s, loss=0.286]\u001b[A\n",
      "  2%|▏         | 14/782 [00:00<00:25, 29.92it/s, loss=0.286]\u001b[A\n",
      "  2%|▏         | 14/782 [00:00<00:27, 28.44it/s, loss=0.283]\u001b[A\n",
      "  2%|▏         | 14/782 [00:00<00:28, 26.95it/s, loss=0.282]\u001b[A\n",
      "  2%|▏         | 14/782 [00:00<00:29, 26.31it/s, loss=0.285]\u001b[A\n",
      "  2%|▏         | 14/782 [00:00<00:30, 25.38it/s, loss=0.287]\u001b[A\n",
      "  2%|▏         | 14/782 [00:00<00:31, 24.71it/s, loss=0.287]\u001b[A\n",
      "  2%|▏         | 19/782 [00:00<00:23, 33.07it/s, loss=0.287]\u001b[A\n",
      "  2%|▏         | 19/782 [00:00<00:23, 32.21it/s, loss=0.284]\u001b[A\n",
      "  2%|▏         | 19/782 [00:00<00:24, 30.93it/s, loss=0.282]\u001b[A\n",
      "  2%|▏         | 19/782 [00:00<00:25, 30.34it/s, loss=0.284]\u001b[A\n",
      "  2%|▏         | 19/782 [00:00<00:25, 29.79it/s, loss=0.289]\u001b[A\n",
      "  2%|▏         | 19/782 [00:00<00:26, 29.27it/s, loss=0.289]\u001b[A\n",
      "  2%|▏         | 19/782 [00:00<00:26, 28.53it/s, loss=0.289]\u001b[A\n",
      "  2%|▏         | 19/782 [00:00<00:27, 27.96it/s, loss=0.289]\u001b[A\n",
      "  3%|▎         | 26/782 [00:00<00:20, 37.74it/s, loss=0.289]\u001b[A\n",
      "  3%|▎         | 26/782 [00:00<00:20, 36.88it/s, loss=0.288]\u001b[A\n",
      "  3%|▎         | 26/782 [00:00<00:20, 36.11it/s, loss=0.291]\u001b[A\n",
      "  3%|▎         | 26/782 [00:00<00:21, 35.24it/s, loss=0.29] \u001b[A\n",
      "  3%|▎         | 26/782 [00:00<00:21, 34.44it/s, loss=0.29]\u001b[A\n",
      "  3%|▎         | 26/782 [00:00<00:22, 33.29it/s, loss=0.292]\u001b[A\n",
      "  4%|▍         | 31/782 [00:00<00:19, 39.15it/s, loss=0.292]\u001b[A\n",
      "  4%|▍         | 31/782 [00:00<00:19, 37.83it/s, loss=0.29] \u001b[A\n",
      "  4%|▍         | 31/782 [00:00<00:20, 37.08it/s, loss=0.29]\u001b[A\n",
      "  4%|▍         | 31/782 [00:00<00:20, 36.46it/s, loss=0.289]\u001b[A\n",
      "  4%|▍         | 31/782 [00:00<00:20, 35.83it/s, loss=0.287]\u001b[A\n",
      "  4%|▍         | 31/782 [00:00<00:21, 35.22it/s, loss=0.288]\u001b[A\n",
      "  4%|▍         | 31/782 [00:00<00:21, 34.67it/s, loss=0.288]\u001b[A\n",
      "  5%|▍         | 37/782 [00:00<00:18, 40.67it/s, loss=0.288]\u001b[A\n",
      "  5%|▍         | 37/782 [00:00<00:18, 39.62it/s, loss=0.285]\u001b[A\n",
      "  5%|▍         | 37/782 [00:00<00:19, 39.04it/s, loss=0.284]\u001b[A\n",
      "  5%|▍         | 37/782 [00:00<00:19, 38.56it/s, loss=0.284]\u001b[A\n",
      "  5%|▍         | 37/782 [00:00<00:19, 37.96it/s, loss=0.284]\u001b[A\n",
      "  5%|▍         | 37/782 [00:00<00:19, 37.39it/s, loss=0.285]\u001b[A\n",
      "  5%|▍         | 37/782 [00:01<00:20, 36.55it/s, loss=0.285]\u001b[A\n",
      "  5%|▌         | 43/782 [00:01<00:17, 42.12it/s, loss=0.285]\u001b[A\n",
      "  5%|▌         | 43/782 [00:01<00:17, 41.60it/s, loss=0.284]\u001b[A\n",
      "  5%|▌         | 43/782 [00:01<00:18, 40.94it/s, loss=0.282]\u001b[A\n",
      "  5%|▌         | 43/782 [00:01<00:18, 40.45it/s, loss=0.28] \u001b[A\n",
      "  5%|▌         | 43/782 [00:01<00:18, 39.99it/s, loss=0.28]\u001b[A\n",
      "  5%|▌         | 43/782 [00:01<00:18, 39.58it/s, loss=0.284]\u001b[A\n",
      "  5%|▌         | 43/782 [00:01<00:18, 39.06it/s, loss=0.282]\u001b[A\n",
      "  5%|▌         | 43/782 [00:01<00:19, 38.58it/s, loss=0.279]\u001b[A\n",
      "  6%|▋         | 50/782 [00:01<00:16, 44.58it/s, loss=0.279]\u001b[A\n",
      "  6%|▋         | 50/782 [00:01<00:16, 44.02it/s, loss=0.278]\u001b[A\n",
      "  6%|▋         | 50/782 [00:01<00:17, 42.90it/s, loss=0.278]\u001b[A\n",
      "  6%|▋         | 50/782 [00:01<00:17, 42.37it/s, loss=0.28] \u001b[A\n",
      "  6%|▋         | 50/782 [00:01<00:17, 41.93it/s, loss=0.279]\u001b[A\n",
      "  6%|▋         | 50/782 [00:01<00:17, 41.48it/s, loss=0.283]\u001b[A\n",
      "  6%|▋         | 50/782 [00:01<00:17, 41.05it/s, loss=0.285]\u001b[A\n",
      "  7%|▋         | 56/782 [00:01<00:15, 45.71it/s, loss=0.285]\u001b[A\n",
      "  7%|▋         | 56/782 [00:01<00:16, 45.09it/s, loss=0.285]\u001b[A\n",
      "  7%|▋         | 56/782 [00:01<00:16, 44.36it/s, loss=0.286]\u001b[A\n",
      "  7%|▋         | 56/782 [00:01<00:16, 43.55it/s, loss=0.284]\u001b[A\n",
      "  7%|▋         | 56/782 [00:01<00:16, 42.90it/s, loss=0.285]\u001b[A\n",
      "  7%|▋         | 56/782 [00:01<00:17, 42.26it/s, loss=0.284]\u001b[A\n",
      "  7%|▋         | 56/782 [00:01<00:17, 41.51it/s, loss=0.286]\u001b[A\n",
      "  8%|▊         | 62/782 [00:01<00:15, 45.76it/s, loss=0.286]\u001b[A\n",
      "  8%|▊         | 62/782 [00:01<00:15, 45.04it/s, loss=0.287]\u001b[A\n",
      "  8%|▊         | 62/782 [00:01<00:16, 44.41it/s, loss=0.285]\u001b[A\n",
      "  8%|▊         | 62/782 [00:01<00:17, 42.34it/s, loss=0.283]\u001b[A\n"
     ]
    },
    {
     "name": "stdout",
     "output_type": "stream",
     "text": [
      "  8%|▊         | 62/782 [00:01<00:18, 39.85it/s, loss=0.282]\u001b[A\n",
      "  8%|▊         | 62/782 [00:01<00:18, 38.68it/s, loss=0.282]\u001b[A\n",
      "  8%|▊         | 62/782 [00:01<00:18, 38.32it/s, loss=0.284]\u001b[A\n",
      "  9%|▊         | 68/782 [00:01<00:17, 41.73it/s, loss=0.284]\u001b[A\n",
      "  9%|▊         | 68/782 [00:01<00:17, 41.41it/s, loss=0.281]\u001b[A\n",
      "  9%|▊         | 68/782 [00:01<00:17, 41.07it/s, loss=0.277]\u001b[A\n",
      "  9%|▊         | 68/782 [00:01<00:17, 40.70it/s, loss=0.276]\u001b[A\n",
      "  9%|▊         | 68/782 [00:01<00:17, 40.41it/s, loss=0.278]\u001b[A\n",
      "  9%|▊         | 68/782 [00:01<00:17, 40.13it/s, loss=0.277]\u001b[A\n",
      "  9%|▊         | 68/782 [00:01<00:17, 39.88it/s, loss=0.278]\u001b[A\n",
      "  9%|▊         | 68/782 [00:01<00:18, 39.58it/s, loss=0.278]\u001b[A\n",
      "  9%|▊         | 68/782 [00:01<00:18, 39.17it/s, loss=0.278]\u001b[A\n",
      " 10%|▉         | 76/782 [00:01<00:16, 43.58it/s, loss=0.278]\u001b[A\n",
      " 10%|▉         | 76/782 [00:01<00:16, 43.16it/s, loss=0.277]\u001b[A\n",
      " 10%|▉         | 76/782 [00:01<00:16, 42.67it/s, loss=0.277]\u001b[A\n",
      " 10%|▉         | 76/782 [00:01<00:16, 42.36it/s, loss=0.279]\u001b[A\n",
      " 10%|▉         | 76/782 [00:01<00:16, 41.78it/s, loss=0.278]\u001b[A\n",
      " 10%|▉         | 76/782 [00:01<00:17, 41.44it/s, loss=0.277]\u001b[A\n",
      " 10%|▉         | 76/782 [00:01<00:17, 41.15it/s, loss=0.282]\u001b[A\n",
      " 10%|█         | 82/782 [00:01<00:15, 44.25it/s, loss=0.282]\u001b[A\n",
      " 10%|█         | 82/782 [00:01<00:15, 43.93it/s, loss=0.283]\u001b[A\n",
      " 10%|█         | 82/782 [00:01<00:16, 43.41it/s, loss=0.28] \u001b[A\n",
      " 10%|█         | 82/782 [00:01<00:16, 43.06it/s, loss=0.281]\u001b[A\n",
      " 10%|█         | 82/782 [00:01<00:16, 42.76it/s, loss=0.281]\u001b[A\n",
      " 10%|█         | 82/782 [00:01<00:16, 42.33it/s, loss=0.28] \u001b[A\n",
      " 10%|█         | 82/782 [00:01<00:16, 41.95it/s, loss=0.279]\u001b[A\n",
      " 11%|█▏        | 88/782 [00:01<00:15, 44.89it/s, loss=0.279]\u001b[A\n",
      " 11%|█▏        | 88/782 [00:01<00:15, 44.60it/s, loss=0.285]\u001b[A\n",
      " 11%|█▏        | 88/782 [00:01<00:15, 44.27it/s, loss=0.283]\u001b[A\n",
      " 11%|█▏        | 88/782 [00:02<00:15, 43.77it/s, loss=0.283]\u001b[A\n",
      " 11%|█▏        | 88/782 [00:02<00:15, 43.47it/s, loss=0.285]\u001b[A\n",
      " 11%|█▏        | 88/782 [00:02<00:16, 42.99it/s, loss=0.286]\u001b[A\n",
      " 11%|█▏        | 88/782 [00:02<00:16, 42.59it/s, loss=0.284]\u001b[A\n",
      " 12%|█▏        | 94/782 [00:02<00:15, 45.29it/s, loss=0.284]\u001b[A\n",
      " 12%|█▏        | 94/782 [00:02<00:15, 44.96it/s, loss=0.281]\u001b[A\n",
      " 12%|█▏        | 94/782 [00:02<00:15, 44.27it/s, loss=0.28] \u001b[A\n",
      " 12%|█▏        | 94/782 [00:02<00:15, 44.11it/s, loss=0.281]\u001b[A\n",
      " 12%|█▏        | 94/782 [00:02<00:15, 44.02it/s, loss=0.284]\u001b[A\n",
      " 12%|█▏        | 94/782 [00:02<00:15, 43.93it/s, loss=0.284]\u001b[A\n",
      " 12%|█▏        | 94/782 [00:02<00:15, 43.84it/s, loss=0.279]\u001b[A\n",
      " 12%|█▏        | 94/782 [00:02<00:15, 43.74it/s, loss=0.275]\u001b[A\n",
      " 12%|█▏        | 94/782 [00:02<00:15, 43.65it/s, loss=0.273]\u001b[A\n",
      " 12%|█▏        | 94/782 [00:02<00:15, 43.57it/s, loss=0.274]\u001b[A\n",
      " 12%|█▏        | 94/782 [00:02<00:15, 43.48it/s, loss=0.276]\u001b[A\n",
      " 12%|█▏        | 94/782 [00:02<00:15, 43.38it/s, loss=0.276]\u001b[A\n",
      " 12%|█▏        | 94/782 [00:02<00:15, 43.30it/s, loss=0.275]\u001b[A\n",
      " 14%|█▎        | 106/782 [00:02<00:13, 48.78it/s, loss=0.275]\u001b[A\n",
      " 14%|█▎        | 106/782 [00:02<00:13, 48.68it/s, loss=0.278]\u001b[A\n",
      " 14%|█▎        | 106/782 [00:02<00:13, 48.59it/s, loss=0.282]\u001b[A\n",
      " 14%|█▎        | 106/782 [00:02<00:13, 48.50it/s, loss=0.285]\u001b[A\n",
      " 14%|█▎        | 106/782 [00:02<00:13, 48.34it/s, loss=0.281]\u001b[A\n",
      " 14%|█▎        | 106/782 [00:02<00:14, 48.20it/s, loss=0.279]\u001b[A\n",
      " 14%|█▎        | 106/782 [00:02<00:14, 48.10it/s, loss=0.28] \u001b[A\n",
      " 14%|█▎        | 106/782 [00:02<00:14, 47.98it/s, loss=0.282]\u001b[A\n",
      " 14%|█▎        | 106/782 [00:02<00:14, 47.85it/s, loss=0.281]\u001b[A\n",
      " 14%|█▎        | 106/782 [00:02<00:14, 47.75it/s, loss=0.28] \u001b[A\n",
      " 14%|█▎        | 106/782 [00:02<00:14, 47.65it/s, loss=0.279]\u001b[A\n",
      " 14%|█▎        | 106/782 [00:02<00:14, 47.54it/s, loss=0.28] \u001b[A\n",
      " 14%|█▎        | 106/782 [00:02<00:14, 47.43it/s, loss=0.281]\u001b[A\n",
      " 14%|█▎        | 106/782 [00:02<00:14, 47.34it/s, loss=0.282]\u001b[A\n",
      " 14%|█▎        | 106/782 [00:02<00:14, 47.23it/s, loss=0.285]\u001b[A\n",
      " 14%|█▎        | 106/782 [00:02<00:14, 47.13it/s, loss=0.286]\u001b[A\n",
      " 14%|█▎        | 106/782 [00:02<00:14, 47.04it/s, loss=0.285]\u001b[A\n",
      " 14%|█▎        | 106/782 [00:02<00:14, 46.94it/s, loss=0.285]\u001b[A\n",
      " 14%|█▎        | 106/782 [00:02<00:14, 46.86it/s, loss=0.285]\u001b[A\n",
      " 14%|█▎        | 106/782 [00:02<00:14, 46.77it/s, loss=0.284]\u001b[A\n",
      " 14%|█▎        | 106/782 [00:02<00:14, 46.68it/s, loss=0.284]\u001b[A\n",
      " 14%|█▎        | 106/782 [00:02<00:14, 46.60it/s, loss=0.284]\u001b[A\n",
      " 16%|█▌        | 127/782 [00:02<00:11, 55.76it/s, loss=0.284]\u001b[A\n",
      " 16%|█▌        | 127/782 [00:02<00:11, 55.65it/s, loss=0.286]\u001b[A\n",
      " 16%|█▌        | 127/782 [00:02<00:11, 55.55it/s, loss=0.285]\u001b[A\n",
      " 16%|█▌        | 127/782 [00:02<00:11, 55.44it/s, loss=0.285]\u001b[A\n",
      " 16%|█▌        | 127/782 [00:02<00:11, 55.19it/s, loss=0.287]\u001b[A\n",
      " 16%|█▌        | 127/782 [00:02<00:11, 55.08it/s, loss=0.29] \u001b[A\n",
      " 16%|█▌        | 127/782 [00:02<00:11, 54.93it/s, loss=0.288]\u001b[A\n",
      " 16%|█▌        | 127/782 [00:02<00:11, 54.77it/s, loss=0.286]\u001b[A\n",
      " 16%|█▌        | 127/782 [00:02<00:11, 54.64it/s, loss=0.283]\u001b[A\n",
      " 16%|█▌        | 127/782 [00:02<00:12, 54.52it/s, loss=0.282]\u001b[A\n",
      " 16%|█▌        | 127/782 [00:02<00:12, 54.41it/s, loss=0.281]\u001b[A\n",
      " 16%|█▌        | 127/782 [00:02<00:12, 54.29it/s, loss=0.278]\u001b[A\n",
      " 16%|█▌        | 127/782 [00:02<00:12, 54.18it/s, loss=0.281]\u001b[A\n",
      " 16%|█▌        | 127/782 [00:02<00:12, 54.06it/s, loss=0.283]\u001b[A\n",
      " 16%|█▌        | 127/782 [00:02<00:12, 53.97it/s, loss=0.284]\u001b[A\n",
      " 16%|█▌        | 127/782 [00:02<00:12, 53.86it/s, loss=0.281]\u001b[A\n",
      " 16%|█▌        | 127/782 [00:02<00:12, 53.75it/s, loss=0.284]\u001b[A\n",
      " 16%|█▌        | 127/782 [00:02<00:12, 53.65it/s, loss=0.284]\u001b[A\n",
      " 16%|█▌        | 127/782 [00:02<00:12, 53.55it/s, loss=0.284]\u001b[A\n",
      " 16%|█▌        | 127/782 [00:02<00:12, 53.45it/s, loss=0.282]\u001b[A\n",
      " 19%|█▊        | 146/782 [00:02<00:10, 61.38it/s, loss=0.282]\u001b[A\n",
      " 19%|█▊        | 146/782 [00:02<00:10, 61.27it/s, loss=0.283]\u001b[A\n",
      " 19%|█▊        | 146/782 [00:02<00:10, 61.17it/s, loss=0.28] \u001b[A\n",
      " 19%|█▊        | 146/782 [00:02<00:10, 61.05it/s, loss=0.281]\u001b[A\n",
      " 19%|█▊        | 146/782 [00:02<00:10, 60.93it/s, loss=0.287]\u001b[A\n",
      " 19%|█▊        | 146/782 [00:02<00:10, 60.82it/s, loss=0.29] \u001b[A\n",
      " 19%|█▊        | 146/782 [00:02<00:10, 60.68it/s, loss=0.289]\u001b[A\n",
      " 19%|█▊        | 146/782 [00:02<00:10, 60.53it/s, loss=0.29] \u001b[A\n",
      " 19%|█▊        | 146/782 [00:02<00:10, 60.36it/s, loss=0.287]\u001b[A\n",
      " 19%|█▊        | 146/782 [00:02<00:10, 60.24it/s, loss=0.288]\u001b[A\n",
      " 19%|█▊        | 146/782 [00:02<00:10, 60.11it/s, loss=0.287]\u001b[A\n",
      " 19%|█▊        | 146/782 [00:02<00:10, 59.98it/s, loss=0.284]\u001b[A\n",
      " 19%|█▊        | 146/782 [00:02<00:10, 59.85it/s, loss=0.28] \u001b[A\n",
      " 19%|█▊        | 146/782 [00:02<00:10, 59.71it/s, loss=0.28]\u001b[A\n",
      " 19%|█▊        | 146/782 [00:02<00:10, 59.57it/s, loss=0.281]\u001b[A\n",
      " 19%|█▊        | 146/782 [00:02<00:10, 59.45it/s, loss=0.281]\u001b[A\n",
      " 19%|█▊        | 146/782 [00:02<00:10, 59.33it/s, loss=0.283]\u001b[A\n",
      " 19%|█▊        | 146/782 [00:02<00:10, 59.20it/s, loss=0.283]\u001b[A\n",
      " 19%|█▊        | 146/782 [00:02<00:10, 59.10it/s, loss=0.284]\u001b[A\n",
      " 19%|█▊        | 146/782 [00:02<00:10, 58.99it/s, loss=0.282]\u001b[A\n",
      " 19%|█▊        | 146/782 [00:02<00:10, 58.87it/s, loss=0.28] \u001b[A\n",
      " 21%|██        | 166/782 [00:02<00:09, 66.87it/s, loss=0.28]\u001b[A\n",
      " 21%|██        | 166/782 [00:02<00:09, 66.75it/s, loss=0.28]\u001b[A\n",
      " 21%|██        | 166/782 [00:02<00:09, 66.60it/s, loss=0.28]\u001b[A\n",
      " 21%|██        | 166/782 [00:02<00:09, 66.49it/s, loss=0.282]\u001b[A\n",
      " 21%|██        | 166/782 [00:02<00:09, 66.35it/s, loss=0.283]\u001b[A\n",
      " 21%|██        | 166/782 [00:02<00:09, 66.25it/s, loss=0.285]\u001b[A\n",
      " 21%|██        | 166/782 [00:02<00:09, 66.12it/s, loss=0.284]\u001b[A\n",
      " 21%|██        | 166/782 [00:02<00:09, 65.99it/s, loss=0.29] \u001b[A\n",
      " 21%|██        | 166/782 [00:02<00:09, 65.88it/s, loss=0.292]\u001b[A\n",
      " 21%|██        | 166/782 [00:02<00:09, 65.63it/s, loss=0.292]\u001b[A\n",
      " 21%|██        | 166/782 [00:02<00:09, 65.45it/s, loss=0.291]\u001b[A\n",
      " 21%|██        | 166/782 [00:02<00:09, 65.30it/s, loss=0.291]\u001b[A\n",
      " 21%|██        | 166/782 [00:02<00:09, 65.17it/s, loss=0.288]\u001b[A\n",
      " 21%|██        | 166/782 [00:02<00:09, 65.05it/s, loss=0.288]\u001b[A\n",
      " 21%|██        | 166/782 [00:02<00:09, 64.92it/s, loss=0.295]\u001b[A\n",
      " 21%|██        | 166/782 [00:02<00:09, 64.72it/s, loss=0.293]\u001b[A\n",
      " 21%|██        | 166/782 [00:02<00:09, 64.58it/s, loss=0.294]\u001b[A\n"
     ]
    },
    {
     "name": "stdout",
     "output_type": "stream",
     "text": [
      " 21%|██        | 166/782 [00:02<00:09, 64.45it/s, loss=0.292]\u001b[A\n",
      " 21%|██        | 166/782 [00:02<00:09, 64.34it/s, loss=0.29] \u001b[A\n",
      " 24%|██▎       | 184/782 [00:02<00:08, 70.25it/s, loss=0.29]\u001b[A\n",
      " 24%|██▎       | 184/782 [00:02<00:08, 70.14it/s, loss=0.288]\u001b[A\n",
      " 24%|██▎       | 184/782 [00:02<00:08, 70.01it/s, loss=0.288]\u001b[A\n",
      " 24%|██▎       | 184/782 [00:02<00:08, 69.88it/s, loss=0.289]\u001b[A\n",
      " 24%|██▎       | 184/782 [00:02<00:08, 69.69it/s, loss=0.289]\u001b[A\n",
      " 24%|██▎       | 184/782 [00:02<00:08, 69.55it/s, loss=0.29] \u001b[A\n",
      " 24%|██▎       | 184/782 [00:02<00:08, 69.34it/s, loss=0.289]\u001b[A\n",
      " 24%|██▎       | 184/782 [00:02<00:08, 69.21it/s, loss=0.291]\u001b[A\n",
      " 24%|██▎       | 184/782 [00:02<00:08, 69.05it/s, loss=0.29] \u001b[A\n",
      " 24%|██▎       | 184/782 [00:02<00:08, 68.93it/s, loss=0.289]\u001b[A\n",
      " 24%|██▎       | 184/782 [00:02<00:08, 68.81it/s, loss=0.288]\u001b[A\n",
      " 24%|██▎       | 184/782 [00:02<00:08, 68.66it/s, loss=0.288]\u001b[A\n",
      " 24%|██▎       | 184/782 [00:02<00:08, 68.52it/s, loss=0.289]\u001b[A\n",
      " 24%|██▎       | 184/782 [00:02<00:08, 68.40it/s, loss=0.287]\u001b[A\n",
      " 24%|██▎       | 184/782 [00:02<00:08, 68.23it/s, loss=0.287]\u001b[A\n",
      " 24%|██▎       | 184/782 [00:02<00:08, 67.83it/s, loss=0.285]\u001b[A\n",
      " 24%|██▎       | 184/782 [00:02<00:08, 67.71it/s, loss=0.287]\u001b[A\n",
      " 24%|██▎       | 184/782 [00:02<00:08, 67.61it/s, loss=0.286]\u001b[A\n",
      " 26%|██▌       | 201/782 [00:02<00:07, 73.80it/s, loss=0.286]\u001b[A\n",
      " 26%|██▌       | 201/782 [00:02<00:07, 73.68it/s, loss=0.288]\u001b[A\n",
      " 26%|██▌       | 201/782 [00:02<00:07, 73.53it/s, loss=0.289]\u001b[A\n",
      " 26%|██▌       | 201/782 [00:02<00:07, 73.41it/s, loss=0.289]\u001b[A\n",
      " 26%|██▌       | 201/782 [00:02<00:07, 73.27it/s, loss=0.29] \u001b[A\n",
      " 26%|██▌       | 201/782 [00:02<00:07, 73.15it/s, loss=0.285]\u001b[A\n",
      " 26%|██▌       | 201/782 [00:02<00:07, 72.87it/s, loss=0.29] \u001b[A\n",
      " 26%|██▌       | 201/782 [00:02<00:07, 72.71it/s, loss=0.291]\u001b[A\n",
      " 26%|██▌       | 201/782 [00:02<00:08, 72.53it/s, loss=0.288]\u001b[A\n",
      " 26%|██▌       | 201/782 [00:02<00:08, 72.41it/s, loss=0.286]\u001b[A\n",
      " 26%|██▌       | 201/782 [00:02<00:08, 72.25it/s, loss=0.284]\u001b[A\n",
      " 26%|██▌       | 201/782 [00:02<00:08, 72.14it/s, loss=0.284]\u001b[A\n",
      " 26%|██▌       | 201/782 [00:02<00:08, 71.65it/s, loss=0.282]\u001b[A\n",
      " 26%|██▌       | 201/782 [00:02<00:08, 71.53it/s, loss=0.277]\u001b[A\n",
      " 26%|██▌       | 201/782 [00:02<00:08, 71.36it/s, loss=0.281]\u001b[A\n",
      " 26%|██▌       | 201/782 [00:02<00:08, 71.25it/s, loss=0.281]\u001b[A\n",
      " 26%|██▌       | 201/782 [00:02<00:08, 71.13it/s, loss=0.28] \u001b[A\n",
      " 28%|██▊       | 217/782 [00:02<00:07, 76.70it/s, loss=0.28]\u001b[A\n",
      " 28%|██▊       | 217/782 [00:02<00:07, 76.51it/s, loss=0.279]\u001b[A\n",
      " 28%|██▊       | 217/782 [00:02<00:07, 76.01it/s, loss=0.276]\u001b[A\n",
      " 28%|██▊       | 217/782 [00:02<00:07, 75.48it/s, loss=0.279]\u001b[A\n",
      " 28%|██▊       | 217/782 [00:02<00:07, 75.30it/s, loss=0.28] \u001b[A\n",
      " 28%|██▊       | 217/782 [00:02<00:07, 75.17it/s, loss=0.278]\u001b[A\n",
      " 28%|██▊       | 217/782 [00:02<00:07, 75.02it/s, loss=0.279]\u001b[A\n",
      " 28%|██▊       | 217/782 [00:02<00:07, 74.85it/s, loss=0.283]\u001b[A\n",
      " 28%|██▊       | 217/782 [00:02<00:07, 74.71it/s, loss=0.289]\u001b[A\n",
      " 28%|██▊       | 217/782 [00:02<00:07, 74.58it/s, loss=0.288]\u001b[A\n",
      " 28%|██▊       | 217/782 [00:02<00:07, 74.45it/s, loss=0.289]\u001b[A\n",
      " 28%|██▊       | 217/782 [00:02<00:07, 74.32it/s, loss=0.291]\u001b[A\n",
      " 28%|██▊       | 217/782 [00:02<00:07, 74.21it/s, loss=0.288]\u001b[A\n",
      " 28%|██▊       | 217/782 [00:02<00:07, 74.07it/s, loss=0.286]\u001b[A\n",
      " 28%|██▊       | 217/782 [00:02<00:07, 73.95it/s, loss=0.284]\u001b[A\n",
      " 28%|██▊       | 217/782 [00:02<00:07, 73.83it/s, loss=0.283]\u001b[A\n",
      " 30%|██▉       | 232/782 [00:02<00:06, 78.83it/s, loss=0.283]\u001b[A\n",
      " 30%|██▉       | 232/782 [00:02<00:06, 78.71it/s, loss=0.281]\u001b[A\n",
      " 30%|██▉       | 232/782 [00:02<00:07, 78.47it/s, loss=0.281]\u001b[A\n",
      " 30%|██▉       | 232/782 [00:02<00:07, 78.27it/s, loss=0.282]\u001b[A\n",
      " 30%|██▉       | 232/782 [00:02<00:07, 78.09it/s, loss=0.281]\u001b[A\n",
      " 30%|██▉       | 232/782 [00:02<00:07, 77.90it/s, loss=0.28] \u001b[A\n",
      " 30%|██▉       | 232/782 [00:02<00:07, 77.76it/s, loss=0.279]\u001b[A\n",
      " 30%|██▉       | 232/782 [00:02<00:07, 77.63it/s, loss=0.282]\u001b[A\n",
      " 30%|██▉       | 232/782 [00:02<00:07, 77.49it/s, loss=0.283]\u001b[A\n",
      " 30%|██▉       | 232/782 [00:02<00:07, 77.35it/s, loss=0.283]\u001b[A\n",
      " 30%|██▉       | 232/782 [00:03<00:07, 77.23it/s, loss=0.28] \u001b[A\n",
      " 30%|██▉       | 232/782 [00:03<00:07, 77.10it/s, loss=0.279]\u001b[A\n",
      " 30%|██▉       | 232/782 [00:03<00:07, 76.99it/s, loss=0.278]\u001b[A\n",
      " 30%|██▉       | 232/782 [00:03<00:07, 76.87it/s, loss=0.277]\u001b[A\n",
      " 30%|██▉       | 232/782 [00:03<00:07, 76.74it/s, loss=0.276]\u001b[A\n",
      " 30%|██▉       | 232/782 [00:03<00:07, 76.62it/s, loss=0.277]\u001b[A\n",
      " 30%|██▉       | 232/782 [00:03<00:07, 76.50it/s, loss=0.276]\u001b[A\n",
      " 30%|██▉       | 232/782 [00:03<00:07, 76.38it/s, loss=0.278]\u001b[A\n",
      " 30%|██▉       | 232/782 [00:03<00:07, 76.24it/s, loss=0.28] \u001b[A\n",
      " 32%|███▏      | 250/782 [00:03<00:06, 82.01it/s, loss=0.28]\u001b[A\n",
      " 32%|███▏      | 250/782 [00:03<00:06, 81.84it/s, loss=0.279]\u001b[A\n",
      " 32%|███▏      | 250/782 [00:03<00:06, 81.72it/s, loss=0.286]\u001b[A\n",
      " 32%|███▏      | 250/782 [00:03<00:06, 81.50it/s, loss=0.285]\u001b[A\n",
      " 32%|███▏      | 250/782 [00:03<00:06, 81.38it/s, loss=0.285]\u001b[A\n",
      " 32%|███▏      | 250/782 [00:03<00:06, 81.26it/s, loss=0.286]\u001b[A\n",
      " 32%|███▏      | 250/782 [00:03<00:06, 81.12it/s, loss=0.283]\u001b[A\n",
      " 32%|███▏      | 250/782 [00:03<00:06, 80.99it/s, loss=0.286]\u001b[A\n",
      " 32%|███▏      | 250/782 [00:03<00:06, 80.87it/s, loss=0.283]\u001b[A\n",
      " 32%|███▏      | 250/782 [00:03<00:06, 80.75it/s, loss=0.282]\u001b[A\n",
      " 32%|███▏      | 250/782 [00:03<00:06, 80.64it/s, loss=0.284]\u001b[A\n",
      " 32%|███▏      | 250/782 [00:03<00:06, 80.51it/s, loss=0.284]\u001b[A\n",
      " 32%|███▏      | 250/782 [00:03<00:06, 80.40it/s, loss=0.284]\u001b[A\n",
      " 32%|███▏      | 250/782 [00:03<00:06, 80.27it/s, loss=0.288]\u001b[A\n",
      " 32%|███▏      | 250/782 [00:03<00:06, 77.85it/s, loss=0.286]\u001b[A\n",
      " 32%|███▏      | 250/782 [00:03<00:06, 77.71it/s, loss=0.289]\u001b[A\n",
      " 32%|███▏      | 250/782 [00:03<00:06, 77.56it/s, loss=0.291]\u001b[A\n",
      " 34%|███▍      | 266/782 [00:03<00:06, 82.44it/s, loss=0.291]\u001b[A\n",
      " 34%|███▍      | 266/782 [00:03<00:06, 82.32it/s, loss=0.29] \u001b[A\n",
      " 34%|███▍      | 266/782 [00:03<00:06, 82.18it/s, loss=0.288]\u001b[A\n",
      " 34%|███▍      | 266/782 [00:03<00:06, 82.07it/s, loss=0.286]\u001b[A\n",
      " 34%|███▍      | 266/782 [00:03<00:06, 81.94it/s, loss=0.287]\u001b[A\n",
      " 34%|███▍      | 266/782 [00:03<00:06, 81.81it/s, loss=0.283]\u001b[A\n",
      " 34%|███▍      | 266/782 [00:03<00:06, 81.68it/s, loss=0.286]\u001b[A\n",
      " 34%|███▍      | 266/782 [00:03<00:06, 81.55it/s, loss=0.284]\u001b[A\n",
      " 34%|███▍      | 266/782 [00:03<00:06, 81.45it/s, loss=0.291]\u001b[A\n",
      " 34%|███▍      | 266/782 [00:03<00:06, 81.34it/s, loss=0.291]\u001b[A\n",
      " 34%|███▍      | 266/782 [00:03<00:06, 81.22it/s, loss=0.29] \u001b[A\n",
      " 34%|███▍      | 266/782 [00:03<00:06, 81.10it/s, loss=0.291]\u001b[A\n",
      " 34%|███▍      | 266/782 [00:03<00:06, 81.00it/s, loss=0.29] \u001b[A\n",
      " 34%|███▍      | 266/782 [00:03<00:06, 80.89it/s, loss=0.29]\u001b[A\n",
      " 34%|███▍      | 266/782 [00:03<00:06, 80.78it/s, loss=0.29]\u001b[A\n",
      " 34%|███▍      | 266/782 [00:03<00:06, 80.52it/s, loss=0.295]\u001b[A\n",
      " 34%|███▍      | 266/782 [00:03<00:06, 80.40it/s, loss=0.297]\u001b[A\n",
      " 34%|███▍      | 266/782 [00:03<00:06, 80.27it/s, loss=0.294]\u001b[A\n",
      " 34%|███▍      | 266/782 [00:03<00:06, 80.04it/s, loss=0.29] \u001b[A\n",
      " 34%|███▍      | 266/782 [00:03<00:06, 79.92it/s, loss=0.29]\u001b[A\n",
      " 36%|███▋      | 285/782 [00:03<00:05, 85.55it/s, loss=0.29]\u001b[A\n",
      " 36%|███▋      | 285/782 [00:03<00:05, 85.40it/s, loss=0.289]\u001b[A\n",
      " 36%|███▋      | 285/782 [00:03<00:05, 85.29it/s, loss=0.29] \u001b[A\n",
      " 36%|███▋      | 285/782 [00:03<00:05, 85.17it/s, loss=0.291]\u001b[A\n",
      " 36%|███▋      | 285/782 [00:03<00:05, 85.05it/s, loss=0.288]\u001b[A\n",
      " 36%|███▋      | 285/782 [00:03<00:05, 84.95it/s, loss=0.286]\u001b[A\n",
      " 36%|███▋      | 285/782 [00:03<00:05, 84.83it/s, loss=0.285]\u001b[A\n",
      " 36%|███▋      | 285/782 [00:03<00:05, 84.72it/s, loss=0.281]\u001b[A\n",
      " 36%|███▋      | 285/782 [00:03<00:05, 84.59it/s, loss=0.281]\u001b[A\n",
      " 36%|███▋      | 285/782 [00:03<00:05, 84.48it/s, loss=0.282]\u001b[A\n",
      " 36%|███▋      | 285/782 [00:03<00:05, 84.36it/s, loss=0.283]\u001b[A\n",
      " 36%|███▋      | 285/782 [00:03<00:05, 84.15it/s, loss=0.281]\u001b[A\n",
      " 36%|███▋      | 285/782 [00:03<00:05, 84.03it/s, loss=0.278]\u001b[A\n",
      " 36%|███▋      | 285/782 [00:03<00:05, 83.91it/s, loss=0.281]\u001b[A\n",
      " 36%|███▋      | 285/782 [00:03<00:05, 83.71it/s, loss=0.28] \u001b[A\n",
      " 36%|███▋      | 285/782 [00:03<00:05, 83.57it/s, loss=0.279]\u001b[A\n",
      " 36%|███▋      | 285/782 [00:03<00:05, 83.45it/s, loss=0.278]\u001b[A\n"
     ]
    },
    {
     "name": "stdout",
     "output_type": "stream",
     "text": [
      " 36%|███▋      | 285/782 [00:03<00:05, 83.33it/s, loss=0.283]\u001b[A\n",
      " 36%|███▋      | 285/782 [00:03<00:05, 83.21it/s, loss=0.286]\u001b[A\n",
      " 36%|███▋      | 285/782 [00:03<00:05, 83.08it/s, loss=0.289]\u001b[A\n",
      " 39%|███▉      | 304/782 [00:03<00:05, 88.55it/s, loss=0.289]\u001b[A\n",
      " 39%|███▉      | 304/782 [00:03<00:05, 88.43it/s, loss=0.288]\u001b[A\n",
      " 39%|███▉      | 304/782 [00:03<00:05, 88.31it/s, loss=0.29] \u001b[A\n",
      " 39%|███▉      | 304/782 [00:03<00:05, 88.20it/s, loss=0.288]\u001b[A\n",
      " 39%|███▉      | 304/782 [00:03<00:05, 88.09it/s, loss=0.288]\u001b[A\n",
      " 39%|███▉      | 304/782 [00:03<00:05, 87.98it/s, loss=0.288]\u001b[A\n",
      " 39%|███▉      | 304/782 [00:03<00:05, 87.85it/s, loss=0.288]\u001b[A\n",
      " 39%|███▉      | 304/782 [00:03<00:05, 87.74it/s, loss=0.289]\u001b[A\n",
      " 39%|███▉      | 304/782 [00:03<00:05, 87.63it/s, loss=0.289]\u001b[A\n",
      " 39%|███▉      | 304/782 [00:03<00:05, 87.51it/s, loss=0.29] \u001b[A\n",
      " 39%|███▉      | 304/782 [00:03<00:05, 87.35it/s, loss=0.289]\u001b[A\n",
      " 39%|███▉      | 304/782 [00:03<00:05, 87.23it/s, loss=0.291]\u001b[A\n",
      " 39%|███▉      | 304/782 [00:03<00:05, 87.06it/s, loss=0.292]\u001b[A\n",
      " 39%|███▉      | 304/782 [00:03<00:05, 86.90it/s, loss=0.294]\u001b[A\n",
      " 39%|███▉      | 304/782 [00:03<00:05, 86.73it/s, loss=0.292]\u001b[A\n",
      " 39%|███▉      | 304/782 [00:03<00:05, 86.61it/s, loss=0.293]\u001b[A\n",
      " 39%|███▉      | 304/782 [00:03<00:05, 86.44it/s, loss=0.293]\u001b[A\n",
      " 39%|███▉      | 304/782 [00:03<00:05, 86.30it/s, loss=0.292]\u001b[A\n",
      " 39%|███▉      | 304/782 [00:03<00:05, 86.18it/s, loss=0.293]\u001b[A\n",
      " 39%|███▉      | 304/782 [00:03<00:05, 86.05it/s, loss=0.292]\u001b[A\n",
      " 41%|████▏     | 323/782 [00:03<00:05, 91.34it/s, loss=0.292]\u001b[A\n",
      " 41%|████▏     | 323/782 [00:03<00:05, 91.22it/s, loss=0.29] \u001b[A\n",
      " 41%|████▏     | 323/782 [00:03<00:05, 91.08it/s, loss=0.291]\u001b[A\n",
      " 41%|████▏     | 323/782 [00:03<00:05, 90.68it/s, loss=0.287]\u001b[A\n",
      " 41%|████▏     | 323/782 [00:03<00:05, 90.55it/s, loss=0.285]\u001b[A\n",
      " 41%|████▏     | 323/782 [00:03<00:05, 90.34it/s, loss=0.287]\u001b[A\n",
      " 41%|████▏     | 323/782 [00:03<00:05, 89.75it/s, loss=0.286]\u001b[A\n",
      " 41%|████▏     | 323/782 [00:03<00:05, 89.35it/s, loss=0.283]\u001b[A\n",
      " 41%|████▏     | 323/782 [00:03<00:05, 88.96it/s, loss=0.281]\u001b[A\n",
      " 41%|████▏     | 323/782 [00:03<00:05, 88.69it/s, loss=0.281]\u001b[A\n",
      " 41%|████▏     | 323/782 [00:03<00:05, 88.32it/s, loss=0.28] \u001b[A\n",
      " 41%|████▏     | 323/782 [00:03<00:05, 88.11it/s, loss=0.285]\u001b[A\n",
      " 41%|████▏     | 323/782 [00:03<00:05, 87.81it/s, loss=0.286]\u001b[A\n",
      " 41%|████▏     | 323/782 [00:03<00:05, 87.65it/s, loss=0.285]\u001b[A\n",
      " 41%|████▏     | 323/782 [00:03<00:05, 87.48it/s, loss=0.285]\u001b[A\n",
      " 41%|████▏     | 323/782 [00:03<00:05, 87.15it/s, loss=0.286]\u001b[A\n",
      " 41%|████▏     | 323/782 [00:03<00:05, 87.03it/s, loss=0.286]\u001b[A\n",
      " 41%|████▏     | 323/782 [00:03<00:05, 86.92it/s, loss=0.287]\u001b[A\n",
      " 43%|████▎     | 340/782 [00:03<00:04, 91.42it/s, loss=0.287]\u001b[A\n",
      " 43%|████▎     | 340/782 [00:03<00:04, 91.31it/s, loss=0.291]\u001b[A\n",
      " 43%|████▎     | 340/782 [00:03<00:04, 88.43it/s, loss=0.289]\u001b[A\n",
      " 43%|████▎     | 340/782 [00:03<00:05, 88.33it/s, loss=0.289]\u001b[A\n",
      " 43%|████▎     | 340/782 [00:03<00:05, 88.23it/s, loss=0.29] \u001b[A\n",
      " 43%|████▎     | 340/782 [00:03<00:05, 88.11it/s, loss=0.288]\u001b[A\n",
      " 43%|████▎     | 340/782 [00:03<00:05, 88.01it/s, loss=0.288]\u001b[A\n",
      " 43%|████▎     | 340/782 [00:03<00:05, 87.89it/s, loss=0.286]\u001b[A\n",
      " 43%|████▎     | 340/782 [00:03<00:05, 87.77it/s, loss=0.285]\u001b[A\n",
      " 43%|████▎     | 340/782 [00:03<00:05, 87.65it/s, loss=0.294]\u001b[A\n",
      " 43%|████▎     | 340/782 [00:03<00:05, 87.56it/s, loss=0.292]\u001b[A\n",
      " 43%|████▎     | 340/782 [00:03<00:05, 87.45it/s, loss=0.291]\u001b[A\n",
      " 43%|████▎     | 340/782 [00:03<00:05, 87.35it/s, loss=0.289]\u001b[A\n",
      " 43%|████▎     | 340/782 [00:03<00:05, 87.25it/s, loss=0.289]\u001b[A\n",
      " 43%|████▎     | 340/782 [00:03<00:05, 87.13it/s, loss=0.289]\u001b[A\n",
      " 43%|████▎     | 340/782 [00:03<00:05, 87.04it/s, loss=0.288]\u001b[A\n",
      " 45%|████▌     | 355/782 [00:03<00:04, 90.83it/s, loss=0.288]\u001b[A\n",
      " 45%|████▌     | 355/782 [00:03<00:04, 90.72it/s, loss=0.287]\u001b[A\n",
      " 45%|████▌     | 355/782 [00:03<00:04, 90.62it/s, loss=0.288]\u001b[A\n",
      " 45%|████▌     | 355/782 [00:03<00:04, 90.50it/s, loss=0.288]\u001b[A\n",
      " 45%|████▌     | 355/782 [00:03<00:04, 90.39it/s, loss=0.287]\u001b[A\n",
      " 45%|████▌     | 355/782 [00:03<00:04, 90.30it/s, loss=0.288]\u001b[A\n",
      " 45%|████▌     | 355/782 [00:03<00:04, 89.99it/s, loss=0.29] \u001b[A\n",
      " 45%|████▌     | 355/782 [00:03<00:04, 89.87it/s, loss=0.289]\u001b[A\n",
      " 45%|████▌     | 355/782 [00:03<00:04, 89.69it/s, loss=0.286]\u001b[A\n",
      " 45%|████▌     | 355/782 [00:03<00:04, 89.58it/s, loss=0.285]\u001b[A\n",
      " 45%|████▌     | 355/782 [00:03<00:04, 89.46it/s, loss=0.285]\u001b[A\n",
      " 45%|████▌     | 355/782 [00:03<00:04, 89.36it/s, loss=0.286]\u001b[A\n",
      " 45%|████▌     | 355/782 [00:03<00:04, 89.24it/s, loss=0.284]\u001b[A\n",
      " 45%|████▌     | 355/782 [00:03<00:04, 89.13it/s, loss=0.283]\u001b[A\n",
      " 45%|████▌     | 355/782 [00:03<00:04, 89.02it/s, loss=0.287]\u001b[A\n",
      " 45%|████▌     | 355/782 [00:03<00:04, 88.90it/s, loss=0.29] \u001b[A\n",
      " 45%|████▌     | 355/782 [00:03<00:04, 88.77it/s, loss=0.287]\u001b[A\n",
      " 45%|████▌     | 355/782 [00:04<00:04, 88.65it/s, loss=0.288]\u001b[A\n",
      " 45%|████▌     | 355/782 [00:04<00:04, 88.53it/s, loss=0.283]\u001b[A\n",
      " 48%|████▊     | 373/782 [00:04<00:04, 92.96it/s, loss=0.283]\u001b[A\n",
      " 48%|████▊     | 373/782 [00:04<00:04, 92.87it/s, loss=0.281]\u001b[A\n",
      " 48%|████▊     | 373/782 [00:04<00:04, 92.74it/s, loss=0.283]\u001b[A\n",
      " 48%|████▊     | 373/782 [00:04<00:04, 92.63it/s, loss=0.283]\u001b[A\n",
      " 48%|████▊     | 373/782 [00:04<00:04, 92.52it/s, loss=0.282]\u001b[A\n",
      " 48%|████▊     | 373/782 [00:04<00:04, 92.40it/s, loss=0.284]\u001b[A\n",
      " 48%|████▊     | 373/782 [00:04<00:04, 92.31it/s, loss=0.282]\u001b[A\n",
      " 48%|████▊     | 373/782 [00:04<00:04, 92.20it/s, loss=0.287]\u001b[A\n",
      " 48%|████▊     | 373/782 [00:04<00:04, 92.10it/s, loss=0.287]\u001b[A\n",
      " 48%|████▊     | 373/782 [00:04<00:04, 91.98it/s, loss=0.291]\u001b[A\n",
      " 48%|████▊     | 373/782 [00:04<00:04, 91.88it/s, loss=0.29] \u001b[A\n",
      " 48%|████▊     | 373/782 [00:04<00:04, 91.79it/s, loss=0.291]\u001b[A\n",
      " 48%|████▊     | 373/782 [00:04<00:04, 91.67it/s, loss=0.29] \u001b[A\n",
      " 48%|████▊     | 373/782 [00:04<00:04, 91.53it/s, loss=0.289]\u001b[A\n",
      " 48%|████▊     | 373/782 [00:04<00:04, 91.41it/s, loss=0.286]\u001b[A\n",
      " 48%|████▊     | 373/782 [00:04<00:04, 91.31it/s, loss=0.287]\u001b[A\n",
      " 48%|████▊     | 373/782 [00:04<00:04, 91.21it/s, loss=0.285]\u001b[A\n",
      " 48%|████▊     | 373/782 [00:04<00:04, 91.10it/s, loss=0.289]\u001b[A\n",
      " 48%|████▊     | 373/782 [00:04<00:04, 90.99it/s, loss=0.288]\u001b[A\n",
      " 48%|████▊     | 373/782 [00:04<00:04, 90.88it/s, loss=0.286]\u001b[A\n",
      " 48%|████▊     | 373/782 [00:04<00:04, 90.75it/s, loss=0.285]\u001b[A\n",
      " 50%|█████     | 393/782 [00:04<00:04, 95.55it/s, loss=0.285]\u001b[A\n",
      " 50%|█████     | 393/782 [00:04<00:04, 95.42it/s, loss=0.283]\u001b[A\n",
      " 50%|█████     | 393/782 [00:04<00:04, 95.31it/s, loss=0.284]\u001b[A\n",
      " 50%|█████     | 393/782 [00:04<00:04, 95.17it/s, loss=0.284]\u001b[A\n",
      " 50%|█████     | 393/782 [00:04<00:04, 94.92it/s, loss=0.282]\u001b[A\n",
      " 50%|█████     | 393/782 [00:04<00:04, 94.80it/s, loss=0.283]\u001b[A\n",
      " 50%|█████     | 393/782 [00:04<00:04, 94.67it/s, loss=0.282]\u001b[A\n",
      " 50%|█████     | 393/782 [00:04<00:04, 94.50it/s, loss=0.28] \u001b[A\n",
      " 50%|█████     | 393/782 [00:04<00:04, 94.38it/s, loss=0.281]\u001b[A\n",
      " 50%|█████     | 393/782 [00:04<00:04, 94.23it/s, loss=0.281]\u001b[A\n",
      " 50%|█████     | 393/782 [00:04<00:04, 94.10it/s, loss=0.284]\u001b[A\n",
      " 50%|█████     | 393/782 [00:04<00:04, 94.00it/s, loss=0.284]\u001b[A\n",
      " 50%|█████     | 393/782 [00:04<00:04, 93.89it/s, loss=0.287]\u001b[A\n",
      " 50%|█████     | 393/782 [00:04<00:04, 93.78it/s, loss=0.286]\u001b[A\n",
      " 50%|█████     | 393/782 [00:04<00:04, 93.67it/s, loss=0.286]\u001b[A\n",
      " 50%|█████     | 393/782 [00:04<00:04, 93.57it/s, loss=0.286]\u001b[A\n",
      " 50%|█████     | 393/782 [00:04<00:04, 93.45it/s, loss=0.285]\u001b[A\n",
      " 50%|█████     | 393/782 [00:04<00:04, 93.35it/s, loss=0.286]\u001b[A\n",
      " 50%|█████     | 393/782 [00:04<00:04, 93.25it/s, loss=0.287]\u001b[A\n",
      " 53%|█████▎    | 411/782 [00:04<00:03, 97.46it/s, loss=0.287]\u001b[A\n",
      " 53%|█████▎    | 411/782 [00:04<00:03, 97.35it/s, loss=0.289]\u001b[A\n",
      " 53%|█████▎    | 411/782 [00:04<00:03, 97.23it/s, loss=0.289]\u001b[A\n",
      " 53%|█████▎    | 411/782 [00:04<00:03, 97.14it/s, loss=0.287]\u001b[A\n",
      " 53%|█████▎    | 411/782 [00:04<00:03, 97.03it/s, loss=0.285]\u001b[A\n",
      " 53%|█████▎    | 411/782 [00:04<00:03, 96.93it/s, loss=0.283]\u001b[A\n",
      " 53%|█████▎    | 411/782 [00:04<00:03, 96.83it/s, loss=0.282]\u001b[A\n",
      " 53%|█████▎    | 411/782 [00:04<00:03, 96.73it/s, loss=0.283]\u001b[A\n",
      " 53%|█████▎    | 411/782 [00:04<00:03, 96.62it/s, loss=0.283]\u001b[A\n",
      " 53%|█████▎    | 411/782 [00:04<00:03, 96.53it/s, loss=0.281]\u001b[A\n"
     ]
    },
    {
     "name": "stdout",
     "output_type": "stream",
     "text": [
      " 53%|█████▎    | 411/782 [00:04<00:03, 93.81it/s, loss=0.286]\u001b[A\n",
      " 53%|█████▎    | 411/782 [00:04<00:03, 93.72it/s, loss=0.288]\u001b[A\n",
      " 53%|█████▎    | 411/782 [00:04<00:03, 93.59it/s, loss=0.288]\u001b[A\n",
      " 53%|█████▎    | 411/782 [00:04<00:03, 93.49it/s, loss=0.285]\u001b[A\n",
      " 53%|█████▎    | 411/782 [00:04<00:03, 93.13it/s, loss=0.286]\u001b[A\n",
      " 53%|█████▎    | 411/782 [00:04<00:03, 92.88it/s, loss=0.286]\u001b[A\n",
      " 53%|█████▎    | 411/782 [00:04<00:03, 92.76it/s, loss=0.288]\u001b[A\n",
      " 53%|█████▎    | 411/782 [00:04<00:04, 92.66it/s, loss=0.295]\u001b[A\n",
      " 55%|█████▍    | 428/782 [00:04<00:03, 96.43it/s, loss=0.295]\u001b[A\n",
      " 55%|█████▍    | 428/782 [00:04<00:03, 96.34it/s, loss=0.295]\u001b[A\n",
      " 55%|█████▍    | 428/782 [00:04<00:03, 96.25it/s, loss=0.295]\u001b[A\n",
      " 55%|█████▍    | 428/782 [00:04<00:03, 96.15it/s, loss=0.293]\u001b[A\n",
      " 55%|█████▍    | 428/782 [00:04<00:03, 96.04it/s, loss=0.292]\u001b[A\n",
      " 55%|█████▍    | 428/782 [00:04<00:03, 95.94it/s, loss=0.29] \u001b[A\n",
      " 55%|█████▍    | 428/782 [00:04<00:03, 95.85it/s, loss=0.288]\u001b[A\n",
      " 55%|█████▍    | 428/782 [00:04<00:03, 95.76it/s, loss=0.291]\u001b[A\n",
      " 55%|█████▍    | 428/782 [00:04<00:03, 95.67it/s, loss=0.294]\u001b[A\n",
      " 55%|█████▍    | 428/782 [00:04<00:03, 95.57it/s, loss=0.295]\u001b[A\n",
      " 55%|█████▍    | 428/782 [00:04<00:03, 95.48it/s, loss=0.295]\u001b[A\n",
      " 55%|█████▍    | 428/782 [00:04<00:03, 95.39it/s, loss=0.294]\u001b[A\n",
      " 55%|█████▍    | 428/782 [00:04<00:03, 95.29it/s, loss=0.293]\u001b[A\n",
      " 55%|█████▍    | 428/782 [00:04<00:03, 95.19it/s, loss=0.296]\u001b[A\n",
      " 55%|█████▍    | 428/782 [00:04<00:03, 95.09it/s, loss=0.294]\u001b[A\n",
      " 55%|█████▍    | 428/782 [00:04<00:03, 95.00it/s, loss=0.297]\u001b[A\n",
      " 55%|█████▍    | 428/782 [00:04<00:03, 94.90it/s, loss=0.294]\u001b[A\n",
      " 55%|█████▍    | 428/782 [00:04<00:03, 94.81it/s, loss=0.298]\u001b[A\n",
      " 55%|█████▍    | 428/782 [00:04<00:03, 94.71it/s, loss=0.297]\u001b[A\n",
      " 55%|█████▍    | 428/782 [00:04<00:03, 94.62it/s, loss=0.296]\u001b[A\n",
      " 55%|█████▍    | 428/782 [00:04<00:03, 94.51it/s, loss=0.293]\u001b[A\n",
      " 55%|█████▍    | 428/782 [00:04<00:03, 94.42it/s, loss=0.294]\u001b[A\n",
      " 55%|█████▍    | 428/782 [00:04<00:03, 94.33it/s, loss=0.296]\u001b[A\n",
      " 58%|█████▊    | 450/782 [00:04<00:03, 99.13it/s, loss=0.296]\u001b[A\n",
      " 58%|█████▊    | 450/782 [00:04<00:03, 99.02it/s, loss=0.295]\u001b[A\n",
      " 58%|█████▊    | 450/782 [00:04<00:03, 98.76it/s, loss=0.294]\u001b[A\n",
      " 58%|█████▊    | 450/782 [00:04<00:03, 98.65it/s, loss=0.291]\u001b[A\n",
      " 58%|█████▊    | 450/782 [00:04<00:03, 98.55it/s, loss=0.295]\u001b[A\n",
      " 58%|█████▊    | 450/782 [00:04<00:03, 98.43it/s, loss=0.295]\u001b[A\n",
      " 58%|█████▊    | 450/782 [00:04<00:03, 98.30it/s, loss=0.293]\u001b[A\n",
      " 58%|█████▊    | 450/782 [00:04<00:03, 98.19it/s, loss=0.291]\u001b[A\n",
      " 58%|█████▊    | 450/782 [00:04<00:03, 98.07it/s, loss=0.289]\u001b[A\n",
      " 58%|█████▊    | 450/782 [00:04<00:03, 97.96it/s, loss=0.29] \u001b[A\n",
      " 58%|█████▊    | 450/782 [00:04<00:03, 97.86it/s, loss=0.291]\u001b[A\n",
      " 58%|█████▊    | 450/782 [00:04<00:03, 97.77it/s, loss=0.295]\u001b[A\n",
      " 58%|█████▊    | 450/782 [00:04<00:03, 97.67it/s, loss=0.295]\u001b[A\n",
      " 58%|█████▊    | 450/782 [00:04<00:03, 97.58it/s, loss=0.294]\u001b[A\n",
      " 58%|█████▊    | 450/782 [00:04<00:03, 97.49it/s, loss=0.292]\u001b[A\n",
      " 58%|█████▊    | 450/782 [00:04<00:03, 97.39it/s, loss=0.292]\u001b[A\n",
      " 58%|█████▊    | 450/782 [00:04<00:03, 97.28it/s, loss=0.29] \u001b[A\n",
      " 58%|█████▊    | 450/782 [00:04<00:03, 97.18it/s, loss=0.292]\u001b[A\n",
      " 58%|█████▊    | 450/782 [00:04<00:03, 97.08it/s, loss=0.295]\u001b[A\n",
      " 58%|█████▊    | 450/782 [00:04<00:03, 96.98it/s, loss=0.294]\u001b[A\n",
      " 60%|█████▉    | 469/782 [00:04<00:03, 101.02it/s, loss=0.294]\u001b[A\n",
      " 60%|█████▉    | 469/782 [00:04<00:03, 100.91it/s, loss=0.292]\u001b[A\n",
      " 60%|█████▉    | 469/782 [00:04<00:03, 100.82it/s, loss=0.294]\u001b[A\n",
      " 60%|█████▉    | 469/782 [00:04<00:03, 100.71it/s, loss=0.299]\u001b[A\n",
      " 60%|█████▉    | 469/782 [00:04<00:03, 100.62it/s, loss=0.299]\u001b[A\n",
      " 60%|█████▉    | 469/782 [00:04<00:03, 100.53it/s, loss=0.297]\u001b[A\n",
      " 60%|█████▉    | 469/782 [00:04<00:03, 100.43it/s, loss=0.295]\u001b[A\n",
      " 60%|█████▉    | 469/782 [00:04<00:03, 100.33it/s, loss=0.297]\u001b[A\n",
      " 60%|█████▉    | 469/782 [00:04<00:03, 100.22it/s, loss=0.296]\u001b[A\n",
      " 60%|█████▉    | 469/782 [00:04<00:03, 100.13it/s, loss=0.296]\u001b[A\n",
      " 60%|█████▉    | 469/782 [00:04<00:03, 100.03it/s, loss=0.296]\u001b[A\n",
      " 60%|█████▉    | 469/782 [00:04<00:03, 99.94it/s, loss=0.292] \u001b[A\n",
      " 60%|█████▉    | 469/782 [00:04<00:03, 99.81it/s, loss=0.29] \u001b[A\n",
      " 60%|█████▉    | 469/782 [00:04<00:03, 99.61it/s, loss=0.286]\u001b[A\n",
      " 60%|█████▉    | 469/782 [00:04<00:03, 99.50it/s, loss=0.282]\u001b[A\n",
      " 60%|█████▉    | 469/782 [00:04<00:03, 99.39it/s, loss=0.28] \u001b[A\n",
      " 60%|█████▉    | 469/782 [00:04<00:03, 99.21it/s, loss=0.28]\u001b[A\n",
      " 60%|█████▉    | 469/782 [00:04<00:03, 99.09it/s, loss=0.278]\u001b[A\n",
      " 60%|█████▉    | 469/782 [00:04<00:03, 98.96it/s, loss=0.28] \u001b[A\n",
      " 60%|█████▉    | 469/782 [00:04<00:03, 98.83it/s, loss=0.28]\u001b[A\n",
      " 62%|██████▏   | 488/782 [00:04<00:02, 102.78it/s, loss=0.28]\u001b[A\n",
      " 62%|██████▏   | 488/782 [00:04<00:02, 102.68it/s, loss=0.278]\u001b[A\n",
      " 62%|██████▏   | 488/782 [00:04<00:02, 102.56it/s, loss=0.279]\u001b[A\n",
      " 62%|██████▏   | 488/782 [00:04<00:02, 102.43it/s, loss=0.278]\u001b[A\n",
      " 62%|██████▏   | 488/782 [00:04<00:02, 102.34it/s, loss=0.277]\u001b[A\n",
      " 62%|██████▏   | 488/782 [00:04<00:02, 102.23it/s, loss=0.278]\u001b[A\n",
      " 62%|██████▏   | 488/782 [00:04<00:02, 102.13it/s, loss=0.277]\u001b[A\n",
      " 62%|██████▏   | 488/782 [00:04<00:02, 102.03it/s, loss=0.277]\u001b[A\n",
      " 62%|██████▏   | 488/782 [00:04<00:02, 101.94it/s, loss=0.278]\u001b[A\n",
      " 62%|██████▏   | 488/782 [00:04<00:02, 101.84it/s, loss=0.281]\u001b[A\n",
      " 62%|██████▏   | 488/782 [00:04<00:02, 101.73it/s, loss=0.281]\u001b[A\n",
      " 62%|██████▏   | 488/782 [00:04<00:02, 101.63it/s, loss=0.279]\u001b[A\n",
      " 62%|██████▏   | 488/782 [00:04<00:02, 101.53it/s, loss=0.278]\u001b[A\n",
      " 62%|██████▏   | 488/782 [00:04<00:02, 99.12it/s, loss=0.275] \u001b[A\n",
      " 62%|██████▏   | 488/782 [00:04<00:02, 99.02it/s, loss=0.275]\u001b[A\n",
      " 62%|██████▏   | 488/782 [00:04<00:02, 98.94it/s, loss=0.275]\u001b[A\n",
      " 62%|██████▏   | 488/782 [00:04<00:02, 98.83it/s, loss=0.275]\u001b[A\n",
      " 62%|██████▏   | 488/782 [00:04<00:02, 98.73it/s, loss=0.272]\u001b[A\n",
      " 62%|██████▏   | 488/782 [00:04<00:02, 98.41it/s, loss=0.269]\u001b[A\n",
      " 65%|██████▍   | 506/782 [00:04<00:02, 101.97it/s, loss=0.269]\u001b[A\n",
      " 65%|██████▍   | 506/782 [00:04<00:02, 101.87it/s, loss=0.274]\u001b[A\n",
      " 65%|██████▍   | 506/782 [00:04<00:02, 101.76it/s, loss=0.282]\u001b[A\n",
      " 65%|██████▍   | 506/782 [00:04<00:02, 101.66it/s, loss=0.279]\u001b[A\n",
      " 65%|██████▍   | 506/782 [00:04<00:02, 101.57it/s, loss=0.277]\u001b[A\n",
      " 65%|██████▍   | 506/782 [00:04<00:02, 101.45it/s, loss=0.277]\u001b[A\n",
      " 65%|██████▍   | 506/782 [00:04<00:02, 101.36it/s, loss=0.276]\u001b[A\n",
      " 65%|██████▍   | 506/782 [00:04<00:02, 101.23it/s, loss=0.277]\u001b[A\n",
      " 65%|██████▍   | 506/782 [00:05<00:02, 101.07it/s, loss=0.277]\u001b[A\n",
      " 65%|██████▍   | 506/782 [00:05<00:02, 100.93it/s, loss=0.278]\u001b[A\n",
      " 65%|██████▍   | 506/782 [00:05<00:02, 100.81it/s, loss=0.278]\u001b[A\n",
      " 65%|██████▍   | 506/782 [00:05<00:02, 100.70it/s, loss=0.278]\u001b[A\n",
      " 65%|██████▍   | 506/782 [00:05<00:02, 100.60it/s, loss=0.276]\u001b[A\n",
      " 65%|██████▍   | 506/782 [00:05<00:02, 100.45it/s, loss=0.275]\u001b[A\n",
      " 65%|██████▍   | 506/782 [00:05<00:02, 100.33it/s, loss=0.275]\u001b[A\n",
      " 65%|██████▍   | 506/782 [00:05<00:02, 100.24it/s, loss=0.282]\u001b[A\n",
      " 65%|██████▍   | 506/782 [00:05<00:02, 100.13it/s, loss=0.279]\u001b[A\n",
      " 65%|██████▍   | 506/782 [00:05<00:02, 99.99it/s, loss=0.279] \u001b[A\n",
      " 67%|██████▋   | 523/782 [00:05<00:02, 103.29it/s, loss=0.279]\u001b[A\n",
      " 67%|██████▋   | 523/782 [00:05<00:02, 103.16it/s, loss=0.28] \u001b[A\n",
      " 67%|██████▋   | 523/782 [00:05<00:02, 103.04it/s, loss=0.278]\u001b[A\n",
      " 67%|██████▋   | 523/782 [00:05<00:02, 102.93it/s, loss=0.283]\u001b[A\n",
      " 67%|██████▋   | 523/782 [00:05<00:02, 102.84it/s, loss=0.288]\u001b[A\n",
      " 67%|██████▋   | 523/782 [00:05<00:02, 102.70it/s, loss=0.289]\u001b[A\n",
      " 67%|██████▋   | 523/782 [00:05<00:02, 102.62it/s, loss=0.286]\u001b[A\n",
      " 67%|██████▋   | 523/782 [00:05<00:02, 102.51it/s, loss=0.289]\u001b[A\n",
      " 67%|██████▋   | 523/782 [00:05<00:02, 102.40it/s, loss=0.29] \u001b[A\n",
      " 67%|██████▋   | 523/782 [00:05<00:02, 102.30it/s, loss=0.288]\u001b[A\n",
      " 67%|██████▋   | 523/782 [00:05<00:02, 102.18it/s, loss=0.293]\u001b[A\n",
      " 67%|██████▋   | 523/782 [00:05<00:02, 102.02it/s, loss=0.298]\u001b[A\n",
      " 67%|██████▋   | 523/782 [00:05<00:02, 101.89it/s, loss=0.297]\u001b[A\n",
      " 67%|██████▋   | 523/782 [00:05<00:02, 101.77it/s, loss=0.3]  \u001b[A\n",
      " 67%|██████▋   | 523/782 [00:05<00:02, 101.66it/s, loss=0.298]\u001b[A\n",
      " 67%|██████▋   | 523/782 [00:05<00:02, 101.56it/s, loss=0.301]\u001b[A\n",
      " 67%|██████▋   | 523/782 [00:05<00:02, 101.45it/s, loss=0.3]  \u001b[A\n"
     ]
    },
    {
     "name": "stdout",
     "output_type": "stream",
     "text": [
      " 67%|██████▋   | 523/782 [00:05<00:02, 101.34it/s, loss=0.3]\u001b[A\n",
      " 67%|██████▋   | 523/782 [00:05<00:02, 101.25it/s, loss=0.301]\u001b[A\n",
      " 69%|██████▉   | 541/782 [00:05<00:02, 104.69it/s, loss=0.301]\u001b[A\n",
      " 69%|██████▉   | 541/782 [00:05<00:02, 104.55it/s, loss=0.298]\u001b[A\n",
      " 69%|██████▉   | 541/782 [00:05<00:02, 104.41it/s, loss=0.297]\u001b[A\n",
      " 69%|██████▉   | 541/782 [00:05<00:02, 104.33it/s, loss=0.299]\u001b[A\n",
      " 69%|██████▉   | 541/782 [00:05<00:02, 104.21it/s, loss=0.305]\u001b[A\n",
      " 69%|██████▉   | 541/782 [00:05<00:02, 104.10it/s, loss=0.308]\u001b[A\n",
      " 69%|██████▉   | 541/782 [00:05<00:02, 104.01it/s, loss=0.312]\u001b[A\n",
      " 69%|██████▉   | 541/782 [00:05<00:02, 103.92it/s, loss=0.31] \u001b[A\n",
      " 69%|██████▉   | 541/782 [00:05<00:02, 103.82it/s, loss=0.31]\u001b[A\n",
      " 69%|██████▉   | 541/782 [00:05<00:02, 103.72it/s, loss=0.307]\u001b[A\n",
      " 69%|██████▉   | 541/782 [00:05<00:02, 103.64it/s, loss=0.307]\u001b[A\n",
      " 69%|██████▉   | 541/782 [00:05<00:02, 103.55it/s, loss=0.305]\u001b[A\n",
      " 69%|██████▉   | 541/782 [00:05<00:02, 103.46it/s, loss=0.303]\u001b[A\n",
      " 69%|██████▉   | 541/782 [00:05<00:02, 103.38it/s, loss=0.299]\u001b[A\n",
      " 69%|██████▉   | 541/782 [00:05<00:02, 103.28it/s, loss=0.301]\u001b[A\n",
      " 69%|██████▉   | 541/782 [00:05<00:02, 103.18it/s, loss=0.299]\u001b[A\n",
      " 69%|██████▉   | 541/782 [00:05<00:02, 103.10it/s, loss=0.302]\u001b[A\n",
      " 69%|██████▉   | 541/782 [00:05<00:02, 103.02it/s, loss=0.302]\u001b[A\n",
      " 69%|██████▉   | 541/782 [00:05<00:02, 102.93it/s, loss=0.303]\u001b[A\n",
      " 69%|██████▉   | 541/782 [00:05<00:02, 102.84it/s, loss=0.301]\u001b[A\n",
      " 69%|██████▉   | 541/782 [00:05<00:02, 102.76it/s, loss=0.298]\u001b[A\n",
      " 69%|██████▉   | 541/782 [00:05<00:02, 102.67it/s, loss=0.295]\u001b[A\n",
      " 72%|███████▏  | 562/782 [00:05<00:02, 106.61it/s, loss=0.295]\u001b[A\n",
      " 72%|███████▏  | 562/782 [00:05<00:02, 106.52it/s, loss=0.292]\u001b[A\n",
      " 72%|███████▏  | 562/782 [00:05<00:02, 106.43it/s, loss=0.299]\u001b[A\n",
      " 72%|███████▏  | 562/782 [00:05<00:02, 106.34it/s, loss=0.297]\u001b[A\n",
      " 72%|███████▏  | 562/782 [00:05<00:02, 106.25it/s, loss=0.299]\u001b[A\n",
      " 72%|███████▏  | 562/782 [00:05<00:02, 106.15it/s, loss=0.299]\u001b[A\n",
      " 72%|███████▏  | 562/782 [00:05<00:02, 106.06it/s, loss=0.298]\u001b[A\n",
      " 72%|███████▏  | 562/782 [00:05<00:02, 105.97it/s, loss=0.3]  \u001b[A\n",
      " 72%|███████▏  | 562/782 [00:05<00:02, 105.87it/s, loss=0.3]\u001b[A\n",
      " 72%|███████▏  | 562/782 [00:05<00:02, 105.77it/s, loss=0.301]\u001b[A\n",
      " 72%|███████▏  | 562/782 [00:05<00:02, 105.67it/s, loss=0.3]  \u001b[A\n",
      " 72%|███████▏  | 562/782 [00:05<00:02, 105.58it/s, loss=0.299]\u001b[A\n",
      " 72%|███████▏  | 562/782 [00:05<00:02, 105.49it/s, loss=0.295]\u001b[A\n",
      " 72%|███████▏  | 562/782 [00:05<00:02, 105.39it/s, loss=0.295]\u001b[A\n",
      " 72%|███████▏  | 562/782 [00:05<00:02, 105.29it/s, loss=0.292]\u001b[A\n",
      " 72%|███████▏  | 562/782 [00:05<00:02, 105.15it/s, loss=0.294]\u001b[A\n",
      " 72%|███████▏  | 562/782 [00:05<00:02, 105.05it/s, loss=0.293]\u001b[A\n",
      " 72%|███████▏  | 562/782 [00:05<00:02, 104.95it/s, loss=0.295]\u001b[A\n",
      " 72%|███████▏  | 562/782 [00:05<00:02, 103.03it/s, loss=0.293]\u001b[A\n",
      " 74%|███████▍  | 580/782 [00:05<00:01, 106.27it/s, loss=0.293]\u001b[A\n",
      " 74%|███████▍  | 580/782 [00:05<00:01, 106.17it/s, loss=0.293]\u001b[A\n",
      " 74%|███████▍  | 580/782 [00:05<00:01, 106.08it/s, loss=0.296]\u001b[A\n",
      " 74%|███████▍  | 580/782 [00:05<00:01, 105.98it/s, loss=0.298]\u001b[A\n",
      " 74%|███████▍  | 580/782 [00:05<00:01, 105.89it/s, loss=0.298]\u001b[A\n",
      " 74%|███████▍  | 580/782 [00:05<00:01, 105.79it/s, loss=0.299]\u001b[A\n",
      " 74%|███████▍  | 580/782 [00:05<00:01, 105.70it/s, loss=0.297]\u001b[A\n",
      " 74%|███████▍  | 580/782 [00:05<00:01, 105.57it/s, loss=0.296]\u001b[A\n",
      " 74%|███████▍  | 580/782 [00:05<00:01, 105.44it/s, loss=0.298]\u001b[A\n",
      " 74%|███████▍  | 580/782 [00:05<00:01, 105.36it/s, loss=0.297]\u001b[A\n",
      " 74%|███████▍  | 580/782 [00:05<00:01, 105.25it/s, loss=0.297]\u001b[A\n",
      " 74%|███████▍  | 580/782 [00:05<00:01, 105.14it/s, loss=0.297]\u001b[A\n",
      " 74%|███████▍  | 580/782 [00:05<00:01, 105.06it/s, loss=0.298]\u001b[A\n",
      " 74%|███████▍  | 580/782 [00:05<00:01, 104.95it/s, loss=0.297]\u001b[A\n",
      " 74%|███████▍  | 580/782 [00:05<00:01, 104.86it/s, loss=0.293]\u001b[A\n",
      " 74%|███████▍  | 580/782 [00:05<00:01, 104.77it/s, loss=0.294]\u001b[A\n",
      " 74%|███████▍  | 580/782 [00:05<00:01, 104.66it/s, loss=0.293]\u001b[A\n",
      " 74%|███████▍  | 580/782 [00:05<00:01, 104.57it/s, loss=0.292]\u001b[A\n",
      " 74%|███████▍  | 580/782 [00:05<00:01, 104.48it/s, loss=0.297]\u001b[A\n",
      " 74%|███████▍  | 580/782 [00:05<00:01, 104.40it/s, loss=0.294]\u001b[A\n",
      " 77%|███████▋  | 599/782 [00:05<00:01, 107.76it/s, loss=0.294]\u001b[A\n",
      " 77%|███████▋  | 599/782 [00:05<00:01, 107.66it/s, loss=0.292]\u001b[A\n",
      " 77%|███████▋  | 599/782 [00:05<00:01, 107.57it/s, loss=0.29] \u001b[A\n",
      " 77%|███████▋  | 599/782 [00:05<00:01, 107.49it/s, loss=0.29]\u001b[A\n",
      " 77%|███████▋  | 599/782 [00:05<00:01, 107.40it/s, loss=0.292]\u001b[A\n",
      " 77%|███████▋  | 599/782 [00:05<00:01, 107.31it/s, loss=0.289]\u001b[A\n",
      " 77%|███████▋  | 599/782 [00:05<00:01, 107.23it/s, loss=0.291]\u001b[A\n",
      " 77%|███████▋  | 599/782 [00:05<00:01, 107.15it/s, loss=0.287]\u001b[A\n",
      " 77%|███████▋  | 599/782 [00:05<00:01, 107.03it/s, loss=0.286]\u001b[A\n",
      " 77%|███████▋  | 599/782 [00:05<00:01, 106.95it/s, loss=0.286]\u001b[A\n",
      " 77%|███████▋  | 599/782 [00:05<00:01, 106.87it/s, loss=0.287]\u001b[A\n",
      " 77%|███████▋  | 599/782 [00:05<00:01, 106.77it/s, loss=0.286]\u001b[A\n",
      " 77%|███████▋  | 599/782 [00:05<00:01, 106.69it/s, loss=0.289]\u001b[A\n",
      " 77%|███████▋  | 599/782 [00:05<00:01, 106.60it/s, loss=0.286]\u001b[A\n",
      " 77%|███████▋  | 599/782 [00:05<00:01, 106.51it/s, loss=0.283]\u001b[A\n",
      " 77%|███████▋  | 599/782 [00:05<00:01, 106.41it/s, loss=0.282]\u001b[A\n",
      " 77%|███████▋  | 599/782 [00:05<00:01, 106.32it/s, loss=0.28] \u001b[A\n",
      " 77%|███████▋  | 599/782 [00:05<00:01, 106.24it/s, loss=0.284]\u001b[A\n",
      " 77%|███████▋  | 599/782 [00:05<00:01, 106.14it/s, loss=0.282]\u001b[A\n",
      " 77%|███████▋  | 599/782 [00:05<00:01, 106.05it/s, loss=0.279]\u001b[A\n",
      " 77%|███████▋  | 599/782 [00:05<00:01, 105.97it/s, loss=0.279]\u001b[A\n",
      " 77%|███████▋  | 599/782 [00:05<00:01, 105.87it/s, loss=0.279]\u001b[A\n",
      " 79%|███████▉  | 620/782 [00:05<00:01, 109.53it/s, loss=0.279]\u001b[A\n",
      " 79%|███████▉  | 620/782 [00:05<00:01, 109.43it/s, loss=0.282]\u001b[A\n",
      " 79%|███████▉  | 620/782 [00:05<00:01, 109.35it/s, loss=0.286]\u001b[A\n",
      " 79%|███████▉  | 620/782 [00:05<00:01, 109.26it/s, loss=0.285]\u001b[A\n",
      " 79%|███████▉  | 620/782 [00:05<00:01, 109.17it/s, loss=0.284]\u001b[A\n",
      " 79%|███████▉  | 620/782 [00:05<00:01, 109.07it/s, loss=0.283]\u001b[A\n",
      " 79%|███████▉  | 620/782 [00:05<00:01, 108.98it/s, loss=0.282]\u001b[A\n",
      " 79%|███████▉  | 620/782 [00:05<00:01, 108.88it/s, loss=0.282]\u001b[A\n",
      " 79%|███████▉  | 620/782 [00:05<00:01, 108.79it/s, loss=0.283]\u001b[A\n",
      " 79%|███████▉  | 620/782 [00:05<00:01, 108.57it/s, loss=0.284]\u001b[A\n",
      " 79%|███████▉  | 620/782 [00:05<00:01, 108.47it/s, loss=0.283]\u001b[A\n",
      " 79%|███████▉  | 620/782 [00:05<00:01, 108.36it/s, loss=0.287]\u001b[A\n",
      " 79%|███████▉  | 620/782 [00:05<00:01, 108.19it/s, loss=0.285]\u001b[A\n",
      " 79%|███████▉  | 620/782 [00:05<00:01, 107.92it/s, loss=0.286]\u001b[A\n",
      " 79%|███████▉  | 620/782 [00:05<00:01, 107.82it/s, loss=0.287]\u001b[A\n",
      " 79%|███████▉  | 620/782 [00:05<00:01, 107.71it/s, loss=0.289]\u001b[A\n",
      " 79%|███████▉  | 620/782 [00:05<00:01, 107.44it/s, loss=0.29] \u001b[A\n",
      " 79%|███████▉  | 620/782 [00:05<00:01, 107.31it/s, loss=0.286]\u001b[A\n",
      " 79%|███████▉  | 620/782 [00:05<00:01, 107.08it/s, loss=0.284]\u001b[A\n",
      " 82%|████████▏ | 638/782 [00:05<00:01, 109.93it/s, loss=0.284]\u001b[A\n",
      " 82%|████████▏ | 638/782 [00:05<00:01, 109.72it/s, loss=0.283]\u001b[A\n",
      " 82%|████████▏ | 638/782 [00:05<00:01, 109.58it/s, loss=0.29] \u001b[A\n",
      " 82%|████████▏ | 638/782 [00:05<00:01, 109.41it/s, loss=0.289]\u001b[A\n",
      " 82%|████████▏ | 638/782 [00:05<00:01, 109.27it/s, loss=0.287]\u001b[A\n",
      " 82%|████████▏ | 638/782 [00:05<00:01, 109.08it/s, loss=0.295]\u001b[A\n",
      " 82%|████████▏ | 638/782 [00:05<00:01, 108.65it/s, loss=0.295]\u001b[A\n",
      " 82%|████████▏ | 638/782 [00:05<00:01, 108.21it/s, loss=0.293]\u001b[A\n",
      " 82%|████████▏ | 638/782 [00:05<00:01, 108.11it/s, loss=0.29] \u001b[A\n",
      " 82%|████████▏ | 638/782 [00:05<00:01, 108.02it/s, loss=0.29]\u001b[A\n",
      " 82%|████████▏ | 638/782 [00:05<00:01, 107.93it/s, loss=0.288]\u001b[A\n",
      " 82%|████████▏ | 638/782 [00:05<00:01, 107.84it/s, loss=0.291]\u001b[A\n",
      " 82%|████████▏ | 638/782 [00:05<00:01, 107.13it/s, loss=0.293]\u001b[A\n",
      " 82%|████████▏ | 638/782 [00:05<00:01, 107.03it/s, loss=0.293]\u001b[A\n",
      " 82%|████████▏ | 638/782 [00:05<00:01, 106.95it/s, loss=0.295]\u001b[A\n",
      " 82%|████████▏ | 638/782 [00:05<00:01, 106.87it/s, loss=0.296]\u001b[A\n",
      " 82%|████████▏ | 638/782 [00:05<00:01, 106.78it/s, loss=0.294]\u001b[A\n",
      " 82%|████████▏ | 638/782 [00:05<00:01, 106.71it/s, loss=0.295]\u001b[A\n",
      " 84%|████████▍ | 655/782 [00:05<00:01, 109.50it/s, loss=0.295]\u001b[A\n",
      " 84%|████████▍ | 655/782 [00:05<00:01, 109.42it/s, loss=0.296]\u001b[A\n"
     ]
    },
    {
     "name": "stdout",
     "output_type": "stream",
     "text": [
      " 84%|████████▍ | 655/782 [00:05<00:01, 109.32it/s, loss=0.295]\u001b[A\n",
      " 84%|████████▍ | 655/782 [00:06<00:01, 109.11it/s, loss=0.293]\u001b[A\n",
      " 84%|████████▍ | 655/782 [00:06<00:01, 109.01it/s, loss=0.294]\u001b[A\n",
      " 84%|████████▍ | 655/782 [00:06<00:01, 108.93it/s, loss=0.293]\u001b[A\n",
      " 84%|████████▍ | 655/782 [00:06<00:01, 108.85it/s, loss=0.29] \u001b[A\n",
      " 84%|████████▍ | 655/782 [00:06<00:01, 108.76it/s, loss=0.289]\u001b[A\n",
      " 84%|████████▍ | 655/782 [00:06<00:01, 108.64it/s, loss=0.285]\u001b[A\n",
      " 84%|████████▍ | 655/782 [00:06<00:01, 108.56it/s, loss=0.287]\u001b[A\n",
      " 84%|████████▍ | 655/782 [00:06<00:01, 108.47it/s, loss=0.287]\u001b[A\n",
      " 84%|████████▍ | 655/782 [00:06<00:01, 108.37it/s, loss=0.284]\u001b[A\n",
      " 84%|████████▍ | 655/782 [00:06<00:01, 108.29it/s, loss=0.284]\u001b[A\n",
      " 84%|████████▍ | 655/782 [00:06<00:01, 108.20it/s, loss=0.286]\u001b[A\n",
      " 84%|████████▍ | 655/782 [00:06<00:01, 108.08it/s, loss=0.284]\u001b[A\n",
      " 84%|████████▍ | 655/782 [00:06<00:01, 107.98it/s, loss=0.286]\u001b[A\n",
      " 84%|████████▍ | 655/782 [00:06<00:01, 107.89it/s, loss=0.284]\u001b[A\n",
      " 84%|████████▍ | 655/782 [00:06<00:01, 107.79it/s, loss=0.283]\u001b[A\n",
      " 84%|████████▍ | 655/782 [00:06<00:01, 107.70it/s, loss=0.283]\u001b[A\n",
      " 86%|████████▌ | 673/782 [00:06<00:00, 110.61it/s, loss=0.283]\u001b[A\n",
      " 86%|████████▌ | 673/782 [00:06<00:00, 110.52it/s, loss=0.28] \u001b[A\n",
      " 86%|████████▌ | 673/782 [00:06<00:00, 110.42it/s, loss=0.282]\u001b[A\n",
      " 86%|████████▌ | 673/782 [00:06<00:00, 110.28it/s, loss=0.282]\u001b[A\n",
      " 86%|████████▌ | 673/782 [00:06<00:00, 110.17it/s, loss=0.28] \u001b[A\n",
      " 86%|████████▌ | 673/782 [00:06<00:00, 109.72it/s, loss=0.286]\u001b[A\n",
      " 86%|████████▌ | 673/782 [00:06<00:00, 109.49it/s, loss=0.285]\u001b[A\n",
      " 86%|████████▌ | 673/782 [00:06<00:00, 109.34it/s, loss=0.287]\u001b[A\n",
      " 86%|████████▌ | 673/782 [00:06<00:00, 109.18it/s, loss=0.287]\u001b[A\n",
      " 86%|████████▌ | 673/782 [00:06<00:00, 109.08it/s, loss=0.287]\u001b[A\n",
      " 86%|████████▌ | 673/782 [00:06<00:01, 109.00it/s, loss=0.285]\u001b[A\n",
      " 86%|████████▌ | 673/782 [00:06<00:01, 108.89it/s, loss=0.288]\u001b[A\n",
      " 86%|████████▌ | 673/782 [00:06<00:01, 108.80it/s, loss=0.288]\u001b[A\n",
      " 86%|████████▌ | 673/782 [00:06<00:01, 108.70it/s, loss=0.291]\u001b[A\n",
      " 86%|████████▌ | 673/782 [00:06<00:01, 108.60it/s, loss=0.293]\u001b[A\n",
      " 86%|████████▌ | 673/782 [00:06<00:01, 108.51it/s, loss=0.292]\u001b[A\n",
      " 86%|████████▌ | 673/782 [00:06<00:01, 108.42it/s, loss=0.293]\u001b[A\n",
      " 88%|████████▊ | 689/782 [00:06<00:00, 110.92it/s, loss=0.293]\u001b[A\n",
      " 88%|████████▊ | 689/782 [00:06<00:00, 110.84it/s, loss=0.297]\u001b[A\n",
      " 88%|████████▊ | 689/782 [00:06<00:00, 110.75it/s, loss=0.296]\u001b[A\n",
      " 88%|████████▊ | 689/782 [00:06<00:00, 110.65it/s, loss=0.298]\u001b[A\n",
      " 88%|████████▊ | 689/782 [00:06<00:00, 110.55it/s, loss=0.298]\u001b[A\n",
      " 88%|████████▊ | 689/782 [00:06<00:00, 110.47it/s, loss=0.296]\u001b[A\n",
      " 88%|████████▊ | 689/782 [00:06<00:00, 110.37it/s, loss=0.293]\u001b[A\n",
      " 88%|████████▊ | 689/782 [00:06<00:00, 110.28it/s, loss=0.291]\u001b[A\n",
      " 88%|████████▊ | 689/782 [00:06<00:00, 110.17it/s, loss=0.289]\u001b[A\n",
      " 88%|████████▊ | 689/782 [00:06<00:00, 110.06it/s, loss=0.289]\u001b[A\n",
      " 88%|████████▊ | 689/782 [00:06<00:00, 109.97it/s, loss=0.289]\u001b[A\n",
      " 88%|████████▊ | 689/782 [00:06<00:00, 109.87it/s, loss=0.293]\u001b[A\n",
      " 88%|████████▊ | 689/782 [00:06<00:00, 109.79it/s, loss=0.297]\u001b[A\n",
      " 88%|████████▊ | 689/782 [00:06<00:00, 109.70it/s, loss=0.3]  \u001b[A\n",
      " 88%|████████▊ | 689/782 [00:06<00:00, 109.62it/s, loss=0.305]\u001b[A\n",
      " 88%|████████▊ | 689/782 [00:06<00:00, 109.53it/s, loss=0.306]\u001b[A\n",
      " 88%|████████▊ | 689/782 [00:06<00:00, 109.43it/s, loss=0.309]\u001b[A\n",
      " 88%|████████▊ | 689/782 [00:06<00:00, 109.33it/s, loss=0.311]\u001b[A\n",
      " 88%|████████▊ | 689/782 [00:06<00:00, 109.24it/s, loss=0.311]\u001b[A\n",
      " 90%|█████████ | 707/782 [00:06<00:00, 112.02it/s, loss=0.311]\u001b[A\n",
      " 90%|█████████ | 707/782 [00:06<00:00, 111.94it/s, loss=0.312]\u001b[A\n",
      " 90%|█████████ | 707/782 [00:06<00:00, 111.85it/s, loss=0.312]\u001b[A\n",
      " 90%|█████████ | 707/782 [00:06<00:00, 111.76it/s, loss=0.309]\u001b[A\n",
      " 90%|█████████ | 707/782 [00:06<00:00, 111.68it/s, loss=0.307]\u001b[A\n",
      " 90%|█████████ | 707/782 [00:06<00:00, 111.60it/s, loss=0.308]\u001b[A\n",
      " 90%|█████████ | 707/782 [00:06<00:00, 111.52it/s, loss=0.312]\u001b[A\n",
      " 90%|█████████ | 707/782 [00:06<00:00, 111.42it/s, loss=0.312]\u001b[A\n",
      " 90%|█████████ | 707/782 [00:06<00:00, 111.34it/s, loss=0.312]\u001b[A\n",
      " 90%|█████████ | 707/782 [00:06<00:00, 111.25it/s, loss=0.311]\u001b[A\n",
      " 90%|█████████ | 707/782 [00:06<00:00, 111.15it/s, loss=0.311]\u001b[A\n",
      " 90%|█████████ | 707/782 [00:06<00:00, 111.07it/s, loss=0.309]\u001b[A\n",
      " 90%|█████████ | 707/782 [00:06<00:00, 110.98it/s, loss=0.307]\u001b[A\n",
      " 90%|█████████ | 707/782 [00:06<00:00, 110.89it/s, loss=0.305]\u001b[A\n",
      " 90%|█████████ | 707/782 [00:06<00:00, 110.80it/s, loss=0.305]\u001b[A\n",
      " 90%|█████████ | 707/782 [00:06<00:00, 110.70it/s, loss=0.304]\u001b[A\n",
      " 90%|█████████ | 707/782 [00:06<00:00, 110.60it/s, loss=0.304]\u001b[A\n",
      " 90%|█████████ | 707/782 [00:06<00:00, 110.51it/s, loss=0.303]\u001b[A\n",
      " 90%|█████████ | 707/782 [00:06<00:00, 110.43it/s, loss=0.304]\u001b[A\n",
      " 90%|█████████ | 707/782 [00:06<00:00, 110.35it/s, loss=0.3]  \u001b[A\n",
      " 90%|█████████ | 707/782 [00:06<00:00, 110.22it/s, loss=0.297]\u001b[A\n",
      " 93%|█████████▎| 727/782 [00:06<00:00, 113.30it/s, loss=0.297]\u001b[A\n",
      " 93%|█████████▎| 727/782 [00:06<00:00, 113.20it/s, loss=0.303]\u001b[A\n",
      " 93%|█████████▎| 727/782 [00:06<00:00, 113.10it/s, loss=0.301]\u001b[A\n",
      " 93%|█████████▎| 727/782 [00:06<00:00, 113.02it/s, loss=0.299]\u001b[A\n",
      " 93%|█████████▎| 727/782 [00:06<00:00, 112.94it/s, loss=0.299]\u001b[A\n",
      " 93%|█████████▎| 727/782 [00:06<00:00, 112.85it/s, loss=0.305]\u001b[A\n",
      " 93%|█████████▎| 727/782 [00:06<00:00, 112.77it/s, loss=0.302]\u001b[A\n",
      " 93%|█████████▎| 727/782 [00:06<00:00, 112.70it/s, loss=0.303]\u001b[A\n",
      " 93%|█████████▎| 727/782 [00:06<00:00, 112.62it/s, loss=0.301]\u001b[A\n",
      " 93%|█████████▎| 727/782 [00:06<00:00, 112.52it/s, loss=0.3]  \u001b[A\n",
      " 93%|█████████▎| 727/782 [00:06<00:00, 112.45it/s, loss=0.305]\u001b[A\n",
      " 93%|█████████▎| 727/782 [00:06<00:00, 110.61it/s, loss=0.304]\u001b[A\n",
      " 93%|█████████▎| 727/782 [00:06<00:00, 110.51it/s, loss=0.303]\u001b[A\n",
      " 93%|█████████▎| 727/782 [00:06<00:00, 110.43it/s, loss=0.303]\u001b[A\n",
      " 93%|█████████▎| 727/782 [00:06<00:00, 110.36it/s, loss=0.3]  \u001b[A\n",
      " 93%|█████████▎| 727/782 [00:06<00:00, 110.29it/s, loss=0.303]\u001b[A\n",
      " 93%|█████████▎| 727/782 [00:06<00:00, 110.20it/s, loss=0.3]  \u001b[A\n",
      " 93%|█████████▎| 727/782 [00:06<00:00, 110.12it/s, loss=0.302]\u001b[A\n",
      " 95%|█████████▌| 744/782 [00:06<00:00, 112.65it/s, loss=0.302]\u001b[A\n",
      " 95%|█████████▌| 744/782 [00:06<00:00, 112.55it/s, loss=0.3]  \u001b[A\n",
      " 95%|█████████▌| 744/782 [00:06<00:00, 112.48it/s, loss=0.299]\u001b[A\n",
      " 95%|█████████▌| 744/782 [00:06<00:00, 112.40it/s, loss=0.297]\u001b[A\n",
      " 95%|█████████▌| 744/782 [00:06<00:00, 112.33it/s, loss=0.298]\u001b[A\n",
      " 95%|█████████▌| 744/782 [00:06<00:00, 112.23it/s, loss=0.3]  \u001b[A\n",
      " 95%|█████████▌| 744/782 [00:06<00:00, 112.16it/s, loss=0.298]\u001b[A\n",
      " 95%|█████████▌| 744/782 [00:06<00:00, 112.09it/s, loss=0.297]\u001b[A\n",
      " 95%|█████████▌| 744/782 [00:06<00:00, 112.00it/s, loss=0.297]\u001b[A\n",
      " 95%|█████████▌| 744/782 [00:06<00:00, 111.91it/s, loss=0.297]\u001b[A\n",
      " 95%|█████████▌| 744/782 [00:06<00:00, 111.83it/s, loss=0.297]\u001b[A\n",
      " 95%|█████████▌| 744/782 [00:06<00:00, 111.75it/s, loss=0.295]\u001b[A\n",
      " 95%|█████████▌| 744/782 [00:06<00:00, 111.66it/s, loss=0.298]\u001b[A\n",
      " 95%|█████████▌| 744/782 [00:06<00:00, 111.58it/s, loss=0.295]\u001b[A\n",
      " 95%|█████████▌| 744/782 [00:06<00:00, 111.51it/s, loss=0.296]\u001b[A\n",
      " 95%|█████████▌| 744/782 [00:06<00:00, 111.42it/s, loss=0.297]\u001b[A\n",
      " 95%|█████████▌| 744/782 [00:06<00:00, 111.35it/s, loss=0.295]\u001b[A\n",
      " 95%|█████████▌| 744/782 [00:06<00:00, 111.28it/s, loss=0.294]\u001b[A\n",
      " 95%|█████████▌| 744/782 [00:06<00:00, 111.20it/s, loss=0.292]\u001b[A\n",
      " 95%|█████████▌| 744/782 [00:06<00:00, 111.11it/s, loss=0.291]\u001b[A\n",
      " 95%|█████████▌| 744/782 [00:06<00:00, 111.03it/s, loss=0.288]\u001b[A\n",
      " 95%|█████████▌| 744/782 [00:06<00:00, 110.96it/s, loss=0.287]\u001b[A\n",
      " 98%|█████████▊| 765/782 [00:06<00:00, 114.05it/s, loss=0.287]\u001b[A\n",
      " 98%|█████████▊| 765/782 [00:06<00:00, 113.96it/s, loss=0.289]\u001b[A\n",
      " 98%|█████████▊| 765/782 [00:06<00:00, 113.88it/s, loss=0.286]\u001b[A\n",
      " 98%|█████████▊| 765/782 [00:06<00:00, 113.80it/s, loss=0.287]\u001b[A\n",
      " 98%|█████████▊| 765/782 [00:06<00:00, 113.71it/s, loss=0.286]\u001b[A\n",
      " 98%|█████████▊| 765/782 [00:06<00:00, 113.63it/s, loss=0.284]\u001b[A\n",
      " 98%|█████████▊| 765/782 [00:06<00:00, 113.55it/s, loss=0.282]\u001b[A\n",
      " 98%|█████████▊| 765/782 [00:06<00:00, 113.47it/s, loss=0.28] \u001b[A\n",
      " 98%|█████████▊| 765/782 [00:06<00:00, 113.38it/s, loss=0.281]\u001b[A\n",
      " 98%|█████████▊| 765/782 [00:06<00:00, 113.31it/s, loss=0.28] \u001b[A\n"
     ]
    },
    {
     "name": "stdout",
     "output_type": "stream",
     "text": [
      " 98%|█████████▊| 765/782 [00:06<00:00, 113.23it/s, loss=0.282]\u001b[A\n",
      " 98%|█████████▊| 765/782 [00:06<00:00, 113.14it/s, loss=0.279]\u001b[A\n",
      " 98%|█████████▊| 765/782 [00:06<00:00, 113.07it/s, loss=0.279]\u001b[A\n",
      " 98%|█████████▊| 765/782 [00:06<00:00, 112.99it/s, loss=0.279]\u001b[A\n",
      " 98%|█████████▊| 765/782 [00:06<00:00, 112.91it/s, loss=0.278]\u001b[A\n",
      " 98%|█████████▊| 765/782 [00:06<00:00, 112.82it/s, loss=0.274]\u001b[A\n",
      " 98%|█████████▊| 765/782 [00:06<00:00, 112.74it/s, loss=0.273]\u001b[A\n",
      " 98%|█████████▊| 765/782 [00:06<00:00, 112.67it/s, loss=0.276]\u001b[A\n",
      "                                                              \u001b[A[ 2.       0.27639  0.26888  0.92446]\n",
      "\n"
     ]
    }
   ],
   "source": [
    "fit(data=md,model=net2,crit=loss,epochs=3,metrics=metrics,opt=opt)"
   ]
  },
  {
   "cell_type": "code",
   "execution_count": 36,
   "metadata": {},
   "outputs": [
    {
     "data": {
      "text/plain": [
       "([7840, 10], 7850)"
      ]
     },
     "execution_count": 36,
     "metadata": {},
     "output_type": "execute_result"
    }
   ],
   "source": [
    "t = [o.numel() for o in net2.parameters()] #to get number of elements in each layer: weights and bias matrix\n",
    "t, sum(t)"
   ]
  },
  {
   "cell_type": "markdown",
   "metadata": {},
   "source": [
    "* When the module is called as function it's forward method is called by default\n",
    "* Log-probabilities is used for numerical stability"
   ]
  },
  {
   "cell_type": "markdown",
   "metadata": {},
   "source": [
    "### Predicting on a batch of validation image through the network"
   ]
  },
  {
   "cell_type": "code",
   "execution_count": 46,
   "metadata": {},
   "outputs": [],
   "source": [
    "xmb,ymb = next(iter(md.val_dl)) #you get a batch of 64 images"
   ]
  },
  {
   "cell_type": "code",
   "execution_count": 47,
   "metadata": {},
   "outputs": [],
   "source": [
    "vxmb = Variable(xmb) #creating it as variable"
   ]
  },
  {
   "cell_type": "code",
   "execution_count": 48,
   "metadata": {
    "collapsed": true
   },
   "outputs": [
    {
     "data": {
      "text/plain": [
       "Variable containing:\n",
       "-0.4245 -0.4245 -0.4245  ...  -0.4245 -0.4245 -0.4245\n",
       "-0.4245 -0.4245 -0.4245  ...  -0.4245 -0.4245 -0.4245\n",
       "-0.4245 -0.4245 -0.4245  ...  -0.4245 -0.4245 -0.4245\n",
       "          ...             ⋱             ...          \n",
       "-0.4245 -0.4245 -0.4245  ...  -0.4245 -0.4245 -0.4245\n",
       "-0.4245 -0.4245 -0.4245  ...  -0.4245 -0.4245 -0.4245\n",
       "-0.4245 -0.4245 -0.4245  ...  -0.4245 -0.4245 -0.4245\n",
       "[torch.FloatTensor of size 64x784]"
      ]
     },
     "execution_count": 48,
     "metadata": {},
     "output_type": "execute_result"
    }
   ],
   "source": [
    "vxmb"
   ]
  },
  {
   "cell_type": "code",
   "execution_count": 49,
   "metadata": {
    "collapsed": true
   },
   "outputs": [
    {
     "data": {
      "text/plain": [
       "Variable containing:\n",
       "\n",
       "Columns 0 to 5 \n",
       " 9.3875e-06  1.2792e-02  1.0261e-01  8.4361e-01  7.5153e-06  1.1666e-02\n",
       " 6.4374e-07  5.6053e-05  8.2611e-03  5.6000e-03  2.1408e-03  1.2562e-02\n",
       " 1.4951e-02  1.5325e-06  4.7089e-02  6.5586e-04  3.4612e-03  9.7633e-02\n",
       " 1.4964e-05  1.0335e-04  1.7931e-03  1.7249e-03  2.1531e-02  1.8038e-04\n",
       " 1.1841e-05  3.0741e-06  1.9197e-02  1.7218e-05  4.8209e-06  7.8083e-04\n",
       " 9.7253e-06  4.3496e-03  4.9574e-02  1.1499e-04  6.2149e-01  3.8700e-03\n",
       " 8.5901e-04  1.6863e-07  3.4930e-09  1.9053e-06  4.4253e-03  9.5416e-01\n",
       " 4.5317e-03  2.6657e-03  1.4041e-03  2.0116e-01  1.4752e-06  7.4536e-01\n",
       " 2.2664e-05  1.9086e-02  9.4565e-03  2.4757e-02  1.6123e-03  9.6586e-02\n",
       " 5.3691e-06  2.1842e-04  2.4741e-02  7.7841e-04  8.1795e-01  6.3273e-03\n",
       " 1.8152e-04  4.4304e-07  1.6061e-03  5.2647e-04  1.8840e-02  9.0895e-01\n",
       " 3.9575e-06  5.3614e-07  9.9685e-01  2.5053e-03  1.4291e-07  7.9478e-06\n",
       " 5.1675e-06  6.8197e-07  2.5594e-02  9.7350e-01  1.0550e-07  3.3660e-05\n",
       " 7.4232e-07  1.7247e-04  4.4278e-03  1.0550e-02  1.2407e-03  6.6387e-03\n",
       " 1.4360e-06  4.4421e-08  1.2579e-05  1.4689e-04  8.7902e-01  1.4846e-03\n",
       " 6.1846e-06  1.9944e-05  8.1081e-04  1.7533e-03  2.9723e-04  2.4115e-02\n",
       " 5.5934e-12  9.8666e-01  5.9819e-05  1.0897e-02  1.0137e-06  2.5212e-04\n",
       " 2.7067e-04  7.3809e-05  1.8636e-04  1.3289e-02  9.2514e-06  6.4898e-01\n",
       " 9.7867e-01  2.5001e-09  2.6333e-04  1.5780e-04  2.5385e-08  1.1262e-02\n",
       " 4.6749e-05  8.8108e-06  1.5690e-05  1.8348e-02  1.3370e-05  8.8691e-01\n",
       " 1.1056e-06  3.1018e-04  1.0058e-05  1.2753e-02  6.6339e-04  1.9798e-03\n",
       " 6.7581e-06  6.0690e-06  4.4755e-06  3.2878e-04  6.3539e-04  1.4373e-03\n",
       " 7.2316e-08  2.8987e-07  2.6492e-06  4.4514e-04  9.9003e-01  2.0125e-03\n",
       " 6.8991e-08  9.7690e-01  3.5302e-04  3.0918e-03  1.4784e-05  1.0340e-02\n",
       " 9.4743e-01  1.5936e-05  9.4636e-04  2.7330e-03  3.5255e-06  3.7040e-02\n",
       " 9.8824e-04  2.3041e-03  1.7302e-02  8.9518e-02  8.8593e-06  3.1304e-01\n",
       " 9.4185e-01  1.2668e-07  9.0762e-03  6.4470e-05  7.8828e-06  3.4251e-02\n",
       " 1.4277e-08  3.5561e-07  1.6024e-03  2.7401e-05  8.9808e-02  7.9598e-05\n",
       " 7.3270e-07  6.9024e-06  9.9659e-01  1.9746e-03  5.4346e-09  5.0133e-06\n",
       " 4.5504e-06  8.2797e-04  1.0244e-02  8.2324e-05  2.6501e-02  3.2038e-05\n",
       " 1.0948e-07  1.8552e-06  1.7480e-05  1.3767e-04  6.2212e-03  6.1277e-06\n",
       " 1.3003e-06  7.9027e-04  1.9359e-03  3.6293e-04  9.7319e-01  3.7017e-04\n",
       " 1.6266e-08  9.9696e-01  1.8469e-03  2.3571e-04  1.5228e-06  8.9116e-05\n",
       " 9.5278e-03  2.3387e-03  9.6067e-05  2.1401e-01  1.6414e-05  6.8803e-01\n",
       " 4.2538e-06  3.9346e-08  1.5607e-04  1.0026e-07  1.1955e-06  4.5955e-08\n",
       " 6.5804e-06  6.9560e-02  5.9650e-02  3.5061e-02  6.4605e-03  1.1004e-02\n",
       " 1.0000e+00  1.4505e-17  2.7001e-07  1.0209e-08  4.1656e-11  1.2760e-06\n",
       " 1.3663e-04  1.2491e-05  7.0804e-05  1.5423e-03  2.2286e-03  5.6018e-02\n",
       " 5.5022e-07  2.1114e-03  1.0748e-04  1.2251e-04  4.8779e-05  1.8416e-04\n",
       " 2.5749e-06  2.0326e-08  1.2218e-02  2.9448e-05  1.7397e-02  4.9604e-04\n",
       " 2.5516e-06  1.8543e-08  1.7029e-02  1.8331e-02  1.0828e-06  5.5007e-04\n",
       " 2.4401e-05  3.4250e-03  1.1748e-02  2.7150e-04  3.5000e-02  1.2075e-03\n",
       " 6.1956e-01  1.6528e-08  8.3989e-03  6.7351e-04  2.8716e-09  3.6702e-01\n",
       " 7.1280e-04  1.5130e-04  1.0809e-03  6.1328e-01  5.9248e-06  3.5261e-01\n",
       " 2.0767e-04  4.4741e-03  1.7943e-01  5.7998e-03  3.0712e-02  2.3285e-02\n",
       " 1.2075e-04  7.4519e-05  1.0135e-03  8.5528e-01  8.0480e-07  1.3476e-01\n",
       " 1.6729e-04  2.8144e-07  1.0224e-02  9.4273e-05  1.8636e-06  1.4044e-06\n",
       " 8.0911e-06  4.0859e-06  4.4705e-06  1.7650e-04  3.7022e-04  2.8121e-03\n",
       " 3.8648e-04  1.1303e-04  1.3957e-02  4.2337e-02  5.7962e-05  2.7665e-01\n",
       " 1.4186e-05  1.1184e-01  3.7722e-02  9.2119e-04  6.3840e-01  5.4514e-03\n",
       " 1.5242e-04  3.2023e-07  7.9347e-05  1.5280e-05  9.9275e-01  1.6020e-04\n",
       " 4.7132e-07  9.7975e-01  5.9468e-04  3.4099e-03  9.2203e-06  8.6210e-03\n",
       " 1.4049e-03  7.3142e-10  3.5885e-02  1.4994e-03  6.5282e-01  1.2740e-01\n",
       " 2.3783e-06  4.9889e-04  2.8543e-03  2.1652e-03  1.8021e-02  7.5836e-04\n",
       " 3.1221e-05  5.4642e-03  3.2017e-03  7.5680e-07  1.6037e-04  8.9185e-03\n",
       " 2.5301e-08  9.9708e-01  1.0738e-04  1.4650e-03  3.7360e-07  5.1992e-04\n",
       " 3.2411e-07  9.8917e-01  2.2001e-04  3.2660e-03  2.4767e-05  3.0098e-03\n",
       " 9.9746e-01  4.5715e-10  1.8020e-03  1.5275e-04  3.2972e-08  5.1321e-05\n",
       " 2.4843e-06  6.0306e-05  3.8834e-03  4.7848e-05  2.0604e-04  3.2125e-02\n",
       " 1.4775e-05  1.1311e-06  7.1708e-04  2.1057e-06  1.3170e-03  2.6946e-08\n",
       " 2.0554e-03  1.1248e-04  1.8589e-05  1.3678e-05  1.2395e-03  9.9066e-01\n",
       " 1.0000e+00  7.8693e-15  1.6855e-06  1.3260e-07  4.9725e-12  1.3127e-06\n",
       " 6.1363e-09  9.9847e-01  7.3827e-04  1.4745e-04  3.3337e-07  3.7867e-05\n",
       " 1.4967e-08  9.9600e-01  1.7540e-03  3.1017e-04  2.2780e-08  8.0188e-05\n",
       "\n",
       "Columns 6 to 9 \n",
       " 4.1522e-04  5.1772e-08  2.8888e-02  5.4923e-06\n",
       " 1.8588e-06  6.4176e-06  9.7125e-01  1.2465e-04\n",
       " 8.3502e-01  8.8094e-04  1.8222e-04  1.2275e-04\n",
       " 2.0258e-05  2.9951e-01  5.1219e-04  6.7461e-01\n",
       " 9.7748e-01  9.0815e-10  2.5092e-03  9.9097e-08\n",
       " 2.5979e-02  1.1781e-02  1.2585e-02  2.7024e-01\n",
       " 2.9031e-06  1.0842e-04  4.0415e-02  2.2362e-05\n",
       " 5.3748e-04  1.8338e-04  4.3482e-02  6.8074e-04\n",
       " 9.4531e-05  1.1244e-03  8.4062e-01  6.6368e-03\n",
       " 9.3997e-03  2.3709e-02  5.6359e-03  1.1124e-01\n",
       " 1.3721e-03  2.5352e-08  6.7231e-02  1.2968e-03\n",
       " 5.9504e-04  7.2808e-09  4.1367e-05  3.4450e-07\n",
       " 2.8130e-07  4.5852e-07  8.6274e-04  1.3290e-06\n",
       " 1.0256e-05  2.1152e-05  9.7538e-01  1.5545e-03\n",
       " 4.3013e-06  1.0544e-02  8.2240e-03  1.0056e-01\n",
       " 1.2974e-06  2.0696e-06  9.7254e-01  4.4998e-04\n",
       " 3.1863e-06  4.9581e-08  2.0801e-03  4.8078e-05\n",
       " 1.6365e-03  1.0699e-05  3.3546e-01  8.3068e-05\n",
       " 1.0590e-05  3.1025e-09  9.6316e-03  1.5491e-06\n",
       " 1.2144e-04  8.3032e-07  9.4486e-02  4.9430e-05\n",
       " 1.6798e-06  9.7395e-02  4.5566e-03  8.8233e-01\n",
       " 1.3796e-06  8.9139e-01  7.2562e-05  1.0612e-01\n",
       " 3.4203e-06  3.2852e-04  2.1026e-03  5.0730e-03\n",
       " 4.1843e-04  6.6835e-05  8.5124e-03  3.0029e-04\n",
       " 5.2215e-04  1.1188e-02  1.4410e-05  1.0897e-04\n",
       " 4.8170e-01  3.2120e-05  9.5047e-02  5.9313e-05\n",
       " 4.5725e-04  1.1924e-05  1.4229e-02  5.6028e-05\n",
       " 9.0819e-01  2.7737e-05  3.5220e-05  2.3021e-04\n",
       " 2.0658e-06  4.8729e-09  1.4158e-03  2.7232e-09\n",
       " 7.6156e-05  1.3597e-01  4.4672e-03  8.2180e-01\n",
       " 2.8864e-07  5.8418e-01  4.2517e-04  4.0901e-01\n",
       " 3.3151e-03  2.0449e-03  6.4843e-04  1.7342e-02\n",
       " 8.8618e-05  9.2551e-05  6.5313e-04  2.8855e-05\n",
       " 1.0248e-05  3.1872e-05  8.5808e-02  1.3792e-04\n",
       " 9.9974e-01  6.4041e-08  9.4774e-05  3.0564e-07\n",
       " 1.6605e-03  2.9123e-05  8.1624e-01  3.2479e-04\n",
       " 6.9208e-09  3.4973e-10  6.7092e-07  3.4570e-09\n",
       " 6.9080e-06  9.2956e-01  1.1828e-04  1.0303e-02\n",
       " 9.5661e-08  9.7417e-01  5.2119e-03  1.8046e-02\n",
       " 9.6954e-01  1.0464e-05  1.3755e-05  2.8902e-04\n",
       " 2.1528e-06  4.0143e-10  9.6408e-01  6.1934e-06\n",
       " 7.0018e-04  4.7214e-01  3.1091e-03  4.7238e-01\n",
       " 1.7401e-05  1.2182e-08  4.3330e-03  4.5546e-08\n",
       " 2.1774e-06  2.6631e-04  3.0699e-02  1.1942e-03\n",
       " 9.2482e-04  2.8821e-03  7.3028e-01  2.2004e-02\n",
       " 1.0137e-04  5.8692e-06  8.3949e-03  2.4585e-04\n",
       " 7.2095e-07  9.8882e-01  6.8444e-06  6.8332e-04\n",
       " 1.2144e-06  9.2980e-01  1.1825e-04  6.6703e-02\n",
       " 9.6091e-06  3.8888e-05  6.5422e-01  1.2226e-02\n",
       " 1.3126e-01  1.9033e-02  2.9863e-02  2.5491e-02\n",
       " 1.8800e-04  2.4099e-04  3.4704e-03  2.9411e-03\n",
       " 5.6767e-04  3.3398e-05  6.8104e-03  2.0131e-04\n",
       " 1.8001e-01  1.5418e-10  9.8715e-04  1.0236e-07\n",
       " 2.3369e-04  1.1505e-02  8.5871e-04  9.6310e-01\n",
       " 9.0246e-02  3.7622e-09  8.9188e-01  9.7655e-05\n",
       " 3.8126e-05  2.8977e-05  6.4394e-04  1.1967e-04\n",
       " 1.5254e-04  1.7506e-03  7.6791e-04  1.6391e-03\n",
       " 3.5519e-06  1.0478e-06  5.2327e-04  7.3215e-06\n",
       " 9.6178e-01  7.9624e-10  1.8956e-03  1.6165e-07\n",
       " 9.9747e-01  5.7673e-05  4.0892e-04  1.5766e-05\n",
       " 4.9056e-04  6.3679e-06  5.0149e-03  3.9078e-04\n",
       " 3.7600e-09  2.7478e-10  1.9820e-07  1.6297e-11\n",
       " 5.0614e-05  9.3432e-05  4.2822e-04  3.0703e-05\n",
       " 1.3989e-04  4.2081e-06  1.7066e-03  7.2779e-06\n",
       "[torch.FloatTensor of size 64x10]"
      ]
     },
     "execution_count": 49,
     "metadata": {},
     "output_type": "execute_result"
    }
   ],
   "source": [
    "pred_mb = net2(vxmb).exp();pred_mb #actual probabilities"
   ]
  },
  {
   "cell_type": "code",
   "execution_count": 51,
   "metadata": {},
   "outputs": [],
   "source": [
    "y_pred = pred_mb.max(1)[1]#pytorch version of argmax...it returns class and maximum probabilities for each image"
   ]
  },
  {
   "cell_type": "code",
   "execution_count": 54,
   "metadata": {},
   "outputs": [
    {
     "data": {
      "text/plain": [
       "0.921875"
      ]
     },
     "execution_count": 54,
     "metadata": {},
     "output_type": "execute_result"
    }
   ],
   "source": [
    "np.mean(to_np(y_pred)==to_np(ymb)) #to_np converts it to numpy array"
   ]
  },
  {
   "cell_type": "markdown",
   "metadata": {},
   "source": [
    "---"
   ]
  },
  {
   "cell_type": "markdown",
   "metadata": {},
   "source": [
    "### Deeper Neural Networks"
   ]
  },
  {
   "cell_type": "code",
   "execution_count": 61,
   "metadata": {},
   "outputs": [],
   "source": [
    "#deeper nn\n",
    "net3 = nn.Sequential(\n",
    "nn.Linear(28*28,100),\n",
    "nn.ReLU(),\n",
    "nn.Linear(100,10),\n",
    "nn.LogSoftmax()) #use cuda() for GPU\n",
    "\n",
    "md = ImageClassifierData.from_arrays(path,(x,y),(x_valid,y_valid),bs=64)\n",
    "opt = optim.Adam(net3.parameters(),lr=1e-3)\n",
    "loss = nn.CrossEntropyLoss() #calculate cross entropy\n",
    "metrics = [accuracy] #calculate accuracy based on predicted labels"
   ]
  },
  {
   "cell_type": "code",
   "execution_count": 62,
   "metadata": {
    "scrolled": true
   },
   "outputs": [
    {
     "data": {
      "application/vnd.jupyter.widget-view+json": {
       "model_id": "056f4e503f3b475d85012160b7871dad",
       "version_major": 2,
       "version_minor": 0
      },
      "text/html": [
       "<p>Failed to display Jupyter Widget of type <code>HBox</code>.</p>\n",
       "<p>\n",
       "  If you're reading this message in the Jupyter Notebook or JupyterLab Notebook, it may mean\n",
       "  that the widgets JavaScript is still loading. If this message persists, it\n",
       "  likely means that the widgets JavaScript library is either not installed or\n",
       "  not enabled. See the <a href=\"https://ipywidgets.readthedocs.io/en/stable/user_install.html\">Jupyter\n",
       "  Widgets Documentation</a> for setup instructions.\n",
       "</p>\n",
       "<p>\n",
       "  If you're reading this message in another frontend (for example, a static\n",
       "  rendering on GitHub or <a href=\"https://nbviewer.jupyter.org/\">NBViewer</a>),\n",
       "  it may mean that your frontend doesn't currently support widgets.\n",
       "</p>\n"
      ],
      "text/plain": [
       "HBox(children=(IntProgress(value=0, description='Epoch', max=3), HTML(value='')))"
      ]
     },
     "metadata": {},
     "output_type": "display_data"
    },
    {
     "name": "stdout",
     "output_type": "stream",
     "text": [
      "[ 0.       0.17676  0.15067  0.9575 ]                         \n",
      "[ 1.       0.11428  0.10769  0.96994]                         \n",
      "[ 2.       0.09703  0.10955  0.96885]                          \n",
      "\n"
     ]
    }
   ],
   "source": [
    "fit(data=md,model=net3,crit=loss,epochs=3,metrics=metrics,opt=opt)"
   ]
  },
  {
   "cell_type": "markdown",
   "metadata": {},
   "source": [
    "#### We can see that deeper networks are working much better"
   ]
  },
  {
   "cell_type": "markdown",
   "metadata": {},
   "source": [
    "---"
   ]
  },
  {
   "cell_type": "markdown",
   "metadata": {},
   "source": [
    "### Breaking it further into elements"
   ]
  },
  {
   "cell_type": "markdown",
   "metadata": {},
   "source": [
    "##### Understanding how optimizer works"
   ]
  },
  {
   "cell_type": "code",
   "execution_count": 184,
   "metadata": {
    "collapsed": true
   },
   "outputs": [],
   "source": [
    "net4 = custom_net()\n",
    "md = ImageClassifierData.from_arrays(path,(x,y),(x_valid,y_valid),bs=64)\n",
    "opt = optim.Adam(net4.parameters(),lr=1e-3) "
   ]
  },
  {
   "cell_type": "code",
   "execution_count": 185,
   "metadata": {
    "collapsed": true
   },
   "outputs": [],
   "source": [
    "xt,yt = next(iter(md.trn_dl))"
   ]
  },
  {
   "cell_type": "code",
   "execution_count": 186,
   "metadata": {
    "collapsed": true
   },
   "outputs": [
    {
     "data": {
      "text/plain": [
       "torch.Size([64, 784])"
      ]
     },
     "execution_count": 186,
     "metadata": {},
     "output_type": "execute_result"
    }
   ],
   "source": [
    "xt.shape"
   ]
  },
  {
   "cell_type": "code",
   "execution_count": 187,
   "metadata": {
    "collapsed": true
   },
   "outputs": [],
   "source": [
    "ypred = net4(Variable(xt))"
   ]
  },
  {
   "cell_type": "code",
   "execution_count": 188,
   "metadata": {
    "collapsed": true
   },
   "outputs": [
    {
     "data": {
      "text/plain": [
       "Variable containing:\n",
       "-2.4122 -2.3239 -2.1660 -2.3716 -2.2559 -2.2115 -2.2541 -2.4378 -2.3973 -2.2357\n",
       "-2.4309 -2.2679 -2.1524 -2.2891 -2.3402 -2.2283 -2.2805 -2.4465 -2.4172 -2.2171\n",
       "-2.4454 -2.3016 -2.1167 -2.2679 -2.3150 -2.2387 -2.2751 -2.4547 -2.4124 -2.2480\n",
       "-2.4379 -2.2842 -2.1132 -2.3323 -2.2790 -2.3010 -2.2859 -2.4232 -2.4013 -2.2127\n",
       "-2.5253 -2.2697 -2.1422 -2.3682 -2.2287 -2.2323 -2.3011 -2.4150 -2.4031 -2.2011\n",
       "-2.4342 -2.3050 -2.1719 -2.3366 -2.2851 -2.2187 -2.2569 -2.4152 -2.4110 -2.2285\n",
       "-2.3966 -2.3650 -2.0882 -2.3057 -2.2015 -2.2303 -2.3369 -2.4858 -2.4448 -2.2382\n",
       "-2.4488 -2.3126 -2.1484 -2.3090 -2.2161 -2.2371 -2.3134 -2.4039 -2.4243 -2.2544\n",
       "-2.4399 -2.2451 -2.1395 -2.2934 -2.3277 -2.2513 -2.2747 -2.4515 -2.4399 -2.2134\n",
       "-2.4468 -2.2865 -2.1557 -2.2376 -2.2655 -2.2778 -2.3251 -2.4341 -2.3965 -2.2395\n",
       "-2.4432 -2.2404 -2.1335 -2.3020 -2.3632 -2.1963 -2.3433 -2.4091 -2.3887 -2.2515\n",
       "-2.4985 -2.3215 -2.1328 -2.2884 -2.2703 -2.2231 -2.2572 -2.4755 -2.3834 -2.2333\n",
       "-2.4310 -2.3259 -2.1176 -2.2656 -2.3177 -2.2464 -2.2695 -2.4486 -2.4126 -2.2383\n",
       "-2.4672 -2.2486 -2.1288 -2.3867 -2.3172 -2.1953 -2.3278 -2.4393 -2.4067 -2.1717\n",
       "-2.4364 -2.2915 -2.1053 -2.3048 -2.3210 -2.1893 -2.2926 -2.4819 -2.3988 -2.2609\n",
       "-2.4510 -2.2967 -2.1168 -2.3540 -2.2840 -2.2897 -2.3143 -2.4018 -2.3754 -2.1870\n",
       "-2.4782 -2.2739 -2.0495 -2.3048 -2.3106 -2.2223 -2.2981 -2.4588 -2.4634 -2.2450\n",
       "-2.4725 -2.2994 -2.0994 -2.3780 -2.2803 -2.2432 -2.3050 -2.4033 -2.3995 -2.2006\n",
       "-2.4351 -2.2760 -2.1383 -2.3074 -2.3004 -2.2679 -2.3026 -2.4254 -2.3934 -2.2178\n",
       "-2.4721 -2.2539 -2.1145 -2.2325 -2.3143 -2.2243 -2.3792 -2.4145 -2.3913 -2.2814\n",
       "-2.4579 -2.2565 -2.1347 -2.2737 -2.3038 -2.2158 -2.3316 -2.4037 -2.3902 -2.2988\n",
       "-2.4578 -2.2927 -2.0988 -2.3808 -2.2697 -2.2134 -2.2940 -2.4315 -2.4096 -2.2348\n",
       "-2.4399 -2.3032 -2.1429 -2.3315 -2.2888 -2.2108 -2.3260 -2.4417 -2.3577 -2.2248\n",
       "-2.4327 -2.3319 -2.1425 -2.3304 -2.2468 -2.2461 -2.3246 -2.4286 -2.3394 -2.2392\n",
       "-2.4886 -2.2765 -2.1354 -2.2679 -2.2731 -2.2313 -2.3108 -2.4364 -2.4380 -2.2235\n",
       "-2.4792 -2.2955 -2.2111 -2.2904 -2.2533 -2.2346 -2.2820 -2.4407 -2.3670 -2.2106\n",
       "-2.4177 -2.2946 -2.1350 -2.3112 -2.2973 -2.2333 -2.2792 -2.4594 -2.3918 -2.2476\n",
       "-2.4867 -2.2946 -2.1494 -2.2759 -2.2349 -2.2106 -2.2974 -2.4520 -2.3821 -2.2913\n",
       "-2.5156 -2.2394 -2.1192 -2.2870 -2.3027 -2.2831 -2.3209 -2.3992 -2.3873 -2.2241\n",
       "-2.4235 -2.2900 -2.1200 -2.3134 -2.2572 -2.2352 -2.3427 -2.4118 -2.3891 -2.2817\n",
       "-2.4594 -2.2523 -2.1149 -2.3925 -2.3422 -2.2141 -2.2941 -2.4121 -2.4048 -2.1965\n",
       "-2.4124 -2.2754 -2.1395 -2.3103 -2.3120 -2.2409 -2.2588 -2.4690 -2.4228 -2.2307\n",
       "-2.4508 -2.3186 -2.1051 -2.2994 -2.2375 -2.2683 -2.3223 -2.4493 -2.3743 -2.2488\n",
       "-2.4480 -2.2762 -2.1594 -2.3532 -2.2607 -2.2317 -2.3162 -2.3928 -2.3993 -2.2258\n",
       "-2.4555 -2.2535 -2.1092 -2.2842 -2.3164 -2.2972 -2.3188 -2.4512 -2.3911 -2.2011\n",
       "-2.4474 -2.3049 -2.0845 -2.3113 -2.2850 -2.2780 -2.3627 -2.3915 -2.3714 -2.2355\n",
       "-2.4519 -2.2972 -2.0974 -2.2934 -2.2945 -2.2319 -2.3313 -2.4221 -2.4168 -2.2406\n",
       "-2.4120 -2.3181 -2.1277 -2.3063 -2.3748 -2.2466 -2.2294 -2.4460 -2.3968 -2.2152\n",
       "-2.4649 -2.3062 -2.1402 -2.3083 -2.3011 -2.2181 -2.3486 -2.3969 -2.3902 -2.1964\n",
       "-2.4652 -2.3169 -2.0639 -2.3324 -2.2922 -2.2453 -2.2665 -2.4563 -2.4005 -2.2503\n",
       "-2.4516 -2.2787 -2.1406 -2.2934 -2.3334 -2.2253 -2.2587 -2.4555 -2.3950 -2.2400\n",
       "-2.4709 -2.2668 -2.1502 -2.3134 -2.3072 -2.1958 -2.3061 -2.4589 -2.3543 -2.2489\n",
       "-2.4440 -2.2800 -2.1523 -2.3228 -2.2952 -2.2310 -2.2609 -2.4630 -2.4010 -2.2213\n",
       "-2.4149 -2.3136 -2.1159 -2.2688 -2.3502 -2.2301 -2.2458 -2.4363 -2.4421 -2.2575\n",
       "-2.3905 -2.2844 -2.1122 -2.3386 -2.3289 -2.1684 -2.3649 -2.4391 -2.4022 -2.2475\n",
       "-2.4443 -2.2609 -2.1341 -2.3697 -2.3041 -2.2234 -2.3452 -2.4188 -2.3716 -2.1999\n",
       "-2.4961 -2.2536 -2.1525 -2.3350 -2.3287 -2.1915 -2.3097 -2.4219 -2.3689 -2.2187\n",
       "-2.4433 -2.2880 -2.1523 -2.3072 -2.2572 -2.2365 -2.2965 -2.4342 -2.3850 -2.2628\n",
       "-2.4554 -2.2568 -2.1352 -2.3031 -2.2574 -2.1983 -2.3504 -2.4852 -2.3736 -2.2640\n",
       "-2.4409 -2.2592 -2.1480 -2.2856 -2.3460 -2.2462 -2.2677 -2.4252 -2.4056 -2.2418\n",
       "-2.4693 -2.2589 -2.1222 -2.3273 -2.3052 -2.2384 -2.2744 -2.4376 -2.4027 -2.2397\n",
       "-2.4670 -2.2817 -2.0646 -2.3148 -2.3353 -2.2047 -2.3084 -2.4662 -2.3976 -2.2530\n",
       "-2.4535 -2.3119 -2.0922 -2.3237 -2.3005 -2.2419 -2.2635 -2.4526 -2.3861 -2.2528\n",
       "-2.4674 -2.2415 -2.1652 -2.2964 -2.3164 -2.2698 -2.2438 -2.4511 -2.4185 -2.2048\n",
       "-2.4584 -2.3075 -2.1033 -2.3456 -2.3045 -2.1815 -2.2982 -2.4595 -2.3634 -2.2598\n",
       "-2.4798 -2.3014 -2.1179 -2.3279 -2.2481 -2.2497 -2.3113 -2.4011 -2.4237 -2.2166\n",
       "-2.4760 -2.2542 -2.1104 -2.3011 -2.2829 -2.2686 -2.3089 -2.4607 -2.3753 -2.2401\n",
       "-2.4467 -2.2860 -2.1496 -2.3079 -2.2595 -2.2218 -2.2989 -2.4485 -2.4099 -2.2413\n",
       "-2.4425 -2.3031 -2.1302 -2.2731 -2.3412 -2.2475 -2.2742 -2.4248 -2.4209 -2.2144\n",
       "-2.4907 -2.2458 -2.1635 -2.3161 -2.3196 -2.1783 -2.3622 -2.3820 -2.3681 -2.2448\n",
       "-2.4501 -2.2794 -2.0948 -2.3490 -2.2762 -2.2273 -2.3186 -2.4468 -2.4141 -2.2265\n",
       "-2.4115 -2.2865 -2.1207 -2.3267 -2.2702 -2.2135 -2.3848 -2.4099 -2.3933 -2.2511\n",
       "-2.4642 -2.3128 -2.0869 -2.2995 -2.2866 -2.2130 -2.3592 -2.4387 -2.4044 -2.2211\n",
       "-2.4578 -2.2809 -2.1145 -2.3200 -2.3148 -2.2341 -2.2749 -2.4347 -2.3984 -2.2439\n",
       "[torch.FloatTensor of size 64x10]"
      ]
     },
     "execution_count": 188,
     "metadata": {},
     "output_type": "execute_result"
    }
   ],
   "source": [
    "ypred #prediction on a batch of training images"
   ]
  },
  {
   "cell_type": "code",
   "execution_count": 189,
   "metadata": {
    "collapsed": true
   },
   "outputs": [],
   "source": [
    "w,b = net4.w,net4.b #storing weights and biases"
   ]
  },
  {
   "cell_type": "code",
   "execution_count": 190,
   "metadata": {
    "collapsed": true
   },
   "outputs": [
    {
     "data": {
      "text/plain": [
       "(Parameter containing:\n",
       " 1.00000e-03 *\n",
       " -2.3094 -0.0706  0.2468  ...   0.2512 -1.5780  0.4417\n",
       "  0.2034  0.9098  0.7063  ...   2.7903  2.4859  0.5419\n",
       " -0.6852  1.3061  0.7707  ...  -0.7222  0.2677 -0.2775\n",
       "           ...             ⋱             ...          \n",
       "  0.6679  1.6504 -0.6590  ...  -0.5789  2.3000 -2.1979\n",
       "  0.8349 -0.5999  1.1897  ...  -0.5849  0.4705 -1.7466\n",
       "  1.9556 -0.9380 -0.2632  ...  -1.4528 -1.0685  0.4858\n",
       " [torch.FloatTensor of size 784x10], Parameter containing:\n",
       " -0.1721\n",
       "  0.0007\n",
       "  0.1519\n",
       " -0.0198\n",
       " -0.0063\n",
       "  0.0380\n",
       "  0.0109\n",
       " -0.1354\n",
       " -0.0962\n",
       "  0.0479\n",
       " [torch.FloatTensor of size 10])"
      ]
     },
     "execution_count": 190,
     "metadata": {},
     "output_type": "execute_result"
    }
   ],
   "source": [
    "w,b "
   ]
  },
  {
   "cell_type": "code",
   "execution_count": 191,
   "metadata": {
    "collapsed": true
   },
   "outputs": [
    {
     "data": {
      "text/plain": [
       "Variable containing:\n",
       " 2.2975\n",
       "[torch.FloatTensor of size 1]"
      ]
     },
     "execution_count": 191,
     "metadata": {},
     "output_type": "execute_result"
    }
   ],
   "source": [
    "l = loss(ypred,Variable(yt));l"
   ]
  },
  {
   "cell_type": "code",
   "execution_count": 192,
   "metadata": {
    "collapsed": true
   },
   "outputs": [],
   "source": [
    "l.backward() #calculates gradients of loss with respect to every parameter"
   ]
  },
  {
   "cell_type": "code",
   "execution_count": 193,
   "metadata": {
    "collapsed": true
   },
   "outputs": [
    {
     "data": {
      "text/plain": [
       "(\n",
       "  0.0231  0.0032  0.0223  ...  -0.0106 -0.0253 -0.0123\n",
       "  0.0231  0.0032  0.0223  ...  -0.0106 -0.0253 -0.0123\n",
       "  0.0231  0.0032  0.0223  ...  -0.0106 -0.0253 -0.0123\n",
       "           ...             ⋱             ...          \n",
       "  0.0231  0.0032  0.0223  ...  -0.0106 -0.0253 -0.0123\n",
       "  0.0231  0.0032  0.0223  ...  -0.0106 -0.0253 -0.0123\n",
       "  0.0231  0.0032  0.0223  ...  -0.0106 -0.0253 -0.0123\n",
       " [torch.FloatTensor of size 784x10], \n",
       " 1.00000e-02 *\n",
       "  -5.4514\n",
       "  -0.7626\n",
       "  -5.2566\n",
       "  -5.7268\n",
       "   3.8440\n",
       "   2.9231\n",
       "  -0.9428\n",
       "   2.5082\n",
       "   5.9694\n",
       "   2.8956\n",
       " [torch.FloatTensor of size 10])"
      ]
     },
     "execution_count": 193,
     "metadata": {},
     "output_type": "execute_result"
    }
   ],
   "source": [
    "w.grad.data,b.grad.data"
   ]
  },
  {
   "cell_type": "code",
   "execution_count": 194,
   "metadata": {
    "collapsed": true
   },
   "outputs": [],
   "source": [
    "learning_rate = 1e-3"
   ]
  },
  {
   "cell_type": "code",
   "execution_count": 195,
   "metadata": {
    "collapsed": true
   },
   "outputs": [
    {
     "data": {
      "text/plain": [
       "\n",
       "1.00000e-03 *\n",
       "-2.3325 -0.0738  0.2245  ...   0.2618 -1.5526  0.4540\n",
       " 0.1803  0.9065  0.6839  ...   2.8009  2.5113  0.5542\n",
       "-0.7084  1.3029  0.7484  ...  -0.7115  0.2930 -0.2652\n",
       "          ...             ⋱             ...          \n",
       " 0.6448  1.6471 -0.6813  ...  -0.5682  2.3254 -2.1856\n",
       " 0.8118 -0.6031  1.1673  ...  -0.5743  0.4959 -1.7343\n",
       " 1.9325 -0.9412 -0.2855  ...  -1.4422 -1.0432  0.4981\n",
       "[torch.FloatTensor of size 784x10]"
      ]
     },
     "execution_count": 195,
     "metadata": {},
     "output_type": "execute_result"
    }
   ],
   "source": [
    "w.data - w.grad.data*learning_rate #this is what optimizer is doing behind the scenes"
   ]
  },
  {
   "cell_type": "code",
   "execution_count": 196,
   "metadata": {
    "collapsed": true
   },
   "outputs": [],
   "source": [
    "opt.step()"
   ]
  },
  {
   "cell_type": "code",
   "execution_count": 197,
   "metadata": {
    "collapsed": true
   },
   "outputs": [
    {
     "data": {
      "text/plain": [
       "\n",
       "1.00000e-03 *\n",
       "-3.3094 -1.0705 -0.7531  ...   1.2512 -0.5780  1.4417\n",
       "-0.7966 -0.0901 -0.2937  ...   3.7902  3.4859  1.5419\n",
       "-1.6852  0.3062 -0.2293  ...   0.2778  1.2677  0.7225\n",
       "          ...             ⋱             ...          \n",
       "-0.3321  0.6505 -1.6589  ...   0.4211  3.3000 -1.1979\n",
       "-0.1650 -1.5998  0.1897  ...   0.4151  1.4705 -0.7467\n",
       " 0.9556 -1.9379 -1.2632  ...  -0.4528 -0.0685  1.4858\n",
       "[torch.FloatTensor of size 784x10]"
      ]
     },
     "execution_count": 197,
     "metadata": {},
     "output_type": "execute_result"
    }
   ],
   "source": [
    "w.data"
   ]
  },
  {
   "cell_type": "markdown",
   "metadata": {},
   "source": [
    "##### Replacing the optimizer and metrics"
   ]
  },
  {
   "cell_type": "code",
   "execution_count": 207,
   "metadata": {},
   "outputs": [],
   "source": [
    "def score(x, y):\n",
    "    y_pred = to_np(net2(V(x)))\n",
    "    return np.sum(y_pred.argmax(axis=1) == to_np(y))/len(y_pred)"
   ]
  },
  {
   "cell_type": "code",
   "execution_count": 208,
   "metadata": {},
   "outputs": [
    {
     "name": "stdout",
     "output_type": "stream",
     "text": [
      "0.924462579618\n"
     ]
    }
   ],
   "source": [
    "net5 = custom_net()\n",
    "loss=nn.CrossEntropyLoss()\n",
    "lr = 1e-3\n",
    "w,b = net5.w,net5.b\n",
    "\n",
    "for epoch in range(1):\n",
    "    losses=[]\n",
    "    dl = iter(md.trn_dl)\n",
    "    for t in range(len(dl)):\n",
    "        xt, yt = next(dl)\n",
    "        y_pred = net5(V(xt))\n",
    "        l = loss(y_pred, Variable(yt))\n",
    "        losses.append(l)\n",
    "\n",
    "        \n",
    "\n",
    "        # Backward pass: compute gradient of the loss with respect to model parameters\n",
    "        l.backward()\n",
    "#         optimizer.step()\n",
    "        w.data -= w.grad.data * lr\n",
    "        b.data -= b.grad.data * lr\n",
    "        \n",
    "#         optimizer.zero_grad()\n",
    "        w.grad.data.zero_()\n",
    "        b.grad.data.zero_() \n",
    "  \n",
    "\n",
    "    val_dl = iter(md.val_dl)\n",
    "    val_scores = [score(*next(val_dl)) for i in range(len(val_dl))]\n",
    "    print(np.mean(val_scores))"
   ]
  },
  {
   "cell_type": "markdown",
   "metadata": {},
   "source": [
    "* Regularization: Weight decay or dropout\n",
    "* Weight decay is similar to L1/L2 regularization but is not exactly the same\n",
    "* Weight decay either during update or apply regularization in loss function\n",
    "* But in adam optimizer these 2 are different concepts\n",
    "* Sometimes weight decay can improve the loss surface \n",
    "* Weight decay finally result in relatively poor training loss"
   ]
  },
  {
   "cell_type": "code",
   "execution_count": null,
   "metadata": {},
   "outputs": [],
   "source": [
    "w.grad.data"
   ]
  },
  {
   "cell_type": "markdown",
   "metadata": {},
   "source": [
    "----"
   ]
  },
  {
   "cell_type": "markdown",
   "metadata": {},
   "source": [
    "## Broadcasting"
   ]
  },
  {
   "cell_type": "code",
   "execution_count": 209,
   "metadata": {},
   "outputs": [],
   "source": [
    "a = np.array([1,5,3])\n",
    "b = np.array([3,4,4])"
   ]
  },
  {
   "cell_type": "code",
   "execution_count": 213,
   "metadata": {},
   "outputs": [
    {
     "data": {
      "text/plain": [
       "((3,), (3,))"
      ]
     },
     "execution_count": 213,
     "metadata": {},
     "output_type": "execute_result"
    }
   ],
   "source": [
    "a.shape,b.shape"
   ]
  },
  {
   "cell_type": "markdown",
   "metadata": {},
   "source": [
    "#### element wise operation"
   ]
  },
  {
   "cell_type": "code",
   "execution_count": 211,
   "metadata": {},
   "outputs": [
    {
     "data": {
      "text/plain": [
       "array([4, 9, 7])"
      ]
     },
     "execution_count": 211,
     "metadata": {},
     "output_type": "execute_result"
    }
   ],
   "source": [
    "a+b"
   ]
  },
  {
   "cell_type": "code",
   "execution_count": 212,
   "metadata": {},
   "outputs": [
    {
     "data": {
      "text/plain": [
       "array([False,  True, False], dtype=bool)"
      ]
     },
     "execution_count": 212,
     "metadata": {},
     "output_type": "execute_result"
    }
   ],
   "source": [
    "(a>b)"
   ]
  },
  {
   "cell_type": "code",
   "execution_count": null,
   "metadata": {},
   "outputs": [],
   "source": [
    "a*b #element wise multiplication"
   ]
  },
  {
   "cell_type": "code",
   "execution_count": 214,
   "metadata": {},
   "outputs": [],
   "source": [
    "a = T([1,5,3])\n",
    "b = T([3,4,4])"
   ]
  },
  {
   "cell_type": "code",
   "execution_count": 215,
   "metadata": {},
   "outputs": [
    {
     "data": {
      "text/plain": [
       "(\n",
       "  1\n",
       "  5\n",
       "  3\n",
       " [torch.LongTensor of size 3], \n",
       "  3\n",
       "  4\n",
       "  4\n",
       " [torch.LongTensor of size 3])"
      ]
     },
     "execution_count": 215,
     "metadata": {},
     "output_type": "execute_result"
    }
   ],
   "source": [
    "a,b"
   ]
  },
  {
   "cell_type": "code",
   "execution_count": 216,
   "metadata": {},
   "outputs": [
    {
     "data": {
      "text/plain": [
       "(torch.Size([3]), torch.Size([3]))"
      ]
     },
     "execution_count": 216,
     "metadata": {},
     "output_type": "execute_result"
    }
   ],
   "source": [
    "a.size(),b.size()"
   ]
  },
  {
   "cell_type": "code",
   "execution_count": 217,
   "metadata": {},
   "outputs": [
    {
     "data": {
      "text/plain": [
       "\n",
       " 4\n",
       " 9\n",
       " 7\n",
       "[torch.LongTensor of size 3]"
      ]
     },
     "execution_count": 217,
     "metadata": {},
     "output_type": "execute_result"
    }
   ],
   "source": [
    "a+b"
   ]
  },
  {
   "cell_type": "code",
   "execution_count": 218,
   "metadata": {},
   "outputs": [
    {
     "data": {
      "text/plain": [
       "\n",
       " 0\n",
       " 1\n",
       " 0\n",
       "[torch.ByteTensor of size 3]"
      ]
     },
     "execution_count": 218,
     "metadata": {},
     "output_type": "execute_result"
    }
   ],
   "source": [
    "a>b"
   ]
  },
  {
   "cell_type": "markdown",
   "metadata": {},
   "source": [
    "0 is being broadcasted here"
   ]
  },
  {
   "cell_type": "code",
   "execution_count": 219,
   "metadata": {},
   "outputs": [
    {
     "data": {
      "text/plain": [
       "\n",
       " 1\n",
       " 1\n",
       " 1\n",
       "[torch.ByteTensor of size 3]"
      ]
     },
     "execution_count": 219,
     "metadata": {},
     "output_type": "execute_result"
    }
   ],
   "source": [
    "a>0 #comparison of rank 1 tensor with rank 0 tensor"
   ]
  },
  {
   "cell_type": "code",
   "execution_count": 264,
   "metadata": {},
   "outputs": [],
   "source": [
    "x = np.array([[1,2,3],[3,4,5],[9,1,2]])"
   ]
  },
  {
   "cell_type": "code",
   "execution_count": 221,
   "metadata": {},
   "outputs": [
    {
     "data": {
      "text/plain": [
       "array([[1, 2, 3],\n",
       "       [3, 4, 5],\n",
       "       [9, 1, 2]])"
      ]
     },
     "execution_count": 221,
     "metadata": {},
     "output_type": "execute_result"
    }
   ],
   "source": [
    "x"
   ]
  },
  {
   "cell_type": "code",
   "execution_count": 222,
   "metadata": {},
   "outputs": [
    {
     "data": {
      "text/plain": [
       "(3, 3)"
      ]
     },
     "execution_count": 222,
     "metadata": {},
     "output_type": "execute_result"
    }
   ],
   "source": [
    "x.shape"
   ]
  },
  {
   "cell_type": "code",
   "execution_count": 223,
   "metadata": {},
   "outputs": [
    {
     "data": {
      "text/plain": [
       "array([[ 2,  4,  6],\n",
       "       [ 6,  8, 10],\n",
       "       [18,  2,  4]])"
      ]
     },
     "execution_count": 223,
     "metadata": {},
     "output_type": "execute_result"
    }
   ],
   "source": [
    "2*x"
   ]
  },
  {
   "cell_type": "markdown",
   "metadata": {},
   "source": [
    "2 has been broadcasted here "
   ]
  },
  {
   "cell_type": "code",
   "execution_count": 224,
   "metadata": {},
   "outputs": [
    {
     "data": {
      "text/plain": [
       "array([[2, 2, 2],\n",
       "       [2, 2, 2],\n",
       "       [2, 2, 2]])"
      ]
     },
     "execution_count": 224,
     "metadata": {},
     "output_type": "execute_result"
    }
   ],
   "source": [
    "np.broadcast_to(2,x.shape)"
   ]
  },
  {
   "cell_type": "code",
   "execution_count": 225,
   "metadata": {},
   "outputs": [],
   "source": [
    "y = np.array([10,20,30])"
   ]
  },
  {
   "cell_type": "code",
   "execution_count": 247,
   "metadata": {},
   "outputs": [
    {
     "data": {
      "text/plain": [
       "(3,)"
      ]
     },
     "execution_count": 247,
     "metadata": {},
     "output_type": "execute_result"
    }
   ],
   "source": [
    "y.shape #rank 1 tensor is considered as a row vector"
   ]
  },
  {
   "cell_type": "code",
   "execution_count": 228,
   "metadata": {},
   "outputs": [
    {
     "data": {
      "text/plain": [
       "array([[1, 2, 3],\n",
       "       [3, 4, 5],\n",
       "       [9, 1, 2]])"
      ]
     },
     "execution_count": 228,
     "metadata": {},
     "output_type": "execute_result"
    }
   ],
   "source": [
    "x"
   ]
  },
  {
   "cell_type": "code",
   "execution_count": 229,
   "metadata": {},
   "outputs": [
    {
     "data": {
      "text/plain": [
       "array([[11, 22, 33],\n",
       "       [13, 24, 35],\n",
       "       [19, 21, 32]])"
      ]
     },
     "execution_count": 229,
     "metadata": {},
     "output_type": "execute_result"
    }
   ],
   "source": [
    "x+y"
   ]
  },
  {
   "cell_type": "code",
   "execution_count": 230,
   "metadata": {},
   "outputs": [
    {
     "data": {
      "text/plain": [
       "array([[10, 20, 30],\n",
       "       [10, 20, 30],\n",
       "       [10, 20, 30]])"
      ]
     },
     "execution_count": 230,
     "metadata": {},
     "output_type": "execute_result"
    }
   ],
   "source": [
    "np.broadcast_to(y,x.shape)"
   ]
  },
  {
   "cell_type": "code",
   "execution_count": 231,
   "metadata": {},
   "outputs": [
    {
     "data": {
      "text/plain": [
       "array([[10, 20, 30]])"
      ]
     },
     "execution_count": 231,
     "metadata": {},
     "output_type": "execute_result"
    }
   ],
   "source": [
    "y[None]"
   ]
  },
  {
   "cell_type": "code",
   "execution_count": 233,
   "metadata": {},
   "outputs": [
    {
     "data": {
      "text/plain": [
       "array([[10],\n",
       "       [20],\n",
       "       [30]])"
      ]
     },
     "execution_count": 233,
     "metadata": {},
     "output_type": "execute_result"
    }
   ],
   "source": [
    "y[:,None]"
   ]
  },
  {
   "cell_type": "code",
   "execution_count": 234,
   "metadata": {},
   "outputs": [
    {
     "data": {
      "text/plain": [
       "array([[11, 12, 13],\n",
       "       [23, 24, 25],\n",
       "       [39, 31, 32]])"
      ]
     },
     "execution_count": 234,
     "metadata": {},
     "output_type": "execute_result"
    }
   ],
   "source": [
    "x+y[:,None]"
   ]
  },
  {
   "cell_type": "code",
   "execution_count": 236,
   "metadata": {},
   "outputs": [
    {
     "data": {
      "text/plain": [
       "array([[10, 10, 10],\n",
       "       [20, 20, 20],\n",
       "       [30, 30, 30]])"
      ]
     },
     "execution_count": 236,
     "metadata": {},
     "output_type": "execute_result"
    }
   ],
   "source": [
    "np.broadcast_to(y[:,None],x.shape)"
   ]
  },
  {
   "cell_type": "code",
   "execution_count": 239,
   "metadata": {},
   "outputs": [
    {
     "data": {
      "text/plain": [
       "(3, 1)"
      ]
     },
     "execution_count": 239,
     "metadata": {},
     "output_type": "execute_result"
    }
   ],
   "source": [
    "y[:,None].shape"
   ]
  },
  {
   "cell_type": "code",
   "execution_count": 237,
   "metadata": {},
   "outputs": [
    {
     "data": {
      "text/plain": [
       "array([[[10],\n",
       "        [20],\n",
       "        [30]]])"
      ]
     },
     "execution_count": 237,
     "metadata": {},
     "output_type": "execute_result"
    }
   ],
   "source": [
    "y[None,:,None]"
   ]
  },
  {
   "cell_type": "code",
   "execution_count": 242,
   "metadata": {},
   "outputs": [],
   "source": [
    "x = np.array([[1,2,3],[3,4,5],[9,1,2],[1,3,4]])"
   ]
  },
  {
   "cell_type": "code",
   "execution_count": 243,
   "metadata": {},
   "outputs": [
    {
     "data": {
      "text/plain": [
       "(4, 3)"
      ]
     },
     "execution_count": 243,
     "metadata": {},
     "output_type": "execute_result"
    }
   ],
   "source": [
    "x.shape"
   ]
  },
  {
   "cell_type": "code",
   "execution_count": 245,
   "metadata": {},
   "outputs": [
    {
     "data": {
      "text/plain": [
       "array([[10, 20, 30],\n",
       "       [10, 20, 30],\n",
       "       [10, 20, 30],\n",
       "       [10, 20, 30]])"
      ]
     },
     "execution_count": 245,
     "metadata": {},
     "output_type": "execute_result"
    }
   ],
   "source": [
    "np.broadcast_to(y, x.shape)"
   ]
  },
  {
   "cell_type": "code",
   "execution_count": 248,
   "metadata": {},
   "outputs": [
    {
     "data": {
      "text/plain": [
       "array([140, 260, 170, 190])"
      ]
     },
     "execution_count": 248,
     "metadata": {},
     "output_type": "execute_result"
    }
   ],
   "source": [
    "x@y"
   ]
  },
  {
   "cell_type": "code",
   "execution_count": 241,
   "metadata": {},
   "outputs": [
    {
     "data": {
      "text/plain": [
       "\n",
       " 0.3032 -0.0480  1.4770\n",
       " 0.2023  0.3126  0.0615\n",
       " 0.4882  0.5409  2.1542\n",
       "-0.6509 -0.0625  1.9477\n",
       "[torch.FloatTensor of size 4x3]"
      ]
     },
     "execution_count": 241,
     "metadata": {},
     "output_type": "execute_result"
    }
   ],
   "source": [
    "torch.randn(4,3) + torch.randn(3)"
   ]
  },
  {
   "cell_type": "markdown",
   "metadata": {},
   "source": [
    "## Broadcasting rules"
   ]
  },
  {
   "cell_type": "code",
   "execution_count": 249,
   "metadata": {},
   "outputs": [],
   "source": [
    "s = y[None]"
   ]
  },
  {
   "cell_type": "code",
   "execution_count": 250,
   "metadata": {},
   "outputs": [],
   "source": [
    "t = y[:,None]"
   ]
  },
  {
   "cell_type": "code",
   "execution_count": 251,
   "metadata": {},
   "outputs": [
    {
     "data": {
      "text/plain": [
       "(array([[10, 20, 30]]), array([[10],\n",
       "        [20],\n",
       "        [30]]))"
      ]
     },
     "execution_count": 251,
     "metadata": {},
     "output_type": "execute_result"
    }
   ],
   "source": [
    "s,t"
   ]
  },
  {
   "cell_type": "code",
   "execution_count": 252,
   "metadata": {},
   "outputs": [
    {
     "data": {
      "text/plain": [
       "((1, 3), (3, 1))"
      ]
     },
     "execution_count": 252,
     "metadata": {},
     "output_type": "execute_result"
    }
   ],
   "source": [
    "s.shape,t.shape"
   ]
  },
  {
   "cell_type": "code",
   "execution_count": 255,
   "metadata": {},
   "outputs": [
    {
     "data": {
      "text/plain": [
       "array([[1400]])"
      ]
     },
     "execution_count": 255,
     "metadata": {},
     "output_type": "execute_result"
    }
   ],
   "source": [
    "s@t"
   ]
  },
  {
   "cell_type": "code",
   "execution_count": 256,
   "metadata": {},
   "outputs": [
    {
     "data": {
      "text/plain": [
       "array([[100, 200, 300],\n",
       "       [200, 400, 600],\n",
       "       [300, 600, 900]])"
      ]
     },
     "execution_count": 256,
     "metadata": {},
     "output_type": "execute_result"
    }
   ],
   "source": [
    "s*t"
   ]
  },
  {
   "cell_type": "code",
   "execution_count": 257,
   "metadata": {},
   "outputs": [
    {
     "data": {
      "text/plain": [
       "array([[100, 200, 300],\n",
       "       [200, 400, 600],\n",
       "       [300, 600, 900]])"
      ]
     },
     "execution_count": 257,
     "metadata": {},
     "output_type": "execute_result"
    }
   ],
   "source": [
    "t@s"
   ]
  },
  {
   "cell_type": "code",
   "execution_count": 261,
   "metadata": {},
   "outputs": [
    {
     "data": {
      "text/plain": [
       "array([[100, 400, 900]])"
      ]
     },
     "execution_count": 261,
     "metadata": {},
     "output_type": "execute_result"
    }
   ],
   "source": [
    "s*y"
   ]
  },
  {
   "cell_type": "code",
   "execution_count": 262,
   "metadata": {},
   "outputs": [
    {
     "data": {
      "text/plain": [
       "array([[100, 200, 300],\n",
       "       [200, 400, 600],\n",
       "       [300, 600, 900]])"
      ]
     },
     "execution_count": 262,
     "metadata": {},
     "output_type": "execute_result"
    }
   ],
   "source": [
    "t*y"
   ]
  },
  {
   "cell_type": "code",
   "execution_count": 265,
   "metadata": {},
   "outputs": [
    {
     "data": {
      "text/plain": [
       "(array([[1, 2, 3],\n",
       "        [3, 4, 5],\n",
       "        [9, 1, 2]]), array([10, 20, 30]))"
      ]
     },
     "execution_count": 265,
     "metadata": {},
     "output_type": "execute_result"
    }
   ],
   "source": [
    "x,y"
   ]
  },
  {
   "cell_type": "code",
   "execution_count": 266,
   "metadata": {},
   "outputs": [
    {
     "data": {
      "text/plain": [
       "(3, 3)"
      ]
     },
     "execution_count": 266,
     "metadata": {},
     "output_type": "execute_result"
    }
   ],
   "source": [
    "x.shape"
   ]
  },
  {
   "cell_type": "code",
   "execution_count": 267,
   "metadata": {},
   "outputs": [
    {
     "data": {
      "text/plain": [
       "(3,)"
      ]
     },
     "execution_count": 267,
     "metadata": {},
     "output_type": "execute_result"
    }
   ],
   "source": [
    "y.shape"
   ]
  },
  {
   "cell_type": "code",
   "execution_count": 268,
   "metadata": {},
   "outputs": [
    {
     "data": {
      "text/plain": [
       "(3,)"
      ]
     },
     "execution_count": 268,
     "metadata": {},
     "output_type": "execute_result"
    }
   ],
   "source": [
    "(x@y).shape #empty dim is taken as 1"
   ]
  },
  {
   "cell_type": "code",
   "execution_count": 269,
   "metadata": {},
   "outputs": [
    {
     "data": {
      "text/plain": [
       "array([140, 260, 170])"
      ]
     },
     "execution_count": 269,
     "metadata": {},
     "output_type": "execute_result"
    }
   ],
   "source": [
    "(x@y)"
   ]
  },
  {
   "cell_type": "code",
   "execution_count": 270,
   "metadata": {},
   "outputs": [
    {
     "data": {
      "text/plain": [
       "torch.Size([3])"
      ]
     },
     "execution_count": 270,
     "metadata": {},
     "output_type": "execute_result"
    }
   ],
   "source": [
    "(T(x)@T(y)).size()"
   ]
  },
  {
   "cell_type": "code",
   "execution_count": 271,
   "metadata": {},
   "outputs": [
    {
     "data": {
      "text/plain": [
       "\n",
       " 140\n",
       " 260\n",
       " 170\n",
       "[torch.LongTensor of size 3]"
      ]
     },
     "execution_count": 271,
     "metadata": {},
     "output_type": "execute_result"
    }
   ],
   "source": [
    "(T(x)@T(y))"
   ]
  },
  {
   "cell_type": "code",
   "execution_count": null,
   "metadata": {},
   "outputs": [],
   "source": [
    "(x*y).sum(axis =1) #same as matrix multiplication"
   ]
  },
  {
   "cell_type": "markdown",
   "metadata": {},
   "source": [
    "----"
   ]
  }
 ],
 "metadata": {
  "kernelspec": {
   "display_name": "Python 3",
   "language": "python",
   "name": "python3"
  },
  "language_info": {
   "codemirror_mode": {
    "name": "ipython",
    "version": 3
   },
   "file_extension": ".py",
   "mimetype": "text/x-python",
   "name": "python",
   "nbconvert_exporter": "python",
   "pygments_lexer": "ipython3",
   "version": "3.6.3"
  }
 },
 "nbformat": 4,
 "nbformat_minor": 2
}
