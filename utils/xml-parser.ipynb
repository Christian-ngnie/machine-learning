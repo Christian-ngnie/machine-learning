{
 "cells": [
  {
   "cell_type": "code",
   "execution_count": 1,
   "metadata": {},
   "outputs": [],
   "source": [
    "import sys\n",
    "import nltk\n",
    "from nltk.stem.porter import *\n",
    "from sklearn.feature_extraction import stop_words\n",
    "import xml.etree.cElementTree as ET\n",
    "from collections import Counter\n",
    "import string\n",
    "from sklearn.feature_extraction.text import TfidfVectorizer,ENGLISH_STOP_WORDS\n",
    "import zipfile\n",
    "import os"
   ]
  },
  {
   "cell_type": "code",
   "execution_count": 66,
   "metadata": {},
   "outputs": [],
   "source": [
    "import pandas as pd\n",
    "import numpy as np"
   ]
  },
  {
   "cell_type": "code",
   "execution_count": 21,
   "metadata": {},
   "outputs": [
    {
     "name": "stdout",
     "output_type": "stream",
     "text": [
      "Book1.csv          \u001b[34maclImdb\u001b[m\u001b[m            \u001b[34mpark-nav\u001b[m\u001b[m\r\n",
      "\u001b[34mNLMCXR_png\u001b[m\u001b[m         \u001b[34mecgen-radiology\u001b[m\u001b[m    \u001b[34mtalking-data\u001b[m\u001b[m\r\n",
      "NLMCXR_reports.tgz \u001b[34mml-latest-small\u001b[m\u001b[m    xml-parser.ipynb\r\n"
     ]
    }
   ],
   "source": [
    "!ls"
   ]
  },
  {
   "cell_type": "code",
   "execution_count": 36,
   "metadata": {},
   "outputs": [],
   "source": [
    "def load_corpus(dir):\n",
    "    \"\"\"\n",
    "    Given a directory containing text files,\n",
    "    read the text from each file into a dictionary\n",
    "    with keys as the filename\n",
    "    \"\"\"\n",
    "    fnames = os.listdir(dir)\n",
    "    txt_dict = {}\n",
    "    for f in fnames:\n",
    "        fh = open(os.path.abspath(dir+f), 'r')\n",
    "        txt = fh.read()\n",
    "        fh.close()\n",
    "        txt_dict[f] = txt\n",
    "    return txt_dict"
   ]
  },
  {
   "cell_type": "code",
   "execution_count": 37,
   "metadata": {},
   "outputs": [],
   "source": [
    "fpath = 'ecgen-radiology/'"
   ]
  },
  {
   "cell_type": "code",
   "execution_count": 38,
   "metadata": {},
   "outputs": [],
   "source": [
    "corpus = load_corpus(fpath)"
   ]
  },
  {
   "cell_type": "markdown",
   "metadata": {},
   "source": [
    "#### Parsing xml"
   ]
  },
  {
   "cell_type": "code",
   "execution_count": 41,
   "metadata": {},
   "outputs": [],
   "source": [
    "fnames = corpus.keys()"
   ]
  },
  {
   "cell_type": "code",
   "execution_count": 49,
   "metadata": {},
   "outputs": [],
   "source": [
    "report_dict = {}\n",
    "for k in fnames: \n",
    "    root = ET.fromstring(corpus[k])\n",
    "    tree = ET.ElementTree(root)\n",
    "    orientation = []\n",
    "    for elem in tree.iter(tag='caption'):\n",
    "        orientation.append(elem.text)\n",
    "    notes = []\n",
    "    for elem in tree.iter(tag='AbstractText'):\n",
    "        notes.append((elem.attrib,elem.text))\n",
    "    image_id = []\n",
    "    for elem in tree.iter(tag='parentImage'):\n",
    "        image_id.append(elem.attrib)\n",
    "    report_dict[k] = [orientation,notes,image_id]"
   ]
  },
  {
   "cell_type": "code",
   "execution_count": 112,
   "metadata": {},
   "outputs": [
    {
     "data": {
      "text/plain": [
       "[{'id': 'CXR2_IM-0652-1001'}, {'id': 'CXR2_IM-0652-2001'}]"
      ]
     },
     "execution_count": 112,
     "metadata": {},
     "output_type": "execute_result"
    }
   ],
   "source": [
    "report_dict[\"2.xml\"][2]"
   ]
  },
  {
   "cell_type": "code",
   "execution_count": 73,
   "metadata": {},
   "outputs": [],
   "source": [
    "df = pd.DataFrame.from_dict(list(report_dict.keys()))"
   ]
  },
  {
   "cell_type": "code",
   "execution_count": 77,
   "metadata": {},
   "outputs": [],
   "source": [
    "df.columns = [\"report_name\"]"
   ]
  },
  {
   "cell_type": "code",
   "execution_count": 84,
   "metadata": {},
   "outputs": [],
   "source": [
    "impression = []\n",
    "for k in fnames:\n",
    "    impression.append(report_dict[k][1][3][1])\n",
    "\n",
    "df['impression'] = np.array(impression)"
   ]
  },
  {
   "cell_type": "code",
   "execution_count": 94,
   "metadata": {},
   "outputs": [],
   "source": [
    "indication = []\n",
    "for k in fnames:\n",
    "    indication.append(report_dict[k][1][1][1])\n",
    "\n",
    "df['indication'] = np.array(indication)"
   ]
  },
  {
   "cell_type": "code",
   "execution_count": 97,
   "metadata": {},
   "outputs": [],
   "source": [
    "comparison = []\n",
    "for k in fnames:\n",
    "    comparison.append(report_dict[k][1][0][1])\n",
    "\n",
    "df['comparison'] = np.array(comparison)"
   ]
  },
  {
   "cell_type": "code",
   "execution_count": 99,
   "metadata": {},
   "outputs": [],
   "source": [
    "findings = []\n",
    "for k in fnames:\n",
    "    findings.append(report_dict[k][1][2][1])\n",
    "\n",
    "df['findings'] = np.array(findings)"
   ]
  },
  {
   "cell_type": "code",
   "execution_count": 101,
   "metadata": {},
   "outputs": [
    {
     "data": {
      "text/html": [
       "<div>\n",
       "<style scoped>\n",
       "    .dataframe tbody tr th:only-of-type {\n",
       "        vertical-align: middle;\n",
       "    }\n",
       "\n",
       "    .dataframe tbody tr th {\n",
       "        vertical-align: top;\n",
       "    }\n",
       "\n",
       "    .dataframe thead th {\n",
       "        text-align: right;\n",
       "    }\n",
       "</style>\n",
       "<table border=\"1\" class=\"dataframe\">\n",
       "  <thead>\n",
       "    <tr style=\"text-align: right;\">\n",
       "      <th></th>\n",
       "      <th>report_name</th>\n",
       "      <th>impression</th>\n",
       "      <th>indication</th>\n",
       "      <th>comparison</th>\n",
       "      <th>findings</th>\n",
       "    </tr>\n",
       "  </thead>\n",
       "  <tbody>\n",
       "    <tr>\n",
       "      <th>0</th>\n",
       "      <td>1.xml</td>\n",
       "      <td>Normal chest x-XXXX.</td>\n",
       "      <td>Positive TB test</td>\n",
       "      <td>None.</td>\n",
       "      <td>The cardiac silhouette and mediastinum size ar...</td>\n",
       "    </tr>\n",
       "    <tr>\n",
       "      <th>1</th>\n",
       "      <td>10.xml</td>\n",
       "      <td>No acute cardiopulmonary process.</td>\n",
       "      <td>XXXX-year-old male, chest pain.</td>\n",
       "      <td>Chest radiographs XXXX.</td>\n",
       "      <td>The cardiomediastinal silhouette is within nor...</td>\n",
       "    </tr>\n",
       "  </tbody>\n",
       "</table>\n",
       "</div>"
      ],
      "text/plain": [
       "  report_name                         impression  \\\n",
       "0       1.xml               Normal chest x-XXXX.   \n",
       "1      10.xml  No acute cardiopulmonary process.   \n",
       "\n",
       "                        indication               comparison  \\\n",
       "0                 Positive TB test                    None.   \n",
       "1  XXXX-year-old male, chest pain.  Chest radiographs XXXX.   \n",
       "\n",
       "                                            findings  \n",
       "0  The cardiac silhouette and mediastinum size ar...  \n",
       "1  The cardiomediastinal silhouette is within nor...  "
      ]
     },
     "execution_count": 101,
     "metadata": {},
     "output_type": "execute_result"
    }
   ],
   "source": [
    "df.head(2)"
   ]
  },
  {
   "cell_type": "code",
   "execution_count": 122,
   "metadata": {},
   "outputs": [],
   "source": [
    "report = []\n",
    "image_id = []\n",
    "orientation = []\n",
    "for k in fnames:\n",
    "    l1 = len(report_dict[k][2])\n",
    "    l2 = len(report_dict[k][0])\n",
    "    for l in range(l1):\n",
    "        report.append(k)\n",
    "        image_id.append(report_dict[k][2][l]['id'])\n",
    "        orientation.append(report_dict[k][0][l])\n",
    "\n",
    "    "
   ]
  },
  {
   "cell_type": "code",
   "execution_count": 125,
   "metadata": {},
   "outputs": [],
   "source": [
    "df_map = pd.DataFrame([report,image_id,orientation]).T"
   ]
  },
  {
   "cell_type": "code",
   "execution_count": 127,
   "metadata": {},
   "outputs": [],
   "source": [
    "df_map.columns = ['report_name','id','orientation']"
   ]
  },
  {
   "cell_type": "code",
   "execution_count": 128,
   "metadata": {},
   "outputs": [],
   "source": [
    "label = pd.merge(df_map,df,'left',on = 'report_name',copy=False)"
   ]
  },
  {
   "cell_type": "code",
   "execution_count": 139,
   "metadata": {},
   "outputs": [],
   "source": [
    "label.to_csv('openi_labels.csv',index=False)"
   ]
  }
 ],
 "metadata": {
  "kernelspec": {
   "display_name": "Python 3",
   "language": "python",
   "name": "python3"
  },
  "language_info": {
   "codemirror_mode": {
    "name": "ipython",
    "version": 3
   },
   "file_extension": ".py",
   "mimetype": "text/x-python",
   "name": "python",
   "nbconvert_exporter": "python",
   "pygments_lexer": "ipython3",
   "version": "3.6.4"
  }
 },
 "nbformat": 4,
 "nbformat_minor": 2
}
