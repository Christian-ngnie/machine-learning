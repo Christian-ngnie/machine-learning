{
 "cells": [
  {
   "cell_type": "code",
   "execution_count": 104,
   "metadata": {},
   "outputs": [],
   "source": [
    "import numpy as np\n",
    "import matplotlib.pyplot as plt\n",
    "%matplotlib inline"
   ]
  },
  {
   "cell_type": "markdown",
   "metadata": {},
   "source": [
    "Given a string, find the length of the longest substring without repeating characters.\n",
    "\n",
    "Examples:\n",
    "\n",
    "Given \"abcabcbb\", the answer is \"abc\", which the length is 3.\n",
    "\n",
    "Given \"bbbbb\", the answer is \"b\", with the length of 1.\n",
    "\n",
    "Given \"pwwkew\", the answer is \"wke\", with the length of 3. Note that the answer must be a substring, \"pwke\" is a subsequence and not a substring."
   ]
  },
  {
   "cell_type": "code",
   "execution_count": 39,
   "metadata": {},
   "outputs": [],
   "source": [
    "s = \"abcabcbb\""
   ]
  },
  {
   "cell_type": "code",
   "execution_count": 40,
   "metadata": {},
   "outputs": [],
   "source": [
    "def long(s):\n",
    "    l_max = 0\n",
    "    l_now = 0\n",
    "    s_current = ''\n",
    "    s_max = ''\n",
    "    for i,e in enumerate(s):\n",
    "        l_now = len(s_current)\n",
    "        if l_now >= l_max:\n",
    "            l_max = l_now\n",
    "            s_max = s_current\n",
    "        if e not in s_current:\n",
    "            s_current = s_current + e\n",
    "        else:\n",
    "            s_current = s_current[s_current.index(e)+1:] + e\n",
    "    return s_max   "
   ]
  },
  {
   "cell_type": "code",
   "execution_count": 41,
   "metadata": {},
   "outputs": [
    {
     "data": {
      "text/plain": [
       "'abc'"
      ]
     },
     "execution_count": 41,
     "metadata": {},
     "output_type": "execute_result"
    }
   ],
   "source": [
    "long(s)"
   ]
  },
  {
   "cell_type": "code",
   "execution_count": 74,
   "metadata": {},
   "outputs": [],
   "source": [
    "def lengthOfLongestSubstring(s):\n",
    "    \"\"\"\n",
    "    :type s: str\n",
    "    :rtype: int\n",
    "    \"\"\"\n",
    "    str_current = ''\n",
    "    l_now = 0\n",
    "    l_max = 0\n",
    "    for e in s:\n",
    "        if e not in str_current:\n",
    "            str_current = str_current + e\n",
    "            l_now = len(str_current)\n",
    "            if l_now > l_max:\n",
    "                l_max = l_now\n",
    "        else:\n",
    "            str_current = str_current[str_current.index(e) + 1:] + e\n",
    "    return l_max"
   ]
  },
  {
   "cell_type": "markdown",
   "metadata": {},
   "source": [
    "---"
   ]
  },
  {
   "cell_type": "markdown",
   "metadata": {},
   "source": [
    "Longest palindrome (need to complete)"
   ]
  },
  {
   "cell_type": "markdown",
   "metadata": {},
   "source": [
    "Given a string s, find the longest palindromic substring in s. You may assume that the maximum length of s is 1000."
   ]
  },
  {
   "cell_type": "code",
   "execution_count": 1,
   "metadata": {},
   "outputs": [],
   "source": [
    "def longestPalindrome(s):\n",
    "    \"\"\"\n",
    "    :type s: str\n",
    "    :rtype: int\n",
    "    \"\"\"\n",
    "    str_current = ''\n",
    "    l_now = 0\n",
    "    l_max = 0\n",
    "    for e in s:\n",
    "        s = str_current+e\n",
    "        if s == s[::-1] :\n",
    "            str_current = s\n",
    "            l_now = len(str_current)\n",
    "            if l_now > l_max:\n",
    "                l_max = l_now\n",
    "        else:\n",
    "            str_current = str_current[str_current.index(e) + 1:] + e\n",
    "    return l_max"
   ]
  },
  {
   "cell_type": "code",
   "execution_count": 2,
   "metadata": {},
   "outputs": [
    {
     "ename": "ValueError",
     "evalue": "substring not found",
     "output_type": "error",
     "traceback": [
      "\u001b[0;31m---------------------------------------------------------------------------\u001b[0m",
      "\u001b[0;31mValueError\u001b[0m                                Traceback (most recent call last)",
      "\u001b[0;32m<ipython-input-2-4de9ad267dc4>\u001b[0m in \u001b[0;36m<module>\u001b[0;34m()\u001b[0m\n\u001b[0;32m----> 1\u001b[0;31m \u001b[0mlongestPalindrome\u001b[0m\u001b[0;34m(\u001b[0m\u001b[0;34m'aabba'\u001b[0m\u001b[0;34m)\u001b[0m\u001b[0;34m\u001b[0m\u001b[0m\n\u001b[0m",
      "\u001b[0;32m<ipython-input-1-0342631d84cf>\u001b[0m in \u001b[0;36mlongestPalindrome\u001b[0;34m(s)\u001b[0m\n\u001b[1;32m     15\u001b[0m                 \u001b[0ml_max\u001b[0m \u001b[0;34m=\u001b[0m \u001b[0ml_now\u001b[0m\u001b[0;34m\u001b[0m\u001b[0m\n\u001b[1;32m     16\u001b[0m         \u001b[0;32melse\u001b[0m\u001b[0;34m:\u001b[0m\u001b[0;34m\u001b[0m\u001b[0m\n\u001b[0;32m---> 17\u001b[0;31m             \u001b[0mstr_current\u001b[0m \u001b[0;34m=\u001b[0m \u001b[0mstr_current\u001b[0m\u001b[0;34m[\u001b[0m\u001b[0mstr_current\u001b[0m\u001b[0;34m.\u001b[0m\u001b[0mindex\u001b[0m\u001b[0;34m(\u001b[0m\u001b[0me\u001b[0m\u001b[0;34m)\u001b[0m \u001b[0;34m+\u001b[0m \u001b[0;36m1\u001b[0m\u001b[0;34m:\u001b[0m\u001b[0;34m]\u001b[0m \u001b[0;34m+\u001b[0m \u001b[0me\u001b[0m\u001b[0;34m\u001b[0m\u001b[0m\n\u001b[0m\u001b[1;32m     18\u001b[0m     \u001b[0;32mreturn\u001b[0m \u001b[0ml_max\u001b[0m\u001b[0;34m\u001b[0m\u001b[0m\n",
      "\u001b[0;31mValueError\u001b[0m: substring not found"
     ]
    }
   ],
   "source": [
    "longestPalindrome('aabba')"
   ]
  },
  {
   "cell_type": "markdown",
   "metadata": {},
   "source": [
    "---"
   ]
  },
  {
   "cell_type": "markdown",
   "metadata": {},
   "source": [
    "Determine whether an integer is a palindrome. Do this without extra space."
   ]
  },
  {
   "cell_type": "code",
   "execution_count": null,
   "metadata": {},
   "outputs": [],
   "source": [
    "def isPalindrome(self, x):\n",
    "    \"\"\"\n",
    "    :type x: int\n",
    "    :rtype: bool\n",
    "    \"\"\"\n",
    "    if x < 0: return False\n",
    "    s = str(x)\n",
    "    return s == s[::-1]"
   ]
  },
  {
   "cell_type": "markdown",
   "metadata": {},
   "source": [
    "---"
   ]
  },
  {
   "cell_type": "markdown",
   "metadata": {},
   "source": [
    "Given a list of numbers, can you return the outliers?"
   ]
  },
  {
   "cell_type": "code",
   "execution_count": 18,
   "metadata": {},
   "outputs": [],
   "source": [
    "import pandas as pd\n",
    "\n",
    "test = list(np.random.randint(-1000, 1000, 400))\n",
    "\n",
    "test.extend([-10000, 5000])\n",
    "\n",
    "df = pd.DataFrame(test)\n",
    "\n",
    "df.columns = ['num']"
   ]
  },
  {
   "cell_type": "code",
   "execution_count": 34,
   "metadata": {},
   "outputs": [
    {
     "data": {
      "image/png": "[encoded data removed]",
      "text/plain": [
       "<matplotlib.figure.Figure at 0x1147beb70>"
      ]
     },
     "metadata": {},
     "output_type": "display_data"
    }
   ],
   "source": [
    "import seaborn as sns\n",
    "sns.set_style(\"whitegrid\")\n",
    "ax = sns.boxplot(x=df['num'])"
   ]
  },
  {
   "cell_type": "code",
   "execution_count": 53,
   "metadata": {},
   "outputs": [],
   "source": [
    "def outliers(l):\n",
    "    median = np.percentile(l, 50)\n",
    "    low = np.percentile(l, 25)\n",
    "    high = np.percentile(l, 75)\n",
    "    iqr = high - low\n",
    "    lw = low - 1.5 * iqr\n",
    "    hw = high + 1.5 * iqr\n",
    "    outliers = [i for i in l if i < lw or i > hw]\n",
    "    return outliers"
   ]
  },
  {
   "cell_type": "code",
   "execution_count": 54,
   "metadata": {},
   "outputs": [
    {
     "data": {
      "text/plain": [
       "[-10000, 5000]"
      ]
     },
     "execution_count": 54,
     "metadata": {},
     "output_type": "execute_result"
    }
   ],
   "source": [
    "outliers(test)"
   ]
  },
  {
   "cell_type": "markdown",
   "metadata": {},
   "source": [
    "----"
   ]
  },
  {
   "cell_type": "markdown",
   "metadata": {},
   "source": [
    "You're given strings J representing the types of stones that are jewels, and S representing the stones you have.  Each character in S is a type of stone you have.  You want to know how many of the stones you have are also jewels.\n",
    "\n",
    "The letters in J are guaranteed distinct, and all characters in J and S are letters. Letters are case sensitive, so \"a\" is considered a different type of stone from \"A\"."
   ]
  },
  {
   "cell_type": "code",
   "execution_count": 26,
   "metadata": {},
   "outputs": [],
   "source": [
    "def numJewelsInStones(J, S):\n",
    "    s = dict.fromkeys(S, 0)\n",
    "    for e in S:\n",
    "        s[e] += 1\n",
    "    return sum([s[e] for e in s.keys() if e in J])"
   ]
  },
  {
   "cell_type": "code",
   "execution_count": 3,
   "metadata": {},
   "outputs": [],
   "source": [
    "J = \"aA\"\n",
    "S = \"aAAbbbb\""
   ]
  },
  {
   "cell_type": "code",
   "execution_count": 28,
   "metadata": {},
   "outputs": [
    {
     "data": {
      "text/plain": [
       "3"
      ]
     },
     "execution_count": 28,
     "metadata": {},
     "output_type": "execute_result"
    }
   ],
   "source": [
    "numJewelsInStones(J,S)"
   ]
  },
  {
   "cell_type": "markdown",
   "metadata": {},
   "source": [
    "---"
   ]
  },
  {
   "cell_type": "markdown",
   "metadata": {},
   "source": [
    "We are to write the letters of a given string S, from left to right into lines. Each line has maximum width 100 units, and if writing a letter would cause the width of the line to exceed 100 units, it is written on the next line. We are given an array widths, an array where widths[0] is the width of 'a', widths[1] is the width of 'b', ..., and widths[25] is the width of 'z'.\n",
    "\n",
    "Now answer two questions: how many lines have at least one character from S, and what is the width used by the last such line? Return your answer as an integer list of length 2."
   ]
  },
  {
   "cell_type": "code",
   "execution_count": null,
   "metadata": {},
   "outputs": [],
   "source": [
    "def numberOfLines(widths, S):\n",
    "    en = 'abcdefghijklmnopqrstuvwxyz'\n",
    "    s = dict.fromkeys(S,0)\n",
    "    t = {e:widthds[en.index(e)] for e in s.keys()}\n",
    "    c = 0\n",
    "    l = 1\n",
    "    for e in S:\n",
    "        c+=t[e]\n",
    "        if c > 100:\n",
    "            l+=1\n",
    "            c = t[e]\n",
    "    return l,c\n"
   ]
  },
  {
   "cell_type": "code",
   "execution_count": 29,
   "metadata": {},
   "outputs": [],
   "source": [
    "widths = [4,10,10,10,10,10,10,10,10,10,10,10,10,10,10,10,10,10,10,10,10,10,10,10,10,10]\n",
    "S = \"bbbcccdddaaa\""
   ]
  },
  {
   "cell_type": "code",
   "execution_count": 36,
   "metadata": {},
   "outputs": [],
   "source": [
    "l = list(S)"
   ]
  },
  {
   "cell_type": "code",
   "execution_count": 31,
   "metadata": {},
   "outputs": [],
   "source": [
    "en = 'abcdefghijklmnopqrstuvwxyz'"
   ]
  },
  {
   "cell_type": "code",
   "execution_count": 33,
   "metadata": {},
   "outputs": [
    {
     "data": {
      "text/plain": [
       "1"
      ]
     },
     "execution_count": 33,
     "metadata": {},
     "output_type": "execute_result"
    }
   ],
   "source": [
    "en.index('b')"
   ]
  },
  {
   "cell_type": "code",
   "execution_count": 30,
   "metadata": {},
   "outputs": [],
   "source": [
    "s = dict.fromkeys(S,0)"
   ]
  },
  {
   "cell_type": "markdown",
   "metadata": {},
   "source": [
    "---"
   ]
  },
  {
   "cell_type": "markdown",
   "metadata": {},
   "source": [
    "Initially, there is a Robot at position (0, 0). Given a sequence of its moves, judge if this robot makes a circle, which means it moves back to the original place.\n",
    "\n",
    "The move sequence is represented by a string. And each move is represent by a character. The valid robot moves are R (Right), L (Left), U (Up) and D (down). The output should be true or false representing whether the robot makes a circle."
   ]
  },
  {
   "cell_type": "code",
   "execution_count": 45,
   "metadata": {},
   "outputs": [],
   "source": [
    "def judgeCircle(moves):\n",
    "    return (moves.count('L') == moves.count('R')) and (moves.count('U')==moves.count('D'))\n",
    "    "
   ]
  },
  {
   "cell_type": "code",
   "execution_count": 46,
   "metadata": {},
   "outputs": [],
   "source": [
    "moves= \"UD\""
   ]
  },
  {
   "cell_type": "code",
   "execution_count": 47,
   "metadata": {},
   "outputs": [
    {
     "data": {
      "text/plain": [
       "True"
      ]
     },
     "execution_count": 47,
     "metadata": {},
     "output_type": "execute_result"
    }
   ],
   "source": [
    "judgeCircle(moves)"
   ]
  },
  {
   "cell_type": "markdown",
   "metadata": {},
   "source": [
    "---"
   ]
  },
  {
   "cell_type": "markdown",
   "metadata": {},
   "source": [
    "Given a 32-bit signed integer, reverse digits of an integer."
   ]
  },
  {
   "cell_type": "code",
   "execution_count": 10,
   "metadata": {},
   "outputs": [],
   "source": [
    "def reverse(x):\n",
    "    \"\"\"\n",
    "    :type x: int\n",
    "    :rtype: int\n",
    "    \"\"\"\n",
    "    if x>=0:\n",
    "        x = str(x)\n",
    "        x = int(x[::-1])\n",
    "    elif x<0:\n",
    "        x = str(abs(x))\n",
    "        x = int(x[::-1]) \n",
    "        x = -x\n",
    "    if x> 2**31-1 or x< -2**31: return 0\n",
    "    else: return x\n",
    "    "
   ]
  },
  {
   "cell_type": "code",
   "execution_count": 11,
   "metadata": {},
   "outputs": [
    {
     "data": {
      "text/plain": [
       "-1"
      ]
     },
     "execution_count": 11,
     "metadata": {},
     "output_type": "execute_result"
    }
   ],
   "source": [
    "reverse(-10)"
   ]
  },
  {
   "cell_type": "markdown",
   "metadata": {},
   "source": [
    "---"
   ]
  },
  {
   "cell_type": "markdown",
   "metadata": {},
   "source": [
    "Given a string containing just the characters '(', ')', '{', '}', '[' and ']', determine if the input string is valid.\n",
    "\n",
    "An input string is valid if:\n",
    "\n",
    "Open brackets must be closed by the same type of brackets.\n",
    "Open brackets must be closed in the correct order.\n",
    "Note that an empty string is also considered valid."
   ]
  },
  {
   "cell_type": "code",
   "execution_count": 52,
   "metadata": {},
   "outputs": [],
   "source": [
    "def isValid(s):\n",
    "    \"\"\"\n",
    "    :type s: str\n",
    "    :rtype: bool\n",
    "    \"\"\"\n",
    "    bracket_dict = {'(': ')', ')': '(', '{': '}', '}': '{', ']': '[', '[': ']'}\n",
    "    open_br = ['(', '{', '[']\n",
    "    current_open = []\n",
    "    l = list(s)\n",
    "    for e in l:\n",
    "        if e in open_br:\n",
    "            current_open.append(e)\n",
    "        elif len(current_open) > 0 and e == bracket_dict[current_open[-1]]:\n",
    "            current_open.pop(-1)\n",
    "        elif len(current_open) > 0 and e != bracket_dict[current_open[-1]]:\n",
    "            return False\n",
    "        else:\n",
    "            return False\n",
    "    if len(current_open)>0: return False\n",
    "    else: return True"
   ]
  },
  {
   "cell_type": "code",
   "execution_count": 53,
   "metadata": {},
   "outputs": [],
   "source": [
    "s1 = \"[\""
   ]
  },
  {
   "cell_type": "code",
   "execution_count": 54,
   "metadata": {},
   "outputs": [
    {
     "data": {
      "text/plain": [
       "False"
      ]
     },
     "execution_count": 54,
     "metadata": {},
     "output_type": "execute_result"
    }
   ],
   "source": [
    "isValid(s1)"
   ]
  },
  {
   "cell_type": "code",
   "execution_count": null,
   "metadata": {},
   "outputs": [],
   "source": [
    "def parChecker(string):\n",
    "    s = myStack()\n",
    "    balanced = True\n",
    "    idx = 0\n",
    "    open_br = '{(['\n",
    "    close_br = '})]'\n",
    "    while idx < len(string) and balanced:\n",
    "        if string[idx] in open_br:\n",
    "            s.push(string[idx])\n",
    "        else:\n",
    "            if s.isEmpty(): balanced = False\n",
    "            else:\n",
    "                if close_br.index(string[idx]) != open_br.index(s.pop()):\n",
    "                    balanced = False\n",
    "        idx += 1\n",
    "    if balanced and s.isEmpty(): return True\n",
    "    else: return False"
   ]
  },
  {
   "cell_type": "markdown",
   "metadata": {},
   "source": [
    "---"
   ]
  },
  {
   "cell_type": "markdown",
   "metadata": {},
   "source": [
    "Given a sorted array nums, remove the duplicates in-place such that each element appear only once and return the new length.\n",
    "\n",
    "Do not allocate extra space for another array, you must do this by modifying the input array in-place with O(1) extra memory."
   ]
  },
  {
   "cell_type": "code",
   "execution_count": 163,
   "metadata": {},
   "outputs": [],
   "source": [
    "def removeDuplicates(nums):\n",
    "    \"\"\"\n",
    "    :type nums: List[int]\n",
    "    :rtype: int\n",
    "    \"\"\"\n",
    "    sub = 0\n",
    "    for i in range(len(nums)):\n",
    "        e = nums[i-sub]\n",
    "        if i>0 and e == nums[i-1-sub]:\n",
    "            nums.pop(i-sub)\n",
    "            sub+=1\n",
    "    return len(nums)"
   ]
  },
  {
   "cell_type": "code",
   "execution_count": 164,
   "metadata": {},
   "outputs": [],
   "source": [
    "nums = [0,0,1,1,1,2,2,3,3,4]"
   ]
  },
  {
   "cell_type": "code",
   "execution_count": 165,
   "metadata": {},
   "outputs": [
    {
     "data": {
      "text/plain": [
       "5"
      ]
     },
     "execution_count": 165,
     "metadata": {},
     "output_type": "execute_result"
    }
   ],
   "source": [
    "removeDuplicates(nums)"
   ]
  },
  {
   "cell_type": "code",
   "execution_count": 166,
   "metadata": {},
   "outputs": [
    {
     "data": {
      "text/plain": [
       "[0, 1, 2, 3, 4]"
      ]
     },
     "execution_count": 166,
     "metadata": {},
     "output_type": "execute_result"
    }
   ],
   "source": [
    "nums"
   ]
  },
  {
   "cell_type": "markdown",
   "metadata": {},
   "source": [
    "---"
   ]
  },
  {
   "cell_type": "markdown",
   "metadata": {},
   "source": [
    "Given two sorted integer arrays nums1 and nums2, merge nums2 into nums1 as one sorted array.\n",
    "\n",
    "Note:\n",
    "\n",
    "The number of elements initialized in nums1 and nums2 are m and n respectively.\n",
    "You may assume that nums1 has enough space (size that is greater or equal to m + n) to hold additional elements from nums2."
   ]
  },
  {
   "cell_type": "code",
   "execution_count": null,
   "metadata": {},
   "outputs": [],
   "source": [
    "def merge(nums1, m, nums2, n):\n",
    "    \"\"\"\n",
    "    :type nums1: List[int]\n",
    "    :type m: int\n",
    "    :type nums2: List[int]\n",
    "    :type n: int\n",
    "    :rtype: void Do not return anything, modify nums1 in-place instead.\n",
    "    \"\"\"\n",
    "    l1max = nums1[m-1]\n",
    "    k = 0\n",
    "    for i,e in enumerate(num2):\n",
    "        if l1max<e: nums2[m+k] = "
   ]
  },
  {
   "cell_type": "code",
   "execution_count": 168,
   "metadata": {},
   "outputs": [],
   "source": [
    "nums1 = [1,2,3,0,0,0] \n",
    "m = 3\n",
    "nums2 = [2,5,6]      \n",
    "n = 3"
   ]
  },
  {
   "cell_type": "markdown",
   "metadata": {},
   "source": [
    "---"
   ]
  },
  {
   "cell_type": "markdown",
   "metadata": {},
   "source": [
    "Given an infinite stream of positive integers and a target positive integer, implement a function which returns when and only when a combination of the elements of the stream seen so far sums to the target\n",
    " \n",
    "Example 1:\n",
    " \n",
    "stream = [1,7,3,1,15,2,...]\n",
    " \n",
    "target = 5\n",
    " \n",
    "returns at the 4th element because 1 + 3 + 1 = 5\n",
    " \n",
    "Example 2:\n",
    "stream = [10 2 30 4, 50, 6, 70, 8, ...]\n",
    "target = 60\n",
    "returns at the 5th element because 10 + 50 =  60\n"
   ]
  },
  {
   "cell_type": "code",
   "execution_count": null,
   "metadata": {},
   "outputs": [],
   "source": [
    "def stream_check(stream,target):\n",
    "    stream_arr= np.array(stream)\n",
    "    arr_filt = stream_arr[stream_arr<=target]\n",
    "    for i,e in enumerate(arr_filt):\n",
    "        stream_check()  "
   ]
  },
  {
   "cell_type": "code",
   "execution_count": 173,
   "metadata": {},
   "outputs": [],
   "source": [
    "stream = np.array([1,7,3,1,15,2])"
   ]
  },
  {
   "cell_type": "code",
   "execution_count": 172,
   "metadata": {},
   "outputs": [
    {
     "data": {
      "text/plain": [
       "array([ 7, 15])"
      ]
     },
     "execution_count": 172,
     "metadata": {},
     "output_type": "execute_result"
    }
   ],
   "source": [
    "stream[stream>3]"
   ]
  },
  {
   "cell_type": "code",
   "execution_count": 174,
   "metadata": {},
   "outputs": [
    {
     "name": "stdout",
     "output_type": "stream",
     "text": [
      "1\n",
      "7\n",
      "3\n",
      "1\n",
      "15\n",
      "2\n"
     ]
    }
   ],
   "source": [
    "for i in stream: print(i)"
   ]
  },
  {
   "cell_type": "code",
   "execution_count": 175,
   "metadata": {},
   "outputs": [
    {
     "data": {
      "text/plain": [
       "array([7, 1])"
      ]
     },
     "execution_count": 175,
     "metadata": {},
     "output_type": "execute_result"
    }
   ],
   "source": [
    "stream[[1,3]]"
   ]
  },
  {
   "cell_type": "markdown",
   "metadata": {},
   "source": [
    "----"
   ]
  },
  {
   "cell_type": "markdown",
   "metadata": {},
   "source": [
    "all combinations of numbers in the list that sum to 8"
   ]
  },
  {
   "cell_type": "code",
   "execution_count": 180,
   "metadata": {},
   "outputs": [],
   "source": [
    "l = [1,4,5,4,3,2,1,6,7,8]"
   ]
  },
  {
   "cell_type": "code",
   "execution_count": 27,
   "metadata": {},
   "outputs": [],
   "source": [
    "def subset_sum(numbers, target, partial=[],triplets=[]):\n",
    "    s = sum(partial)\n",
    "    # check if the partial sum is equals to target\n",
    "    if s == target:\n",
    "        triplets.append(partial)\n",
    "    if s >= target:\n",
    "        return  # if we reach the number why bother to continue\n",
    "\n",
    "    for i, e in enumerate(numbers):\n",
    "        remaining = numbers[i + 1:]\n",
    "        subset_sum(remaining, target, partial + [e])\n",
    "    return triplets"
   ]
  },
  {
   "cell_type": "code",
   "execution_count": 28,
   "metadata": {},
   "outputs": [
    {
     "data": {
      "text/plain": [
       "[[1, 3, 1, 3], [2, 3, 3]]"
      ]
     },
     "execution_count": 28,
     "metadata": {},
     "output_type": "execute_result"
    }
   ],
   "source": [
    "subset_sum(l,8)"
   ]
  },
  {
   "cell_type": "markdown",
   "metadata": {},
   "source": [
    "---"
   ]
  },
  {
   "cell_type": "markdown",
   "metadata": {},
   "source": [
    "Merge 2 sorted lists"
   ]
  },
  {
   "cell_type": "code",
   "execution_count": 17,
   "metadata": {},
   "outputs": [],
   "source": [
    "l1 = [1, 3, 7, 8, 99, 100, 111, 2, 34, 55, 34]\n",
    "l2 = [2, 4, 5, 7, 80, 88, 23, 31, 23, 40]"
   ]
  },
  {
   "cell_type": "code",
   "execution_count": 20,
   "metadata": {},
   "outputs": [],
   "source": [
    "l1 = sorted(l1)\n",
    "l2 = sorted(l2)"
   ]
  },
  {
   "cell_type": "code",
   "execution_count": 21,
   "metadata": {},
   "outputs": [],
   "source": [
    "def merge(l1, l2):\n",
    "    len1 = len(l1)\n",
    "    len2 = len(l2)\n",
    "    l3 = [None] * (len1 + len2)\n",
    "    idx1 = 0\n",
    "    idx2 = 0\n",
    "    idx3 = 0\n",
    "    while idx1 < len1 and idx2 < len2:\n",
    "        if l1[idx1] < l2[idx2]:\n",
    "            l3[idx3] = l1[idx1]\n",
    "            idx1 += 1\n",
    "            idx3 += 1\n",
    "        elif l1[idx1] > l2[idx2]:\n",
    "            l3[idx3] = l2[idx2]\n",
    "            idx2 += 1\n",
    "            idx3 += 1\n",
    "        else:\n",
    "            l3[idx3] = l1[idx1]\n",
    "            l3[idx3 + 1] = l2[idx2]\n",
    "            idx1 += 1\n",
    "            idx2 += 1\n",
    "            idx3 += 2\n",
    "    if idx1 == len1:\n",
    "        l3[idx3:] = l2[idx2:]\n",
    "    else:\n",
    "        l3[idx3:] = l1[idx1:]\n",
    "    return l3"
   ]
  },
  {
   "cell_type": "code",
   "execution_count": 22,
   "metadata": {},
   "outputs": [
    {
     "data": {
      "text/plain": [
       "[1, 2, 2, 3, 4, 5, 7, 7, 8, 23, 23, 31, 34, 34, 40, 55, 80, 88, 99, 100, 111]"
      ]
     },
     "execution_count": 22,
     "metadata": {},
     "output_type": "execute_result"
    }
   ],
   "source": [
    "merge(l1, l2)"
   ]
  },
  {
   "cell_type": "markdown",
   "metadata": {},
   "source": [
    "----"
   ]
  },
  {
   "cell_type": "markdown",
   "metadata": {},
   "source": [
    "Sum 2"
   ]
  },
  {
   "cell_type": "code",
   "execution_count": 174,
   "metadata": {},
   "outputs": [],
   "source": [
    "l = [2,3,4,8,9]"
   ]
  },
  {
   "cell_type": "code",
   "execution_count": 175,
   "metadata": {},
   "outputs": [],
   "source": [
    "t = 7"
   ]
  },
  {
   "cell_type": "markdown",
   "metadata": {},
   "source": [
    "Given an array of integers, return indices of the two numbers such that they add up to a specific target.\n",
    "\n",
    "You may assume that each input would have exactly one solution, and you may not use the same element twice."
   ]
  },
  {
   "cell_type": "code",
   "execution_count": 178,
   "metadata": {},
   "outputs": [],
   "source": [
    "def twoSum(nums, target):\n",
    "        \"\"\"\n",
    "        :type nums: List[int]\n",
    "        :type target: int\n",
    "        :rtype: List[int]\n",
    "        \"\"\"\n",
    "        lookup = {}\n",
    "        for i, num in enumerate(nums):\n",
    "            if target - num in lookup:\n",
    "                return [lookup[target - num], i]\n",
    "            lookup[num] = i   "
   ]
  },
  {
   "cell_type": "code",
   "execution_count": 179,
   "metadata": {},
   "outputs": [
    {
     "data": {
      "text/plain": [
       "[1, 2]"
      ]
     },
     "execution_count": 179,
     "metadata": {},
     "output_type": "execute_result"
    }
   ],
   "source": [
    "twoSum(l,7)"
   ]
  },
  {
   "cell_type": "markdown",
   "metadata": {},
   "source": [
    "---"
   ]
  },
  {
   "cell_type": "markdown",
   "metadata": {},
   "source": [
    "Contain duplicate"
   ]
  },
  {
   "cell_type": "markdown",
   "metadata": {},
   "source": [
    "Given an array of integers, find if the array contains any duplicates.\n",
    "\n",
    "Your function should return true if any value appears at least twice in the array, and it should return false if every element is distinct."
   ]
  },
  {
   "cell_type": "code",
   "execution_count": 57,
   "metadata": {},
   "outputs": [],
   "source": [
    "def checkdup(l):\n",
    "    if len(l) <= 1: return False\n",
    "    else:\n",
    "        dup = {}\n",
    "        for e in l:\n",
    "            if e in dup.keys():\n",
    "                return True\n",
    "            else:\n",
    "                dup[e] = 1\n",
    "    return False"
   ]
  },
  {
   "cell_type": "code",
   "execution_count": 60,
   "metadata": {},
   "outputs": [],
   "source": [
    "l = [1, 1, 1, 3, 3, 4, 3, 2, 4, 2]"
   ]
  },
  {
   "cell_type": "code",
   "execution_count": 61,
   "metadata": {},
   "outputs": [
    {
     "data": {
      "text/plain": [
       "True"
      ]
     },
     "execution_count": 61,
     "metadata": {},
     "output_type": "execute_result"
    }
   ],
   "source": [
    "checkdup(l)"
   ]
  },
  {
   "cell_type": "code",
   "execution_count": 62,
   "metadata": {},
   "outputs": [
    {
     "data": {
      "text/plain": [
       "False"
      ]
     },
     "execution_count": 62,
     "metadata": {},
     "output_type": "execute_result"
    }
   ],
   "source": [
    "l = [1, 2, 3, 4]\n",
    "checkdup(l)"
   ]
  },
  {
   "cell_type": "markdown",
   "metadata": {},
   "source": [
    "---"
   ]
  },
  {
   "cell_type": "markdown",
   "metadata": {},
   "source": [
    "Rotate array"
   ]
  },
  {
   "cell_type": "markdown",
   "metadata": {},
   "source": [
    "Given an array, rotate the array to the right by k steps, where k is non-negative."
   ]
  },
  {
   "cell_type": "markdown",
   "metadata": {},
   "source": [
    "Input: [1,2,3,4,5,6,7] and k = 3\n",
    "Output: [5,6,7,1,2,3,4]"
   ]
  },
  {
   "cell_type": "code",
   "execution_count": 72,
   "metadata": {},
   "outputs": [],
   "source": [
    "def rotateArr(l, k):\n",
    "    if k == 0:\n",
    "        return l\n",
    "    if k > len(l):\n",
    "        k = k % len(l)\n",
    "    out = l[-k:]\n",
    "    out.extend(l[:-k])\n",
    "    return out"
   ]
  },
  {
   "cell_type": "code",
   "execution_count": 73,
   "metadata": {},
   "outputs": [],
   "source": [
    "l = [1, 2, 3, 4, 5, 6, 7]\n",
    "k = 4"
   ]
  },
  {
   "cell_type": "code",
   "execution_count": 74,
   "metadata": {},
   "outputs": [
    {
     "data": {
      "text/plain": [
       "[4, 5, 6, 7, 1, 2, 3]"
      ]
     },
     "execution_count": 74,
     "metadata": {},
     "output_type": "execute_result"
    }
   ],
   "source": [
    "rotateArr(l, 4)"
   ]
  },
  {
   "cell_type": "markdown",
   "metadata": {},
   "source": [
    "---"
   ]
  },
  {
   "cell_type": "code",
   "execution_count": 112,
   "metadata": {},
   "outputs": [],
   "source": [
    "def productExceptSelf(nums):\n",
    "    \"\"\"\n",
    "    :type nums: List[int]\n",
    "    :rtype: List[int]\n",
    "    \"\"\"\n",
    "    out = [None] * len(nums)\n",
    "    for i in range(len(nums)):\n",
    "        print(nums)\n",
    "        nums_c = nums[:]\n",
    "        nums.pop(i)\n",
    "        out[i] = np.product(nums)\n",
    "        nums = nums_c[:]\n",
    "    return out"
   ]
  },
  {
   "cell_type": "code",
   "execution_count": 117,
   "metadata": {},
   "outputs": [],
   "source": [
    "nums = [1, 2, 3]"
   ]
  },
  {
   "cell_type": "code",
   "execution_count": 118,
   "metadata": {},
   "outputs": [
    {
     "name": "stdout",
     "output_type": "stream",
     "text": [
      "[0]\n"
     ]
    },
    {
     "data": {
      "text/plain": [
       "[1.0]"
      ]
     },
     "execution_count": 118,
     "metadata": {},
     "output_type": "execute_result"
    }
   ],
   "source": [
    "productExceptSelf(nums)"
   ]
  },
  {
   "cell_type": "markdown",
   "metadata": {},
   "source": [
    "---"
   ]
  },
  {
   "cell_type": "markdown",
   "metadata": {},
   "source": [
    "Write a program that can determine the height of an arbitrary binary tree"
   ]
  },
  {
   "cell_type": "markdown",
   "metadata": {},
   "source": [
    "1. Find the max depth of the left subtree\n",
    "2. Find the max depth of the right subtree\n",
    "3. Return the larger one\n",
    "4. This has to be done recursively"
   ]
  },
  {
   "cell_type": "code",
   "execution_count": 135,
   "metadata": {},
   "outputs": [
    {
     "name": "stdout",
     "output_type": "stream",
     "text": [
      "Height of tree is 3\n"
     ]
    }
   ],
   "source": [
    "# Python program to find the maximum depth of tree\n",
    "#Algorithm\n",
    "\n",
    "# A binary tree node\n",
    "class Node:\n",
    "    def __init__(self, data):\n",
    "        self.data = data\n",
    "        self.left = None\n",
    "        self.right = None\n",
    "\n",
    "\n",
    "def maxDepth(node):\n",
    "    if node is None: return 0\n",
    "    else:\n",
    "\n",
    "        ldepth = maxDepth(node.left)\n",
    "        rdepth = maxDepth(node.right)\n",
    "\n",
    "        if ldepth > rdepth:\n",
    "            return ldepth + 1\n",
    "        else:\n",
    "            return rdepth + 1\n",
    "\n",
    "#tree creation\n",
    "root = Node(1)\n",
    "root.left = Node(2)\n",
    "root.right = Node(3)\n",
    "root.left.left = Node(4)\n",
    "root.left.right = Node(5)\n",
    "\n",
    "print(\"Height of tree is %d\" % (maxDepth(root)))"
   ]
  },
  {
   "cell_type": "markdown",
   "metadata": {},
   "source": [
    "---"
   ]
  },
  {
   "cell_type": "markdown",
   "metadata": {},
   "source": [
    "Calculating a square root"
   ]
  },
  {
   "cell_type": "code",
   "execution_count": 149,
   "metadata": {},
   "outputs": [],
   "source": [
    "def mysqrt(num):\n",
    "    if num == 0 or num == 1:\n",
    "        return num\n",
    "    lower = 0\n",
    "    upper = num\n",
    "    while lower <= upper:\n",
    "        middle = (lower + upper) // 2\n",
    "        if middle * middle == num:\n",
    "            return middle\n",
    "        elif middle * middle < num:\n",
    "            lower = middle + 1\n",
    "        else:\n",
    "            upper = middle - 1\n",
    "    return \"No integer square root\""
   ]
  },
  {
   "cell_type": "code",
   "execution_count": 150,
   "metadata": {},
   "outputs": [
    {
     "data": {
      "text/plain": [
       "'abc'"
      ]
     },
     "execution_count": 150,
     "metadata": {},
     "output_type": "execute_result"
    }
   ],
   "source": [
    "mysqrt(5)"
   ]
  },
  {
   "cell_type": "markdown",
   "metadata": {},
   "source": [
    "Decimal precision"
   ]
  },
  {
   "cell_type": "code",
   "execution_count": 158,
   "metadata": {},
   "outputs": [],
   "source": [
    "def mysqrt(num):\n",
    "    if num == 0 or num == 1:\n",
    "        return num\n",
    "    lower = 0\n",
    "    upper = num\n",
    "    while lower <= upper:\n",
    "        middle = (lower + upper) / 2.00\n",
    "        if abs(middle * middle - num) < .01:\n",
    "            return middle\n",
    "        elif middle * middle < num:\n",
    "            lower = middle + .001\n",
    "        else:\n",
    "            upper = middle - .001\n",
    "    return \"No integer square root\""
   ]
  },
  {
   "cell_type": "code",
   "execution_count": 159,
   "metadata": {},
   "outputs": [
    {
     "data": {
      "text/plain": [
       "2.2362226562500007"
      ]
     },
     "execution_count": 159,
     "metadata": {},
     "output_type": "execute_result"
    }
   ],
   "source": [
    "mysqrt(5)"
   ]
  },
  {
   "cell_type": "code",
   "execution_count": 161,
   "metadata": {},
   "outputs": [
    {
     "data": {
      "text/plain": [
       "2.23606797749979"
      ]
     },
     "execution_count": 161,
     "metadata": {},
     "output_type": "execute_result"
    }
   ],
   "source": [
    "np.sqrt(5)"
   ]
  },
  {
   "cell_type": "markdown",
   "metadata": {},
   "source": [
    "---"
   ]
  },
  {
   "cell_type": "markdown",
   "metadata": {},
   "source": [
    "How do you find the second largest element in a Binary Search Tree?"
   ]
  },
  {
   "cell_type": "code",
   "execution_count": 162,
   "metadata": {},
   "outputs": [],
   "source": [
    "class bstnode():\n",
    "    def __init__(self, key, val):\n",
    "        self.key = key\n",
    "        self.val = val\n",
    "        self.left = None\n",
    "        self.right = None\n",
    "\n",
    "    def get(self):\n",
    "        return self.val\n",
    "\n",
    "    def set_val(self, val):\n",
    "        self.val = val\n",
    "\n",
    "\n",
    "class bst():\n",
    "    def __init__(self):\n",
    "        self.root = None\n",
    "\n",
    "    def preorder_(self, current_node):\n",
    "        if current_node is None:\n",
    "            return\n",
    "        else:\n",
    "            print(current_node.val)\n",
    "            self.preorder_(current_node.left)\n",
    "            self.preorder_(current_node.right)\n",
    "\n",
    "    def insert(self, key, val):\n",
    "        if self.root is None:\n",
    "            self.root = bstnode(key, val)\n",
    "        else:\n",
    "            self.insert_node(self.root, key, val)\n",
    "\n",
    "    def find(self, item):\n",
    "        return self.find_node(self.root, item)\n",
    "\n",
    "    def find_node(self, current_node, item):\n",
    "        if current_node is None: return \"Empty tree\"\n",
    "        elif item == current_node.key:\n",
    "            return current_node.val\n",
    "        elif item < current_node.key:\n",
    "            return self.find_node(current_node.left, item)\n",
    "        else:\n",
    "            return self.find_node(current_node.right, item)\n",
    "\n",
    "    def traverse(self):\n",
    "        return self.preorder_(self.root)\n",
    "\n",
    "    def insert_node(self, current_node, key, val):\n",
    "        if key < current_node.key:\n",
    "            if current_node.left is None:\n",
    "                current_node.left = bstnode(key, val)\n",
    "            else:\n",
    "                self.insert_node(current_node.left, key, val)\n",
    "        elif key > current_node.key:\n",
    "            if current_node.right is None:\n",
    "                current_node.right = bstnode(key, val)\n",
    "            else:\n",
    "                self.insert_node(current_node.right, key, val)\n",
    "        else:\n",
    "            current_node.val = val"
   ]
  },
  {
   "cell_type": "code",
   "execution_count": 169,
   "metadata": {},
   "outputs": [],
   "source": [
    "mybst = bst()\n",
    "\n",
    "mybst.insert(100, \"Shikhar\")\n",
    "\n",
    "mybst.insert(120, \"Neerja\")\n",
    "\n",
    "mybst.insert(90, \"Prince\")\n",
    "\n",
    "mybst.insert(300, \"Alvira\")\n",
    "\n",
    "mybst.insert(420, \"Kerem\")\n",
    "\n",
    "mybst.insert(50, \"Akshay\")\n",
    "\n",
    "mybst.insert(540,\"Devesh\")"
   ]
  },
  {
   "cell_type": "code",
   "execution_count": 170,
   "metadata": {},
   "outputs": [],
   "source": [
    "def scnd_largest(node,parent = None):\n",
    "    parent = None\n",
    "    while node.right is not None:\n",
    "        parent = node\n",
    "        node = node.right\n",
    "    if node.left is None:\n",
    "        return parent.key\n",
    "    else:\n",
    "        return node.left.key"
   ]
  },
  {
   "cell_type": "code",
   "execution_count": 171,
   "metadata": {},
   "outputs": [
    {
     "data": {
      "text/plain": [
       "420"
      ]
     },
     "execution_count": 171,
     "metadata": {},
     "output_type": "execute_result"
    }
   ],
   "source": [
    "scnd_largest(mybst.root)"
   ]
  },
  {
   "cell_type": "markdown",
   "metadata": {},
   "source": [
    "---"
   ]
  },
  {
   "cell_type": "markdown",
   "metadata": {},
   "source": [
    "Given an array nums of n integers, are there elements a, b, c in nums such that a + b + c = 0? Find all unique triplets in the array which gives the sum of zero."
   ]
  },
  {
   "cell_type": "code",
   "execution_count": 16,
   "metadata": {},
   "outputs": [],
   "source": [
    "nums = [-1, 0, 1, 2, -1, -4,0,0]"
   ]
  },
  {
   "cell_type": "code",
   "execution_count": 17,
   "metadata": {},
   "outputs": [],
   "source": [
    "def findTriplets(l):\n",
    "    triplets = []\n",
    "    end = len(l) - 1\n",
    "    for i in range(len(l)):\n",
    "        e1 = l[i]\n",
    "        if i < len(l) - 2:\n",
    "            for j in range(i + 1, len(l)):\n",
    "                e2 = l[j]\n",
    "                if -e1 - e2 in l[j + 1:] and sorted([e1, e2, -e1 - e2\n",
    "                                                     ]) not in triplets:\n",
    "                    triplets.append(sorted([e1, e2, -e1 - e2]))\n",
    "                else:\n",
    "                    continue\n",
    "    return triplets"
   ]
  },
  {
   "cell_type": "code",
   "execution_count": 18,
   "metadata": {},
   "outputs": [
    {
     "data": {
      "text/plain": [
       "[[-1, 0, 1], [-1, -1, 2], [0, 0, 0]]"
      ]
     },
     "execution_count": 18,
     "metadata": {},
     "output_type": "execute_result"
    }
   ],
   "source": [
    "findTriplets(nums)"
   ]
  },
  {
   "cell_type": "markdown",
   "metadata": {},
   "source": [
    "----"
   ]
  },
  {
   "cell_type": "markdown",
   "metadata": {},
   "source": [
    "You are a professional robber planning to rob houses along a street. Each house has a certain amount of money stashed, the only constraint stopping you from robbing each of them is that adjacent houses have security system connected and it will automatically contact the police if two adjacent houses were broken into on the same night.\n",
    "\n",
    "Given a list of non-negative integers representing the amount of money of each house, determine the maximum amount of money you can rob tonight without alerting the police."
   ]
  },
  {
   "cell_type": "code",
   "execution_count": 49,
   "metadata": {},
   "outputs": [],
   "source": [
    "l = [100,1,2,4,5,123,43,21,123]"
   ]
  },
  {
   "cell_type": "code",
   "execution_count": 50,
   "metadata": {},
   "outputs": [],
   "source": [
    "def findMax(l):\n",
    "    if len(l) == 1: return l[0]\n",
    "    elif len(l) == 2: return max(l[0], l[1])\n",
    "    elif len(l) == 3: return max(l[0] + l[2], l[1])\n",
    "    smax = 0\n",
    "    for i in range(len(l) - 2):\n",
    "        s = l[i]\n",
    "        s += findMax(l[i + 2:])\n",
    "        if s > smax:\n",
    "            smax = s\n",
    "    return smax"
   ]
  },
  {
   "cell_type": "code",
   "execution_count": 51,
   "metadata": {},
   "outputs": [
    {
     "data": {
      "text/plain": [
       "350"
      ]
     },
     "execution_count": 51,
     "metadata": {},
     "output_type": "execute_result"
    }
   ],
   "source": [
    "findMax(l)"
   ]
  },
  {
   "cell_type": "code",
   "execution_count": null,
   "metadata": {},
   "outputs": [],
   "source": []
  }
 ],
 "metadata": {
  "kernelspec": {
   "display_name": "Python 3",
   "language": "python",
   "name": "python3"
  },
  "language_info": {
   "codemirror_mode": {
    "name": "ipython",
    "version": 3
   },
   "file_extension": ".py",
   "mimetype": "text/x-python",
   "name": "python",
   "nbconvert_exporter": "python",
   "pygments_lexer": "ipython3",
   "version": "3.6.5"
  }
 },
 "nbformat": 4,
 "nbformat_minor": 2
}
