{
 "cells": [
  {
   "cell_type": "code",
   "execution_count": 1,
   "metadata": {},
   "outputs": [],
   "source": [
    "import pandas as pd\n",
    "import networkx as nx\n",
    "import matplotlib.pyplot as plt\n",
    "from operator import itemgetter\n",
    "import community #This is the python-louvain package we installed\n",
    "import numpy as np\n",
    "import itertools\n",
    "import csv"
   ]
  },
  {
   "cell_type": "markdown",
   "metadata": {},
   "source": [
    "***Question 1: For this part of the assignment, you need to create a graph by adding nodes and edges in a Python program using the networkx library. Visualize the created graph using matplotlib or plotly.***"
   ]
  },
  {
   "cell_type": "code",
   "execution_count": 2,
   "metadata": {},
   "outputs": [],
   "source": [
    "def create_graph(graph):\n",
    "\n",
    "    # extract nodes from graph\n",
    "    nodes = set([i for i in itertools.chain.from_iterable(graph)])\n",
    "    # create networkx graph\n",
    "    g = nx.Graph()\n",
    "\n",
    "    # add nodes\n",
    "    for node in nodes:\n",
    "        g.add_node(node)\n",
    "\n",
    "    # add edges\n",
    "    for edge in graph:\n",
    "        g.add_edge(edge[0], edge[1])\n",
    "\n",
    "\n",
    "#     # draw graph\n",
    "    pos = nx.spring_layout(g)\n",
    "    nx.draw(g, pos, with_labels=True)\n",
    "\n",
    "    # show graph\n",
    "    plt.show()"
   ]
  },
  {
   "cell_type": "code",
   "execution_count": 3,
   "metadata": {},
   "outputs": [],
   "source": [
    "#creating graph example\n",
    "network = [tuple(np.random.randint(1, 10, 2)) for i in range(20)]"
   ]
  },
  {
   "cell_type": "code",
   "execution_count": 4,
   "metadata": {},
   "outputs": [
    {
     "data": {
      "text/plain": [
       "[(2, 5),\n",
       " (1, 2),\n",
       " (6, 4),\n",
       " (7, 6),\n",
       " (8, 6),\n",
       " (2, 2),\n",
       " (3, 1),\n",
       " (2, 7),\n",
       " (9, 8),\n",
       " (9, 1),\n",
       " (2, 1),\n",
       " (8, 8),\n",
       " (8, 1),\n",
       " (1, 5),\n",
       " (5, 1),\n",
       " (5, 2),\n",
       " (7, 8),\n",
       " (6, 5),\n",
       " (7, 2),\n",
       " (1, 6)]"
      ]
     },
     "execution_count": 4,
     "metadata": {},
     "output_type": "execute_result"
    }
   ],
   "source": [
    "network"
   ]
  },
  {
   "cell_type": "code",
   "execution_count": 5,
   "metadata": {
    "scrolled": true
   },
   "outputs": [
    {
     "data": {
      "image/png": "[encoded data removed]",
      "text/plain": [
       "<matplotlib.figure.Figure at 0x117658710>"
      ]
     },
     "metadata": {},
     "output_type": "display_data"
    }
   ],
   "source": [
    "create_graph(network)"
   ]
  },
  {
   "cell_type": "markdown",
   "metadata": {},
   "source": [
    "***Question 2: For this part of the assignment, read in data for a graph in the form of nodes and edges from a CSV file. This detailed tutorial on Exploring and Analyzing Network Data with Python can serve as a great starting point. Create your own CSV files of nodes and edges and visualize them using plotly or python-igraph.***"
   ]
  },
  {
   "cell_type": "markdown",
   "metadata": {},
   "source": [
    "### Loading data"
   ]
  },
  {
   "cell_type": "code",
   "execution_count": 33,
   "metadata": {},
   "outputs": [],
   "source": [
    "nodes_data = pd.read_csv('data/network/nodelist.csv')"
   ]
  },
  {
   "cell_type": "code",
   "execution_count": 34,
   "metadata": {},
   "outputs": [
    {
     "data": {
      "text/html": [
       "<div>\n",
       "<style scoped>\n",
       "    .dataframe tbody tr th:only-of-type {\n",
       "        vertical-align: middle;\n",
       "    }\n",
       "\n",
       "    .dataframe tbody tr th {\n",
       "        vertical-align: top;\n",
       "    }\n",
       "\n",
       "    .dataframe thead th {\n",
       "        text-align: right;\n",
       "    }\n",
       "</style>\n",
       "<table border=\"1\" class=\"dataframe\">\n",
       "  <thead>\n",
       "    <tr style=\"text-align: right;\">\n",
       "      <th></th>\n",
       "      <th>Name</th>\n",
       "      <th>Gender</th>\n",
       "    </tr>\n",
       "  </thead>\n",
       "  <tbody>\n",
       "    <tr>\n",
       "      <th>0</th>\n",
       "      <td>Patrick Yang</td>\n",
       "      <td>male</td>\n",
       "    </tr>\n",
       "    <tr>\n",
       "      <th>1</th>\n",
       "      <td>Santosh</td>\n",
       "      <td>male</td>\n",
       "    </tr>\n",
       "    <tr>\n",
       "      <th>2</th>\n",
       "      <td>Akshay</td>\n",
       "      <td>male</td>\n",
       "    </tr>\n",
       "    <tr>\n",
       "      <th>3</th>\n",
       "      <td>Prince</td>\n",
       "      <td>male</td>\n",
       "    </tr>\n",
       "    <tr>\n",
       "      <th>4</th>\n",
       "      <td>Neerja</td>\n",
       "      <td>female</td>\n",
       "    </tr>\n",
       "  </tbody>\n",
       "</table>\n",
       "</div>"
      ],
      "text/plain": [
       "           Name  Gender\n",
       "0  Patrick Yang    male\n",
       "1       Santosh    male\n",
       "2        Akshay    male\n",
       "3        Prince    male\n",
       "4        Neerja  female"
      ]
     },
     "execution_count": 34,
     "metadata": {},
     "output_type": "execute_result"
    }
   ],
   "source": [
    "nodes_data.head()"
   ]
  },
  {
   "cell_type": "code",
   "execution_count": 35,
   "metadata": {},
   "outputs": [],
   "source": [
    "node_names = list(nodes_data.Name)"
   ]
  },
  {
   "cell_type": "code",
   "execution_count": 36,
   "metadata": {},
   "outputs": [],
   "source": [
    "edges_data = pd.read_csv('data/network/edgelist.csv')"
   ]
  },
  {
   "cell_type": "code",
   "execution_count": 37,
   "metadata": {},
   "outputs": [
    {
     "data": {
      "text/html": [
       "<div>\n",
       "<style scoped>\n",
       "    .dataframe tbody tr th:only-of-type {\n",
       "        vertical-align: middle;\n",
       "    }\n",
       "\n",
       "    .dataframe tbody tr th {\n",
       "        vertical-align: top;\n",
       "    }\n",
       "\n",
       "    .dataframe thead th {\n",
       "        text-align: right;\n",
       "    }\n",
       "</style>\n",
       "<table border=\"1\" class=\"dataframe\">\n",
       "  <thead>\n",
       "    <tr style=\"text-align: right;\">\n",
       "      <th></th>\n",
       "      <th>Source</th>\n",
       "      <th>Target</th>\n",
       "    </tr>\n",
       "  </thead>\n",
       "  <tbody>\n",
       "    <tr>\n",
       "      <th>0</th>\n",
       "      <td>Patrick Yang</td>\n",
       "      <td>John</td>\n",
       "    </tr>\n",
       "    <tr>\n",
       "      <th>1</th>\n",
       "      <td>Santosh</td>\n",
       "      <td>Akshay</td>\n",
       "    </tr>\n",
       "    <tr>\n",
       "      <th>2</th>\n",
       "      <td>Akshay</td>\n",
       "      <td>Vash</td>\n",
       "    </tr>\n",
       "    <tr>\n",
       "      <th>3</th>\n",
       "      <td>Prince</td>\n",
       "      <td>Ting Ting</td>\n",
       "    </tr>\n",
       "    <tr>\n",
       "      <th>4</th>\n",
       "      <td>Neerja</td>\n",
       "      <td>Alvira</td>\n",
       "    </tr>\n",
       "  </tbody>\n",
       "</table>\n",
       "</div>"
      ],
      "text/plain": [
       "         Source     Target\n",
       "0  Patrick Yang       John\n",
       "1       Santosh     Akshay\n",
       "2        Akshay       Vash\n",
       "3        Prince  Ting Ting\n",
       "4        Neerja     Alvira"
      ]
     },
     "execution_count": 37,
     "metadata": {},
     "output_type": "execute_result"
    }
   ],
   "source": [
    "edges_data.head()"
   ]
  },
  {
   "cell_type": "code",
   "execution_count": 38,
   "metadata": {},
   "outputs": [],
   "source": [
    "edges = [tuple(i) for i in edges_data.values]"
   ]
  },
  {
   "cell_type": "code",
   "execution_count": 39,
   "metadata": {},
   "outputs": [
    {
     "data": {
      "text/plain": [
       "[('Patrick Yang', 'John'),\n",
       " ('Santosh', 'Akshay'),\n",
       " ('Akshay', 'Vash'),\n",
       " ('Prince', 'Ting Ting'),\n",
       " ('Neerja', 'Alvira'),\n",
       " ('Deena', 'Vash'),\n",
       " ('Arpita', 'Ting Ting'),\n",
       " ('Asmita', 'Fei'),\n",
       " ('Kerem', 'Nishan'),\n",
       " ('Jake', 'Kerem'),\n",
       " ('Spence', 'Kerem'),\n",
       " ('John', 'Akshay'),\n",
       " ('Ting Ting', 'John'),\n",
       " ('Danai', 'Sooraj'),\n",
       " ('Devesh', 'Kunal'),\n",
       " ('Kunal', 'Patrick Yang'),\n",
       " ('Fei', 'Danai'),\n",
       " ('David', 'Taylor'),\n",
       " ('Alvira', 'Matthew'),\n",
       " ('Vinay', 'Kunal'),\n",
       " ('Jason', 'John'),\n",
       " ('Ian', 'David'),\n",
       " ('Matthew', 'David'),\n",
       " ('Taylor', 'Alvira'),\n",
       " ('Vash', 'Arpita'),\n",
       " ('Davi', 'Shannon'),\n",
       " ('Jose', 'Neerja'),\n",
       " ('Holly', 'Santosh'),\n",
       " ('Ford', 'Asmita'),\n",
       " ('Nishan', 'Kerem'),\n",
       " ('Kaya', 'Taylor'),\n",
       " ('Sara', 'Fei'),\n",
       " ('Shannon', 'Kaya'),\n",
       " ('Tim', 'Arpita'),\n",
       " ('Tyler', 'Patrick Yang'),\n",
       " ('Santosh', 'Deena'),\n",
       " ('Akshay', 'Ting Ting'),\n",
       " ('Prince', 'Ford'),\n",
       " ('Neerja', 'Kerem'),\n",
       " ('Deena', 'Nishan'),\n",
       " ('Arpita', 'Spence'),\n",
       " ('Asmita', 'Davi'),\n",
       " ('Kerem', 'Ting Ting'),\n",
       " ('Spence', 'Nishan'),\n",
       " ('John', 'Tim'),\n",
       " ('Ting Ting', 'Asmita'),\n",
       " ('Danai', 'Deena'),\n",
       " ('Devesh', 'Asmita'),\n",
       " ('Sooraj', 'Ian'),\n",
       " ('Kunal', 'David'),\n",
       " ('Fei', 'Neerja'),\n",
       " ('Alvira', 'Ian'),\n",
       " ('Vinay', 'Jason'),\n",
       " ('Jason', 'David'),\n",
       " ('Ian', 'Kerem'),\n",
       " ('Matthew', 'Prince'),\n",
       " ('Taylor', 'Ting Ting'),\n",
       " ('Vash', 'Fei'),\n",
       " ('Davi', 'Vash'),\n",
       " ('Jose', 'Taylor'),\n",
       " ('Holly', 'Taylor'),\n",
       " ('Ford', 'Prince'),\n",
       " ('Nishan', 'Ford'),\n",
       " ('Kaya', 'Vinay'),\n",
       " ('Sara', 'Asmita'),\n",
       " ('Shannon', 'Tim'),\n",
       " ('Tim', 'Prince'),\n",
       " ('Tyler', 'Nishan'),\n",
       " ('Patrick Yang', 'Santosh'),\n",
       " ('Santosh', 'Shannon'),\n",
       " ('Akshay', 'Arpita'),\n",
       " ('Prince', 'Jason'),\n",
       " ('Neerja', 'Prince'),\n",
       " ('Deena', 'Ian'),\n",
       " ('Arpita', 'Fei'),\n",
       " ('Asmita', 'Taylor'),\n",
       " ('Kerem', 'Prince'),\n",
       " ('Jake', 'Shannon'),\n",
       " ('Spence', 'Danai'),\n",
       " ('John', 'Tyler'),\n",
       " ('Ting Ting', 'Ford'),\n",
       " ('Danai', 'Tim'),\n",
       " ('Devesh', 'Ford'),\n",
       " ('Sooraj', 'Deena'),\n",
       " ('Kunal', 'Tyler'),\n",
       " ('Fei', 'Vinay'),\n",
       " ('David', 'Ting Ting'),\n",
       " ('Alvira', 'Akshay'),\n",
       " ('Vinay', 'David'),\n",
       " ('Jason', 'Taylor'),\n",
       " ('Ian', 'Santosh'),\n",
       " ('Matthew', 'Ting Ting'),\n",
       " ('Taylor', 'Neerja'),\n",
       " ('Vash', 'Neerja'),\n",
       " ('Davi', 'Devesh'),\n",
       " ('Jose', 'Spence'),\n",
       " ('Holly', 'Devesh'),\n",
       " ('Ford', 'Neerja'),\n",
       " ('Nishan', 'John'),\n",
       " ('Kaya', 'Nishan'),\n",
       " ('Sara', 'Jake'),\n",
       " ('Shannon', 'Davi'),\n",
       " ('Tim', 'Taylor'),\n",
       " ('Tyler', 'Jose'),\n",
       " ('Patrick Yang', 'Ford'),\n",
       " ('Santosh', 'Neerja'),\n",
       " ('Akshay', 'Matthew'),\n",
       " ('Prince', 'Kaya'),\n",
       " ('Neerja', 'Deena'),\n",
       " ('Arpita', 'Asmita'),\n",
       " ('Asmita', 'Devesh'),\n",
       " ('Kerem', 'Kaya'),\n",
       " ('Jake', 'Deena'),\n",
       " ('Spence', 'Ford'),\n",
       " ('John', 'Patrick Yang'),\n",
       " ('Ting Ting', 'Ian'),\n",
       " ('Danai', 'Fei'),\n",
       " ('Sooraj', 'Santosh'),\n",
       " ('Kunal', 'Ian'),\n",
       " ('Fei', 'Alvira'),\n",
       " ('David', 'Nishan'),\n",
       " ('Alvira', 'Kaya'),\n",
       " ('Vinay', 'Tim'),\n",
       " ('Jason', 'Nishan'),\n",
       " ('Ian', 'Shannon'),\n",
       " ('Matthew', 'Alvira'),\n",
       " ('Taylor', 'Jason'),\n",
       " ('Vash', 'Santosh'),\n",
       " ('Davi', 'Kerem'),\n",
       " ('Jose', 'Alvira'),\n",
       " ('Ford', 'Alvira'),\n",
       " ('Nishan', 'Holly'),\n",
       " ('Kaya', 'Kunal'),\n",
       " ('Sara', 'Taylor'),\n",
       " ('Tyler', 'Ting Ting'),\n",
       " ('Patrick Yang', 'Jake'),\n",
       " ('Santosh', 'Arpita'),\n",
       " ('Akshay', 'John'),\n",
       " ('Prince', 'Spence'),\n",
       " ('Neerja', 'Jose'),\n",
       " ('Deena', 'Fei'),\n",
       " ('Arpita', 'Neerja'),\n",
       " ('Asmita', 'Prince'),\n",
       " ('Kerem', 'Devesh'),\n",
       " ('Jake', 'Jose'),\n",
       " ('Spence', 'Taylor'),\n",
       " ('John', 'Sara'),\n",
       " ('Ting Ting', 'Vinay'),\n",
       " ('Danai', 'Neerja'),\n",
       " ('Devesh', 'Alvira'),\n",
       " ('Fei', 'Prince'),\n",
       " ('David', 'Santosh'),\n",
       " ('Alvira', 'Kerem'),\n",
       " ('Vinay', 'Shannon'),\n",
       " ('Jason', 'Tyler'),\n",
       " ('Ian', 'John'),\n",
       " ('Matthew', 'Spence'),\n",
       " ('Taylor', 'Sara'),\n",
       " ('Vash', 'Matthew'),\n",
       " ('Davi', 'Tim'),\n",
       " ('Jose', 'Ford'),\n",
       " ('Holly', 'Vash'),\n",
       " ('Ford', 'Sara'),\n",
       " ('Nishan', 'Sooraj'),\n",
       " ('Kaya', 'Tyler'),\n",
       " ('Sara', 'Vash'),\n",
       " ('Shannon', 'Holly'),\n",
       " ('Tim', 'Holly'),\n",
       " ('Patrick Yang', 'Deena'),\n",
       " ('Santosh', 'Alvira'),\n",
       " ('Akshay', 'Santosh'),\n",
       " ('Neerja', 'Kaya'),\n",
       " ('Deena', 'Taylor'),\n",
       " ('Arpita', 'Patrick Yang'),\n",
       " ('Kerem', 'Asmita'),\n",
       " ('Jake', 'Danai'),\n",
       " ('Spence', 'Matthew'),\n",
       " ('John', 'Asmita'),\n",
       " ('Ting Ting', 'Kerem'),\n",
       " ('Devesh', 'Ian'),\n",
       " ('Sooraj', 'Jason'),\n",
       " ('Kunal', 'Ting Ting'),\n",
       " ('Fei', 'Asmita'),\n",
       " ('David', 'Kerem'),\n",
       " ('Alvira', 'Devesh'),\n",
       " ('Vinay', 'Spence'),\n",
       " ('Jason', 'Ting Ting'),\n",
       " ('Ian', 'Asmita'),\n",
       " ('Matthew', 'Nishan'),\n",
       " ('Taylor', 'Kunal'),\n",
       " ('Vash', 'Nishan'),\n",
       " ('Davi', 'Neerja'),\n",
       " ('Jose', 'Fei'),\n",
       " ('Holly', 'Davi'),\n",
       " ('Ford', 'Kerem'),\n",
       " ('Kaya', 'Deena'),\n",
       " ('Sara', 'Kunal'),\n",
       " ('Shannon', 'Kerem'),\n",
       " ('Tim', 'Asmita'),\n",
       " ('Tyler', 'Asmita')]"
      ]
     },
     "execution_count": 39,
     "metadata": {},
     "output_type": "execute_result"
    }
   ],
   "source": [
    "edges"
   ]
  },
  {
   "cell_type": "code",
   "execution_count": 40,
   "metadata": {},
   "outputs": [
    {
     "data": {
      "text/plain": [
       "200"
      ]
     },
     "execution_count": 40,
     "metadata": {},
     "output_type": "execute_result"
    }
   ],
   "source": [
    "len(edges)"
   ]
  },
  {
   "cell_type": "code",
   "execution_count": 41,
   "metadata": {},
   "outputs": [
    {
     "data": {
      "text/plain": [
       "36"
      ]
     },
     "execution_count": 41,
     "metadata": {},
     "output_type": "execute_result"
    }
   ],
   "source": [
    "len(node_names)"
   ]
  },
  {
   "cell_type": "markdown",
   "metadata": {},
   "source": [
    "### Creating basic graph"
   ]
  },
  {
   "cell_type": "markdown",
   "metadata": {},
   "source": [
    "In NetworkX, you can put these two lists together into a single network object that understands how nodes and edges are related. This object is called a Graph, referring to one of the common terms for data organized as a network"
   ]
  },
  {
   "cell_type": "code",
   "execution_count": 42,
   "metadata": {},
   "outputs": [],
   "source": [
    "#intializaing graph object\n",
    "G = nx.Graph()"
   ]
  },
  {
   "cell_type": "code",
   "execution_count": 43,
   "metadata": {},
   "outputs": [],
   "source": [
    "#adding nodes and edges from iterables\n",
    "G.add_nodes_from(node_names)\n",
    "G.add_edges_from(edges)"
   ]
  },
  {
   "cell_type": "code",
   "execution_count": 44,
   "metadata": {},
   "outputs": [
    {
     "name": "stdout",
     "output_type": "stream",
     "text": [
      "Name: \n",
      "Type: Graph\n",
      "Number of nodes: 36\n",
      "Number of edges: 184\n",
      "Average degree:  10.2222\n"
     ]
    }
   ],
   "source": [
    "print(nx.info(G))"
   ]
  },
  {
   "cell_type": "markdown",
   "metadata": {},
   "source": [
    "### Adding attributes"
   ]
  },
  {
   "cell_type": "markdown",
   "metadata": {},
   "source": [
    "NetworkX provides two convenient functions for adding attributes to all of a Graph’s nodes or edges at once: `nx.set_node_attributes()` and `nx.set_edge_attributes()`. To use these functions, you’ll need your attribute data to be in the form of a Python dictionary, in which node names are the keys and the attributes you want to add are the values"
   ]
  },
  {
   "cell_type": "code",
   "execution_count": 47,
   "metadata": {},
   "outputs": [],
   "source": [
    "gender_dict = {}"
   ]
  },
  {
   "cell_type": "code",
   "execution_count": 48,
   "metadata": {},
   "outputs": [
    {
     "data": {
      "text/html": [
       "<div>\n",
       "<style scoped>\n",
       "    .dataframe tbody tr th:only-of-type {\n",
       "        vertical-align: middle;\n",
       "    }\n",
       "\n",
       "    .dataframe tbody tr th {\n",
       "        vertical-align: top;\n",
       "    }\n",
       "\n",
       "    .dataframe thead th {\n",
       "        text-align: right;\n",
       "    }\n",
       "</style>\n",
       "<table border=\"1\" class=\"dataframe\">\n",
       "  <thead>\n",
       "    <tr style=\"text-align: right;\">\n",
       "      <th></th>\n",
       "      <th>Name</th>\n",
       "      <th>Gender</th>\n",
       "    </tr>\n",
       "  </thead>\n",
       "  <tbody>\n",
       "    <tr>\n",
       "      <th>0</th>\n",
       "      <td>Patrick Yang</td>\n",
       "      <td>male</td>\n",
       "    </tr>\n",
       "    <tr>\n",
       "      <th>1</th>\n",
       "      <td>Santosh</td>\n",
       "      <td>male</td>\n",
       "    </tr>\n",
       "  </tbody>\n",
       "</table>\n",
       "</div>"
      ],
      "text/plain": [
       "           Name Gender\n",
       "0  Patrick Yang   male\n",
       "1       Santosh   male"
      ]
     },
     "execution_count": 48,
     "metadata": {},
     "output_type": "execute_result"
    }
   ],
   "source": [
    "nodes_data.head(2)"
   ]
  },
  {
   "cell_type": "code",
   "execution_count": 49,
   "metadata": {},
   "outputs": [],
   "source": [
    "nodes_data_dict = nodes_data.to_dict()"
   ]
  },
  {
   "cell_type": "code",
   "execution_count": 50,
   "metadata": {},
   "outputs": [
    {
     "data": {
      "text/plain": [
       "dict_keys(['Name', 'Gender'])"
      ]
     },
     "execution_count": 50,
     "metadata": {},
     "output_type": "execute_result"
    }
   ],
   "source": [
    "nodes_data_dict.keys()"
   ]
  },
  {
   "cell_type": "code",
   "execution_count": 51,
   "metadata": {},
   "outputs": [],
   "source": [
    "#creating a dictionary for attributes\n",
    "for i in range(nodes_data.shape[0]):\n",
    "    gender_dict[nodes_data_dict['Name'][i]] = nodes_data_dict['Gender'][i]"
   ]
  },
  {
   "cell_type": "code",
   "execution_count": 52,
   "metadata": {},
   "outputs": [],
   "source": [
    "#adding attributes to the nodes\n",
    "nx.set_node_attributes(G, gender_dict, 'gender')"
   ]
  },
  {
   "cell_type": "code",
   "execution_count": 53,
   "metadata": {},
   "outputs": [
    {
     "name": "stdout",
     "output_type": "stream",
     "text": [
      "Patrick Yang male\n",
      "Santosh male\n",
      "Akshay male\n",
      "Prince male\n",
      "Neerja female\n",
      "Deena female\n",
      "Arpita female\n",
      "Asmita female\n",
      "Kerem male\n",
      "Jake male\n",
      "Spence male\n",
      "John male\n",
      "Ting Ting female\n",
      "Danai female\n",
      "Devesh male\n",
      "Sooraj male\n",
      "Kunal male\n",
      "Fei female\n",
      "David male\n",
      "Alvira female\n",
      "Vinay male\n",
      "Jason male\n",
      "Ian male\n",
      "Matthew male\n",
      "Taylor male\n",
      "Vash male\n",
      "Davi male\n",
      "Jose male\n",
      "Holly female\n",
      "Ford male\n",
      "Nishan male\n",
      "Kaya female\n",
      "Sara female\n",
      "Shannon female\n",
      "Tim male\n",
      "Tyler male\n"
     ]
    }
   ],
   "source": [
    "#you can access attributes like this\n",
    "for n in G.nodes():\n",
    "    print(n, G.node[n]['gender'])"
   ]
  },
  {
   "cell_type": "markdown",
   "metadata": {},
   "source": [
    "### Metrics to analyze the network"
   ]
  },
  {
   "cell_type": "code",
   "execution_count": 54,
   "metadata": {},
   "outputs": [
    {
     "name": "stdout",
     "output_type": "stream",
     "text": [
      "Network density: 0.2920634920634921\n"
     ]
    }
   ],
   "source": [
    "#density\n",
    "density = nx.density(G)\n",
    "print(\"Network density:\", density)"
   ]
  },
  {
   "cell_type": "code",
   "execution_count": 55,
   "metadata": {},
   "outputs": [
    {
     "name": "stdout",
     "output_type": "stream",
     "text": [
      "Shortest path between Prince and Kerem: ['Prince', 'Kerem']\n",
      "Length of that path: 1\n"
     ]
    }
   ],
   "source": [
    "#shortest path\n",
    "prince_kerem_path = nx.shortest_path(\n",
    "    G, source=\"Prince\", target=\"Neerja\")\n",
    "\n",
    "print(\"Shortest path between Prince and Kerem:\", prince_kerem_path)\n",
    "print(\"Length of that path:\", len(prince_kerem_path) - 1)"
   ]
  },
  {
   "cell_type": "code",
   "execution_count": 27,
   "metadata": {},
   "outputs": [
    {
     "ename": "NetworkXError",
     "evalue": "Found infinite path length because the graph is not connected",
     "output_type": "error",
     "traceback": [
      "\u001b[0;31m---------------------------------------------------------------------------\u001b[0m",
      "\u001b[0;31mNetworkXError\u001b[0m                             Traceback (most recent call last)",
      "\u001b[0;32m<ipython-input-27-7b9780eb0139>\u001b[0m in \u001b[0;36m<module>\u001b[0;34m()\u001b[0m\n\u001b[1;32m      1\u001b[0m \u001b[0;31m#diameter\u001b[0m\u001b[0;34m\u001b[0m\u001b[0;34m\u001b[0m\u001b[0m\n\u001b[0;32m----> 2\u001b[0;31m \u001b[0mnx\u001b[0m\u001b[0;34m.\u001b[0m\u001b[0mdiameter\u001b[0m\u001b[0;34m(\u001b[0m\u001b[0mG\u001b[0m\u001b[0;34m)\u001b[0m\u001b[0;34m\u001b[0m\u001b[0m\n\u001b[0m",
      "\u001b[0;32m~/anaconda3/envs/fastai/lib/python3.6/site-packages/networkx/algorithms/distance_measures.py\u001b[0m in \u001b[0;36mdiameter\u001b[0;34m(G, e, usebounds)\u001b[0m\n\u001b[1;32m    274\u001b[0m         \u001b[0;32mreturn\u001b[0m \u001b[0mextrema_bounding\u001b[0m\u001b[0;34m(\u001b[0m\u001b[0mG\u001b[0m\u001b[0;34m,\u001b[0m \u001b[0mcompute\u001b[0m\u001b[0;34m=\u001b[0m\u001b[0;34m\"diameter\"\u001b[0m\u001b[0;34m)\u001b[0m\u001b[0;34m\u001b[0m\u001b[0m\n\u001b[1;32m    275\u001b[0m     \u001b[0;32mif\u001b[0m \u001b[0me\u001b[0m \u001b[0;32mis\u001b[0m \u001b[0;32mNone\u001b[0m\u001b[0;34m:\u001b[0m\u001b[0;34m\u001b[0m\u001b[0m\n\u001b[0;32m--> 276\u001b[0;31m         \u001b[0me\u001b[0m \u001b[0;34m=\u001b[0m \u001b[0meccentricity\u001b[0m\u001b[0;34m(\u001b[0m\u001b[0mG\u001b[0m\u001b[0;34m)\u001b[0m\u001b[0;34m\u001b[0m\u001b[0m\n\u001b[0m\u001b[1;32m    277\u001b[0m     \u001b[0;32mreturn\u001b[0m \u001b[0mmax\u001b[0m\u001b[0;34m(\u001b[0m\u001b[0me\u001b[0m\u001b[0;34m.\u001b[0m\u001b[0mvalues\u001b[0m\u001b[0;34m(\u001b[0m\u001b[0;34m)\u001b[0m\u001b[0;34m)\u001b[0m\u001b[0;34m\u001b[0m\u001b[0m\n\u001b[1;32m    278\u001b[0m \u001b[0;34m\u001b[0m\u001b[0m\n",
      "\u001b[0;32m~/anaconda3/envs/fastai/lib/python3.6/site-packages/networkx/algorithms/distance_measures.py\u001b[0m in \u001b[0;36meccentricity\u001b[0;34m(G, v, sp)\u001b[0m\n\u001b[1;32m    239\u001b[0m                 msg = ('Found infinite path length because the graph is not'\n\u001b[1;32m    240\u001b[0m                        ' connected')\n\u001b[0;32m--> 241\u001b[0;31m             \u001b[0;32mraise\u001b[0m \u001b[0mnetworkx\u001b[0m\u001b[0;34m.\u001b[0m\u001b[0mNetworkXError\u001b[0m\u001b[0;34m(\u001b[0m\u001b[0mmsg\u001b[0m\u001b[0;34m)\u001b[0m\u001b[0;34m\u001b[0m\u001b[0m\n\u001b[0m\u001b[1;32m    242\u001b[0m \u001b[0;34m\u001b[0m\u001b[0m\n\u001b[1;32m    243\u001b[0m         \u001b[0me\u001b[0m\u001b[0;34m[\u001b[0m\u001b[0mn\u001b[0m\u001b[0;34m]\u001b[0m \u001b[0;34m=\u001b[0m \u001b[0mmax\u001b[0m\u001b[0;34m(\u001b[0m\u001b[0mlength\u001b[0m\u001b[0;34m.\u001b[0m\u001b[0mvalues\u001b[0m\u001b[0;34m(\u001b[0m\u001b[0;34m)\u001b[0m\u001b[0;34m)\u001b[0m\u001b[0;34m\u001b[0m\u001b[0m\n",
      "\u001b[0;31mNetworkXError\u001b[0m: Found infinite path length because the graph is not connected"
     ]
    }
   ],
   "source": [
    "#diameter\n",
    "nx.diameter(G)"
   ]
  },
  {
   "cell_type": "markdown",
   "metadata": {},
   "source": [
    "The above code throws an error because there are disconnected parts in our network. To check that:"
   ]
  },
  {
   "cell_type": "code",
   "execution_count": null,
   "metadata": {},
   "outputs": [],
   "source": [
    "# If your Graph has more than one component, this will return False:\n",
    "print(nx.is_connected(G))"
   ]
  },
  {
   "cell_type": "code",
   "execution_count": null,
   "metadata": {},
   "outputs": [],
   "source": [
    "# Next, use nx.connected_components to get the list of components,\n",
    "# then use the max() command to find the largest one:\n",
    "components = nx.connected_components(G)\n",
    "largest_component = max(components, key=len)"
   ]
  },
  {
   "cell_type": "code",
   "execution_count": null,
   "metadata": {},
   "outputs": [],
   "source": [
    "# Create a \"subgraph\" of just the largest component\n",
    "# Then calculate the diameter of the subgraph, just like you did with density.\n",
    "subgraph = G.subgraph(largest_component)\n",
    "diameter = nx.diameter(subgraph)\n",
    "print(\"Network diameter of largest component:\", diameter)"
   ]
  },
  {
   "cell_type": "markdown",
   "metadata": {},
   "source": [
    "The final structural calculation you will make on this network concerns the concept of triadic closure. Triadic closure supposes that if two people know the same person, they are likely to know each other. If Fox knows both Fell and Whitehead, then Fell and Whitehead may very well know each other, completing a triangle in the visualization of three edges connecting Fox, Fell, and Whitehead. The number of these enclosed triangles in the network can be used to find clusters and communities of individuals that all know each other fairly well."
   ]
  },
  {
   "cell_type": "markdown",
   "metadata": {},
   "source": [
    "One way of measuring triadic closure is called clustering coefficient because of this clustering tendency, but the structural network measure you will learn is known as transitivity.11 Transitivity is the ratio of all triangles over all possible triangles. A possible triangle exists when one person (Fox) knows two people (Fell and Whitehead). So transitivity, like density, expresses how interconnected a graph is in terms of a ratio of actual over possible connections."
   ]
  },
  {
   "cell_type": "code",
   "execution_count": null,
   "metadata": {},
   "outputs": [],
   "source": [
    "triadic_closure = nx.transitivity(G)\n",
    "print(\"Triadic closure:\", triadic_closure)"
   ]
  },
  {
   "cell_type": "markdown",
   "metadata": {},
   "source": [
    "### Centrality"
   ]
  },
  {
   "cell_type": "markdown",
   "metadata": {},
   "source": [
    "Most common centrality measures: degree, betweenness centrality, and eigenvector centrality."
   ]
  },
  {
   "cell_type": "markdown",
   "metadata": {},
   "source": [
    "**Degree** is the simplest and the most common way of finding important nodes. A node’s degree is the sum of its edges. If a node has three lines extending from it to other nodes, its degree is three. Five edges, its degree is five. It’s really that simple. Since each of those edges will always have a node on the other end, you might think of degree as the number of people to which a given person is directly connected. The nodes with the highest degree in a social network are the people who know the most people. These nodes are often referred to as hubs, and calculating degree is the quickest way of identifying hubs."
   ]
  },
  {
   "cell_type": "code",
   "execution_count": null,
   "metadata": {},
   "outputs": [],
   "source": [
    "#calculate degree\n",
    "degree_dict = dict(G.degree(G.nodes()))\n",
    "#add it as an attribute to each node\n",
    "nx.set_node_attributes(G, degree_dict, 'degree')"
   ]
  },
  {
   "cell_type": "code",
   "execution_count": null,
   "metadata": {},
   "outputs": [],
   "source": [
    "print(G.node['William Penn'])"
   ]
  },
  {
   "cell_type": "code",
   "execution_count": null,
   "metadata": {},
   "outputs": [],
   "source": [
    "sorted_degree = sorted(degree_dict.items(), key=itemgetter(1), reverse=True)"
   ]
  },
  {
   "cell_type": "code",
   "execution_count": null,
   "metadata": {},
   "outputs": [],
   "source": [
    "sorted_degree[:10]"
   ]
  },
  {
   "cell_type": "markdown",
   "metadata": {},
   "source": [
    "You probably didn’t need NetworkX to tell you that William Penn, Quaker leader and founder of Pennsylvania, was important. Most social networks will have just a few hubs of very high degree, with the rest of similar, much lower degree.12 Degree can tell you about the biggest hubs, but it can’t tell you that much about the rest of the nodes. And in many cases, those hubs it’s telling you about (like Penn or Quakerism co-founder Margaret Fell, with a degree of 13) are not especially surprising. In this case almost all of the hubs are founders of the religion or otherwise important political figures."
   ]
  },
  {
   "cell_type": "markdown",
   "metadata": {},
   "source": [
    "**Eigenvector centrality** is a kind of extension of degree—it looks at a combination of a node’s edges and the edges of that node’s neighbors. Eigenvector centrality cares if you are a hub, but it also cares how many hubs you are connected to. It’s calculated as a value from 0 to 1: the closer to one, the greater the centrality. Eigenvector centrality is useful for understanding which nodes can get information to many other nodes quickly. If you know a lot of well-connected people, you could spread a message very efficiently. If you’ve used Google, then you’re already somewhat familiar with Eigenvector centrality. Their PageRank algorithm uses an extension of this formula to decide which webpages get to the top of its search results."
   ]
  },
  {
   "cell_type": "code",
   "execution_count": null,
   "metadata": {},
   "outputs": [],
   "source": [
    "eigenvector_dict = nx.eigenvector_centrality(G)  # Run eigenvector centrality"
   ]
  },
  {
   "cell_type": "code",
   "execution_count": null,
   "metadata": {},
   "outputs": [],
   "source": [
    "sorted_eigen_degree = sorted(\n",
    "    eigenvector_dict.items(), key=itemgetter(1), reverse=True)"
   ]
  },
  {
   "cell_type": "code",
   "execution_count": null,
   "metadata": {},
   "outputs": [],
   "source": [
    "sorted_eigen_degree[:10]"
   ]
  },
  {
   "cell_type": "code",
   "execution_count": null,
   "metadata": {},
   "outputs": [],
   "source": [
    "nx.set_node_attributes(G, eigenvector_dict, 'eigenvector')"
   ]
  },
  {
   "cell_type": "markdown",
   "metadata": {},
   "source": [
    "**Betweenness centrality** is a bit different from the other two measures in that it doesn’t care about the number of edges any one node or set of nodes has. Betweenness centrality looks at all the shortest paths that pass through a particular node (see above). To do this, it must first calculate every possible shortest path in your network, so keep in mind that betweenness centrality will take longer to calculate than other centrality measures (but it won’t be an issue in a dataset of this size). Betweenness centrality, which is also expressed on a scale of 0 to 1, is fairly good at finding nodes that connect two otherwise disparate parts of a network. If you’re the only thing connecting two clusters, every communication between those clusters has to pass through you. In contrast to a hub, this sort of node is often referred to as a broker. Betweenness centrality is not the only way of finding brokerage (and other methods are more systematic), but it’s a quick way of giving you a sense of which nodes are important not because they have lots of connections themselves but because they stand between groups, giving the network connectivity and cohesion."
   ]
  },
  {
   "cell_type": "code",
   "execution_count": null,
   "metadata": {},
   "outputs": [],
   "source": [
    "# Run betweenness centrality\n",
    "betweenness_dict = nx.betweenness_centrality(G)"
   ]
  },
  {
   "cell_type": "code",
   "execution_count": null,
   "metadata": {},
   "outputs": [],
   "source": [
    "nx.set_node_attributes(G, betweenness_dict, 'betweenness')"
   ]
  },
  {
   "cell_type": "markdown",
   "metadata": {},
   "source": [
    "### Community detection"
   ]
  },
  {
   "cell_type": "markdown",
   "metadata": {},
   "source": [
    "Another common thing to ask about a network dataset is what the subgroups or communities are within the larger social structure. Is your network one big, happy family where everyone knows everyone else? Or is it a collection of smaller subgroups that are only connected by one or two intermediaries? The field of community detection in networks is designed to answer these questions. There are many ways of calculating communities, cliques, and clusters in your network, but the most popular method currently is modularity. Modularity is a measure of relative density in your network: a community (called a module or modularity class) has high density relative to other nodes within its module but low density with those outside. Modularity gives you an overall score of how fractious your network is, and that score can be used to partition the network and return the individual communities."
   ]
  },
  {
   "cell_type": "code",
   "execution_count": 29,
   "metadata": {},
   "outputs": [],
   "source": [
    "communities = community.best_partition(G)"
   ]
  },
  {
   "cell_type": "markdown",
   "metadata": {},
   "source": [
    "The above code will create a dictionary just like the ones created by centrality functions. `best_partition()` tries to determine the number of communities appropriate for the graph, and assigns each node a number (starting at 0), corresponding to the community it’s a member of. You can add these values to your network in the now-familiar way"
   ]
  },
  {
   "cell_type": "code",
   "execution_count": 30,
   "metadata": {},
   "outputs": [],
   "source": [
    "nx.set_node_attributes(G, communities, 'modularity')"
   ]
  },
  {
   "cell_type": "code",
   "execution_count": 31,
   "metadata": {},
   "outputs": [],
   "source": [
    "global_modularity = community.modularity(communities, G) #finding global modularity"
   ]
  },
  {
   "cell_type": "code",
   "execution_count": null,
   "metadata": {},
   "outputs": [],
   "source": []
  }
 ],
 "metadata": {
  "kernelspec": {
   "display_name": "Python 3",
   "language": "python",
   "name": "python3"
  },
  "language_info": {
   "codemirror_mode": {
    "name": "ipython",
    "version": 3
   },
   "file_extension": ".py",
   "mimetype": "text/x-python",
   "name": "python",
   "nbconvert_exporter": "python",
   "pygments_lexer": "ipython3",
   "version": "3.6.4"
  }
 },
 "nbformat": 4,
 "nbformat_minor": 2
}
