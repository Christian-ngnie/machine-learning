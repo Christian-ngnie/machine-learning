{
 "cells": [
  {
   "cell_type": "code",
   "execution_count": 1,
   "metadata": {},
   "outputs": [],
   "source": [
    "import pandas as pd\n",
    "import numpy as np"
   ]
  },
  {
   "cell_type": "markdown",
   "metadata": {},
   "source": [
    "### Binary search"
   ]
  },
  {
   "cell_type": "code",
   "execution_count": 2,
   "metadata": {},
   "outputs": [],
   "source": [
    "l = sorted([1,2,3,4,32,55,66,33,221])"
   ]
  },
  {
   "cell_type": "code",
   "execution_count": 3,
   "metadata": {},
   "outputs": [
    {
     "data": {
      "text/plain": [
       "[1, 2, 3, 4, 32, 33, 55, 66, 221]"
      ]
     },
     "execution_count": 3,
     "metadata": {},
     "output_type": "execute_result"
    }
   ],
   "source": [
    "l"
   ]
  },
  {
   "cell_type": "code",
   "execution_count": 4,
   "metadata": {},
   "outputs": [],
   "source": [
    "def binarySearchIterative(a, t):\n",
    "    upper = len(a) - 1\n",
    "    lower = 0\n",
    "    while lower <= upper:\n",
    "        middle = (lower + upper) // 2\n",
    "        if t == a[middle]:\n",
    "            return True\n",
    "        else:\n",
    "            if t < a[middle]:\n",
    "                upper = middle - 1\n",
    "            else:\n",
    "                lower = middle + 1\n",
    "    return False"
   ]
  },
  {
   "cell_type": "code",
   "execution_count": 5,
   "metadata": {},
   "outputs": [
    {
     "data": {
      "text/plain": [
       "True"
      ]
     },
     "execution_count": 5,
     "metadata": {},
     "output_type": "execute_result"
    }
   ],
   "source": [
    "binarySearchIterative(l,33)"
   ]
  },
  {
   "cell_type": "code",
   "execution_count": 6,
   "metadata": {},
   "outputs": [],
   "source": [
    "def binarySearchRecursive(a, t):\n",
    "    upper = len(a) - 1\n",
    "    lower = 0\n",
    "    if upper>=0:\n",
    "        middle = (lower + upper) // 2\n",
    "        if t == a[middle]: return True\n",
    "        if t < a[middle]: return binarySearchRecursive(a[:middle],t)\n",
    "        else: return binarySearchRecursive(a[middle+1:],t)\n",
    "    return False"
   ]
  },
  {
   "cell_type": "code",
   "execution_count": 7,
   "metadata": {},
   "outputs": [
    {
     "data": {
      "text/plain": [
       "True"
      ]
     },
     "execution_count": 7,
     "metadata": {},
     "output_type": "execute_result"
    }
   ],
   "source": [
    "binarySearchRecursive(l,221)"
   ]
  },
  {
   "cell_type": "markdown",
   "metadata": {},
   "source": [
    "### Sorting algorithms"
   ]
  },
  {
   "cell_type": "markdown",
   "metadata": {},
   "source": [
    "#### Bubble sort"
   ]
  },
  {
   "cell_type": "markdown",
   "metadata": {},
   "source": [
    "![bubble](../imgs/bubblepass.png)"
   ]
  },
  {
   "cell_type": "markdown",
   "metadata": {},
   "source": [
    "$$Complexity: O(n^2)$$"
   ]
  },
  {
   "cell_type": "markdown",
   "metadata": {},
   "source": [
    "A bubble sort is often considered the most inefficient sorting method since it must exchange items before the final location is known. These “wasted” exchange operations are very costly. However, because the bubble sort makes passes through the entire unsorted portion of the list, it has the capability to do something most sorting algorithms cannot. In particular, if during a pass there are no exchanges, then we know that the list must be sorted. A bubble sort can be modified to stop early if it finds that the list has become sorted. This means that for lists that require just a few passes, a bubble sort may have an advantage in that it will recognize the sorted list and stop."
   ]
  },
  {
   "cell_type": "code",
   "execution_count": 8,
   "metadata": {},
   "outputs": [],
   "source": [
    "l = [1,2,3,4,32,5,5,66,33,221,34,23,12]"
   ]
  },
  {
   "cell_type": "code",
   "execution_count": 9,
   "metadata": {},
   "outputs": [],
   "source": [
    "def bubbleSort(l):\n",
    "    n = len(l)\n",
    "    end = n - 1\n",
    "    for j in range(n):\n",
    "        for i in range(end):\n",
    "            exc_counter = 0\n",
    "            if l[i] > l[i + 1]:\n",
    "                l[i], l[i + 1] = l[i + 1], l[i]\n",
    "                exc_counter += 1\n",
    "            else:\n",
    "                continue\n",
    "        if exc_counter > 0: end -= 1\n",
    "        else:\n",
    "            print(f\"List sorted in {j} iterations\")\n",
    "            return l"
   ]
  },
  {
   "cell_type": "code",
   "execution_count": 10,
   "metadata": {},
   "outputs": [
    {
     "name": "stdout",
     "output_type": "stream",
     "text": [
      "List sorted in 6 iterations\n"
     ]
    },
    {
     "data": {
      "text/plain": [
       "[1, 2, 3, 4, 5, 5, 12, 23, 32, 33, 34, 66, 221]"
      ]
     },
     "execution_count": 10,
     "metadata": {},
     "output_type": "execute_result"
    }
   ],
   "source": [
    "bubbleSort(l)"
   ]
  },
  {
   "cell_type": "markdown",
   "metadata": {},
   "source": [
    "#### Selection sort"
   ]
  },
  {
   "cell_type": "markdown",
   "metadata": {},
   "source": [
    "![selection](../imgs/selectionsort.png)"
   ]
  },
  {
   "cell_type": "markdown",
   "metadata": {},
   "source": [
    "$$Complexity: O(n^2)$$"
   ]
  },
  {
   "cell_type": "markdown",
   "metadata": {},
   "source": [
    "The selection sort improves on the bubble sort by making only one exchange for every pass through the list. In order to do this, a selection sort looks for the largest value as it makes a pass and, after completing the pass, places it in the proper location. As with a bubble sort, after the first pass, the largest item is in the correct place. After the second pass, the next largest is in place. This process continues and requires n−1 passes to sort n items, since the final item must be in place after the (n−1) st pass."
   ]
  },
  {
   "cell_type": "code",
   "execution_count": 46,
   "metadata": {},
   "outputs": [],
   "source": [
    "l = [1,2,3,4,32,5,5,66,33,221,34,23,12]"
   ]
  },
  {
   "cell_type": "code",
   "execution_count": 39,
   "metadata": {},
   "outputs": [],
   "source": [
    "def selectionSort(l):\n",
    "    n = len(l)\n",
    "    end = n - 1\n",
    "    for j in range(n):\n",
    "        max_ = l[-1 - j]\n",
    "        max_idx = -1 - j\n",
    "        for i in range(end):\n",
    "            if l[i] > max_:\n",
    "                max_ = l[i]\n",
    "                max_idx = i\n",
    "            else:\n",
    "                continue\n",
    "        l[-1 - j], l[max_idx] = l[max_idx], l[-1 - j]\n",
    "        end = end - 1\n",
    "        print(l)\n",
    "    return l"
   ]
  },
  {
   "cell_type": "code",
   "execution_count": 40,
   "metadata": {},
   "outputs": [
    {
     "name": "stdout",
     "output_type": "stream",
     "text": [
      "[1, 2, 3, 4, 32, 5, 5, 66, 33, 12, 34, 23, 221]\n",
      "[1, 2, 3, 4, 32, 5, 5, 23, 33, 12, 34, 66, 221]\n",
      "[1, 2, 3, 4, 32, 5, 5, 23, 33, 12, 34, 66, 221]\n",
      "[1, 2, 3, 4, 32, 5, 5, 23, 12, 33, 34, 66, 221]\n",
      "[1, 2, 3, 4, 12, 5, 5, 23, 32, 33, 34, 66, 221]\n",
      "[1, 2, 3, 4, 12, 5, 5, 23, 32, 33, 34, 66, 221]\n",
      "[1, 2, 3, 4, 5, 5, 12, 23, 32, 33, 34, 66, 221]\n",
      "[1, 2, 3, 4, 5, 5, 12, 23, 32, 33, 34, 66, 221]\n",
      "[1, 2, 3, 4, 5, 5, 12, 23, 32, 33, 34, 66, 221]\n",
      "[1, 2, 3, 4, 5, 5, 12, 23, 32, 33, 34, 66, 221]\n",
      "[1, 2, 3, 4, 5, 5, 12, 23, 32, 33, 34, 66, 221]\n",
      "[1, 2, 3, 4, 5, 5, 12, 23, 32, 33, 34, 66, 221]\n",
      "[1, 2, 3, 4, 5, 5, 12, 23, 32, 33, 34, 66, 221]\n"
     ]
    },
    {
     "data": {
      "text/plain": [
       "[1, 2, 3, 4, 5, 5, 12, 23, 32, 33, 34, 66, 221]"
      ]
     },
     "execution_count": 40,
     "metadata": {},
     "output_type": "execute_result"
    }
   ],
   "source": [
    "selectionSort(l)"
   ]
  },
  {
   "cell_type": "markdown",
   "metadata": {},
   "source": [
    "The benefit of selection over bubble sort is it does one exchange per pass whereas bubble sort can do multiple exchanges."
   ]
  },
  {
   "cell_type": "markdown",
   "metadata": {},
   "source": [
    "#### Insertion sort"
   ]
  },
  {
   "cell_type": "markdown",
   "metadata": {},
   "source": [
    "![insertion](../imgs/insertionsort.png)"
   ]
  },
  {
   "cell_type": "markdown",
   "metadata": {},
   "source": [
    "$$Complexity: O(n^2)$$"
   ]
  },
  {
   "cell_type": "code",
   "execution_count": 44,
   "metadata": {},
   "outputs": [],
   "source": [
    "def insertionSort(l):\n",
    "    for i in range(1,len(l)):\n",
    "        cval = l[i]\n",
    "        pos = i\n",
    "        while pos>0 and l[pos-1]>cval:\n",
    "            l[pos] = l[pos-1]\n",
    "            pos = pos-1\n",
    "        l[pos] = cval\n",
    "    return l"
   ]
  },
  {
   "cell_type": "code",
   "execution_count": 47,
   "metadata": {},
   "outputs": [
    {
     "data": {
      "text/plain": [
       "[1, 2, 3, 4, 5, 5, 12, 23, 32, 33, 34, 66, 221]"
      ]
     },
     "execution_count": 47,
     "metadata": {},
     "output_type": "execute_result"
    }
   ],
   "source": [
    "insertionSort(l)"
   ]
  },
  {
   "cell_type": "markdown",
   "metadata": {},
   "source": [
    "#### Merge Sort"
   ]
  },
  {
   "cell_type": "markdown",
   "metadata": {},
   "source": [
    "![merge](../imgs/mergesort.png)"
   ]
  },
  {
   "cell_type": "markdown",
   "metadata": {},
   "source": [
    "![merge1](../imgs/mergesortB.png)"
   ]
  },
  {
   "cell_type": "markdown",
   "metadata": {},
   "source": [
    "$$Complexity: O(nlog(n))$$"
   ]
  },
  {
   "cell_type": "code",
   "execution_count": 51,
   "metadata": {},
   "outputs": [],
   "source": [
    "l = [1,2,3,4,32,5,5,66,33,221,34,23,12]"
   ]
  },
  {
   "cell_type": "code",
   "execution_count": 52,
   "metadata": {},
   "outputs": [],
   "source": [
    "def mergeSort(alist):\n",
    "    print(\"Splitting \", alist)\n",
    "    if len(alist) > 1:\n",
    "        mid = len(alist) // 2\n",
    "        lefthalf = alist[:mid]\n",
    "        righthalf = alist[mid:]\n",
    "\n",
    "        mergeSort(lefthalf)\n",
    "        mergeSort(righthalf)\n",
    "\n",
    "        i = 0\n",
    "        j = 0\n",
    "        k = 0\n",
    "        while i < len(lefthalf) and j < len(righthalf):\n",
    "            if lefthalf[i] < righthalf[j]:\n",
    "                alist[k] = lefthalf[i]\n",
    "                i = i + 1\n",
    "            else:\n",
    "                alist[k] = righthalf[j]\n",
    "                j = j + 1\n",
    "            k = k + 1\n",
    "\n",
    "        while i < len(lefthalf):\n",
    "            alist[k] = lefthalf[i]\n",
    "            i = i + 1\n",
    "            k = k + 1\n",
    "\n",
    "        while j < len(righthalf):\n",
    "            alist[k] = righthalf[j]\n",
    "            j = j + 1\n",
    "            k = k + 1\n",
    "    print(\"Merging \", alist)"
   ]
  },
  {
   "cell_type": "code",
   "execution_count": 53,
   "metadata": {},
   "outputs": [
    {
     "name": "stdout",
     "output_type": "stream",
     "text": [
      "Splitting  [1, 2, 3, 4, 32, 5, 5, 66, 33, 221, 34, 23, 12]\n",
      "Splitting  [1, 2, 3, 4, 32, 5]\n",
      "Splitting  [1, 2, 3]\n",
      "Splitting  [1]\n",
      "Merging  [1]\n",
      "Splitting  [2, 3]\n",
      "Splitting  [2]\n",
      "Merging  [2]\n",
      "Splitting  [3]\n",
      "Merging  [3]\n",
      "Merging  [2, 3]\n",
      "Merging  [1, 2, 3]\n",
      "Splitting  [4, 32, 5]\n",
      "Splitting  [4]\n",
      "Merging  [4]\n",
      "Splitting  [32, 5]\n",
      "Splitting  [32]\n",
      "Merging  [32]\n",
      "Splitting  [5]\n",
      "Merging  [5]\n",
      "Merging  [5, 32]\n",
      "Merging  [4, 5, 32]\n",
      "Merging  [1, 2, 3, 4, 5, 32]\n",
      "Splitting  [5, 66, 33, 221, 34, 23, 12]\n",
      "Splitting  [5, 66, 33]\n",
      "Splitting  [5]\n",
      "Merging  [5]\n",
      "Splitting  [66, 33]\n",
      "Splitting  [66]\n",
      "Merging  [66]\n",
      "Splitting  [33]\n",
      "Merging  [33]\n",
      "Merging  [33, 66]\n",
      "Merging  [5, 33, 66]\n",
      "Splitting  [221, 34, 23, 12]\n",
      "Splitting  [221, 34]\n",
      "Splitting  [221]\n",
      "Merging  [221]\n",
      "Splitting  [34]\n",
      "Merging  [34]\n",
      "Merging  [34, 221]\n",
      "Splitting  [23, 12]\n",
      "Splitting  [23]\n",
      "Merging  [23]\n",
      "Splitting  [12]\n",
      "Merging  [12]\n",
      "Merging  [12, 23]\n",
      "Merging  [12, 23, 34, 221]\n",
      "Merging  [5, 12, 23, 33, 34, 66, 221]\n",
      "Merging  [1, 2, 3, 4, 5, 5, 12, 23, 32, 33, 34, 66, 221]\n"
     ]
    }
   ],
   "source": [
    "mergeSort(l)"
   ]
  },
  {
   "cell_type": "markdown",
   "metadata": {},
   "source": [
    "#### Quick sort"
   ]
  },
  {
   "cell_type": "markdown",
   "metadata": {},
   "source": [
    "![quick](../imgs/quicksort.png)"
   ]
  },
  {
   "cell_type": "markdown",
   "metadata": {},
   "source": [
    "$$Complexity: O(nlog(n))$$ $$Worst case : O(n^2)$$"
   ]
  },
  {
   "cell_type": "code",
   "execution_count": 57,
   "metadata": {},
   "outputs": [
    {
     "name": "stdout",
     "output_type": "stream",
     "text": [
      "[17, 20, 26, 31, 44, 54, 55, 77, 93]\n"
     ]
    }
   ],
   "source": [
    "def quickSort(alist):\n",
    "    quickSortHelper(alist, 0, len(alist) - 1)\n",
    "\n",
    "\n",
    "def quickSortHelper(alist, first, last):\n",
    "    if first < last:\n",
    "\n",
    "        splitpoint = partition(alist, first, last)\n",
    "\n",
    "        quickSortHelper(alist, first, splitpoint - 1)\n",
    "        quickSortHelper(alist, splitpoint + 1, last)\n",
    "\n",
    "\n",
    "def partition(alist, first, last):\n",
    "    pivotvalue = alist[first]\n",
    "\n",
    "    leftmark = first + 1\n",
    "    rightmark = last\n",
    "\n",
    "    done = False\n",
    "    while not done:\n",
    "\n",
    "        while leftmark <= rightmark and alist[leftmark] <= pivotvalue:\n",
    "            leftmark = leftmark + 1\n",
    "\n",
    "        while alist[rightmark] >= pivotvalue and rightmark >= leftmark:\n",
    "            rightmark = rightmark - 1\n",
    "\n",
    "        if rightmark < leftmark:\n",
    "            done = True\n",
    "        else:\n",
    "            temp = alist[leftmark]\n",
    "            alist[leftmark] = alist[rightmark]\n",
    "            alist[rightmark] = temp\n",
    "\n",
    "    temp = alist[first]\n",
    "    alist[first] = alist[rightmark]\n",
    "    alist[rightmark] = temp\n",
    "\n",
    "    return rightmark\n",
    "\n",
    "\n",
    "alist = [54, 26, 93, 17, 77, 31, 44, 55, 20]\n",
    "quickSort(alist)\n",
    "print(alist)"
   ]
  },
  {
   "cell_type": "markdown",
   "metadata": {},
   "source": [
    "# Stack"
   ]
  },
  {
   "cell_type": "code",
   "execution_count": 2,
   "metadata": {},
   "outputs": [],
   "source": [
    "class myStack():\n",
    "    def __init__(self):\n",
    "        self.items = []\n",
    "\n",
    "    def push(self, element):\n",
    "        return self.items.append(element)\n",
    "\n",
    "    def pop(self):\n",
    "        return self.items.pop()\n",
    "\n",
    "    def peek(self):\n",
    "        return self.items[-1]\n",
    "\n",
    "    def isEmpty(self):\n",
    "        return len(self.items) == 0\n",
    "\n",
    "    def size(self):\n",
    "        return len(self.items)"
   ]
  },
  {
   "cell_type": "code",
   "execution_count": 74,
   "metadata": {},
   "outputs": [],
   "source": [
    "s = myStack()"
   ]
  },
  {
   "cell_type": "code",
   "execution_count": 75,
   "metadata": {},
   "outputs": [],
   "source": [
    "s.push(1)"
   ]
  },
  {
   "cell_type": "code",
   "execution_count": 78,
   "metadata": {},
   "outputs": [
    {
     "data": {
      "text/plain": [
       "False"
      ]
     },
     "execution_count": 78,
     "metadata": {},
     "output_type": "execute_result"
    }
   ],
   "source": [
    "s.isEmpty()"
   ]
  },
  {
   "cell_type": "code",
   "execution_count": 79,
   "metadata": {},
   "outputs": [
    {
     "data": {
      "text/plain": [
       "1"
      ]
     },
     "execution_count": 79,
     "metadata": {},
     "output_type": "execute_result"
    }
   ],
   "source": [
    "s.peek()"
   ]
  },
  {
   "cell_type": "code",
   "execution_count": 80,
   "metadata": {},
   "outputs": [
    {
     "data": {
      "text/plain": [
       "1"
      ]
     },
     "execution_count": 80,
     "metadata": {},
     "output_type": "execute_result"
    }
   ],
   "source": [
    "s.pop()"
   ]
  },
  {
   "cell_type": "code",
   "execution_count": 81,
   "metadata": {},
   "outputs": [
    {
     "data": {
      "text/plain": [
       "True"
      ]
     },
     "execution_count": 81,
     "metadata": {},
     "output_type": "execute_result"
    }
   ],
   "source": [
    "s.isEmpty()"
   ]
  },
  {
   "cell_type": "markdown",
   "metadata": {},
   "source": [
    "### Balanced parentheses"
   ]
  },
  {
   "cell_type": "markdown",
   "metadata": {},
   "source": [
    "The simple parentheses checker from the previous section can easily be extended to handle these new types of symbols. Recall that each opening symbol is simply pushed on the stack to wait for the matching closing symbol to appear later in the sequence. When a closing symbol does appear, the only difference is that we must check to be sure that it correctly matches the type of the opening symbol on top of the stack. If the two symbols do not match, the string is not balanced. Once again, if the entire string is processed and nothing is left on the stack, the string is correctly balanced."
   ]
  },
  {
   "cell_type": "code",
   "execution_count": 86,
   "metadata": {},
   "outputs": [],
   "source": [
    "def parChecker(string):\n",
    "    s = myStack()\n",
    "    balanced = True\n",
    "    idx = 0\n",
    "    open_br = '{(['\n",
    "    close_br = '})]'\n",
    "    while idx < len(string) and balanced:\n",
    "        if string[idx] in open_br:\n",
    "            s.push(string[idx])\n",
    "        else:\n",
    "            if s.isEmpty(): balanced = False\n",
    "            else:\n",
    "                if close_br.index(string[idx]) != open_br.index(s.pop()):\n",
    "                    balanced = False\n",
    "        idx += 1\n",
    "    if balanced and s.isEmpty(): return True\n",
    "    else: return False"
   ]
  },
  {
   "cell_type": "code",
   "execution_count": 87,
   "metadata": {},
   "outputs": [
    {
     "data": {
      "text/plain": [
       "True"
      ]
     },
     "execution_count": 87,
     "metadata": {},
     "output_type": "execute_result"
    }
   ],
   "source": [
    "parChecker('{{([][])}()}')"
   ]
  },
  {
   "cell_type": "code",
   "execution_count": 89,
   "metadata": {},
   "outputs": [
    {
     "name": "stdout",
     "output_type": "stream",
     "text": [
      "False\n"
     ]
    }
   ],
   "source": [
    "print(parChecker('[{()]'))"
   ]
  },
  {
   "cell_type": "code",
   "execution_count": 91,
   "metadata": {},
   "outputs": [
    {
     "data": {
      "text/plain": [
       "15"
      ]
     },
     "execution_count": 91,
     "metadata": {},
     "output_type": "execute_result"
    }
   ],
   "source": [
    "31%16"
   ]
  },
  {
   "cell_type": "markdown",
   "metadata": {},
   "source": [
    "### Base converter for decimal numbers to binary"
   ]
  },
  {
   "cell_type": "markdown",
   "metadata": {},
   "source": [
    "<img src=\"http://interactivepython.org/runestone/static/pythonds/_images/dectobin.png\">"
   ]
  },
  {
   "cell_type": "code",
   "execution_count": 102,
   "metadata": {},
   "outputs": [],
   "source": [
    "def dec2bin(number):\n",
    "    s = myStack()\n",
    "    while number != 0:\n",
    "        remainder = number % 2\n",
    "        s.push(remainder)\n",
    "        number = number // 2\n",
    "    binary_string = []\n",
    "    while not s.isEmpty():\n",
    "        binary_string.append(str(s.pop()))\n",
    "    return ''.join(binary_string)"
   ]
  },
  {
   "cell_type": "code",
   "execution_count": 105,
   "metadata": {},
   "outputs": [
    {
     "data": {
      "text/plain": [
       "'1111011'"
      ]
     },
     "execution_count": 105,
     "metadata": {},
     "output_type": "execute_result"
    }
   ],
   "source": [
    "dec2bin(123)"
   ]
  },
  {
   "cell_type": "code",
   "execution_count": 106,
   "metadata": {},
   "outputs": [],
   "source": [
    "def bin2dec(number):\n",
    "    s = str(number)\n",
    "    dec = 0\n",
    "    for i, e in enumerate(s[::-1]):\n",
    "        dec += int(e) * (2**i)\n",
    "    return dec"
   ]
  },
  {
   "cell_type": "code",
   "execution_count": 107,
   "metadata": {},
   "outputs": [
    {
     "data": {
      "text/plain": [
       "123"
      ]
     },
     "execution_count": 107,
     "metadata": {},
     "output_type": "execute_result"
    }
   ],
   "source": [
    "bin2dec(1111011)"
   ]
  },
  {
   "cell_type": "markdown",
   "metadata": {},
   "source": [
    "# Queues"
   ]
  },
  {
   "cell_type": "code",
   "execution_count": 109,
   "metadata": {},
   "outputs": [],
   "source": [
    "class myQueue():\n",
    "    def __init__(self):\n",
    "        self.object = []\n",
    "    def enqueue(self,element):\n",
    "        return self.object.insert(0,element)\n",
    "    def dequeue(self):\n",
    "        return self.object.pop()\n",
    "    def isEmpty(self):\n",
    "        return len(self.object == 0)\n",
    "    def size(self):\n",
    "        return len(self.object)"
   ]
  },
  {
   "cell_type": "markdown",
   "metadata": {},
   "source": [
    "# Linked Lists"
   ]
  },
  {
   "cell_type": "markdown",
   "metadata": {},
   "source": [
    "<img src=\"http://interactivepython.org/runestone/static/pythonds/_images/idea2.png\">"
   ]
  },
  {
   "cell_type": "markdown",
   "metadata": {},
   "source": [
    "It is important to note that the location of the first item of the list must be explicitly specified. Once we know where the first item is, the first item can tell us where the second is, and so on. The external reference is often referred to as the head of the list. Similarly, the last item needs to know that there is no next item."
   ]
  },
  {
   "cell_type": "markdown",
   "metadata": {},
   "source": [
    "### Node"
   ]
  },
  {
   "cell_type": "code",
   "execution_count": 113,
   "metadata": {},
   "outputs": [],
   "source": [
    "class Node():\n",
    "    def __init__(self,initdata):\n",
    "        self.data = initdata\n",
    "        self.next = None\n",
    "\n",
    "    def getData(self):\n",
    "        return self.data\n",
    "\n",
    "    def getNext(self):\n",
    "        return self.next\n",
    "\n",
    "    def setData(self,newdata):\n",
    "        self.data = newdata\n",
    "\n",
    "    def setNext(self,newnext):\n",
    "        self.next = newnext"
   ]
  },
  {
   "cell_type": "markdown",
   "metadata": {},
   "source": [
    "Unordered list"
   ]
  },
  {
   "cell_type": "code",
   "execution_count": 244,
   "metadata": {},
   "outputs": [],
   "source": [
    "class UnorderedList():\n",
    "    def __init__(self):\n",
    "        self.head = None\n",
    "\n",
    "    def isEmpty(self):\n",
    "        return self.head == None\n",
    "\n",
    "    def add(self, item):\n",
    "        temp = Node(item)\n",
    "        temp.setNext(self.head)\n",
    "        self.head = temp\n",
    "\n",
    "    def size(self):\n",
    "        counter = 0\n",
    "        current = self.head\n",
    "        while current != None:\n",
    "            current = current.getNext()\n",
    "            counter += 1\n",
    "        return counter\n",
    "\n",
    "    def search(self, item):\n",
    "        current = self.head\n",
    "        found = False\n",
    "        while current != None and not found:\n",
    "            if current.getData() == item:\n",
    "                found = True\n",
    "            else:\n",
    "                current = current.getNext()\n",
    "        return found\n",
    "\n",
    "    def remove(self, item):\n",
    "        current = self.head\n",
    "        found = False\n",
    "        previous = None\n",
    "        while current != None and not found:\n",
    "            if current.getData() == item:\n",
    "                found = True\n",
    "            else:\n",
    "                previous = current\n",
    "                current = current.getNext()\n",
    "        if previous == None:\n",
    "            self.head = current.getNext()\n",
    "        else:\n",
    "            self.setNext(current.getNext())\n",
    "\n",
    "    def append(self, item):\n",
    "        current = self.head\n",
    "        append = False\n",
    "        while current != None and not append:\n",
    "            if current.getNext() == None:\n",
    "                current.setNext(Node(item))\n",
    "                append = True\n",
    "            else:\n",
    "                current = current.getNext()\n",
    "\n",
    "    def pop(self):\n",
    "        current = self.head\n",
    "        found = False\n",
    "        previous = None\n",
    "        while current != None and not found:\n",
    "            if current.getNext() != None:\n",
    "                previous = current\n",
    "                current = current.getNext()\n",
    "            else:\n",
    "                found = True\n",
    "        if previous != None:\n",
    "            previous.setNext(None)\n",
    "        else:\n",
    "            self.head = None\n",
    "\n",
    "    def print_(self):\n",
    "        current = self.head\n",
    "        sz = self.size()\n",
    "        for i in range(sz):\n",
    "            print(current.getData())\n",
    "            current = current.getNext()\n",
    "\n",
    "    def index(self, item):\n",
    "        '''\n",
    "        returns the index corresponding to first index\n",
    "        '''\n",
    "        current = self.head\n",
    "        found = False\n",
    "        counter = 0\n",
    "        while current != None and not found:\n",
    "            if current.getData() == item:\n",
    "                found = True\n",
    "                return counter\n",
    "            else:\n",
    "                counter += 1\n",
    "                current = current.getNext()\n",
    "        print(\"Item not found\")\n",
    "\n",
    "    def insert(self, pos, item):\n",
    "        if self.size() == 0:\n",
    "            self.add(item)\n",
    "            return None\n",
    "        current = self.head\n",
    "        found = False\n",
    "        counter = 0\n",
    "        previous = None\n",
    "        while current != None and not found:\n",
    "            if counter != pos:\n",
    "                previous = current\n",
    "                current = current.getNext()\n",
    "                counter += 1\n",
    "            else:\n",
    "                found = True\n",
    "        if previous != None:\n",
    "            tmp = Node(item)\n",
    "            previous.setNext(tmp)\n",
    "            tmp.setNext(current)\n",
    "        else:\n",
    "            tmp = Node(item)\n",
    "            self.head = tmp\n",
    "            tmp.setNext(current)"
   ]
  },
  {
   "cell_type": "code",
   "execution_count": 251,
   "metadata": {},
   "outputs": [],
   "source": [
    "ll = UnorderedList()"
   ]
  },
  {
   "cell_type": "code",
   "execution_count": 252,
   "metadata": {},
   "outputs": [],
   "source": [
    "ll.add(54)"
   ]
  },
  {
   "cell_type": "code",
   "execution_count": 247,
   "metadata": {},
   "outputs": [],
   "source": [
    "ll.add(46)"
   ]
  },
  {
   "cell_type": "code",
   "execution_count": 255,
   "metadata": {},
   "outputs": [
    {
     "name": "stdout",
     "output_type": "stream",
     "text": [
      "44\n",
      "54\n"
     ]
    }
   ],
   "source": [
    "ll.print_()"
   ]
  },
  {
   "cell_type": "code",
   "execution_count": 254,
   "metadata": {},
   "outputs": [],
   "source": [
    "ll.insert(0,44)"
   ]
  },
  {
   "cell_type": "code",
   "execution_count": null,
   "metadata": {},
   "outputs": [],
   "source": [
    "ll."
   ]
  },
  {
   "cell_type": "code",
   "execution_count": 219,
   "metadata": {},
   "outputs": [
    {
     "data": {
      "text/plain": [
       "0"
      ]
     },
     "execution_count": 219,
     "metadata": {},
     "output_type": "execute_result"
    }
   ],
   "source": [
    "ll.index(100)"
   ]
  },
  {
   "cell_type": "code",
   "execution_count": 215,
   "metadata": {},
   "outputs": [],
   "source": [
    "ll.append(120)"
   ]
  },
  {
   "cell_type": "code",
   "execution_count": 217,
   "metadata": {},
   "outputs": [
    {
     "data": {
      "text/plain": [
       "5"
      ]
     },
     "execution_count": 217,
     "metadata": {},
     "output_type": "execute_result"
    }
   ],
   "source": [
    "ll.index(120)"
   ]
  },
  {
   "cell_type": "code",
   "execution_count": 218,
   "metadata": {},
   "outputs": [
    {
     "name": "stdout",
     "output_type": "stream",
     "text": [
      "100\n",
      "46\n",
      "54\n",
      "46\n",
      "54\n",
      "120\n"
     ]
    }
   ],
   "source": [
    "ll.print_()"
   ]
  },
  {
   "cell_type": "code",
   "execution_count": 213,
   "metadata": {},
   "outputs": [],
   "source": [
    "ll.add(100)"
   ]
  },
  {
   "cell_type": "code",
   "execution_count": 201,
   "metadata": {},
   "outputs": [],
   "source": [
    "ll.pop()"
   ]
  },
  {
   "cell_type": "code",
   "execution_count": 186,
   "metadata": {},
   "outputs": [
    {
     "data": {
      "text/plain": [
       "2"
      ]
     },
     "execution_count": 186,
     "metadata": {},
     "output_type": "execute_result"
    }
   ],
   "source": [
    "ll.size()"
   ]
  },
  {
   "cell_type": "code",
   "execution_count": 187,
   "metadata": {},
   "outputs": [
    {
     "data": {
      "text/plain": [
       "False"
      ]
     },
     "execution_count": 187,
     "metadata": {},
     "output_type": "execute_result"
    }
   ],
   "source": [
    "ll.search(544)"
   ]
  },
  {
   "cell_type": "code",
   "execution_count": 188,
   "metadata": {},
   "outputs": [],
   "source": [
    "ll.remove(46)"
   ]
  },
  {
   "cell_type": "code",
   "execution_count": 189,
   "metadata": {},
   "outputs": [],
   "source": [
    "ll.append(50)"
   ]
  },
  {
   "cell_type": "code",
   "execution_count": 190,
   "metadata": {},
   "outputs": [
    {
     "data": {
      "text/plain": [
       "2"
      ]
     },
     "execution_count": 190,
     "metadata": {},
     "output_type": "execute_result"
    }
   ],
   "source": [
    "ll.size()"
   ]
  },
  {
   "cell_type": "code",
   "execution_count": 191,
   "metadata": {},
   "outputs": [],
   "source": [
    "ll.pop()"
   ]
  },
  {
   "cell_type": "code",
   "execution_count": 192,
   "metadata": {},
   "outputs": [
    {
     "data": {
      "text/plain": [
       "1"
      ]
     },
     "execution_count": 192,
     "metadata": {},
     "output_type": "execute_result"
    }
   ],
   "source": [
    "ll.size()"
   ]
  },
  {
   "cell_type": "code",
   "execution_count": 193,
   "metadata": {},
   "outputs": [
    {
     "data": {
      "text/plain": [
       "54"
      ]
     },
     "execution_count": 193,
     "metadata": {},
     "output_type": "execute_result"
    }
   ],
   "source": [
    "ll.head.getData()"
   ]
  },
  {
   "cell_type": "code",
   "execution_count": 194,
   "metadata": {},
   "outputs": [
    {
     "name": "stdout",
     "output_type": "stream",
     "text": [
      "1\n"
     ]
    }
   ],
   "source": [
    "ll.print_()"
   ]
  },
  {
   "cell_type": "markdown",
   "metadata": {},
   "source": [
    "# Binary Tree"
   ]
  },
  {
   "cell_type": "markdown",
   "metadata": {},
   "source": [
    "Using list of lists"
   ]
  },
  {
   "cell_type": "code",
   "execution_count": 9,
   "metadata": {},
   "outputs": [],
   "source": [
    "def BinaryTree(r):\n",
    "    return [r, [], []]\n",
    "\n",
    "\n",
    "def insertLeft(root, newBranch):\n",
    "    t = root.pop(1)\n",
    "    if len(t) > 1:\n",
    "        root.insert(1, [newBranch, t, []])\n",
    "    else:\n",
    "        root.insert(1, [newBranch, [], []])\n",
    "    return root\n",
    "\n",
    "\n",
    "def insertRight(root, newBranch):\n",
    "    t = root.pop(2)\n",
    "    if len(t) > 1:\n",
    "        root.insert(2, [newBranch, [], t])\n",
    "    else:\n",
    "        root.insert(2, [newBranch, [], []])\n",
    "    return root\n",
    "\n",
    "\n",
    "def getRootVal(root):\n",
    "    return root[0]\n",
    "\n",
    "\n",
    "def setRootVal(root, newVal):\n",
    "    root[0] = newVal\n",
    "\n",
    "\n",
    "def getLeftChild(root):\n",
    "    return root[1]\n",
    "\n",
    "\n",
    "def getRightChild(root):\n",
    "    return root[2]"
   ]
  },
  {
   "cell_type": "code",
   "execution_count": 10,
   "metadata": {},
   "outputs": [
    {
     "name": "stdout",
     "output_type": "stream",
     "text": [
      "[5, [4, [], []], []]\n",
      "[3, [9, [4, [], []], []], [7, [], [6, [], []]]]\n",
      "[3, [9, [11, [4, [], []], []], []], [7, [], [6, [], []]]]\n",
      "[6, [], []]\n"
     ]
    }
   ],
   "source": [
    "r = BinaryTree(3)\n",
    "insertLeft(r,4)\n",
    "insertLeft(r,5)\n",
    "insertRight(r,6)\n",
    "insertRight(r,7)\n",
    "l = getLeftChild(r)\n",
    "print(l)\n",
    "\n",
    "setRootVal(l,9)\n",
    "print(r)\n",
    "insertLeft(l,11)\n",
    "print(r)\n",
    "print(getRightChild(getRightChild(r)))"
   ]
  },
  {
   "cell_type": "markdown",
   "metadata": {},
   "source": [
    "Using nodes and references"
   ]
  },
  {
   "cell_type": "code",
   "execution_count": 11,
   "metadata": {},
   "outputs": [],
   "source": [
    "class BinaryTree:\n",
    "    def __init__(self, rootObj):\n",
    "        self.key = rootObj\n",
    "        self.leftChild = None\n",
    "        self.rightChild = None\n",
    "\n",
    "    def insertLeft(self, newNode):\n",
    "        if self.leftChild == None:\n",
    "            self.leftChild = BinaryTree(newNode)\n",
    "        else:\n",
    "            t = BinaryTree(newNode)\n",
    "            t.leftChild = self.leftChild\n",
    "            self.leftChild = t\n",
    "\n",
    "    def insertRight(self, newNode):\n",
    "        if self.rightChild == None:\n",
    "            self.rightChild = BinaryTree(newNode)\n",
    "        else:\n",
    "            t = BinaryTree(newNode)\n",
    "            t.rightChild = self.rightChild\n",
    "            self.rightChild = t\n",
    "\n",
    "    def getRightChild(self):\n",
    "        return self.rightChild\n",
    "\n",
    "    def getLeftChild(self):\n",
    "        return self.leftChild\n",
    "\n",
    "    def setRootVal(self, obj):\n",
    "        self.key = obj\n",
    "\n",
    "    def getRootVal(self):\n",
    "        return self.key"
   ]
  },
  {
   "cell_type": "code",
   "execution_count": 12,
   "metadata": {},
   "outputs": [
    {
     "name": "stdout",
     "output_type": "stream",
     "text": [
      "a\n",
      "None\n",
      "<__main__.BinaryTree object at 0x10c08cda0>\n",
      "b\n",
      "<__main__.BinaryTree object at 0x10c08cfd0>\n",
      "c\n",
      "hello\n"
     ]
    }
   ],
   "source": [
    "r = BinaryTree('a')\n",
    "print(r.getRootVal())\n",
    "print(r.getLeftChild())\n",
    "r.insertLeft('b')\n",
    "print(r.getLeftChild())\n",
    "print(r.getLeftChild().getRootVal())\n",
    "r.insertRight('c')\n",
    "print(r.getRightChild())\n",
    "print(r.getRightChild().getRootVal())\n",
    "r.getRightChild().setRootVal('hello')\n",
    "print(r.getRightChild().getRootVal())"
   ]
  },
  {
   "cell_type": "markdown",
   "metadata": {},
   "source": [
    "Tree traversal"
   ]
  },
  {
   "cell_type": "code",
   "execution_count": 13,
   "metadata": {},
   "outputs": [],
   "source": [
    "def preorder(tree):\n",
    "    if tree:\n",
    "        print(tree.getRootVal())\n",
    "        preorder(tree.getLeftChild())\n",
    "        preorder(tree.getRightChild())"
   ]
  },
  {
   "cell_type": "code",
   "execution_count": 14,
   "metadata": {},
   "outputs": [
    {
     "name": "stdout",
     "output_type": "stream",
     "text": [
      "a\n",
      "b\n",
      "hello\n"
     ]
    }
   ],
   "source": [
    "preorder(r)"
   ]
  },
  {
   "cell_type": "code",
   "execution_count": 15,
   "metadata": {},
   "outputs": [],
   "source": [
    "def postorder(tree):\n",
    "    if tree != None:\n",
    "        postorder(tree.getLeftChild())\n",
    "        postorder(tree.getRightChild())\n",
    "        print(tree.getRootVal())"
   ]
  },
  {
   "cell_type": "code",
   "execution_count": 16,
   "metadata": {},
   "outputs": [
    {
     "name": "stdout",
     "output_type": "stream",
     "text": [
      "b\n",
      "hello\n",
      "a\n"
     ]
    }
   ],
   "source": [
    "postorder(r)"
   ]
  },
  {
   "cell_type": "code",
   "execution_count": 18,
   "metadata": {},
   "outputs": [],
   "source": [
    "def inorder(tree):\n",
    "    if tree != None:\n",
    "        inorder(tree.getLeftChild())\n",
    "        print(tree.getRootVal())\n",
    "        inorder(tree.getRightChild())"
   ]
  },
  {
   "cell_type": "code",
   "execution_count": 19,
   "metadata": {},
   "outputs": [
    {
     "name": "stdout",
     "output_type": "stream",
     "text": [
      "b\n",
      "a\n",
      "hello\n"
     ]
    }
   ],
   "source": [
    "inorder(r)"
   ]
  },
  {
   "cell_type": "markdown",
   "metadata": {},
   "source": [
    "### Binary search tree"
   ]
  },
  {
   "cell_type": "markdown",
   "metadata": {},
   "source": [
    "A binary search tree relies on the property that keys that are less than the parent are found in the left subtree, and keys that are greater than the parent are found in the right subtree. We will call this the bst property."
   ]
  },
  {
   "cell_type": "code",
   "execution_count": 81,
   "metadata": {},
   "outputs": [],
   "source": [
    "class bstnode():\n",
    "    def __init__(self, key, val):\n",
    "        self.key = key\n",
    "        self.val = val\n",
    "        self.left = None\n",
    "        self.right = None\n",
    "\n",
    "    def get(self):\n",
    "        return self.val\n",
    "\n",
    "    def set_val(self, val):\n",
    "        self.val = val\n",
    "\n",
    "\n",
    "class bst():\n",
    "    def __init__(self):\n",
    "        self.root = None\n",
    "\n",
    "    def preorder_(self, current_node):\n",
    "        if current_node is None:\n",
    "            return\n",
    "        else:\n",
    "            print(current_node.val)\n",
    "            self.preorder_(current_node.left)\n",
    "            self.preorder_(current_node.right)\n",
    "\n",
    "    def insert(self, key, val):\n",
    "        if self.root is None:\n",
    "            self.root = bstnode(key, val)\n",
    "        else:\n",
    "            self.insert_node(self.root, key, val)\n",
    "\n",
    "    def find(self, item):\n",
    "        return self.find_node(self.root, item)\n",
    "\n",
    "    def find_node(self, current_node, item):\n",
    "        if current_node is None: return \"Empty tree\"\n",
    "        elif item == current_node.key:\n",
    "            return current_node.val\n",
    "        elif item < current_node.key:\n",
    "            return self.find_node(current_node.left, item)\n",
    "        else:\n",
    "            return self.find_node(current_node.right, item)\n",
    "\n",
    "    def traverse(self):\n",
    "        return self.preorder_(self.root)\n",
    "\n",
    "    def insert_node(self, current_node, key, val):\n",
    "        if key < current_node.key:\n",
    "            if current_node.left is None:\n",
    "                current_node.left = bstnode(key, val)\n",
    "            else:\n",
    "                self.insert_node(current_node.left, key, val)\n",
    "        elif key > current_node.key:\n",
    "            if current_node.right is None:\n",
    "                current_node.right = bstnode(key, val)\n",
    "            else:\n",
    "                self.insert_node(current_node.right, key, val)\n",
    "        else:\n",
    "            current_node.val = val"
   ]
  },
  {
   "cell_type": "code",
   "execution_count": 115,
   "metadata": {},
   "outputs": [],
   "source": [
    "mybst = bst()\n",
    "\n",
    "mybst.insert(100,\"Shikhar\")\n",
    "\n",
    "mybst.insert(120,\"Neerja\")\n",
    "\n",
    "mybst.insert(90,\"Prince\")"
   ]
  },
  {
   "cell_type": "code",
   "execution_count": 119,
   "metadata": {},
   "outputs": [
    {
     "name": "stdout",
     "output_type": "stream",
     "text": [
      "Shikhar\n",
      "Prince\n",
      "Neerja\n"
     ]
    }
   ],
   "source": [
    "mybst.traverse()"
   ]
  },
  {
   "cell_type": "code",
   "execution_count": 121,
   "metadata": {},
   "outputs": [
    {
     "data": {
      "text/plain": [
       "'Neerja'"
      ]
     },
     "execution_count": 121,
     "metadata": {},
     "output_type": "execute_result"
    }
   ],
   "source": [
    "mybst.find(120)"
   ]
  }
 ],
 "metadata": {
  "kernelspec": {
   "display_name": "Python 3",
   "language": "python",
   "name": "python3"
  },
  "language_info": {
   "codemirror_mode": {
    "name": "ipython",
    "version": 3
   },
   "file_extension": ".py",
   "mimetype": "text/x-python",
   "name": "python",
   "nbconvert_exporter": "python",
   "pygments_lexer": "ipython3",
   "version": "3.6.5"
  }
 },
 "nbformat": 4,
 "nbformat_minor": 2
}
