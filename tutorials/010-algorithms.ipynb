{
 "cells": [
  {
   "cell_type": "code",
   "execution_count": 58,
   "metadata": {},
   "outputs": [],
   "source": [
    "import pandas as pd\n",
    "import numpy as np"
   ]
  },
  {
   "cell_type": "markdown",
   "metadata": {},
   "source": [
    "### Binary search"
   ]
  },
  {
   "cell_type": "code",
   "execution_count": 2,
   "metadata": {},
   "outputs": [],
   "source": [
    "l = sorted([1,2,3,4,32,55,66,33,221])"
   ]
  },
  {
   "cell_type": "code",
   "execution_count": 3,
   "metadata": {},
   "outputs": [
    {
     "data": {
      "text/plain": [
       "[1, 2, 3, 4, 32, 33, 55, 66, 221]"
      ]
     },
     "execution_count": 3,
     "metadata": {},
     "output_type": "execute_result"
    }
   ],
   "source": [
    "l"
   ]
  },
  {
   "cell_type": "code",
   "execution_count": 4,
   "metadata": {},
   "outputs": [],
   "source": [
    "def binarySearchIterative(a, t):\n",
    "    upper = len(a) - 1\n",
    "    lower = 0\n",
    "    while lower <= upper:\n",
    "        middle = (lower + upper) // 2\n",
    "        if t == a[middle]:\n",
    "            return True\n",
    "        else:\n",
    "            if t < a[middle]:\n",
    "                upper = middle - 1\n",
    "            else:\n",
    "                lower = middle + 1\n",
    "    return False"
   ]
  },
  {
   "cell_type": "code",
   "execution_count": 5,
   "metadata": {},
   "outputs": [
    {
     "data": {
      "text/plain": [
       "True"
      ]
     },
     "execution_count": 5,
     "metadata": {},
     "output_type": "execute_result"
    }
   ],
   "source": [
    "binarySearchIterative(l,33)"
   ]
  },
  {
   "cell_type": "code",
   "execution_count": 6,
   "metadata": {},
   "outputs": [],
   "source": [
    "def binarySearchRecursive(a, t):\n",
    "    upper = len(a) - 1\n",
    "    lower = 0\n",
    "    if upper>=0:\n",
    "        middle = (lower + upper) // 2\n",
    "        if t == a[middle]: return True\n",
    "        if t < a[middle]: return binarySearchRecursive(a[:middle],t)\n",
    "        else: return binarySearchRecursive(a[middle+1:],t)\n",
    "    return False"
   ]
  },
  {
   "cell_type": "code",
   "execution_count": 7,
   "metadata": {},
   "outputs": [
    {
     "data": {
      "text/plain": [
       "True"
      ]
     },
     "execution_count": 7,
     "metadata": {},
     "output_type": "execute_result"
    }
   ],
   "source": [
    "binarySearchRecursive(l,221)"
   ]
  },
  {
   "cell_type": "markdown",
   "metadata": {},
   "source": [
    "### Sorting algorithms"
   ]
  },
  {
   "cell_type": "markdown",
   "metadata": {},
   "source": [
    "#### Bubble sort"
   ]
  },
  {
   "cell_type": "markdown",
   "metadata": {},
   "source": [
    "![bubble](../imgs/bubblepass.png)"
   ]
  },
  {
   "cell_type": "markdown",
   "metadata": {},
   "source": [
    "$$Complexity: O(n^2)$$"
   ]
  },
  {
   "cell_type": "markdown",
   "metadata": {},
   "source": [
    "A bubble sort is often considered the most inefficient sorting method since it must exchange items before the final location is known. These “wasted” exchange operations are very costly. However, because the bubble sort makes passes through the entire unsorted portion of the list, it has the capability to do something most sorting algorithms cannot. In particular, if during a pass there are no exchanges, then we know that the list must be sorted. A bubble sort can be modified to stop early if it finds that the list has become sorted. This means that for lists that require just a few passes, a bubble sort may have an advantage in that it will recognize the sorted list and stop."
   ]
  },
  {
   "cell_type": "code",
   "execution_count": 8,
   "metadata": {},
   "outputs": [],
   "source": [
    "l = [1,2,3,4,32,5,5,66,33,221,34,23,12]"
   ]
  },
  {
   "cell_type": "code",
   "execution_count": 9,
   "metadata": {},
   "outputs": [],
   "source": [
    "def bubbleSort(l):\n",
    "    n = len(l)\n",
    "    end = n - 1\n",
    "    for j in range(n):\n",
    "        for i in range(end):\n",
    "            exc_counter = 0\n",
    "            if l[i] > l[i + 1]:\n",
    "                l[i], l[i + 1] = l[i + 1], l[i]\n",
    "                exc_counter += 1\n",
    "            else:\n",
    "                continue\n",
    "        if exc_counter > 0: end -= 1\n",
    "        else:\n",
    "            print(f\"List sorted in {j} iterations\")\n",
    "            return l"
   ]
  },
  {
   "cell_type": "code",
   "execution_count": 10,
   "metadata": {},
   "outputs": [
    {
     "name": "stdout",
     "output_type": "stream",
     "text": [
      "List sorted in 6 iterations\n"
     ]
    },
    {
     "data": {
      "text/plain": [
       "[1, 2, 3, 4, 5, 5, 12, 23, 32, 33, 34, 66, 221]"
      ]
     },
     "execution_count": 10,
     "metadata": {},
     "output_type": "execute_result"
    }
   ],
   "source": [
    "bubbleSort(l)"
   ]
  },
  {
   "cell_type": "markdown",
   "metadata": {},
   "source": [
    "#### Selection sort"
   ]
  },
  {
   "cell_type": "markdown",
   "metadata": {},
   "source": [
    "![selection](../imgs/selectionsort.png)"
   ]
  },
  {
   "cell_type": "markdown",
   "metadata": {},
   "source": [
    "$$Complexity: O(n^2)$$"
   ]
  },
  {
   "cell_type": "markdown",
   "metadata": {},
   "source": [
    "The selection sort improves on the bubble sort by making only one exchange for every pass through the list. In order to do this, a selection sort looks for the largest value as it makes a pass and, after completing the pass, places it in the proper location. As with a bubble sort, after the first pass, the largest item is in the correct place. After the second pass, the next largest is in place. This process continues and requires n−1 passes to sort n items, since the final item must be in place after the (n−1) st pass."
   ]
  },
  {
   "cell_type": "code",
   "execution_count": 46,
   "metadata": {},
   "outputs": [],
   "source": [
    "l = [1,2,3,4,32,5,5,66,33,221,34,23,12]"
   ]
  },
  {
   "cell_type": "code",
   "execution_count": 39,
   "metadata": {},
   "outputs": [],
   "source": [
    "def selectionSort(l):\n",
    "    n = len(l)\n",
    "    end = n - 1\n",
    "    for j in range(n):\n",
    "        max_ = l[-1 - j]\n",
    "        max_idx = -1 - j\n",
    "        for i in range(end):\n",
    "            if l[i] > max_:\n",
    "                max_ = l[i]\n",
    "                max_idx = i\n",
    "            else:\n",
    "                continue\n",
    "        l[-1 - j], l[max_idx] = l[max_idx], l[-1 - j]\n",
    "        end = end - 1\n",
    "        print(l)\n",
    "    return l"
   ]
  },
  {
   "cell_type": "code",
   "execution_count": 40,
   "metadata": {},
   "outputs": [
    {
     "name": "stdout",
     "output_type": "stream",
     "text": [
      "[1, 2, 3, 4, 32, 5, 5, 66, 33, 12, 34, 23, 221]\n",
      "[1, 2, 3, 4, 32, 5, 5, 23, 33, 12, 34, 66, 221]\n",
      "[1, 2, 3, 4, 32, 5, 5, 23, 33, 12, 34, 66, 221]\n",
      "[1, 2, 3, 4, 32, 5, 5, 23, 12, 33, 34, 66, 221]\n",
      "[1, 2, 3, 4, 12, 5, 5, 23, 32, 33, 34, 66, 221]\n",
      "[1, 2, 3, 4, 12, 5, 5, 23, 32, 33, 34, 66, 221]\n",
      "[1, 2, 3, 4, 5, 5, 12, 23, 32, 33, 34, 66, 221]\n",
      "[1, 2, 3, 4, 5, 5, 12, 23, 32, 33, 34, 66, 221]\n",
      "[1, 2, 3, 4, 5, 5, 12, 23, 32, 33, 34, 66, 221]\n",
      "[1, 2, 3, 4, 5, 5, 12, 23, 32, 33, 34, 66, 221]\n",
      "[1, 2, 3, 4, 5, 5, 12, 23, 32, 33, 34, 66, 221]\n",
      "[1, 2, 3, 4, 5, 5, 12, 23, 32, 33, 34, 66, 221]\n",
      "[1, 2, 3, 4, 5, 5, 12, 23, 32, 33, 34, 66, 221]\n"
     ]
    },
    {
     "data": {
      "text/plain": [
       "[1, 2, 3, 4, 5, 5, 12, 23, 32, 33, 34, 66, 221]"
      ]
     },
     "execution_count": 40,
     "metadata": {},
     "output_type": "execute_result"
    }
   ],
   "source": [
    "selectionSort(l)"
   ]
  },
  {
   "cell_type": "markdown",
   "metadata": {},
   "source": [
    "The benefit of selection over bubble sort is it does one exchange per pass whereas bubble sort can do multiple exchanges."
   ]
  },
  {
   "cell_type": "markdown",
   "metadata": {},
   "source": [
    "#### Insertion sort"
   ]
  },
  {
   "cell_type": "markdown",
   "metadata": {},
   "source": [
    "![insertion](../imgs/insertionsort.png)"
   ]
  },
  {
   "cell_type": "markdown",
   "metadata": {},
   "source": [
    "$$Complexity: O(n^2)$$"
   ]
  },
  {
   "cell_type": "code",
   "execution_count": 44,
   "metadata": {},
   "outputs": [],
   "source": [
    "def insertionSort(l):\n",
    "    for i in range(1,len(l)):\n",
    "        cval = l[i]\n",
    "        pos = i\n",
    "        while pos>0 and l[pos-1]>cval:\n",
    "            l[pos] = l[pos-1]\n",
    "            pos = pos-1\n",
    "        l[pos] = cval\n",
    "    return l"
   ]
  },
  {
   "cell_type": "code",
   "execution_count": 47,
   "metadata": {},
   "outputs": [
    {
     "data": {
      "text/plain": [
       "[1, 2, 3, 4, 5, 5, 12, 23, 32, 33, 34, 66, 221]"
      ]
     },
     "execution_count": 47,
     "metadata": {},
     "output_type": "execute_result"
    }
   ],
   "source": [
    "insertionSort(l)"
   ]
  },
  {
   "cell_type": "markdown",
   "metadata": {},
   "source": [
    "#### Merge Sort"
   ]
  },
  {
   "cell_type": "markdown",
   "metadata": {},
   "source": [
    "![merge](../imgs/mergesort.png)"
   ]
  },
  {
   "cell_type": "markdown",
   "metadata": {},
   "source": [
    "![merge1](../imgs/mergesortB.png)"
   ]
  },
  {
   "cell_type": "markdown",
   "metadata": {},
   "source": [
    "$$Complexity: O(nlog(n))$$"
   ]
  },
  {
   "cell_type": "code",
   "execution_count": 51,
   "metadata": {},
   "outputs": [],
   "source": [
    "l = [1,2,3,4,32,5,5,66,33,221,34,23,12]"
   ]
  },
  {
   "cell_type": "code",
   "execution_count": 52,
   "metadata": {},
   "outputs": [],
   "source": [
    "def mergeSort(alist):\n",
    "    print(\"Splitting \", alist)\n",
    "    if len(alist) > 1:\n",
    "        mid = len(alist) // 2\n",
    "        lefthalf = alist[:mid]\n",
    "        righthalf = alist[mid:]\n",
    "\n",
    "        mergeSort(lefthalf)\n",
    "        mergeSort(righthalf)\n",
    "\n",
    "        i = 0\n",
    "        j = 0\n",
    "        k = 0\n",
    "        while i < len(lefthalf) and j < len(righthalf):\n",
    "            if lefthalf[i] < righthalf[j]:\n",
    "                alist[k] = lefthalf[i]\n",
    "                i = i + 1\n",
    "            else:\n",
    "                alist[k] = righthalf[j]\n",
    "                j = j + 1\n",
    "            k = k + 1\n",
    "\n",
    "        while i < len(lefthalf):\n",
    "            alist[k] = lefthalf[i]\n",
    "            i = i + 1\n",
    "            k = k + 1\n",
    "\n",
    "        while j < len(righthalf):\n",
    "            alist[k] = righthalf[j]\n",
    "            j = j + 1\n",
    "            k = k + 1\n",
    "    print(\"Merging \", alist)"
   ]
  },
  {
   "cell_type": "code",
   "execution_count": 53,
   "metadata": {},
   "outputs": [
    {
     "name": "stdout",
     "output_type": "stream",
     "text": [
      "Splitting  [1, 2, 3, 4, 32, 5, 5, 66, 33, 221, 34, 23, 12]\n",
      "Splitting  [1, 2, 3, 4, 32, 5]\n",
      "Splitting  [1, 2, 3]\n",
      "Splitting  [1]\n",
      "Merging  [1]\n",
      "Splitting  [2, 3]\n",
      "Splitting  [2]\n",
      "Merging  [2]\n",
      "Splitting  [3]\n",
      "Merging  [3]\n",
      "Merging  [2, 3]\n",
      "Merging  [1, 2, 3]\n",
      "Splitting  [4, 32, 5]\n",
      "Splitting  [4]\n",
      "Merging  [4]\n",
      "Splitting  [32, 5]\n",
      "Splitting  [32]\n",
      "Merging  [32]\n",
      "Splitting  [5]\n",
      "Merging  [5]\n",
      "Merging  [5, 32]\n",
      "Merging  [4, 5, 32]\n",
      "Merging  [1, 2, 3, 4, 5, 32]\n",
      "Splitting  [5, 66, 33, 221, 34, 23, 12]\n",
      "Splitting  [5, 66, 33]\n",
      "Splitting  [5]\n",
      "Merging  [5]\n",
      "Splitting  [66, 33]\n",
      "Splitting  [66]\n",
      "Merging  [66]\n",
      "Splitting  [33]\n",
      "Merging  [33]\n",
      "Merging  [33, 66]\n",
      "Merging  [5, 33, 66]\n",
      "Splitting  [221, 34, 23, 12]\n",
      "Splitting  [221, 34]\n",
      "Splitting  [221]\n",
      "Merging  [221]\n",
      "Splitting  [34]\n",
      "Merging  [34]\n",
      "Merging  [34, 221]\n",
      "Splitting  [23, 12]\n",
      "Splitting  [23]\n",
      "Merging  [23]\n",
      "Splitting  [12]\n",
      "Merging  [12]\n",
      "Merging  [12, 23]\n",
      "Merging  [12, 23, 34, 221]\n",
      "Merging  [5, 12, 23, 33, 34, 66, 221]\n",
      "Merging  [1, 2, 3, 4, 5, 5, 12, 23, 32, 33, 34, 66, 221]\n"
     ]
    }
   ],
   "source": [
    "mergeSort(l)"
   ]
  },
  {
   "cell_type": "markdown",
   "metadata": {},
   "source": [
    "#### Quick sort"
   ]
  },
  {
   "cell_type": "markdown",
   "metadata": {},
   "source": [
    "![quick](../imgs/quicksort.png)"
   ]
  },
  {
   "cell_type": "markdown",
   "metadata": {},
   "source": [
    "$$Complexity: O(nlog(n))$$ $$Worst case : O(n^2)$$"
   ]
  },
  {
   "cell_type": "code",
   "execution_count": 57,
   "metadata": {},
   "outputs": [
    {
     "name": "stdout",
     "output_type": "stream",
     "text": [
      "[17, 20, 26, 31, 44, 54, 55, 77, 93]\n"
     ]
    }
   ],
   "source": [
    "def quickSort(alist):\n",
    "    quickSortHelper(alist, 0, len(alist) - 1)\n",
    "\n",
    "\n",
    "def quickSortHelper(alist, first, last):\n",
    "    if first < last:\n",
    "\n",
    "        splitpoint = partition(alist, first, last)\n",
    "\n",
    "        quickSortHelper(alist, first, splitpoint - 1)\n",
    "        quickSortHelper(alist, splitpoint + 1, last)\n",
    "\n",
    "\n",
    "def partition(alist, first, last):\n",
    "    pivotvalue = alist[first]\n",
    "\n",
    "    leftmark = first + 1\n",
    "    rightmark = last\n",
    "\n",
    "    done = False\n",
    "    while not done:\n",
    "\n",
    "        while leftmark <= rightmark and alist[leftmark] <= pivotvalue:\n",
    "            leftmark = leftmark + 1\n",
    "\n",
    "        while alist[rightmark] >= pivotvalue and rightmark >= leftmark:\n",
    "            rightmark = rightmark - 1\n",
    "\n",
    "        if rightmark < leftmark:\n",
    "            done = True\n",
    "        else:\n",
    "            temp = alist[leftmark]\n",
    "            alist[leftmark] = alist[rightmark]\n",
    "            alist[rightmark] = temp\n",
    "\n",
    "    temp = alist[first]\n",
    "    alist[first] = alist[rightmark]\n",
    "    alist[rightmark] = temp\n",
    "\n",
    "    return rightmark\n",
    "\n",
    "\n",
    "alist = [54, 26, 93, 17, 77, 31, 44, 55, 20]\n",
    "quickSort(alist)\n",
    "print(alist)"
   ]
  },
  {
   "cell_type": "markdown",
   "metadata": {},
   "source": [
    "### Stack"
   ]
  },
  {
   "cell_type": "code",
   "execution_count": 59,
   "metadata": {},
   "outputs": [],
   "source": [
    "class Stack():\n",
    "    def __init__(self):\n",
    "        self.items = []\n",
    "\n",
    "    def isEmpty(self):\n",
    "        return self.items == []\n",
    "\n",
    "    def push(self, item):\n",
    "        self.items.append(item)\n",
    "\n",
    "    def pop(self):\n",
    "        return self.items.pop()\n",
    "\n",
    "    def peek(self):\n",
    "        return self.items[len(self.items) - 1]\n",
    "\n",
    "    def size(self):\n",
    "        return len(self.items)"
   ]
  },
  {
   "cell_type": "code",
   "execution_count": 60,
   "metadata": {},
   "outputs": [],
   "source": [
    "s = Stack()"
   ]
  },
  {
   "cell_type": "code",
   "execution_count": 61,
   "metadata": {},
   "outputs": [],
   "source": [
    "s.push(1)"
   ]
  },
  {
   "cell_type": "code",
   "execution_count": 63,
   "metadata": {},
   "outputs": [
    {
     "data": {
      "text/plain": [
       "1"
      ]
     },
     "execution_count": 63,
     "metadata": {},
     "output_type": "execute_result"
    }
   ],
   "source": [
    "s.peek()"
   ]
  },
  {
   "cell_type": "code",
   "execution_count": 64,
   "metadata": {},
   "outputs": [
    {
     "data": {
      "text/plain": [
       "1"
      ]
     },
     "execution_count": 64,
     "metadata": {},
     "output_type": "execute_result"
    }
   ],
   "source": [
    "s.pop()"
   ]
  },
  {
   "cell_type": "code",
   "execution_count": 65,
   "metadata": {},
   "outputs": [
    {
     "data": {
      "text/plain": [
       "True"
      ]
     },
     "execution_count": 65,
     "metadata": {},
     "output_type": "execute_result"
    }
   ],
   "source": [
    "s.isEmpty()"
   ]
  },
  {
   "cell_type": "code",
   "execution_count": null,
   "metadata": {},
   "outputs": [],
   "source": []
  }
 ],
 "metadata": {
  "kernelspec": {
   "display_name": "Python 3",
   "language": "python",
   "name": "python3"
  },
  "language_info": {
   "codemirror_mode": {
    "name": "ipython",
    "version": 3
   },
   "file_extension": ".py",
   "mimetype": "text/x-python",
   "name": "python",
   "nbconvert_exporter": "python",
   "pygments_lexer": "ipython3",
   "version": "3.6.5"
  }
 },
 "nbformat": 4,
 "nbformat_minor": 2
}
