{
 "cells": [
  {
   "cell_type": "code",
   "execution_count": 60,
   "metadata": {},
   "outputs": [],
   "source": [
    "import hashlib\n",
    "import base64\n",
    "import json\n",
    "import requests"
   ]
  },
  {
   "cell_type": "code",
   "execution_count": 61,
   "metadata": {},
   "outputs": [],
   "source": [
    "def md5_base64(filepath):\n",
    "    '''\n",
    "    calculate the md5 hash and base 64 encoding of a file\n",
    "    input: filepath for the file\n",
    "    output: md5 hash and base64 encoding\n",
    "    '''\n",
    "    file_md5 = hashlib.md5(open(filepath, 'rb').read()).hexdigest()\n",
    "    file_base64 = base64.b64encode(open(filepath, 'rb').read())\n",
    "    return file_md5, file_base64"
   ]
  },
  {
   "cell_type": "code",
   "execution_count": 62,
   "metadata": {},
   "outputs": [],
   "source": [
    "resume_path = '/Users/Shikhar/data/Shikhar_Gupta_Resume.pdf'\n",
    "\n",
    "cover_letter_path = '/Users/Shikhar/data/Shikhar_Gupta_cover-letter.pdf'\n",
    "\n",
    "code_path = '/Users/Shikhar/data/arterys_applicaton.py'"
   ]
  },
  {
   "cell_type": "code",
   "execution_count": 63,
   "metadata": {},
   "outputs": [],
   "source": [
    "data = {\n",
    "    \"email\":\n",
    "    \"shik1470@gmail.com\",\n",
    "    \"name\":\n",
    "    \"Shikhar Gupta\",\n",
    "    \"position\":\n",
    "    \"Machine Learning Scientist\",\n",
    "    \"notes\":\n",
    "    \"You can find examples of my work in my GitHub repo at https://github.com/shik3519.\",\n",
    "    \"phone\":\n",
    "    \"(415) 684-4261\",\n",
    "    \"documents\": {\n",
    "        \"resume\": {\n",
    "            \"content\": md5_base64(resume_path)[1].decode('utf-8'),\n",
    "            \"md5\": md5_base64(resume_path)[0]\n",
    "        },\n",
    "        \"cover_letter\": {\n",
    "            \"content\": md5_base64(cover_letter_path)[1].decode('utf-8'),\n",
    "            \"md5\": md5_base64(cover_letter_path)[0]\n",
    "        },\n",
    "        \"code\": {\n",
    "            \"content\": md5_base64(code_path)[1].decode('utf-8'),\n",
    "            \"md5\": md5_base64(code_path)[0],\n",
    "            \"filename\": \"arterys_applicaton.py\"\n",
    "        }\n",
    "    },\n",
    "    \"test_or_submit\":\n",
    "    \"submit\"\n",
    "}"
   ]
  },
  {
   "cell_type": "code",
   "execution_count": 64,
   "metadata": {},
   "outputs": [
    {
     "name": "stdout",
     "output_type": "stream",
     "text": [
      "The pastebin URL is:Success! Your application is being processed. Please check your email, shik1470@gmail.com, for a copy or your submission. Thank you, we appreciate your interest in Arterys!\n"
     ]
    }
   ],
   "source": [
    "json_data = json.dumps(data)\n",
    "\n",
    "# defining the api-endpoint\n",
    "API_ENDPOINT = \"https://resumeapi.arterys.com/api/submission/86f247ad-c704-4885-b111-fa644b935733\"\n",
    "\n",
    "headers = {'content-type': 'application/json'}\n",
    "# data to be sent to api\n",
    "\n",
    "# sending post request and saving response as response object\n",
    "r = requests.post(url=API_ENDPOINT, data=json_data, headers=headers)\n",
    "\n",
    "# extracting response text\n",
    "pastebin_url = r.text\n",
    "print(\"The pastebin URL is:%s\" % pastebin_url)"
   ]
  },
  {
   "cell_type": "code",
   "execution_count": null,
   "metadata": {},
   "outputs": [],
   "source": []
  },
  {
   "cell_type": "code",
   "execution_count": null,
   "metadata": {},
   "outputs": [],
   "source": []
  }
 ],
 "metadata": {
  "kernelspec": {
   "display_name": "Python 3",
   "language": "python",
   "name": "python3"
  },
  "language_info": {
   "codemirror_mode": {
    "name": "ipython",
    "version": 3
   },
   "file_extension": ".py",
   "mimetype": "text/x-python",
   "name": "python",
   "nbconvert_exporter": "python",
   "pygments_lexer": "ipython3",
   "version": "3.6.4"
  },
  "toc": {
   "nav_menu": {},
   "number_sections": true,
   "sideBar": true,
   "skip_h1_title": false,
   "toc_cell": false,
   "toc_position": {},
   "toc_section_display": "block",
   "toc_window_display": false
  }
 },
 "nbformat": 4,
 "nbformat_minor": 2
}
