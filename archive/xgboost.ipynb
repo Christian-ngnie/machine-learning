{
 "cells": [
  {
   "cell_type": "markdown",
   "metadata": {
    "deletable": false,
    "editable": false,
    "nbgrader": {
     "checksum": "48de53d81aa50d97046cca0ddb2f2d2d",
     "grade": false,
     "grade_id": "cell-cfc24d80c2cf2c24",
     "locked": true,
     "schema_version": 1,
     "solution": false
    }
   },
   "source": [
    "# Adaboost\n",
    "For this exercise you will implement AdaBoost from scratch and applied it to a spam dataset. You will be classifying data into spam and not spam. You can call DecisionTreeClassifier from sklearn to learn your base classifiers.\n",
    "\n",
    "Here is how you train a decision tree classifier with weights.\n",
    "\n",
    "`\n",
    "h = DecisionTreeClassifier(max_depth=1, random_state=0)\n",
    "h.fit(X, Y, sample_weight=w)\n",
    "`"
   ]
  },
  {
   "cell_type": "markdown",
   "metadata": {},
   "source": [
    "## 2.1 Implement adaboost"
   ]
  },
  {
   "cell_type": "code",
   "execution_count": 128,
   "metadata": {},
   "outputs": [],
   "source": [
    "%matplotlib inline"
   ]
  },
  {
   "cell_type": "code",
   "execution_count": 1,
   "metadata": {
    "deletable": false,
    "editable": false,
    "nbgrader": {
     "checksum": "721eeb40a1514114e45b42ea010de91b",
     "grade": false,
     "grade_id": "cell-3478d607a536190b",
     "locked": true,
     "schema_version": 1,
     "solution": false
    }
   },
   "outputs": [],
   "source": [
    "import numpy as np\n",
    "from sklearn.tree import DecisionTreeClassifier"
   ]
  },
  {
   "cell_type": "code",
   "execution_count": 2,
   "metadata": {
    "deletable": false,
    "editable": false,
    "nbgrader": {
     "checksum": "1410ebe73ffc63306e4c15b6698a7188",
     "grade": false,
     "grade_id": "cell-c56cb727222d9503",
     "locked": true,
     "schema_version": 1,
     "solution": false
    }
   },
   "outputs": [],
   "source": [
    "# accuracy computation\n",
    "def accuracy(y, pred):\n",
    "    return np.sum(y == pred) / float(len(y)) "
   ]
  },
  {
   "cell_type": "code",
   "execution_count": 62,
   "metadata": {
    "deletable": false,
    "nbgrader": {
     "checksum": "d133f796b3b7db028e1c1ed875771c65",
     "grade": false,
     "grade_id": "cell-1eaf818528c8d676",
     "locked": false,
     "schema_version": 1,
     "solution": true
    }
   },
   "outputs": [],
   "source": [
    "def parse_spambase_data(filename):\n",
    "    \"\"\" Given a filename return X and Y numpy arrays\n",
    "\n",
    "    X is of size number of rows x num_features\n",
    "    Y is an array of size the number of rows\n",
    "    Y is the last element of each row. (Convert 0 to -1)\n",
    "    \"\"\"\n",
    "    # YOUR CODE HERE\n",
    "    f = open(filename,'r')\n",
    "    data = []\n",
    "    for line in f.readlines():\n",
    "        data.append(line.split(','))\n",
    "    X = np.array(data)[:,:-1].astype(np.float16)\n",
    "    Y = np.array(data)[:,-1]\n",
    "    Y = np.array([int(i.replace('\\n','')) for i in Y])\n",
    "    Y[Y==0] = -1\n",
    "#     raise NotImplementedError()\n",
    "    return X, Y"
   ]
  },
  {
   "cell_type": "code",
   "execution_count": 63,
   "metadata": {
    "deletable": false,
    "editable": false,
    "nbgrader": {
     "checksum": "871278b33c2d3da9fb8d7cbf4f4dd23d",
     "grade": true,
     "grade_id": "cell-73926460e1f70f54",
     "locked": true,
     "points": 1,
     "schema_version": 1,
     "solution": false
    }
   },
   "outputs": [],
   "source": [
    "y_test = np.array([1., -1., 1., 1., -1., -1., 1., 1., 1., -1.])\n",
    "X, Y = parse_spambase_data(\"tiny.spam.train\")\n",
    "for i in range(len(y_test)): assert(y_test[i] == Y[i])\n",
    "n, m = X.shape\n",
    "assert(n == 10)\n",
    "assert(m == 57)"
   ]
  },
  {
   "cell_type": "code",
   "execution_count": 64,
   "metadata": {
    "deletable": false,
    "nbgrader": {
     "checksum": "3a188c77e59b3b431b59f03ddf7bbe7d",
     "grade": false,
     "grade_id": "cell-befcece7be9c6839",
     "locked": false,
     "schema_version": 1,
     "solution": true
    }
   },
   "outputs": [],
   "source": [
    "def adaboost(X, y, num_iter):\n",
    "    \"\"\"Given an numpy matrix X, a array y and num_iter return trees and weights \n",
    "   \n",
    "    Input: X, y, num_iter\n",
    "    Outputs: array of trees from DecisionTreeClassifier\n",
    "             trees_weights array of floats\n",
    "    Assumes y is {-1, 1}\n",
    "    \"\"\"\n",
    "    trees = []\n",
    "    trees_weights = [] \n",
    "    N, _ = X.shape\n",
    "    d = np.ones(N) / N\n",
    "\n",
    "    # YOUR CODE HERE\n",
    "    for i in range(num_iter):\n",
    "        h = DecisionTreeClassifier(max_depth=1, random_state=0)\n",
    "        h.fit(X,y,sample_weight=d)\n",
    "        trees.append(h)\n",
    "        pred = h.predict(X)\n",
    "        err = np.sum((y!=pred)*d)/np.sum(d)\n",
    "        if err == 0:\n",
    "            err+=.000001\n",
    "        trees_weights.append(np.log((1-err)/err))\n",
    "        d[y!=pred] = d[y!=pred]*((1-err)/err)\n",
    "#     raise NotImplementedError()\n",
    "    return trees, trees_weights"
   ]
  },
  {
   "cell_type": "code",
   "execution_count": 65,
   "metadata": {
    "deletable": false,
    "editable": false,
    "nbgrader": {
     "checksum": "a6923d427eebd8af4c7ffa45586034e0",
     "grade": true,
     "grade_id": "cell-4dc8edbf0e11fab8",
     "locked": true,
     "points": 1,
     "schema_version": 1,
     "solution": false
    }
   },
   "outputs": [],
   "source": [
    "X, Y = parse_spambase_data(\"tiny.spam.train\")\n",
    "trees, weights = adaboost(X, Y, 2)\n",
    "assert(len(trees) == 2)\n",
    "assert(len(weights) == 2)\n",
    "assert(isinstance(trees[0], DecisionTreeClassifier))"
   ]
  },
  {
   "cell_type": "code",
   "execution_count": 66,
   "metadata": {
    "deletable": false,
    "editable": false,
    "nbgrader": {
     "checksum": "6ce0015d15c0c0df6be9c78e73bb0929",
     "grade": true,
     "grade_id": "cell-8702186fedbd58e1",
     "locked": true,
     "points": 2,
     "schema_version": 1,
     "solution": false
    }
   },
   "outputs": [],
   "source": [
    "x = np.array([[0, -1], [1, 0], [-1, 0]])\n",
    "y = np.array([-1, 1, 1])\n",
    "trees, weights = adaboost(x, y, 1)\n",
    "h = trees[0]\n",
    "pred = h.predict(x)\n",
    "for i in range(len(y)): assert(pred[i] == y[i])"
   ]
  },
  {
   "cell_type": "code",
   "execution_count": 67,
   "metadata": {
    "deletable": false,
    "nbgrader": {
     "checksum": "57a2d749acc1d974f996162a4fb190fc",
     "grade": false,
     "grade_id": "cell-50ad4a5c81e7c016",
     "locked": false,
     "schema_version": 1,
     "solution": true
    }
   },
   "outputs": [],
   "source": [
    "def adaboost_predict(X, trees, trees_weights):\n",
    "    \"\"\"Given X, trees and weights predict Y\n",
    "    \"\"\"\n",
    "    # X input, y output\n",
    "    N, _ =  X.shape\n",
    "    y = np.zeros(N)\n",
    "    # YOUR CODE HERE\n",
    "    for i,t in enumerate(trees):\n",
    "         y = y + t.predict(X)*trees_weights[i]\n",
    "    y = np.sign(y)\n",
    "#     raise NotImplementedError()\n",
    "    return y"
   ]
  },
  {
   "cell_type": "code",
   "execution_count": 68,
   "metadata": {
    "deletable": false,
    "editable": false,
    "nbgrader": {
     "checksum": "4f29500cb929b49fd0e3d7d7c2b528be",
     "grade": true,
     "grade_id": "cell-7f28f00061f7b5a5",
     "locked": true,
     "points": 3,
     "schema_version": 1,
     "solution": false
    }
   },
   "outputs": [],
   "source": [
    "x = np.array([[0, -1], [1, 0], [-1, 0]])\n",
    "y = np.array([-1, 1, 1])\n",
    "trees, weights = adaboost(x, y, 1)\n",
    "pred = adaboost_predict(x, trees, weights)\n",
    "for i in range(len(y)):\n",
    "    assert(pred[i] == y[i])"
   ]
  },
  {
   "cell_type": "code",
   "execution_count": 69,
   "metadata": {
    "deletable": false,
    "editable": false,
    "nbgrader": {
     "checksum": "6f5022208d3fd8fb43a8847635cdb82f",
     "grade": true,
     "grade_id": "cell-89126a5a7f8f0e1b",
     "locked": true,
     "points": 3,
     "schema_version": 1,
     "solution": false
    }
   },
   "outputs": [
    {
     "name": "stdout",
     "output_type": "stream",
     "text": [
      "Train Accuracy 0.9111\n",
      "Test Accuracy 0.9190\n"
     ]
    }
   ],
   "source": [
    "X, Y = parse_spambase_data(\"spambase.train\")\n",
    "X_test, Y_test = parse_spambase_data(\"spambase.test\")\n",
    "trees, trees_weights = adaboost(X, Y, 10)\n",
    "Yhat = adaboost_predict(X, trees, trees_weights)\n",
    "Yhat_test = adaboost_predict(X_test, trees, trees_weights)\n",
    "    \n",
    "acc_test = accuracy(Y_test, Yhat_test)\n",
    "acc_train = accuracy(Y, Yhat)\n",
    "print(\"Train Accuracy %.4f\" % acc_train)\n",
    "print(\"Test Accuracy %.4f\" % acc_test)\n",
    "assert(np.around(acc_train, decimals=4)==0.9111)\n",
    "assert(np.around(acc_test, decimals=4)==0.9190)"
   ]
  },
  {
   "cell_type": "markdown",
   "metadata": {},
   "source": [
    "## 2.2 Tuning for numTrees"
   ]
  },
  {
   "cell_type": "code",
   "execution_count": 70,
   "metadata": {},
   "outputs": [],
   "source": [
    "num_trees = [100,200,300,400,500,600,700,800,900,1000,1200,1400,1600,1800,2000]"
   ]
  },
  {
   "cell_type": "code",
   "execution_count": 71,
   "metadata": {},
   "outputs": [],
   "source": [
    "err_train = []\n",
    "err_test = []\n",
    "for n in num_trees:\n",
    "    trees, trees_weights = adaboost(X, Y, n)\n",
    "    Yhat = adaboost_predict(X, trees, trees_weights)\n",
    "    Yhat_test = adaboost_predict(X_test, trees, trees_weights)\n",
    "\n",
    "    err_test.append(1-accuracy(Y_test, Yhat_test))\n",
    "    err_train.append(1-accuracy(Y, Yhat))    "
   ]
  },
  {
   "cell_type": "code",
   "execution_count": 72,
   "metadata": {},
   "outputs": [
    {
     "data": {
      "image/png": "[encoded data removed]",
      "text/plain": [
       "<matplotlib.figure.Figure at 0x1106b8f28>"
      ]
     },
     "metadata": {},
     "output_type": "display_data"
    }
   ],
   "source": [
    "import matplotlib.pyplot as plt\n",
    "plt.plot(num_trees,err_train)\n",
    "plt.plot(num_trees,err_test)\n",
    "plt.legend(['error-train', 'error-test'], loc='upper left')\n",
    "plt.show()"
   ]
  },
  {
   "cell_type": "markdown",
   "metadata": {},
   "source": [
    "**We can see that validation (test) error is minimum for 1600 trees and after that the error starts to go up. From this experiment we can conclude that the best value of number of trees will be 1600.**"
   ]
  },
  {
   "cell_type": "code",
   "execution_count": 14,
   "metadata": {},
   "outputs": [
    {
     "name": "stdout",
     "output_type": "stream",
     "text": [
      "Train accuracy for the best value of num_trees:95.77777777777777\n",
      "Test accuracy for the best value of num_trees:95.6\n"
     ]
    }
   ],
   "source": [
    "print(f'Train accuracy for the best value of num_trees:{100*(1-err_train[12])}')\n",
    "print(f'Test accuracy for the best value of num_trees:{100*(1-err_test[12])}')"
   ]
  },
  {
   "cell_type": "markdown",
   "metadata": {},
   "source": [
    "## 2.3 XGBoost"
   ]
  },
  {
   "cell_type": "code",
   "execution_count": 190,
   "metadata": {},
   "outputs": [],
   "source": [
    "import xgboost as xgb\n",
    "import pandas as pd\n",
    "import numpy as np"
   ]
  },
  {
   "cell_type": "markdown",
   "metadata": {},
   "source": [
    "Data needs to be stored in `DMatrix` object which is designed to handle sparse datasets."
   ]
  },
  {
   "cell_type": "code",
   "execution_count": 218,
   "metadata": {},
   "outputs": [],
   "source": [
    "X, Y = parse_spambase_data(\"spambase.train\")\n",
    "X_test, Y_test = parse_spambase_data(\"spambase.test\")"
   ]
  },
  {
   "cell_type": "code",
   "execution_count": 219,
   "metadata": {},
   "outputs": [],
   "source": [
    "Y[Y==-1] = 0\n",
    "Y_test[Y_test==-1] = 0"
   ]
  },
  {
   "cell_type": "code",
   "execution_count": 220,
   "metadata": {},
   "outputs": [],
   "source": [
    "dtrain = xgb.DMatrix(X,Y)\n",
    "dtest = xgb.DMatrix(X_test,Y_test)"
   ]
  },
  {
   "cell_type": "code",
   "execution_count": 221,
   "metadata": {},
   "outputs": [
    {
     "name": "stdout",
     "output_type": "stream",
     "text": [
      "Train dataset contains 3600 rows and 57 columns\n",
      "Test dataset contains 1000 rows and 57 columns\n"
     ]
    }
   ],
   "source": [
    "print(\"Train dataset contains {0} rows and {1} columns\".format(dtrain.num_row(), dtrain.num_col()))\n",
    "print(\"Test dataset contains {0} rows and {1} columns\".format(dtest.num_row(), dtest.num_col()))"
   ]
  },
  {
   "cell_type": "code",
   "execution_count": 222,
   "metadata": {},
   "outputs": [
    {
     "name": "stdout",
     "output_type": "stream",
     "text": [
      "Train possible labels: \n",
      "[ 0.  1.]\n",
      "\n",
      "Test possible labels: \n",
      "[ 0.  1.]\n"
     ]
    }
   ],
   "source": [
    "print(\"Train possible labels: \")\n",
    "print(np.unique(dtrain.get_label()))\n",
    "\n",
    "print(\"\\nTest possible labels: \")\n",
    "print(np.unique(dtest.get_label()))"
   ]
  },
  {
   "cell_type": "markdown",
   "metadata": {},
   "source": [
    "### Specify training parameters<a name='params' />\n",
    "Let's make the following assuptions and adjust algorithm parameters to it:\n",
    "- we are dealing with binary classification problem (`'objective':'binary:logistic'`),\n",
    "- we want shallow single trees with no more than 2 levels (`'max_depth':2`),\n",
    "- we don't any oupout (`'silent':1`),\n",
    "- we want algorithm to learn fast and aggressively (`'eta':1`),\n",
    "- we want to iterate only 5 rounds"
   ]
  },
  {
   "cell_type": "code",
   "execution_count": 223,
   "metadata": {},
   "outputs": [],
   "source": [
    "params = {\n",
    "    'objective':'binary:logistic',\n",
    "    'max_depth':3,\n",
    "    'silent':1,\n",
    "    'eta':1\n",
    "}\n",
    "num_rounds = 1000"
   ]
  },
  {
   "cell_type": "markdown",
   "metadata": {},
   "source": [
    "### Training using Learning API"
   ]
  },
  {
   "cell_type": "markdown",
   "metadata": {},
   "source": [
    "We can also observe performance on test dataset using `watchlist`"
   ]
  },
  {
   "cell_type": "code",
   "execution_count": 226,
   "metadata": {},
   "outputs": [],
   "source": [
    "watchlist  = [(dtest,'test'), (dtrain,'train')] # native interface only\n",
    "bst = xgb.train(params, dtrain, num_rounds, evals=watchlist,early_stopping_rounds=10,verbose_eval=False)"
   ]
  },
  {
   "cell_type": "code",
   "execution_count": 230,
   "metadata": {},
   "outputs": [
    {
     "data": {
      "text/plain": [
       "83"
      ]
     },
     "execution_count": 230,
     "metadata": {},
     "output_type": "execute_result"
    }
   ],
   "source": [
    "bst.best_iteration"
   ]
  },
  {
   "cell_type": "code",
   "execution_count": 233,
   "metadata": {},
   "outputs": [],
   "source": [
    "watchlist  = [(dtest,'test'), (dtrain,'train')] # native interface only\n",
    "bst = xgb.train(params, dtrain, num_boost_round=83, evals=watchlist,verbose_eval=False)"
   ]
  },
  {
   "cell_type": "code",
   "execution_count": 235,
   "metadata": {},
   "outputs": [],
   "source": [
    "# #print dettails for each treee\n",
    "# bst.dump_model(fout='featmap.txt',with_stats=True)\n",
    "# trees_dump = bst.get_dump(fmap='featmap.txt', with_stats=True)\n",
    "# for tree in trees_dump:\n",
    "#     print(tree)"
   ]
  },
  {
   "cell_type": "markdown",
   "metadata": {},
   "source": [
    "### Predictions"
   ]
  },
  {
   "cell_type": "code",
   "execution_count": 237,
   "metadata": {},
   "outputs": [
    {
     "data": {
      "text/plain": [
       "(1000,)"
      ]
     },
     "execution_count": 237,
     "metadata": {},
     "output_type": "execute_result"
    }
   ],
   "source": [
    "preds_prob = bst.predict(dtest)\n",
    "preds_prob.shape"
   ]
  },
  {
   "cell_type": "code",
   "execution_count": 238,
   "metadata": {},
   "outputs": [
    {
     "name": "stdout",
     "output_type": "stream",
     "text": [
      "Predicted correctly: 964/1000\n",
      "Error: 0.0360\n"
     ]
    }
   ],
   "source": [
    "labels = dtest.get_label()\n",
    "preds = preds_prob > 0.5 # threshold\n",
    "correct = 0\n",
    "\n",
    "for i in range(len(preds)):\n",
    "    if (labels[i] == preds[i]):\n",
    "        correct += 1\n",
    "\n",
    "print('Predicted correctly: {0}/{1}'.format(correct, len(preds)))\n",
    "print('Error: {0:.4f}'.format(1-correct/len(preds)))"
   ]
  },
  {
   "cell_type": "markdown",
   "metadata": {},
   "source": [
    "### feature importance"
   ]
  },
  {
   "cell_type": "code",
   "execution_count": 239,
   "metadata": {},
   "outputs": [
    {
     "data": {
      "text/plain": [
       "<matplotlib.axes._subplots.AxesSubplot at 0x1120e0c88>"
      ]
     },
     "execution_count": 239,
     "metadata": {},
     "output_type": "execute_result"
    },
    {
     "data": {
      "image/png": "[encoded data removed]",
      "text/plain": [
       "<matplotlib.figure.Figure at 0x112532f60>"
      ]
     },
     "metadata": {},
     "output_type": "display_data"
    }
   ],
   "source": [
    "xgb.plot_importance(bst, importance_type='gain', xlabel='Gain',max_num_features=20,show_values=False) #based on gain"
   ]
  },
  {
   "cell_type": "code",
   "execution_count": 240,
   "metadata": {},
   "outputs": [
    {
     "data": {
      "text/plain": [
       "<matplotlib.axes._subplots.AxesSubplot at 0x111e7be48>"
      ]
     },
     "execution_count": 240,
     "metadata": {},
     "output_type": "execute_result"
    },
    {
     "data": {
      "image/png": "[encoded data removed]",
      "text/plain": [
       "<matplotlib.figure.Figure at 0x110e5f630>"
      ]
     },
     "metadata": {},
     "output_type": "display_data"
    }
   ],
   "source": [
    "xgb.plot_importance(bst,max_num_features=20,height=.5) #based on F-score"
   ]
  },
  {
   "cell_type": "markdown",
   "metadata": {},
   "source": [
    "### Training using Scikit API"
   ]
  },
  {
   "cell_type": "code",
   "execution_count": 241,
   "metadata": {},
   "outputs": [
    {
     "name": "stdout",
     "output_type": "stream",
     "text": [
      "Train dataset contains 3600 rows and 57 columns\n",
      "Test dataset contains 1000 rows and 57 columns\n"
     ]
    }
   ],
   "source": [
    "print(\"Train dataset contains {0} rows and {1} columns\".format(X.shape[0], X.shape[1]))\n",
    "print(\"Test dataset contains {0} rows and {1} columns\".format(X_test.shape[0], X_test.shape[1]))"
   ]
  },
  {
   "cell_type": "code",
   "execution_count": 242,
   "metadata": {},
   "outputs": [
    {
     "name": "stdout",
     "output_type": "stream",
     "text": [
      "Train possible labels: \n",
      "[0 1]\n",
      "\n",
      "Test possible labels: \n",
      "[0 1]\n"
     ]
    }
   ],
   "source": [
    "print(\"Train possible labels: \")\n",
    "print(np.unique(Y))\n",
    "\n",
    "print(\"\\nTest possible labels: \")\n",
    "print(np.unique(Y_test))"
   ]
  },
  {
   "cell_type": "code",
   "execution_count": 244,
   "metadata": {},
   "outputs": [],
   "source": [
    "params = {\n",
    "    'objective':'binary:logistic',\n",
    "    'max_depth':3,\n",
    "    'silent':1,\n",
    "    'eta':1,\n",
    "    'num_rounds':83\n",
    "}"
   ]
  },
  {
   "cell_type": "code",
   "execution_count": 245,
   "metadata": {},
   "outputs": [],
   "source": [
    "bst = xgb.XGBClassifier(**params).fit(X, Y)"
   ]
  },
  {
   "cell_type": "code",
   "execution_count": 246,
   "metadata": {},
   "outputs": [
    {
     "data": {
      "text/plain": [
       "array([0, 1, 0, 0, 1])"
      ]
     },
     "execution_count": 246,
     "metadata": {},
     "output_type": "execute_result"
    }
   ],
   "source": [
    "preds = bst.predict(X_test)\n",
    "preds[:5]"
   ]
  },
  {
   "cell_type": "code",
   "execution_count": 247,
   "metadata": {},
   "outputs": [
    {
     "name": "stdout",
     "output_type": "stream",
     "text": [
      "Predicted correctly: 955/1000\n",
      "Error: 0.0450\n"
     ]
    }
   ],
   "source": [
    "from sklearn.metrics import accuracy_score\n",
    "correct = 0\n",
    "\n",
    "for i in range(len(preds)):\n",
    "    if (Y_test[i] == preds[i]):\n",
    "        correct += 1\n",
    "        \n",
    "acc = accuracy_score(Y_test, preds)\n",
    "\n",
    "print('Predicted correctly: {0}/{1}'.format(correct, len(preds)))\n",
    "print('Error: {0:.4f}'.format(1-acc))"
   ]
  },
  {
   "cell_type": "markdown",
   "metadata": {},
   "source": [
    "### Tuning number of trees"
   ]
  },
  {
   "cell_type": "code",
   "execution_count": 248,
   "metadata": {},
   "outputs": [],
   "source": [
    "\n",
    "import matplotlib.pyplot as plt\n",
    "from sklearn.learning_curve import validation_curve\n",
    "from sklearn.model_selection import StratifiedKFold\n",
    "from xgboost.sklearn import XGBClassifier\n",
    "from scipy.sparse import vstack\n",
    "\n",
    "seed = 123\n",
    "np.random.seed(seed)"
   ]
  },
  {
   "cell_type": "code",
   "execution_count": 253,
   "metadata": {},
   "outputs": [],
   "source": [
    "default_params = {\n",
    "    'objective': 'binary:logistic',\n",
    "    'max_depth': 3,\n",
    "    'learning_rate': 0.3,\n",
    "    'silent': 1.0\n",
    "}\n",
    "\n",
    "n_estimators_range = np.linspace(1, 300, 10).astype('int')\n",
    "\n",
    "train_scores, test_scores = validation_curve(\n",
    "    xgb.XGBClassifier(**default_params),\n",
    "    X, Y,\n",
    "    param_name = 'n_estimators',\n",
    "    param_range = n_estimators_range,\n",
    "    cv=3,\n",
    "    scoring='accuracy'\n",
    ")"
   ]
  },
  {
   "cell_type": "code",
   "execution_count": 254,
   "metadata": {},
   "outputs": [
    {
     "data": {
      "image/png": "[encoded data removed]",
      "text/plain": [
       "<matplotlib.figure.Figure at 0x111868198>"
      ]
     },
     "metadata": {},
     "output_type": "display_data"
    },
    {
     "name": "stdout",
     "output_type": "stream",
     "text": [
      "Best cross-validation result (0.95) obtained for 100 trees\n"
     ]
    }
   ],
   "source": [
    "train_scores_mean = np.mean(train_scores, axis=1)\n",
    "train_scores_std = np.std(train_scores, axis=1)\n",
    "test_scores_mean = np.mean(test_scores, axis=1)\n",
    "test_scores_std = np.std(test_scores, axis=1)\n",
    "\n",
    "fig = plt.figure(figsize=(10, 6), dpi=100)\n",
    "\n",
    "plt.title(\"Validation Curve with XGBoost (eta = 0.3)\")\n",
    "plt.xlabel(\"number of trees\")\n",
    "plt.ylabel(\"Accuracy\")\n",
    "plt.ylim(0.7, 1.1)\n",
    "\n",
    "plt.plot(n_estimators_range,\n",
    "             train_scores_mean,\n",
    "             label=\"Training score\",\n",
    "             color=\"r\")\n",
    "\n",
    "plt.plot(n_estimators_range,\n",
    "             test_scores_mean, \n",
    "             label=\"Cross-validation score\",\n",
    "             color=\"g\")\n",
    "\n",
    "plt.fill_between(n_estimators_range, \n",
    "                 train_scores_mean - train_scores_std,\n",
    "                 train_scores_mean + train_scores_std, \n",
    "                 alpha=0.2, color=\"r\")\n",
    "\n",
    "plt.fill_between(n_estimators_range,\n",
    "                 test_scores_mean - test_scores_std,\n",
    "                 test_scores_mean + test_scores_std,\n",
    "                 alpha=0.2, color=\"g\")\n",
    "\n",
    "plt.axhline(y=1, color='k', ls='dashed')\n",
    "\n",
    "plt.legend(loc=\"best\")\n",
    "plt.show()\n",
    "\n",
    "i = np.argmax(test_scores_mean)\n",
    "print(\"Best cross-validation result ({0:.2f}) obtained for {1} trees\".format(test_scores_mean[i], n_estimators_range[i]))"
   ]
  },
  {
   "cell_type": "markdown",
   "metadata": {},
   "source": [
    "Looking at the plot we can draw the following conclusions:\n",
    "\n",
    "- training score keeps growing while adding new trees, but from a certain point CV score is fixed\n",
    "- from about 100 trees, the variance is getting higher and while the CV score bias is holding steady (there is no point for adding extra trees / complexity)\n",
    "- we can see that the model is quite stable keeping variance fixed when increasing it's complexity\n",
    "\n",
    "We can assume that the trade-off for our model will be met at `n_estimators = 100`."
   ]
  },
  {
   "cell_type": "markdown",
   "metadata": {},
   "source": [
    "### What we can do?<a name='deal' />\n",
    "\n",
    "#### Dealing with high variance\n",
    "If model is too complex try:\n",
    "- using less features (ie. feature selection),\n",
    "- using more training samples (ie. artificially generated),\n",
    "- increasing regularization (add penalties for extra complexity)\n",
    "\n",
    "In XGBoost you can try to:\n",
    "- reduce depth of each tree (`max_depth`),\n",
    "- increase `min_child_weight` parameter,\n",
    "- increase `gamma` parameter,\n",
    "- add more randomness using `subsample`, `colsample_bytree` parameters,\n",
    "- increase `lambda` and `alpha` regularization parameters\n",
    "\n",
    "#### Dealing with high bias\n",
    "If model is too simple:\n",
    "- add more features (ie. better feature engineering),\n",
    "- more sophisticated model\n",
    "- decrease regularization\n",
    "\n",
    "In XGBoost you can do it by:\n",
    "- increase depth of each tree (`max_depth`),\n",
    "- decrease `min_child_weight` parameter,\n",
    "- decrease `gamma` parameter,\n",
    "- decrease `lambda` and `alpha` regularization parameters\n",
    "\n",
    "Let's try to tweak a parameters a little bit. We are going to add some randomness - each tree we will use 70% randomly chosen samples and 60% randomly chosen features. This should help to reduce a variance."
   ]
  },
  {
   "cell_type": "markdown",
   "metadata": {},
   "source": [
    "### Hyperparameter tuning"
   ]
  },
  {
   "cell_type": "code",
   "execution_count": 255,
   "metadata": {},
   "outputs": [],
   "source": [
    "from sklearn.model_selection import GridSearchCV, RandomizedSearchCV\n",
    "from scipy.stats import randint, uniform"
   ]
  },
  {
   "cell_type": "code",
   "execution_count": 256,
   "metadata": {},
   "outputs": [],
   "source": [
    "params_fixed = {\n",
    "    'objective': 'binary:logistic',\n",
    "    'silent': 1,\n",
    "    'n_estimators':100\n",
    "}"
   ]
  },
  {
   "cell_type": "code",
   "execution_count": 257,
   "metadata": {},
   "outputs": [],
   "source": [
    "params_dist_grid = {\n",
    "    'max_depth': [1, 2, 3, 4],\n",
    "    'gamma': [0, 0.5, 1],\n",
    "    'learning_rate': uniform(), # gaussian distribution\n",
    "    'subsample': uniform(), # gaussian distribution\n",
    "    'colsample_bytree': uniform() # gaussian distribution\n",
    "}"
   ]
  },
  {
   "cell_type": "code",
   "execution_count": 258,
   "metadata": {},
   "outputs": [],
   "source": [
    "rs_grid = RandomizedSearchCV(\n",
    "    estimator=xgb.XGBClassifier(**params_fixed, seed=100),\n",
    "    param_distributions=params_dist_grid,\n",
    "    n_iter=50,\n",
    "    cv=3,\n",
    "    scoring='accuracy',\n",
    "    random_state=100\n",
    ")"
   ]
  },
  {
   "cell_type": "code",
   "execution_count": 259,
   "metadata": {},
   "outputs": [
    {
     "data": {
      "text/plain": [
       "RandomizedSearchCV(cv=3, error_score='raise',\n",
       "          estimator=XGBClassifier(base_score=0.5, booster='gbtree', colsample_bylevel=1,\n",
       "       colsample_bytree=1, gamma=0, learning_rate=0.1, max_delta_step=0,\n",
       "       max_depth=3, min_child_weight=1, missing=None, n_estimators=100,\n",
       "       n_jobs=1, nthread=None, objective='binary:logistic', random_state=0,\n",
       "       reg_alpha=0, reg_lambda=1, scale_pos_weight=1, seed=100, silent=1,\n",
       "       subsample=1),\n",
       "          fit_params={}, iid=True, n_iter=50, n_jobs=1,\n",
       "          param_distributions={'max_depth': [1, 2, 3, 4], 'gamma': [0, 0.5, 1], 'learning_rate': <scipy.stats._distn_infrastructure.rv_frozen object at 0x1125980f0>, 'subsample': <scipy.stats._distn_infrastructure.rv_frozen object at 0x1125983c8>, 'colsample_bytree': <scipy.stats._distn_infrastructure.rv_frozen object at 0x111875978>},\n",
       "          pre_dispatch='2*n_jobs', random_state=100, refit=True,\n",
       "          return_train_score=True, scoring='accuracy', verbose=0)"
      ]
     },
     "execution_count": 259,
     "metadata": {},
     "output_type": "execute_result"
    }
   ],
   "source": [
    "rs_grid.fit(X, Y)"
   ]
  },
  {
   "cell_type": "code",
   "execution_count": 260,
   "metadata": {},
   "outputs": [
    {
     "data": {
      "text/plain": [
       "XGBClassifier(base_score=0.5, booster='gbtree', colsample_bylevel=1,\n",
       "       colsample_bytree=0.73299501983799231, gamma=0,\n",
       "       learning_rate=0.25155065329556847, max_delta_step=0, max_depth=2,\n",
       "       min_child_weight=1, missing=None, n_estimators=100, n_jobs=1,\n",
       "       nthread=None, objective='binary:logistic', random_state=0,\n",
       "       reg_alpha=0, reg_lambda=1, scale_pos_weight=1, seed=100, silent=1,\n",
       "       subsample=0.40588132236756125)"
      ]
     },
     "execution_count": 260,
     "metadata": {},
     "output_type": "execute_result"
    }
   ],
   "source": [
    "rs_grid.best_estimator_"
   ]
  },
  {
   "cell_type": "code",
   "execution_count": 261,
   "metadata": {},
   "outputs": [
    {
     "data": {
      "text/plain": [
       "{'colsample_bytree': 0.73299501983799231,\n",
       " 'gamma': 0,\n",
       " 'learning_rate': 0.25155065329556847,\n",
       " 'max_depth': 2,\n",
       " 'subsample': 0.40588132236756125}"
      ]
     },
     "execution_count": 261,
     "metadata": {},
     "output_type": "execute_result"
    }
   ],
   "source": [
    "rs_grid.best_params_"
   ]
  },
  {
   "cell_type": "code",
   "execution_count": 262,
   "metadata": {},
   "outputs": [
    {
     "data": {
      "text/plain": [
       "0.94694444444444448"
      ]
     },
     "execution_count": 262,
     "metadata": {},
     "output_type": "execute_result"
    }
   ],
   "source": [
    "rs_grid.best_score_"
   ]
  },
  {
   "cell_type": "markdown",
   "metadata": {},
   "source": [
    "### Using the parameters from grid search"
   ]
  },
  {
   "cell_type": "code",
   "execution_count": 263,
   "metadata": {},
   "outputs": [],
   "source": [
    "params = {\n",
    "    'objective':'binary:logistic',\n",
    "    'silent':1,\n",
    "    'n_estimators': 100,\n",
    "'colsample_bytree': 0.73299501983799231,\n",
    " 'gamma': 0,\n",
    " 'learning_rate': 0.25155065329556847,\n",
    " 'max_depth': 2,\n",
    " 'subsample': 0.40588132236756125}"
   ]
  },
  {
   "cell_type": "code",
   "execution_count": 264,
   "metadata": {},
   "outputs": [],
   "source": [
    "bst = xgb.XGBClassifier(**params).fit(X, Y)"
   ]
  },
  {
   "cell_type": "code",
   "execution_count": 265,
   "metadata": {},
   "outputs": [
    {
     "data": {
      "text/plain": [
       "array([0, 1, 0, 0, 1])"
      ]
     },
     "execution_count": 265,
     "metadata": {},
     "output_type": "execute_result"
    }
   ],
   "source": [
    "preds = bst.predict(X_test)\n",
    "preds[:5]"
   ]
  },
  {
   "cell_type": "code",
   "execution_count": 266,
   "metadata": {},
   "outputs": [
    {
     "name": "stdout",
     "output_type": "stream",
     "text": [
      "Predicted correctly: 956/1000\n",
      "Error: 0.0440\n"
     ]
    }
   ],
   "source": [
    "from sklearn.metrics import accuracy_score\n",
    "correct = 0\n",
    "\n",
    "for i in range(len(preds)):\n",
    "    if (Y_test[i] == preds[i]):\n",
    "        correct += 1\n",
    "        \n",
    "acc = accuracy_score(Y_test, preds)\n",
    "\n",
    "print('Predicted correctly: {0}/{1}'.format(correct, len(preds)))\n",
    "print('Error: {0:.4f}'.format(1-acc))"
   ]
  },
  {
   "cell_type": "markdown",
   "metadata": {},
   "source": [
    "**So we're getting a better result using learning API and early stopping rounds**"
   ]
  },
  {
   "cell_type": "markdown",
   "metadata": {},
   "source": [
    "### Final model"
   ]
  },
  {
   "cell_type": "code",
   "execution_count": 312,
   "metadata": {},
   "outputs": [],
   "source": [
    "params = {\n",
    "    'objective':'binary:logistic',\n",
    "    'max_depth':3,\n",
    "    'silent':1,\n",
    "    'eta':1\n",
    "}"
   ]
  },
  {
   "cell_type": "code",
   "execution_count": 313,
   "metadata": {},
   "outputs": [],
   "source": [
    "bst = xgb.train(params, dtrain, num_boost_round=83,verbose_eval=False)"
   ]
  },
  {
   "cell_type": "markdown",
   "metadata": {},
   "source": [
    "### Predictions"
   ]
  },
  {
   "cell_type": "code",
   "execution_count": 314,
   "metadata": {},
   "outputs": [
    {
     "data": {
      "text/plain": [
       "(1000,)"
      ]
     },
     "execution_count": 314,
     "metadata": {},
     "output_type": "execute_result"
    }
   ],
   "source": [
    "preds_prob = bst.predict(dtest)\n",
    "preds_prob.shape"
   ]
  },
  {
   "cell_type": "code",
   "execution_count": 315,
   "metadata": {},
   "outputs": [
    {
     "name": "stdout",
     "output_type": "stream",
     "text": [
      "Predicted correctly: 964/1000\n",
      "Error: 0.0360\n"
     ]
    }
   ],
   "source": [
    "labels = dtest.get_label()\n",
    "preds = preds_prob > 0.5 # threshold\n",
    "correct = 0\n",
    "\n",
    "for i in range(len(preds)):\n",
    "    if (labels[i] == preds[i]):\n",
    "        correct += 1\n",
    "\n",
    "print('Predicted correctly: {0}/{1}'.format(correct, len(preds)))\n",
    "print('Error: {0:.4f}'.format(1-correct/len(preds)))"
   ]
  },
  {
   "cell_type": "markdown",
   "metadata": {},
   "source": [
    "### Conclusion\n",
    "* We can see that xgboost takes very less number of trees compared to adaboost to get a better solution. Adaboost required 1600 trees whereas xgboost required only 83 trees\n",
    "* Accuracy of on test: Adaboost: 95.6%   XGboost: 96.4%"
   ]
  }
 ],
 "metadata": {
  "kernelspec": {
   "display_name": "Python 3",
   "language": "python",
   "name": "python3"
  },
  "language_info": {
   "codemirror_mode": {
    "name": "ipython",
    "version": 3
   },
   "file_extension": ".py",
   "mimetype": "text/x-python",
   "name": "python",
   "nbconvert_exporter": "python",
   "pygments_lexer": "ipython3",
   "version": "3.6.0"
  },
  "toc": {
   "nav_menu": {},
   "number_sections": true,
   "sideBar": true,
   "skip_h1_title": false,
   "toc_cell": false,
   "toc_position": {},
   "toc_section_display": "block",
   "toc_window_display": false
  }
 },
 "nbformat": 4,
 "nbformat_minor": 2
}
