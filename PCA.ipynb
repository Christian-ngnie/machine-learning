{
 "cells": [
  {
   "cell_type": "markdown",
   "metadata": {},
   "source": [
    "This notebook is inspired by :https://plot.ly/ipython-notebooks/principal-component-analysis/"
   ]
  },
  {
   "cell_type": "markdown",
   "metadata": {},
   "source": [
    "Idea behind PCA is to find eigen vectors/values of the standardised data covariance matrix and then find the top k eigen vectors based on eigen values. k can be chosen by calculating the variance explained by k eigen vectors. Then using k eigen vectors, create projection matrix and then project the original features to this lower dimension space."
   ]
  },
  {
   "cell_type": "markdown",
   "metadata": {},
   "source": [
    "## PCA from scratch"
   ]
  },
  {
   "cell_type": "code",
   "execution_count": 1,
   "metadata": {},
   "outputs": [
    {
     "data": {
      "text/html": [
       "<div>\n",
       "<style scoped>\n",
       "    .dataframe tbody tr th:only-of-type {\n",
       "        vertical-align: middle;\n",
       "    }\n",
       "\n",
       "    .dataframe tbody tr th {\n",
       "        vertical-align: top;\n",
       "    }\n",
       "\n",
       "    .dataframe thead th {\n",
       "        text-align: right;\n",
       "    }\n",
       "</style>\n",
       "<table border=\"1\" class=\"dataframe\">\n",
       "  <thead>\n",
       "    <tr style=\"text-align: right;\">\n",
       "      <th></th>\n",
       "      <th>sepal_len</th>\n",
       "      <th>sepal_wid</th>\n",
       "      <th>petal_len</th>\n",
       "      <th>petal_wid</th>\n",
       "      <th>class</th>\n",
       "    </tr>\n",
       "  </thead>\n",
       "  <tbody>\n",
       "    <tr>\n",
       "      <th>145</th>\n",
       "      <td>6.7</td>\n",
       "      <td>3.0</td>\n",
       "      <td>5.2</td>\n",
       "      <td>2.3</td>\n",
       "      <td>Iris-virginica</td>\n",
       "    </tr>\n",
       "    <tr>\n",
       "      <th>146</th>\n",
       "      <td>6.3</td>\n",
       "      <td>2.5</td>\n",
       "      <td>5.0</td>\n",
       "      <td>1.9</td>\n",
       "      <td>Iris-virginica</td>\n",
       "    </tr>\n",
       "    <tr>\n",
       "      <th>147</th>\n",
       "      <td>6.5</td>\n",
       "      <td>3.0</td>\n",
       "      <td>5.2</td>\n",
       "      <td>2.0</td>\n",
       "      <td>Iris-virginica</td>\n",
       "    </tr>\n",
       "    <tr>\n",
       "      <th>148</th>\n",
       "      <td>6.2</td>\n",
       "      <td>3.4</td>\n",
       "      <td>5.4</td>\n",
       "      <td>2.3</td>\n",
       "      <td>Iris-virginica</td>\n",
       "    </tr>\n",
       "    <tr>\n",
       "      <th>149</th>\n",
       "      <td>5.9</td>\n",
       "      <td>3.0</td>\n",
       "      <td>5.1</td>\n",
       "      <td>1.8</td>\n",
       "      <td>Iris-virginica</td>\n",
       "    </tr>\n",
       "  </tbody>\n",
       "</table>\n",
       "</div>"
      ],
      "text/plain": [
       "     sepal_len  sepal_wid  petal_len  petal_wid           class\n",
       "145        6.7        3.0        5.2        2.3  Iris-virginica\n",
       "146        6.3        2.5        5.0        1.9  Iris-virginica\n",
       "147        6.5        3.0        5.2        2.0  Iris-virginica\n",
       "148        6.2        3.4        5.4        2.3  Iris-virginica\n",
       "149        5.9        3.0        5.1        1.8  Iris-virginica"
      ]
     },
     "execution_count": 1,
     "metadata": {},
     "output_type": "execute_result"
    }
   ],
   "source": [
    "import pandas as pd\n",
    "\n",
    "df = pd.read_csv(\n",
    "    filepath_or_buffer='https://archive.ics.uci.edu/ml/machine-learning-databases/iris/iris.data', \n",
    "    header=None, \n",
    "    sep=',')\n",
    "\n",
    "df.columns=['sepal_len', 'sepal_wid', 'petal_len', 'petal_wid', 'class']\n",
    "df.dropna(how=\"all\", inplace=True) # drops the empty line at file-end\n",
    "\n",
    "df.tail()"
   ]
  },
  {
   "cell_type": "code",
   "execution_count": 2,
   "metadata": {},
   "outputs": [],
   "source": [
    "X = df.iloc[:,0:4].values\n",
    "y = df.iloc[:,4].values"
   ]
  },
  {
   "cell_type": "code",
   "execution_count": 4,
   "metadata": {
    "collapsed": true
   },
   "outputs": [
    {
     "data": {
      "text/plain": [
       "array(['Iris-setosa', 'Iris-setosa', 'Iris-setosa', 'Iris-setosa',\n",
       "       'Iris-setosa', 'Iris-setosa', 'Iris-setosa', 'Iris-setosa',\n",
       "       'Iris-setosa', 'Iris-setosa', 'Iris-setosa', 'Iris-setosa',\n",
       "       'Iris-setosa', 'Iris-setosa', 'Iris-setosa', 'Iris-setosa',\n",
       "       'Iris-setosa', 'Iris-setosa', 'Iris-setosa', 'Iris-setosa',\n",
       "       'Iris-setosa', 'Iris-setosa', 'Iris-setosa', 'Iris-setosa',\n",
       "       'Iris-setosa', 'Iris-setosa', 'Iris-setosa', 'Iris-setosa',\n",
       "       'Iris-setosa', 'Iris-setosa', 'Iris-setosa', 'Iris-setosa',\n",
       "       'Iris-setosa', 'Iris-setosa', 'Iris-setosa', 'Iris-setosa',\n",
       "       'Iris-setosa', 'Iris-setosa', 'Iris-setosa', 'Iris-setosa',\n",
       "       'Iris-setosa', 'Iris-setosa', 'Iris-setosa', 'Iris-setosa',\n",
       "       'Iris-setosa', 'Iris-setosa', 'Iris-setosa', 'Iris-setosa',\n",
       "       'Iris-setosa', 'Iris-setosa', 'Iris-versicolor', 'Iris-versicolor',\n",
       "       'Iris-versicolor', 'Iris-versicolor', 'Iris-versicolor',\n",
       "       'Iris-versicolor', 'Iris-versicolor', 'Iris-versicolor',\n",
       "       'Iris-versicolor', 'Iris-versicolor', 'Iris-versicolor',\n",
       "       'Iris-versicolor', 'Iris-versicolor', 'Iris-versicolor',\n",
       "       'Iris-versicolor', 'Iris-versicolor', 'Iris-versicolor',\n",
       "       'Iris-versicolor', 'Iris-versicolor', 'Iris-versicolor',\n",
       "       'Iris-versicolor', 'Iris-versicolor', 'Iris-versicolor',\n",
       "       'Iris-versicolor', 'Iris-versicolor', 'Iris-versicolor',\n",
       "       'Iris-versicolor', 'Iris-versicolor', 'Iris-versicolor',\n",
       "       'Iris-versicolor', 'Iris-versicolor', 'Iris-versicolor',\n",
       "       'Iris-versicolor', 'Iris-versicolor', 'Iris-versicolor',\n",
       "       'Iris-versicolor', 'Iris-versicolor', 'Iris-versicolor',\n",
       "       'Iris-versicolor', 'Iris-versicolor', 'Iris-versicolor',\n",
       "       'Iris-versicolor', 'Iris-versicolor', 'Iris-versicolor',\n",
       "       'Iris-versicolor', 'Iris-versicolor', 'Iris-versicolor',\n",
       "       'Iris-versicolor', 'Iris-versicolor', 'Iris-versicolor',\n",
       "       'Iris-virginica', 'Iris-virginica', 'Iris-virginica',\n",
       "       'Iris-virginica', 'Iris-virginica', 'Iris-virginica',\n",
       "       'Iris-virginica', 'Iris-virginica', 'Iris-virginica',\n",
       "       'Iris-virginica', 'Iris-virginica', 'Iris-virginica',\n",
       "       'Iris-virginica', 'Iris-virginica', 'Iris-virginica',\n",
       "       'Iris-virginica', 'Iris-virginica', 'Iris-virginica',\n",
       "       'Iris-virginica', 'Iris-virginica', 'Iris-virginica',\n",
       "       'Iris-virginica', 'Iris-virginica', 'Iris-virginica',\n",
       "       'Iris-virginica', 'Iris-virginica', 'Iris-virginica',\n",
       "       'Iris-virginica', 'Iris-virginica', 'Iris-virginica',\n",
       "       'Iris-virginica', 'Iris-virginica', 'Iris-virginica',\n",
       "       'Iris-virginica', 'Iris-virginica', 'Iris-virginica',\n",
       "       'Iris-virginica', 'Iris-virginica', 'Iris-virginica',\n",
       "       'Iris-virginica', 'Iris-virginica', 'Iris-virginica',\n",
       "       'Iris-virginica', 'Iris-virginica', 'Iris-virginica',\n",
       "       'Iris-virginica', 'Iris-virginica', 'Iris-virginica',\n",
       "       'Iris-virginica', 'Iris-virginica'], dtype=object)"
      ]
     },
     "execution_count": 4,
     "metadata": {},
     "output_type": "execute_result"
    }
   ],
   "source": [
    "y"
   ]
  },
  {
   "cell_type": "code",
   "execution_count": 15,
   "metadata": {},
   "outputs": [
    {
     "data": {
      "text/html": [
       "<script>requirejs.config({paths: { 'plotly': ['https://cdn.plot.ly/plotly-latest.min']},});if(!window.Plotly) {{require(['plotly'],function(plotly) {window.Plotly=plotly;});}}</script>"
      ],
      "text/vnd.plotly.v1+html": [
       "<script>requirejs.config({paths: { 'plotly': ['https://cdn.plot.ly/plotly-latest.min']},});if(!window.Plotly) {{require(['plotly'],function(plotly) {window.Plotly=plotly;});}}</script>"
      ]
     },
     "metadata": {},
     "output_type": "display_data"
    }
   ],
   "source": [
    "from plotly.offline import download_plotlyjs, init_notebook_mode, plot, iplot\n",
    "init_notebook_mode(connected=True)\n",
    "from plotly.graph_objs import *\n",
    "import plotly.tools as tls"
   ]
  },
  {
   "cell_type": "code",
   "execution_count": 16,
   "metadata": {},
   "outputs": [
    {
     "data": {
      "application/vnd.plotly.v1+json": {
       "data": [
        {
         "marker": {
          "color": "rgb(31, 119, 180)"
         },
         "name": "Iris-setosa",
         "opacity": 0.75,
         "showlegend": false,
         "type": "histogram",
         "x": [
          5.1,
          4.9,
          4.7,
          4.6,
          5,
          5.4,
          4.6,
          5,
          4.4,
          4.9,
          5.4,
          4.8,
          4.8,
          4.3,
          5.8,
          5.7,
          5.4,
          5.1,
          5.7,
          5.1,
          5.4,
          5.1,
          4.6,
          5.1,
          4.8,
          5,
          5,
          5.2,
          5.2,
          4.7,
          4.8,
          5.4,
          5.2,
          5.5,
          4.9,
          5,
          5.5,
          4.9,
          4.4,
          5.1,
          5,
          4.5,
          4.4,
          5,
          5.1,
          4.8,
          5.1,
          4.6,
          5.3,
          5
         ],
         "xaxis": "x1"
        },
        {
         "marker": {
          "color": "rgb(255, 127, 14)"
         },
         "name": "Iris-versicolor",
         "opacity": 0.75,
         "showlegend": false,
         "type": "histogram",
         "x": [
          7,
          6.4,
          6.9,
          5.5,
          6.5,
          5.7,
          6.3,
          4.9,
          6.6,
          5.2,
          5,
          5.9,
          6,
          6.1,
          5.6,
          6.7,
          5.6,
          5.8,
          6.2,
          5.6,
          5.9,
          6.1,
          6.3,
          6.1,
          6.4,
          6.6,
          6.8,
          6.7,
          6,
          5.7,
          5.5,
          5.5,
          5.8,
          6,
          5.4,
          6,
          6.7,
          6.3,
          5.6,
          5.5,
          5.5,
          6.1,
          5.8,
          5,
          5.6,
          5.7,
          5.7,
          6.2,
          5.1,
          5.7
         ],
         "xaxis": "x1"
        },
        {
         "marker": {
          "color": "rgb(44, 160, 44)"
         },
         "name": "Iris-virginica",
         "opacity": 0.75,
         "showlegend": false,
         "type": "histogram",
         "x": [
          6.3,
          5.8,
          7.1,
          6.3,
          6.5,
          7.6,
          4.9,
          7.3,
          6.7,
          7.2,
          6.5,
          6.4,
          6.8,
          5.7,
          5.8,
          6.4,
          6.5,
          7.7,
          7.7,
          6,
          6.9,
          5.6,
          7.7,
          6.3,
          6.7,
          7.2,
          6.2,
          6.1,
          6.4,
          7.2,
          7.4,
          7.9,
          6.4,
          6.3,
          6.1,
          7.7,
          6.3,
          6.4,
          6,
          6.9,
          6.7,
          6.9,
          5.8,
          6.8,
          6.7,
          6.7,
          6.3,
          6.5,
          6.2,
          5.9
         ],
         "xaxis": "x1"
        },
        {
         "marker": {
          "color": "rgb(31, 119, 180)"
         },
         "name": "Iris-setosa",
         "opacity": 0.75,
         "showlegend": false,
         "type": "histogram",
         "x": [
          3.5,
          3,
          3.2,
          3.1,
          3.6,
          3.9,
          3.4,
          3.4,
          2.9,
          3.1,
          3.7,
          3.4,
          3,
          3,
          4,
          4.4,
          3.9,
          3.5,
          3.8,
          3.8,
          3.4,
          3.7,
          3.6,
          3.3,
          3.4,
          3,
          3.4,
          3.5,
          3.4,
          3.2,
          3.1,
          3.4,
          4.1,
          4.2,
          3.1,
          3.2,
          3.5,
          3.1,
          3,
          3.4,
          3.5,
          2.3,
          3.2,
          3.5,
          3.8,
          3,
          3.8,
          3.2,
          3.7,
          3.3
         ],
         "xaxis": "x2"
        },
        {
         "marker": {
          "color": "rgb(255, 127, 14)"
         },
         "name": "Iris-versicolor",
         "opacity": 0.75,
         "showlegend": false,
         "type": "histogram",
         "x": [
          3.2,
          3.2,
          3.1,
          2.3,
          2.8,
          2.8,
          3.3,
          2.4,
          2.9,
          2.7,
          2,
          3,
          2.2,
          2.9,
          2.9,
          3.1,
          3,
          2.7,
          2.2,
          2.5,
          3.2,
          2.8,
          2.5,
          2.8,
          2.9,
          3,
          2.8,
          3,
          2.9,
          2.6,
          2.4,
          2.4,
          2.7,
          2.7,
          3,
          3.4,
          3.1,
          2.3,
          3,
          2.5,
          2.6,
          3,
          2.6,
          2.3,
          2.7,
          3,
          2.9,
          2.9,
          2.5,
          2.8
         ],
         "xaxis": "x2"
        },
        {
         "marker": {
          "color": "rgb(44, 160, 44)"
         },
         "name": "Iris-virginica",
         "opacity": 0.75,
         "showlegend": false,
         "type": "histogram",
         "x": [
          3.3,
          2.7,
          3,
          2.9,
          3,
          3,
          2.5,
          2.9,
          2.5,
          3.6,
          3.2,
          2.7,
          3,
          2.5,
          2.8,
          3.2,
          3,
          3.8,
          2.6,
          2.2,
          3.2,
          2.8,
          2.8,
          2.7,
          3.3,
          3.2,
          2.8,
          3,
          2.8,
          3,
          2.8,
          3.8,
          2.8,
          2.8,
          2.6,
          3,
          3.4,
          3.1,
          3,
          3.1,
          3.1,
          3.1,
          2.7,
          3.2,
          3.3,
          3,
          2.5,
          3,
          3.4,
          3
         ],
         "xaxis": "x2"
        },
        {
         "marker": {
          "color": "rgb(31, 119, 180)"
         },
         "name": "Iris-setosa",
         "opacity": 0.75,
         "showlegend": false,
         "type": "histogram",
         "x": [
          1.4,
          1.4,
          1.3,
          1.5,
          1.4,
          1.7,
          1.4,
          1.5,
          1.4,
          1.5,
          1.5,
          1.6,
          1.4,
          1.1,
          1.2,
          1.5,
          1.3,
          1.4,
          1.7,
          1.5,
          1.7,
          1.5,
          1,
          1.7,
          1.9,
          1.6,
          1.6,
          1.5,
          1.4,
          1.6,
          1.6,
          1.5,
          1.5,
          1.4,
          1.5,
          1.2,
          1.3,
          1.5,
          1.3,
          1.5,
          1.3,
          1.3,
          1.3,
          1.6,
          1.9,
          1.4,
          1.6,
          1.4,
          1.5,
          1.4
         ],
         "xaxis": "x3"
        },
        {
         "marker": {
          "color": "rgb(255, 127, 14)"
         },
         "name": "Iris-versicolor",
         "opacity": 0.75,
         "showlegend": false,
         "type": "histogram",
         "x": [
          4.7,
          4.5,
          4.9,
          4,
          4.6,
          4.5,
          4.7,
          3.3,
          4.6,
          3.9,
          3.5,
          4.2,
          4,
          4.7,
          3.6,
          4.4,
          4.5,
          4.1,
          4.5,
          3.9,
          4.8,
          4,
          4.9,
          4.7,
          4.3,
          4.4,
          4.8,
          5,
          4.5,
          3.5,
          3.8,
          3.7,
          3.9,
          5.1,
          4.5,
          4.5,
          4.7,
          4.4,
          4.1,
          4,
          4.4,
          4.6,
          4,
          3.3,
          4.2,
          4.2,
          4.2,
          4.3,
          3,
          4.1
         ],
         "xaxis": "x3"
        },
        {
         "marker": {
          "color": "rgb(44, 160, 44)"
         },
         "name": "Iris-virginica",
         "opacity": 0.75,
         "showlegend": false,
         "type": "histogram",
         "x": [
          6,
          5.1,
          5.9,
          5.6,
          5.8,
          6.6,
          4.5,
          6.3,
          5.8,
          6.1,
          5.1,
          5.3,
          5.5,
          5,
          5.1,
          5.3,
          5.5,
          6.7,
          6.9,
          5,
          5.7,
          4.9,
          6.7,
          4.9,
          5.7,
          6,
          4.8,
          4.9,
          5.6,
          5.8,
          6.1,
          6.4,
          5.6,
          5.1,
          5.6,
          6.1,
          5.6,
          5.5,
          4.8,
          5.4,
          5.6,
          5.1,
          5.1,
          5.9,
          5.7,
          5.2,
          5,
          5.2,
          5.4,
          5.1
         ],
         "xaxis": "x3"
        },
        {
         "marker": {
          "color": "rgb(31, 119, 180)"
         },
         "name": "Iris-setosa",
         "opacity": 0.75,
         "showlegend": true,
         "type": "histogram",
         "x": [
          0.2,
          0.2,
          0.2,
          0.2,
          0.2,
          0.4,
          0.3,
          0.2,
          0.2,
          0.1,
          0.2,
          0.2,
          0.1,
          0.1,
          0.2,
          0.4,
          0.4,
          0.3,
          0.3,
          0.3,
          0.2,
          0.4,
          0.2,
          0.5,
          0.2,
          0.2,
          0.4,
          0.2,
          0.2,
          0.2,
          0.2,
          0.4,
          0.1,
          0.2,
          0.1,
          0.2,
          0.2,
          0.1,
          0.2,
          0.2,
          0.3,
          0.3,
          0.2,
          0.6,
          0.4,
          0.3,
          0.2,
          0.2,
          0.2,
          0.2
         ],
         "xaxis": "x4"
        },
        {
         "marker": {
          "color": "rgb(255, 127, 14)"
         },
         "name": "Iris-versicolor",
         "opacity": 0.75,
         "showlegend": true,
         "type": "histogram",
         "x": [
          1.4,
          1.5,
          1.5,
          1.3,
          1.5,
          1.3,
          1.6,
          1,
          1.3,
          1.4,
          1,
          1.5,
          1,
          1.4,
          1.3,
          1.4,
          1.5,
          1,
          1.5,
          1.1,
          1.8,
          1.3,
          1.5,
          1.2,
          1.3,
          1.4,
          1.4,
          1.7,
          1.5,
          1,
          1.1,
          1,
          1.2,
          1.6,
          1.5,
          1.6,
          1.5,
          1.3,
          1.3,
          1.3,
          1.2,
          1.4,
          1.2,
          1,
          1.3,
          1.2,
          1.3,
          1.3,
          1.1,
          1.3
         ],
         "xaxis": "x4"
        },
        {
         "marker": {
          "color": "rgb(44, 160, 44)"
         },
         "name": "Iris-virginica",
         "opacity": 0.75,
         "showlegend": true,
         "type": "histogram",
         "x": [
          2.5,
          1.9,
          2.1,
          1.8,
          2.2,
          2.1,
          1.7,
          1.8,
          1.8,
          2.5,
          2,
          1.9,
          2.1,
          2,
          2.4,
          2.3,
          1.8,
          2.2,
          2.3,
          1.5,
          2.3,
          2,
          2,
          1.8,
          2.1,
          1.8,
          1.8,
          1.8,
          2.1,
          1.6,
          1.9,
          2,
          2.2,
          1.5,
          1.4,
          2.3,
          2.4,
          1.8,
          1.8,
          2.1,
          2.4,
          2.3,
          1.9,
          2.3,
          2.5,
          2.3,
          1.9,
          2,
          2.3,
          1.8
         ],
         "xaxis": "x4"
        }
       ],
       "layout": {
        "barmode": "overlay",
        "title": "Distribution of the different Iris flower features",
        "xaxis": {
         "domain": [
          0,
          0.25
         ],
         "title": "sepal length (cm)"
        },
        "xaxis2": {
         "domain": [
          0.3,
          0.5
         ],
         "title": "sepal width (cm)"
        },
        "xaxis3": {
         "domain": [
          0.55,
          0.75
         ],
         "title": "petal length (cm)"
        },
        "xaxis4": {
         "domain": [
          0.8,
          1
         ],
         "title": "petal width (cm)"
        },
        "yaxis": {
         "title": "count"
        }
       }
      },
      "text/html": [
       "<div id=\"d2a80023-5351-4c38-af98-4b9b91a31c57\" style=\"height: 525px; width: 100%;\" class=\"plotly-graph-div\"></div><script type=\"text/javascript\">require([\"plotly\"], function(Plotly) { window.PLOTLYENV=window.PLOTLYENV || {};window.PLOTLYENV.BASE_URL=\"https://plot.ly\";Plotly.newPlot(\"d2a80023-5351-4c38-af98-4b9b91a31c57\", [{\"type\": \"histogram\", \"x\": [5.1, 4.9, 4.7, 4.6, 5.0, 5.4, 4.6, 5.0, 4.4, 4.9, 5.4, 4.8, 4.8, 4.3, 5.8, 5.7, 5.4, 5.1, 5.7, 5.1, 5.4, 5.1, 4.6, 5.1, 4.8, 5.0, 5.0, 5.2, 5.2, 4.7, 4.8, 5.4, 5.2, 5.5, 4.9, 5.0, 5.5, 4.9, 4.4, 5.1, 5.0, 4.5, 4.4, 5.0, 5.1, 4.8, 5.1, 4.6, 5.3, 5.0], \"opacity\": 0.75, \"xaxis\": \"x1\", \"marker\": {\"color\": \"rgb(31, 119, 180)\"}, \"name\": \"Iris-setosa\", \"showlegend\": false}, {\"type\": \"histogram\", \"x\": [7.0, 6.4, 6.9, 5.5, 6.5, 5.7, 6.3, 4.9, 6.6, 5.2, 5.0, 5.9, 6.0, 6.1, 5.6, 6.7, 5.6, 5.8, 6.2, 5.6, 5.9, 6.1, 6.3, 6.1, 6.4, 6.6, 6.8, 6.7, 6.0, 5.7, 5.5, 5.5, 5.8, 6.0, 5.4, 6.0, 6.7, 6.3, 5.6, 5.5, 5.5, 6.1, 5.8, 5.0, 5.6, 5.7, 5.7, 6.2, 5.1, 5.7], \"opacity\": 0.75, \"xaxis\": \"x1\", \"marker\": {\"color\": \"rgb(255, 127, 14)\"}, \"name\": \"Iris-versicolor\", \"showlegend\": false}, {\"type\": \"histogram\", \"x\": [6.3, 5.8, 7.1, 6.3, 6.5, 7.6, 4.9, 7.3, 6.7, 7.2, 6.5, 6.4, 6.8, 5.7, 5.8, 6.4, 6.5, 7.7, 7.7, 6.0, 6.9, 5.6, 7.7, 6.3, 6.7, 7.2, 6.2, 6.1, 6.4, 7.2, 7.4, 7.9, 6.4, 6.3, 6.1, 7.7, 6.3, 6.4, 6.0, 6.9, 6.7, 6.9, 5.8, 6.8, 6.7, 6.7, 6.3, 6.5, 6.2, 5.9], \"opacity\": 0.75, \"xaxis\": \"x1\", \"marker\": {\"color\": \"rgb(44, 160, 44)\"}, \"name\": \"Iris-virginica\", \"showlegend\": false}, {\"type\": \"histogram\", \"x\": [3.5, 3.0, 3.2, 3.1, 3.6, 3.9, 3.4, 3.4, 2.9, 3.1, 3.7, 3.4, 3.0, 3.0, 4.0, 4.4, 3.9, 3.5, 3.8, 3.8, 3.4, 3.7, 3.6, 3.3, 3.4, 3.0, 3.4, 3.5, 3.4, 3.2, 3.1, 3.4, 4.1, 4.2, 3.1, 3.2, 3.5, 3.1, 3.0, 3.4, 3.5, 2.3, 3.2, 3.5, 3.8, 3.0, 3.8, 3.2, 3.7, 3.3], \"opacity\": 0.75, \"xaxis\": \"x2\", \"marker\": {\"color\": \"rgb(31, 119, 180)\"}, \"name\": \"Iris-setosa\", \"showlegend\": false}, {\"type\": \"histogram\", \"x\": [3.2, 3.2, 3.1, 2.3, 2.8, 2.8, 3.3, 2.4, 2.9, 2.7, 2.0, 3.0, 2.2, 2.9, 2.9, 3.1, 3.0, 2.7, 2.2, 2.5, 3.2, 2.8, 2.5, 2.8, 2.9, 3.0, 2.8, 3.0, 2.9, 2.6, 2.4, 2.4, 2.7, 2.7, 3.0, 3.4, 3.1, 2.3, 3.0, 2.5, 2.6, 3.0, 2.6, 2.3, 2.7, 3.0, 2.9, 2.9, 2.5, 2.8], \"opacity\": 0.75, \"xaxis\": \"x2\", \"marker\": {\"color\": \"rgb(255, 127, 14)\"}, \"name\": \"Iris-versicolor\", \"showlegend\": false}, {\"type\": \"histogram\", \"x\": [3.3, 2.7, 3.0, 2.9, 3.0, 3.0, 2.5, 2.9, 2.5, 3.6, 3.2, 2.7, 3.0, 2.5, 2.8, 3.2, 3.0, 3.8, 2.6, 2.2, 3.2, 2.8, 2.8, 2.7, 3.3, 3.2, 2.8, 3.0, 2.8, 3.0, 2.8, 3.8, 2.8, 2.8, 2.6, 3.0, 3.4, 3.1, 3.0, 3.1, 3.1, 3.1, 2.7, 3.2, 3.3, 3.0, 2.5, 3.0, 3.4, 3.0], \"opacity\": 0.75, \"xaxis\": \"x2\", \"marker\": {\"color\": \"rgb(44, 160, 44)\"}, \"name\": \"Iris-virginica\", \"showlegend\": false}, {\"type\": \"histogram\", \"x\": [1.4, 1.4, 1.3, 1.5, 1.4, 1.7, 1.4, 1.5, 1.4, 1.5, 1.5, 1.6, 1.4, 1.1, 1.2, 1.5, 1.3, 1.4, 1.7, 1.5, 1.7, 1.5, 1.0, 1.7, 1.9, 1.6, 1.6, 1.5, 1.4, 1.6, 1.6, 1.5, 1.5, 1.4, 1.5, 1.2, 1.3, 1.5, 1.3, 1.5, 1.3, 1.3, 1.3, 1.6, 1.9, 1.4, 1.6, 1.4, 1.5, 1.4], \"opacity\": 0.75, \"xaxis\": \"x3\", \"marker\": {\"color\": \"rgb(31, 119, 180)\"}, \"name\": \"Iris-setosa\", \"showlegend\": false}, {\"type\": \"histogram\", \"x\": [4.7, 4.5, 4.9, 4.0, 4.6, 4.5, 4.7, 3.3, 4.6, 3.9, 3.5, 4.2, 4.0, 4.7, 3.6, 4.4, 4.5, 4.1, 4.5, 3.9, 4.8, 4.0, 4.9, 4.7, 4.3, 4.4, 4.8, 5.0, 4.5, 3.5, 3.8, 3.7, 3.9, 5.1, 4.5, 4.5, 4.7, 4.4, 4.1, 4.0, 4.4, 4.6, 4.0, 3.3, 4.2, 4.2, 4.2, 4.3, 3.0, 4.1], \"opacity\": 0.75, \"xaxis\": \"x3\", \"marker\": {\"color\": \"rgb(255, 127, 14)\"}, \"name\": \"Iris-versicolor\", \"showlegend\": false}, {\"type\": \"histogram\", \"x\": [6.0, 5.1, 5.9, 5.6, 5.8, 6.6, 4.5, 6.3, 5.8, 6.1, 5.1, 5.3, 5.5, 5.0, 5.1, 5.3, 5.5, 6.7, 6.9, 5.0, 5.7, 4.9, 6.7, 4.9, 5.7, 6.0, 4.8, 4.9, 5.6, 5.8, 6.1, 6.4, 5.6, 5.1, 5.6, 6.1, 5.6, 5.5, 4.8, 5.4, 5.6, 5.1, 5.1, 5.9, 5.7, 5.2, 5.0, 5.2, 5.4, 5.1], \"opacity\": 0.75, \"xaxis\": \"x3\", \"marker\": {\"color\": \"rgb(44, 160, 44)\"}, \"name\": \"Iris-virginica\", \"showlegend\": false}, {\"type\": \"histogram\", \"x\": [0.2, 0.2, 0.2, 0.2, 0.2, 0.4, 0.3, 0.2, 0.2, 0.1, 0.2, 0.2, 0.1, 0.1, 0.2, 0.4, 0.4, 0.3, 0.3, 0.3, 0.2, 0.4, 0.2, 0.5, 0.2, 0.2, 0.4, 0.2, 0.2, 0.2, 0.2, 0.4, 0.1, 0.2, 0.1, 0.2, 0.2, 0.1, 0.2, 0.2, 0.3, 0.3, 0.2, 0.6, 0.4, 0.3, 0.2, 0.2, 0.2, 0.2], \"opacity\": 0.75, \"xaxis\": \"x4\", \"marker\": {\"color\": \"rgb(31, 119, 180)\"}, \"name\": \"Iris-setosa\", \"showlegend\": true}, {\"type\": \"histogram\", \"x\": [1.4, 1.5, 1.5, 1.3, 1.5, 1.3, 1.6, 1.0, 1.3, 1.4, 1.0, 1.5, 1.0, 1.4, 1.3, 1.4, 1.5, 1.0, 1.5, 1.1, 1.8, 1.3, 1.5, 1.2, 1.3, 1.4, 1.4, 1.7, 1.5, 1.0, 1.1, 1.0, 1.2, 1.6, 1.5, 1.6, 1.5, 1.3, 1.3, 1.3, 1.2, 1.4, 1.2, 1.0, 1.3, 1.2, 1.3, 1.3, 1.1, 1.3], \"opacity\": 0.75, \"xaxis\": \"x4\", \"marker\": {\"color\": \"rgb(255, 127, 14)\"}, \"name\": \"Iris-versicolor\", \"showlegend\": true}, {\"type\": \"histogram\", \"x\": [2.5, 1.9, 2.1, 1.8, 2.2, 2.1, 1.7, 1.8, 1.8, 2.5, 2.0, 1.9, 2.1, 2.0, 2.4, 2.3, 1.8, 2.2, 2.3, 1.5, 2.3, 2.0, 2.0, 1.8, 2.1, 1.8, 1.8, 1.8, 2.1, 1.6, 1.9, 2.0, 2.2, 1.5, 1.4, 2.3, 2.4, 1.8, 1.8, 2.1, 2.4, 2.3, 1.9, 2.3, 2.5, 2.3, 1.9, 2.0, 2.3, 1.8], \"opacity\": 0.75, \"xaxis\": \"x4\", \"marker\": {\"color\": \"rgb(44, 160, 44)\"}, \"name\": \"Iris-virginica\", \"showlegend\": true}], {\"barmode\": \"overlay\", \"xaxis\": {\"domain\": [0, 0.25], \"title\": \"sepal length (cm)\"}, \"xaxis2\": {\"domain\": [0.3, 0.5], \"title\": \"sepal width (cm)\"}, \"xaxis3\": {\"domain\": [0.55, 0.75], \"title\": \"petal length (cm)\"}, \"xaxis4\": {\"domain\": [0.8, 1], \"title\": \"petal width (cm)\"}, \"yaxis\": {\"title\": \"count\"}, \"title\": \"Distribution of the different Iris flower features\"}, {\"showLink\": true, \"linkText\": \"Export to plot.ly\"})});</script>"
      ],
      "text/vnd.plotly.v1+html": [
       "<div id=\"d2a80023-5351-4c38-af98-4b9b91a31c57\" style=\"height: 525px; width: 100%;\" class=\"plotly-graph-div\"></div><script type=\"text/javascript\">require([\"plotly\"], function(Plotly) { window.PLOTLYENV=window.PLOTLYENV || {};window.PLOTLYENV.BASE_URL=\"https://plot.ly\";Plotly.newPlot(\"d2a80023-5351-4c38-af98-4b9b91a31c57\", [{\"type\": \"histogram\", \"x\": [5.1, 4.9, 4.7, 4.6, 5.0, 5.4, 4.6, 5.0, 4.4, 4.9, 5.4, 4.8, 4.8, 4.3, 5.8, 5.7, 5.4, 5.1, 5.7, 5.1, 5.4, 5.1, 4.6, 5.1, 4.8, 5.0, 5.0, 5.2, 5.2, 4.7, 4.8, 5.4, 5.2, 5.5, 4.9, 5.0, 5.5, 4.9, 4.4, 5.1, 5.0, 4.5, 4.4, 5.0, 5.1, 4.8, 5.1, 4.6, 5.3, 5.0], \"opacity\": 0.75, \"xaxis\": \"x1\", \"marker\": {\"color\": \"rgb(31, 119, 180)\"}, \"name\": \"Iris-setosa\", \"showlegend\": false}, {\"type\": \"histogram\", \"x\": [7.0, 6.4, 6.9, 5.5, 6.5, 5.7, 6.3, 4.9, 6.6, 5.2, 5.0, 5.9, 6.0, 6.1, 5.6, 6.7, 5.6, 5.8, 6.2, 5.6, 5.9, 6.1, 6.3, 6.1, 6.4, 6.6, 6.8, 6.7, 6.0, 5.7, 5.5, 5.5, 5.8, 6.0, 5.4, 6.0, 6.7, 6.3, 5.6, 5.5, 5.5, 6.1, 5.8, 5.0, 5.6, 5.7, 5.7, 6.2, 5.1, 5.7], \"opacity\": 0.75, \"xaxis\": \"x1\", \"marker\": {\"color\": \"rgb(255, 127, 14)\"}, \"name\": \"Iris-versicolor\", \"showlegend\": false}, {\"type\": \"histogram\", \"x\": [6.3, 5.8, 7.1, 6.3, 6.5, 7.6, 4.9, 7.3, 6.7, 7.2, 6.5, 6.4, 6.8, 5.7, 5.8, 6.4, 6.5, 7.7, 7.7, 6.0, 6.9, 5.6, 7.7, 6.3, 6.7, 7.2, 6.2, 6.1, 6.4, 7.2, 7.4, 7.9, 6.4, 6.3, 6.1, 7.7, 6.3, 6.4, 6.0, 6.9, 6.7, 6.9, 5.8, 6.8, 6.7, 6.7, 6.3, 6.5, 6.2, 5.9], \"opacity\": 0.75, \"xaxis\": \"x1\", \"marker\": {\"color\": \"rgb(44, 160, 44)\"}, \"name\": \"Iris-virginica\", \"showlegend\": false}, {\"type\": \"histogram\", \"x\": [3.5, 3.0, 3.2, 3.1, 3.6, 3.9, 3.4, 3.4, 2.9, 3.1, 3.7, 3.4, 3.0, 3.0, 4.0, 4.4, 3.9, 3.5, 3.8, 3.8, 3.4, 3.7, 3.6, 3.3, 3.4, 3.0, 3.4, 3.5, 3.4, 3.2, 3.1, 3.4, 4.1, 4.2, 3.1, 3.2, 3.5, 3.1, 3.0, 3.4, 3.5, 2.3, 3.2, 3.5, 3.8, 3.0, 3.8, 3.2, 3.7, 3.3], \"opacity\": 0.75, \"xaxis\": \"x2\", \"marker\": {\"color\": \"rgb(31, 119, 180)\"}, \"name\": \"Iris-setosa\", \"showlegend\": false}, {\"type\": \"histogram\", \"x\": [3.2, 3.2, 3.1, 2.3, 2.8, 2.8, 3.3, 2.4, 2.9, 2.7, 2.0, 3.0, 2.2, 2.9, 2.9, 3.1, 3.0, 2.7, 2.2, 2.5, 3.2, 2.8, 2.5, 2.8, 2.9, 3.0, 2.8, 3.0, 2.9, 2.6, 2.4, 2.4, 2.7, 2.7, 3.0, 3.4, 3.1, 2.3, 3.0, 2.5, 2.6, 3.0, 2.6, 2.3, 2.7, 3.0, 2.9, 2.9, 2.5, 2.8], \"opacity\": 0.75, \"xaxis\": \"x2\", \"marker\": {\"color\": \"rgb(255, 127, 14)\"}, \"name\": \"Iris-versicolor\", \"showlegend\": false}, {\"type\": \"histogram\", \"x\": [3.3, 2.7, 3.0, 2.9, 3.0, 3.0, 2.5, 2.9, 2.5, 3.6, 3.2, 2.7, 3.0, 2.5, 2.8, 3.2, 3.0, 3.8, 2.6, 2.2, 3.2, 2.8, 2.8, 2.7, 3.3, 3.2, 2.8, 3.0, 2.8, 3.0, 2.8, 3.8, 2.8, 2.8, 2.6, 3.0, 3.4, 3.1, 3.0, 3.1, 3.1, 3.1, 2.7, 3.2, 3.3, 3.0, 2.5, 3.0, 3.4, 3.0], \"opacity\": 0.75, \"xaxis\": \"x2\", \"marker\": {\"color\": \"rgb(44, 160, 44)\"}, \"name\": \"Iris-virginica\", \"showlegend\": false}, {\"type\": \"histogram\", \"x\": [1.4, 1.4, 1.3, 1.5, 1.4, 1.7, 1.4, 1.5, 1.4, 1.5, 1.5, 1.6, 1.4, 1.1, 1.2, 1.5, 1.3, 1.4, 1.7, 1.5, 1.7, 1.5, 1.0, 1.7, 1.9, 1.6, 1.6, 1.5, 1.4, 1.6, 1.6, 1.5, 1.5, 1.4, 1.5, 1.2, 1.3, 1.5, 1.3, 1.5, 1.3, 1.3, 1.3, 1.6, 1.9, 1.4, 1.6, 1.4, 1.5, 1.4], \"opacity\": 0.75, \"xaxis\": \"x3\", \"marker\": {\"color\": \"rgb(31, 119, 180)\"}, \"name\": \"Iris-setosa\", \"showlegend\": false}, {\"type\": \"histogram\", \"x\": [4.7, 4.5, 4.9, 4.0, 4.6, 4.5, 4.7, 3.3, 4.6, 3.9, 3.5, 4.2, 4.0, 4.7, 3.6, 4.4, 4.5, 4.1, 4.5, 3.9, 4.8, 4.0, 4.9, 4.7, 4.3, 4.4, 4.8, 5.0, 4.5, 3.5, 3.8, 3.7, 3.9, 5.1, 4.5, 4.5, 4.7, 4.4, 4.1, 4.0, 4.4, 4.6, 4.0, 3.3, 4.2, 4.2, 4.2, 4.3, 3.0, 4.1], \"opacity\": 0.75, \"xaxis\": \"x3\", \"marker\": {\"color\": \"rgb(255, 127, 14)\"}, \"name\": \"Iris-versicolor\", \"showlegend\": false}, {\"type\": \"histogram\", \"x\": [6.0, 5.1, 5.9, 5.6, 5.8, 6.6, 4.5, 6.3, 5.8, 6.1, 5.1, 5.3, 5.5, 5.0, 5.1, 5.3, 5.5, 6.7, 6.9, 5.0, 5.7, 4.9, 6.7, 4.9, 5.7, 6.0, 4.8, 4.9, 5.6, 5.8, 6.1, 6.4, 5.6, 5.1, 5.6, 6.1, 5.6, 5.5, 4.8, 5.4, 5.6, 5.1, 5.1, 5.9, 5.7, 5.2, 5.0, 5.2, 5.4, 5.1], \"opacity\": 0.75, \"xaxis\": \"x3\", \"marker\": {\"color\": \"rgb(44, 160, 44)\"}, \"name\": \"Iris-virginica\", \"showlegend\": false}, {\"type\": \"histogram\", \"x\": [0.2, 0.2, 0.2, 0.2, 0.2, 0.4, 0.3, 0.2, 0.2, 0.1, 0.2, 0.2, 0.1, 0.1, 0.2, 0.4, 0.4, 0.3, 0.3, 0.3, 0.2, 0.4, 0.2, 0.5, 0.2, 0.2, 0.4, 0.2, 0.2, 0.2, 0.2, 0.4, 0.1, 0.2, 0.1, 0.2, 0.2, 0.1, 0.2, 0.2, 0.3, 0.3, 0.2, 0.6, 0.4, 0.3, 0.2, 0.2, 0.2, 0.2], \"opacity\": 0.75, \"xaxis\": \"x4\", \"marker\": {\"color\": \"rgb(31, 119, 180)\"}, \"name\": \"Iris-setosa\", \"showlegend\": true}, {\"type\": \"histogram\", \"x\": [1.4, 1.5, 1.5, 1.3, 1.5, 1.3, 1.6, 1.0, 1.3, 1.4, 1.0, 1.5, 1.0, 1.4, 1.3, 1.4, 1.5, 1.0, 1.5, 1.1, 1.8, 1.3, 1.5, 1.2, 1.3, 1.4, 1.4, 1.7, 1.5, 1.0, 1.1, 1.0, 1.2, 1.6, 1.5, 1.6, 1.5, 1.3, 1.3, 1.3, 1.2, 1.4, 1.2, 1.0, 1.3, 1.2, 1.3, 1.3, 1.1, 1.3], \"opacity\": 0.75, \"xaxis\": \"x4\", \"marker\": {\"color\": \"rgb(255, 127, 14)\"}, \"name\": \"Iris-versicolor\", \"showlegend\": true}, {\"type\": \"histogram\", \"x\": [2.5, 1.9, 2.1, 1.8, 2.2, 2.1, 1.7, 1.8, 1.8, 2.5, 2.0, 1.9, 2.1, 2.0, 2.4, 2.3, 1.8, 2.2, 2.3, 1.5, 2.3, 2.0, 2.0, 1.8, 2.1, 1.8, 1.8, 1.8, 2.1, 1.6, 1.9, 2.0, 2.2, 1.5, 1.4, 2.3, 2.4, 1.8, 1.8, 2.1, 2.4, 2.3, 1.9, 2.3, 2.5, 2.3, 1.9, 2.0, 2.3, 1.8], \"opacity\": 0.75, \"xaxis\": \"x4\", \"marker\": {\"color\": \"rgb(44, 160, 44)\"}, \"name\": \"Iris-virginica\", \"showlegend\": true}], {\"barmode\": \"overlay\", \"xaxis\": {\"domain\": [0, 0.25], \"title\": \"sepal length (cm)\"}, \"xaxis2\": {\"domain\": [0.3, 0.5], \"title\": \"sepal width (cm)\"}, \"xaxis3\": {\"domain\": [0.55, 0.75], \"title\": \"petal length (cm)\"}, \"xaxis4\": {\"domain\": [0.8, 1], \"title\": \"petal width (cm)\"}, \"yaxis\": {\"title\": \"count\"}, \"title\": \"Distribution of the different Iris flower features\"}, {\"showLink\": true, \"linkText\": \"Export to plot.ly\"})});</script>"
      ]
     },
     "metadata": {},
     "output_type": "display_data"
    }
   ],
   "source": [
    "traces = []\n",
    "\n",
    "legend = {0:False, 1:False, 2:False, 3:True}\n",
    "\n",
    "colors = {'Iris-setosa': 'rgb(31, 119, 180)', \n",
    "          'Iris-versicolor': 'rgb(255, 127, 14)', \n",
    "          'Iris-virginica': 'rgb(44, 160, 44)'}\n",
    "\n",
    "for col in range(4):\n",
    "    for key in colors:\n",
    "        traces.append(Histogram(x=X[y==key, col], \n",
    "                        opacity=0.75,\n",
    "                        xaxis='x%s' %(col+1),\n",
    "                        marker=Marker(color=colors[key]),\n",
    "                        name=key,\n",
    "                        showlegend=legend[col]))\n",
    "\n",
    "data = Data(traces)\n",
    "\n",
    "layout = Layout(barmode='overlay',\n",
    "                xaxis=XAxis(domain=[0, 0.25], title='sepal length (cm)'),\n",
    "                xaxis2=XAxis(domain=[0.3, 0.5], title='sepal width (cm)'),\n",
    "                xaxis3=XAxis(domain=[0.55, 0.75], title='petal length (cm)'),\n",
    "                xaxis4=XAxis(domain=[0.8, 1], title='petal width (cm)'),\n",
    "                yaxis=YAxis(title='count'),\n",
    "                title='Distribution of the different Iris flower features')\n",
    "\n",
    "fig = Figure(data=data, layout=layout)\n",
    "iplot(fig)"
   ]
  },
  {
   "cell_type": "markdown",
   "metadata": {},
   "source": [
    "## Standardizing"
   ]
  },
  {
   "cell_type": "markdown",
   "metadata": {},
   "source": [
    "Whether to standardize the data prior to a PCA on the covariance matrix depends on the measurement scales of the original features. Since PCA yields a feature subspace that maximizes the variance along the axes, it makes sense to standardize the data, especially, if it was measured on different scales. Although, all features in the Iris dataset were measured in centimeters, let us continue with the transformation of the data onto unit scale (mean=0 and variance=1), which is a requirement for the optimal performance of many machine learning algorithms."
   ]
  },
  {
   "cell_type": "code",
   "execution_count": 17,
   "metadata": {},
   "outputs": [],
   "source": [
    "from sklearn.preprocessing import StandardScaler\n",
    "X_std = StandardScaler().fit_transform(X)"
   ]
  },
  {
   "cell_type": "code",
   "execution_count": 19,
   "metadata": {},
   "outputs": [
    {
     "data": {
      "text/plain": [
       "(150, 4)"
      ]
     },
     "execution_count": 19,
     "metadata": {},
     "output_type": "execute_result"
    }
   ],
   "source": [
    "X_std.shape"
   ]
  },
  {
   "cell_type": "markdown",
   "metadata": {},
   "source": [
    "## Eigendecomposition - Computing Eigenvectors and Eigenvalues"
   ]
  },
  {
   "cell_type": "markdown",
   "metadata": {},
   "source": [
    "The eigenvectors and eigenvalues of a covariance (or correlation) matrix represent the \"core\" of a PCA: The eigenvectors (principal components) determine the directions of the new feature space, and the eigenvalues determine their magnitude. In other words, the eigenvalues explain the variance of the data along the new feature axes."
   ]
  },
  {
   "cell_type": "markdown",
   "metadata": {},
   "source": [
    "### Covariance matrix"
   ]
  },
  {
   "cell_type": "code",
   "execution_count": 20,
   "metadata": {},
   "outputs": [
    {
     "name": "stdout",
     "output_type": "stream",
     "text": [
      "Covariance matrix \n",
      "[[ 1.00671141 -0.11010327  0.87760486  0.82344326]\n",
      " [-0.11010327  1.00671141 -0.42333835 -0.358937  ]\n",
      " [ 0.87760486 -0.42333835  1.00671141  0.96921855]\n",
      " [ 0.82344326 -0.358937    0.96921855  1.00671141]]\n"
     ]
    }
   ],
   "source": [
    "import numpy as np\n",
    "mean_vec = np.mean(X_std, axis=0)\n",
    "cov_mat = (X_std - mean_vec).T.dot((X_std - mean_vec)) / (X_std.shape[0]-1)\n",
    "print('Covariance matrix \\n%s' %cov_mat)"
   ]
  },
  {
   "cell_type": "code",
   "execution_count": 22,
   "metadata": {},
   "outputs": [
    {
     "name": "stdout",
     "output_type": "stream",
     "text": [
      "NumPy covariance matrix: \n",
      "[[ 1.00671141 -0.11010327  0.87760486  0.82344326]\n",
      " [-0.11010327  1.00671141 -0.42333835 -0.358937  ]\n",
      " [ 0.87760486 -0.42333835  1.00671141  0.96921855]\n",
      " [ 0.82344326 -0.358937    0.96921855  1.00671141]]\n"
     ]
    }
   ],
   "source": [
    "print('NumPy covariance matrix: \\n%s' %np.cov(X_std.T)) #alternate way"
   ]
  },
  {
   "cell_type": "markdown",
   "metadata": {},
   "source": [
    "### Eigen decomposition"
   ]
  },
  {
   "cell_type": "code",
   "execution_count": 23,
   "metadata": {},
   "outputs": [
    {
     "name": "stdout",
     "output_type": "stream",
     "text": [
      "Eigenvectors \n",
      "[[ 0.52237162 -0.37231836 -0.72101681  0.26199559]\n",
      " [-0.26335492 -0.92555649  0.24203288 -0.12413481]\n",
      " [ 0.58125401 -0.02109478  0.14089226 -0.80115427]\n",
      " [ 0.56561105 -0.06541577  0.6338014   0.52354627]]\n",
      "\n",
      "Eigenvalues \n",
      "[ 2.93035378  0.92740362  0.14834223  0.02074601]\n"
     ]
    }
   ],
   "source": [
    "cov_mat = np.cov(X_std.T)\n",
    "\n",
    "eig_vals, eig_vecs = np.linalg.eig(cov_mat)\n",
    "\n",
    "print('Eigenvectors \\n%s' %eig_vecs)\n",
    "print('\\nEigenvalues \\n%s' %eig_vals)"
   ]
  },
  {
   "cell_type": "markdown",
   "metadata": {},
   "source": [
    "### Correlation matrix"
   ]
  },
  {
   "cell_type": "markdown",
   "metadata": {},
   "source": [
    "Especially, in the field of \"Finance,\" the correlation matrix typically used instead of the covariance matrix. However, the eigendecomposition of the covariance matrix (if the input data was standardized) yields the same results as a eigendecomposition on the correlation matrix, since the correlation matrix can be understood as the normalized covariance matrix"
   ]
  },
  {
   "cell_type": "markdown",
   "metadata": {},
   "source": [
    "## SVD"
   ]
  },
  {
   "cell_type": "markdown",
   "metadata": {},
   "source": [
    "While the eigendecomposition of the covariance or correlation matrix may be more intuitiuve, most PCA implementations perform a Singular Vector Decomposition (SVD) to improve the computational efficiency. So, let us perform an SVD to confirm that the result are indeed the same:\n",
    "\n"
   ]
  },
  {
   "cell_type": "code",
   "execution_count": 24,
   "metadata": {},
   "outputs": [
    {
     "data": {
      "text/plain": [
       "array([[-0.52237162, -0.37231836,  0.72101681,  0.26199559],\n",
       "       [ 0.26335492, -0.92555649, -0.24203288, -0.12413481],\n",
       "       [-0.58125401, -0.02109478, -0.14089226, -0.80115427],\n",
       "       [-0.56561105, -0.06541577, -0.6338014 ,  0.52354627]])"
      ]
     },
     "execution_count": 24,
     "metadata": {},
     "output_type": "execute_result"
    }
   ],
   "source": [
    "u,s,v = np.linalg.svd(X_std.T)\n",
    "u"
   ]
  },
  {
   "cell_type": "markdown",
   "metadata": {},
   "source": [
    "The typical goal of a PCA is to reduce the dimensionality of the original feature space by projecting it onto a smaller subspace, where the eigenvectors will form the axes. However, the eigenvectors only define the directions of the new axis, since they have all the same unit length 1, which can confirmed by the following two lines of code:"
   ]
  },
  {
   "cell_type": "code",
   "execution_count": 25,
   "metadata": {},
   "outputs": [
    {
     "name": "stdout",
     "output_type": "stream",
     "text": [
      "Eigenvalues in descending order:\n",
      "2.93035377559\n",
      "0.927403621517\n",
      "0.148342226482\n",
      "0.0207460139956\n"
     ]
    }
   ],
   "source": [
    "# Make a list of (eigenvalue, eigenvector) tuples\n",
    "eig_pairs = [(np.abs(eig_vals[i]), eig_vecs[:,i]) for i in range(len(eig_vals))]\n",
    "\n",
    "# Sort the (eigenvalue, eigenvector) tuples from high to low\n",
    "eig_pairs.sort()\n",
    "eig_pairs.reverse()\n",
    "\n",
    "# Visually confirm that the list is correctly sorted by decreasing eigenvalues\n",
    "print('Eigenvalues in descending order:')\n",
    "for i in eig_pairs:\n",
    "    print(i[0])"
   ]
  },
  {
   "cell_type": "markdown",
   "metadata": {},
   "source": [
    "After sorting the eigenpairs, the next question is \"how many principal components are we going to choose for our new feature subspace?\" A useful measure is the so-called \"explained variance,\" which can be calculated from the eigenvalues. The explained variance tells us how much information (variance) can be attributed to each of the principal components."
   ]
  },
  {
   "cell_type": "code",
   "execution_count": 26,
   "metadata": {},
   "outputs": [
    {
     "data": {
      "application/vnd.plotly.v1+json": {
       "data": [
        {
         "showlegend": false,
         "type": "bar",
         "x": [
          "PC 1",
          "PC 2",
          "PC 3",
          "PC 4"
         ],
         "y": [
          72.77045209380134,
          23.03052326768065,
          3.6838319576273775,
          0.5151926808906323
         ]
        },
        {
         "name": "cumulative explained variance",
         "type": "scatter",
         "x": [
          "PC 1",
          "PC 2",
          "PC 3",
          "PC 4"
         ],
         "y": [
          72.77045209380134,
          95.80097536148199,
          99.48480731910936,
          100
         ]
        }
       ],
       "layout": {
        "title": "Explained variance by different principal components",
        "yaxis": {
         "title": "Explained variance in percent"
        }
       }
      },
      "text/html": [
       "<div id=\"bcc380bf-d7c0-4ce5-8c00-7d670e0cd040\" style=\"height: 525px; width: 100%;\" class=\"plotly-graph-div\"></div><script type=\"text/javascript\">require([\"plotly\"], function(Plotly) { window.PLOTLYENV=window.PLOTLYENV || {};window.PLOTLYENV.BASE_URL=\"https://plot.ly\";Plotly.newPlot(\"bcc380bf-d7c0-4ce5-8c00-7d670e0cd040\", [{\"type\": \"bar\", \"x\": [\"PC 1\", \"PC 2\", \"PC 3\", \"PC 4\"], \"y\": [72.77045209380134, 23.03052326768065, 3.6838319576273775, 0.5151926808906323], \"showlegend\": false}, {\"type\": \"scatter\", \"x\": [\"PC 1\", \"PC 2\", \"PC 3\", \"PC 4\"], \"y\": [72.77045209380134, 95.80097536148199, 99.48480731910936, 100.0], \"name\": \"cumulative explained variance\"}], {\"yaxis\": {\"title\": \"Explained variance in percent\"}, \"title\": \"Explained variance by different principal components\"}, {\"showLink\": true, \"linkText\": \"Export to plot.ly\"})});</script>"
      ],
      "text/vnd.plotly.v1+html": [
       "<div id=\"bcc380bf-d7c0-4ce5-8c00-7d670e0cd040\" style=\"height: 525px; width: 100%;\" class=\"plotly-graph-div\"></div><script type=\"text/javascript\">require([\"plotly\"], function(Plotly) { window.PLOTLYENV=window.PLOTLYENV || {};window.PLOTLYENV.BASE_URL=\"https://plot.ly\";Plotly.newPlot(\"bcc380bf-d7c0-4ce5-8c00-7d670e0cd040\", [{\"type\": \"bar\", \"x\": [\"PC 1\", \"PC 2\", \"PC 3\", \"PC 4\"], \"y\": [72.77045209380134, 23.03052326768065, 3.6838319576273775, 0.5151926808906323], \"showlegend\": false}, {\"type\": \"scatter\", \"x\": [\"PC 1\", \"PC 2\", \"PC 3\", \"PC 4\"], \"y\": [72.77045209380134, 95.80097536148199, 99.48480731910936, 100.0], \"name\": \"cumulative explained variance\"}], {\"yaxis\": {\"title\": \"Explained variance in percent\"}, \"title\": \"Explained variance by different principal components\"}, {\"showLink\": true, \"linkText\": \"Export to plot.ly\"})});</script>"
      ]
     },
     "metadata": {},
     "output_type": "display_data"
    }
   ],
   "source": [
    "tot = sum(eig_vals)\n",
    "var_exp = [(i / tot)*100 for i in sorted(eig_vals, reverse=True)]\n",
    "cum_var_exp = np.cumsum(var_exp)\n",
    "\n",
    "trace1 = Bar(\n",
    "        x=['PC %s' %i for i in range(1,5)],\n",
    "        y=var_exp,\n",
    "        showlegend=False)\n",
    "\n",
    "trace2 = Scatter(\n",
    "        x=['PC %s' %i for i in range(1,5)], \n",
    "        y=cum_var_exp,\n",
    "        name='cumulative explained variance')\n",
    "\n",
    "data = Data([trace1, trace2])\n",
    "\n",
    "layout=Layout(\n",
    "        yaxis=YAxis(title='Explained variance in percent'),\n",
    "        title='Explained variance by different principal components')\n",
    "\n",
    "fig = Figure(data=data, layout=layout)\n",
    "iplot(fig)"
   ]
  },
  {
   "cell_type": "markdown",
   "metadata": {},
   "source": [
    "The plot above clearly shows that most of the variance (72.77% of the variance to be precise) can be explained by the first principal component alone. The second principal component still bears some information (23.03%) while the third and fourth principal components can safely be dropped without losing to much information. Together, the first two principal components contain 95.8% of the information."
   ]
  },
  {
   "cell_type": "markdown",
   "metadata": {},
   "source": [
    "It's about time to get to the really interesting part: The construction of the projection matrix that will be used to transform the Iris data onto the new feature subspace. Although, the name \"projection matrix\" has a nice ring to it, it is basically just a matrix of our concatenated top k eigenvectors.\n",
    "\n",
    "Here, we are reducing the 4-dimensional feature space to a 2-dimensional feature subspace, by choosing the \"top 2\" eigenvectors with the highest eigenvalues to construct our d×kd×k-dimensional eigenvector matrix WW."
   ]
  },
  {
   "cell_type": "code",
   "execution_count": 27,
   "metadata": {},
   "outputs": [
    {
     "name": "stdout",
     "output_type": "stream",
     "text": [
      "Matrix W:\n",
      " [[ 0.52237162 -0.37231836]\n",
      " [-0.26335492 -0.92555649]\n",
      " [ 0.58125401 -0.02109478]\n",
      " [ 0.56561105 -0.06541577]]\n"
     ]
    }
   ],
   "source": [
    "matrix_w = np.hstack((eig_pairs[0][1].reshape(4,1), \n",
    "                      eig_pairs[1][1].reshape(4,1)))\n",
    "\n",
    "print('Matrix W:\\n', matrix_w)"
   ]
  },
  {
   "cell_type": "markdown",
   "metadata": {},
   "source": [
    "## Projection on to the new feature space"
   ]
  },
  {
   "cell_type": "code",
   "execution_count": 28,
   "metadata": {},
   "outputs": [],
   "source": [
    "Y = X_std.dot(matrix_w)"
   ]
  },
  {
   "cell_type": "code",
   "execution_count": 30,
   "metadata": {},
   "outputs": [
    {
     "data": {
      "application/vnd.plotly.v1+json": {
       "data": [
        {
         "marker": {
          "line": {
           "color": "rgba(217, 217, 217, 0.14)",
           "width": 0.5
          },
          "opacity": 0.8,
          "size": 12
         },
         "mode": "markers",
         "name": "Iris-setosa",
         "type": "scatter",
         "x": [
          -2.2645417283949003,
          -2.086425500616158,
          -2.3679504490625254,
          -2.3041971611520085,
          -2.388777493505642,
          -2.0705368071805537,
          -2.445711339630283,
          -2.2338418587092654,
          -2.3419576764553893,
          -2.1886757552808698,
          -2.1634865562665233,
          -2.327377754134374,
          -2.2240827220450017,
          -2.6397162608446285,
          -2.19229150849843,
          -2.251465214584066,
          -2.202750480080086,
          -2.1901791637910524,
          -1.8940742930236687,
          -2.3399490704234083,
          -1.9145563949595172,
          -2.204645397533814,
          -2.7741697937051564,
          -1.8204115633372138,
          -2.228217499459725,
          -1.957024007341397,
          -2.0520633112766866,
          -2.1681936533450212,
          -2.140305963284158,
          -2.268790194387876,
          -2.1445544292771346,
          -1.8319381022015873,
          -2.6082028676633477,
          -2.4379508590951433,
          -2.1886757552808698,
          -2.211119896812422,
          -2.0444165193198005,
          -2.1886757552808698,
          -2.4359522029660186,
          -2.17054720188427,
          -2.2865272388409306,
          -1.8717072235369498,
          -2.5578344195375116,
          -1.9642792903547373,
          -2.1333728329200286,
          -2.075357592837306,
          -2.3812582168023733,
          -2.398191687662638,
          -2.226781213091519,
          -2.205954168648402
         ],
         "y": [
          -0.505703902773784,
          0.6554047293691374,
          0.31847731084724995,
          0.5753677125331962,
          -0.6747673967025146,
          -1.5185485598885125,
          -0.07456267500687341,
          -0.24761393175226443,
          1.095146362582956,
          0.44862904833756,
          -1.0705955760377255,
          -0.15858745465947532,
          0.7091181580302272,
          0.9382819821078549,
          -1.889978512316465,
          -2.7223710765744684,
          -1.513750282546218,
          -0.5143043082206922,
          -1.431110706941236,
          -1.1580334289850005,
          -0.4304651632801373,
          -0.9524573172889976,
          -0.4895170265034944,
          -0.1067507928354055,
          -0.1621861626661963,
          0.6078925674838088,
          -0.26601431198165454,
          -0.5520164953235391,
          -0.33664040884505353,
          0.31487860284052904,
          0.4839420967692597,
          -0.4452668355028064,
          -1.8284751927341008,
          -2.185391615630892,
          0.44862904833756,
          0.1843378105402796,
          -0.6849564262949358,
          0.44862904833756,
          0.8821694147756178,
          -0.2927269549664456,
          -0.46799171567093734,
          2.3276916061149113,
          0.4538163804897939,
          -0.4973916400183828,
          -1.1714321117742033,
          0.6919173471364107,
          -1.150632592873666,
          0.36239076472585785,
          -1.025482552823544,
          -0.03223784527377882
         ]
        },
        {
         "marker": {
          "line": {
           "color": "rgba(217, 217, 217, 0.14)",
           "width": 0.5
          },
          "opacity": 0.8,
          "size": 12
         },
         "mode": "markers",
         "name": "Iris-versicolor",
         "type": "scatter",
         "x": [
          1.1039936528045713,
          0.7324814400086803,
          1.2421095053189368,
          0.39730728282332783,
          1.0725939482015447,
          0.3844581461690018,
          0.7487150759515524,
          -0.49786338779811706,
          0.9262223675330976,
          0.004968025584319968,
          -0.12469746138036975,
          0.4387301177805467,
          0.5516339814225077,
          0.7171650662368512,
          -0.037258382965688064,
          0.8758905359406824,
          0.3480064019802088,
          0.15339254456866702,
          1.2153032092161542,
          0.15694117564425097,
          0.7382561043698959,
          0.47236968234456833,
          1.2279882140834424,
          0.6293810453149017,
          0.7004727992084578,
          0.873536987401433,
          1.2542221905224493,
          1.3582398473872712,
          0.6621261375659377,
          -0.047281513319879925,
          0.12153420888011918,
          0.01411822605138821,
          0.23601083732659697,
          1.0566914280905768,
          0.2214170883302182,
          0.4317831607410532,
          1.0494133552191796,
          1.0358782103228243,
          0.0670675998729805,
          0.2754250662518347,
          0.2723350662617725,
          0.6231705397262214,
          0.3300053638372267,
          -0.3736276226873752,
          0.2829443429551031,
          0.08905311031901153,
          0.22435678320860616,
          0.5738834855584667,
          -0.4570128725046742,
          0.25224447326946947
         ],
         "y": [
          -0.8631124458513235,
          -0.5986355733419965,
          -0.6148224496122858,
          1.758168947443527,
          0.21175790267989647,
          0.5910624686227373,
          -0.7786986113887815,
          1.8488687712754435,
          -0.030330826783380282,
          1.0294011124030886,
          2.6580626779617615,
          0.05888128502145509,
          1.772581564856256,
          0.18543431450504463,
          0.4327950987141697,
          -0.5099981510591467,
          0.1906216466572785,
          0.7907254562344862,
          1.633355644515484,
          1.303103270172912,
          -0.40247038161853527,
          0.41660822244388035,
          0.9409147925302733,
          0.41681164254177294,
          0.06349392765170309,
          -0.25070861070205314,
          0.08262009981311341,
          -0.3288202662704013,
          0.22434607094346493,
          1.0572124126050213,
          1.5635923798655789,
          1.5733923546480608,
          0.7759237840118173,
          0.6369012837689378,
          0.28084769308564084,
          -0.8551369202180021,
          -0.5221972645127759,
          1.3924664843877816,
          0.2126207348933895,
          1.329815913157703,
          1.119441524119405,
          -0.027542633302293673,
          0.9889007318191556,
          2.017932265204174,
          0.8539507169865508,
          0.17490854779054246,
          0.3804846594865462,
          0.1537199740800658,
          1.5394645102639815,
          0.5958607459650318
         ]
        },
        {
         "marker": {
          "line": {
           "color": "rgba(217, 217, 217, 0.14)",
           "width": 0.5
          },
          "opacity": 0.8,
          "size": 12
         },
         "mode": "markers",
         "name": "Iris-virginica",
         "type": "scatter",
         "x": [
          1.8476725943096641,
          1.1531898082521295,
          2.2063494971265927,
          1.4386854023261817,
          1.8678907025555844,
          2.7541967088257513,
          0.3583744748416689,
          2.3030058981503183,
          2.0017352992189164,
          2.2675545991022674,
          1.3659094292022138,
          1.5990645856518693,
          1.8842518537520738,
          1.2530865143775924,
          1.4640615229856233,
          1.5918093026385285,
          1.4712801894655434,
          2.4373784821935067,
          3.3091411826760786,
          1.2539809866905784,
          2.0404962596630383,
          0.9739151144704743,
          2.8980644358432754,
          1.3291936913234934,
          1.7042407085196054,
          1.9577276617934343,
          1.1719045079878687,
          1.019781052816263,
          1.786008861248468,
          1.8647779127074653,
          2.4354973914151428,
          2.316082411961153,
          1.860371425852316,
          1.111271725675969,
          1.1974691551180379,
          2.8009494037340277,
          1.580155248520537,
          1.3470444243548014,
          0.9234329777663843,
          1.85355198406644,
          2.0161572006777586,
          1.9031168585994866,
          1.1531898082521295,
          2.043308439287809,
          2.0016909669349974,
          1.8705220714601252,
          1.5584918907237173,
          1.5208450639985902,
          1.376391190641928,
          0.9592985756160382
         ],
         "y": [
          -0.8716966617734127,
          0.7013261138565761,
          -0.5544701049349221,
          0.05001052226888622,
          -0.29119280176116863,
          -0.7884322063548443,
          1.5600945839772902,
          -0.4095166952219428,
          0.7238653593126602,
          -1.9214429914653546,
          -0.6939480398041605,
          0.4282488359003404,
          -0.4143327579500834,
          1.1673913352452465,
          0.444147569479124,
          -0.6770353716018512,
          -0.2531924719668149,
          -2.5567573414948015,
          0.002361320102083564,
          1.7175838442659785,
          -0.9073987650150526,
          0.5711743763662668,
          -0.3977913591718676,
          0.48676054190372475,
          -1.0141484248357846,
          -1.0033345154297766,
          0.3188966173105685,
          -0.06554296309664742,
          0.193272799856892,
          -0.555381531578989,
          -0.24665446806897345,
          -2.626183869022627,
          0.1846723944099838,
          0.295986102430391,
          0.8171677419136167,
          -0.8447481937849741,
          -1.0724744961271218,
          -0.4222559658955456,
          -0.019230370546892583,
          -0.6724227289716033,
          -0.6103970375551124,
          -0.6860248318586987,
          0.7013261138565761,
          -0.8646848804720183,
          -1.0485500466234172,
          -0.3828218376229977,
          0.9053136014070668,
          -0.2667945748539103,
          -1.0163619287948853,
          0.022283944660567635
         ]
        }
       ],
       "layout": {
        "scene": {
         "xaxis": {
          "title": "PC1"
         },
         "yaxis": {
          "title": "PC2"
         }
        },
        "showlegend": true
       }
      },
      "text/html": [
       "<div id=\"bb96d063-8134-4f71-aa2f-735274cfb85c\" style=\"height: 525px; width: 100%;\" class=\"plotly-graph-div\"></div><script type=\"text/javascript\">require([\"plotly\"], function(Plotly) { window.PLOTLYENV=window.PLOTLYENV || {};window.PLOTLYENV.BASE_URL=\"https://plot.ly\";Plotly.newPlot(\"bb96d063-8134-4f71-aa2f-735274cfb85c\", [{\"type\": \"scatter\", \"x\": [-2.2645417283949003, -2.086425500616158, -2.3679504490625254, -2.3041971611520085, -2.388777493505642, -2.0705368071805537, -2.445711339630283, -2.2338418587092654, -2.3419576764553893, -2.1886757552808698, -2.1634865562665233, -2.327377754134374, -2.2240827220450017, -2.6397162608446285, -2.19229150849843, -2.251465214584066, -2.202750480080086, -2.1901791637910524, -1.8940742930236687, -2.3399490704234083, -1.9145563949595172, -2.204645397533814, -2.7741697937051564, -1.8204115633372138, -2.228217499459725, -1.957024007341397, -2.0520633112766866, -2.1681936533450212, -2.140305963284158, -2.268790194387876, -2.1445544292771346, -1.8319381022015873, -2.6082028676633477, -2.4379508590951433, -2.1886757552808698, -2.211119896812422, -2.0444165193198005, -2.1886757552808698, -2.4359522029660186, -2.17054720188427, -2.2865272388409306, -1.8717072235369498, -2.5578344195375116, -1.9642792903547373, -2.1333728329200286, -2.075357592837306, -2.3812582168023733, -2.398191687662638, -2.226781213091519, -2.205954168648402], \"y\": [-0.505703902773784, 0.6554047293691374, 0.31847731084724995, 0.5753677125331962, -0.6747673967025146, -1.5185485598885125, -0.07456267500687341, -0.24761393175226443, 1.095146362582956, 0.44862904833756, -1.0705955760377255, -0.15858745465947532, 0.7091181580302272, 0.9382819821078549, -1.889978512316465, -2.7223710765744684, -1.513750282546218, -0.5143043082206922, -1.431110706941236, -1.1580334289850005, -0.4304651632801373, -0.9524573172889976, -0.4895170265034944, -0.1067507928354055, -0.1621861626661963, 0.6078925674838088, -0.26601431198165454, -0.5520164953235391, -0.33664040884505353, 0.31487860284052904, 0.4839420967692597, -0.4452668355028064, -1.8284751927341008, -2.185391615630892, 0.44862904833756, 0.1843378105402796, -0.6849564262949358, 0.44862904833756, 0.8821694147756178, -0.2927269549664456, -0.46799171567093734, 2.3276916061149113, 0.4538163804897939, -0.4973916400183828, -1.1714321117742033, 0.6919173471364107, -1.150632592873666, 0.36239076472585785, -1.025482552823544, -0.03223784527377882], \"mode\": \"markers\", \"name\": \"Iris-setosa\", \"marker\": {\"size\": 12, \"line\": {\"color\": \"rgba(217, 217, 217, 0.14)\", \"width\": 0.5}, \"opacity\": 0.8}}, {\"type\": \"scatter\", \"x\": [1.1039936528045713, 0.7324814400086803, 1.2421095053189368, 0.39730728282332783, 1.0725939482015447, 0.3844581461690018, 0.7487150759515524, -0.49786338779811706, 0.9262223675330976, 0.004968025584319968, -0.12469746138036975, 0.4387301177805467, 0.5516339814225077, 0.7171650662368512, -0.037258382965688064, 0.8758905359406824, 0.3480064019802088, 0.15339254456866702, 1.2153032092161542, 0.15694117564425097, 0.7382561043698959, 0.47236968234456833, 1.2279882140834424, 0.6293810453149017, 0.7004727992084578, 0.873536987401433, 1.2542221905224493, 1.3582398473872712, 0.6621261375659377, -0.047281513319879925, 0.12153420888011918, 0.01411822605138821, 0.23601083732659697, 1.0566914280905768, 0.2214170883302182, 0.4317831607410532, 1.0494133552191796, 1.0358782103228243, 0.0670675998729805, 0.2754250662518347, 0.2723350662617725, 0.6231705397262214, 0.3300053638372267, -0.3736276226873752, 0.2829443429551031, 0.08905311031901153, 0.22435678320860616, 0.5738834855584667, -0.4570128725046742, 0.25224447326946947], \"y\": [-0.8631124458513235, -0.5986355733419965, -0.6148224496122858, 1.758168947443527, 0.21175790267989647, 0.5910624686227373, -0.7786986113887815, 1.8488687712754435, -0.030330826783380282, 1.0294011124030886, 2.6580626779617615, 0.05888128502145509, 1.772581564856256, 0.18543431450504463, 0.4327950987141697, -0.5099981510591467, 0.1906216466572785, 0.7907254562344862, 1.633355644515484, 1.303103270172912, -0.40247038161853527, 0.41660822244388035, 0.9409147925302733, 0.41681164254177294, 0.06349392765170309, -0.25070861070205314, 0.08262009981311341, -0.3288202662704013, 0.22434607094346493, 1.0572124126050213, 1.5635923798655789, 1.5733923546480608, 0.7759237840118173, 0.6369012837689378, 0.28084769308564084, -0.8551369202180021, -0.5221972645127759, 1.3924664843877816, 0.2126207348933895, 1.329815913157703, 1.119441524119405, -0.027542633302293673, 0.9889007318191556, 2.017932265204174, 0.8539507169865508, 0.17490854779054246, 0.3804846594865462, 0.1537199740800658, 1.5394645102639815, 0.5958607459650318], \"mode\": \"markers\", \"name\": \"Iris-versicolor\", \"marker\": {\"size\": 12, \"line\": {\"color\": \"rgba(217, 217, 217, 0.14)\", \"width\": 0.5}, \"opacity\": 0.8}}, {\"type\": \"scatter\", \"x\": [1.8476725943096641, 1.1531898082521295, 2.2063494971265927, 1.4386854023261817, 1.8678907025555844, 2.7541967088257513, 0.3583744748416689, 2.3030058981503183, 2.0017352992189164, 2.2675545991022674, 1.3659094292022138, 1.5990645856518693, 1.8842518537520738, 1.2530865143775924, 1.4640615229856233, 1.5918093026385285, 1.4712801894655434, 2.4373784821935067, 3.3091411826760786, 1.2539809866905784, 2.0404962596630383, 0.9739151144704743, 2.8980644358432754, 1.3291936913234934, 1.7042407085196054, 1.9577276617934343, 1.1719045079878687, 1.019781052816263, 1.786008861248468, 1.8647779127074653, 2.4354973914151428, 2.316082411961153, 1.860371425852316, 1.111271725675969, 1.1974691551180379, 2.8009494037340277, 1.580155248520537, 1.3470444243548014, 0.9234329777663843, 1.85355198406644, 2.0161572006777586, 1.9031168585994866, 1.1531898082521295, 2.043308439287809, 2.0016909669349974, 1.8705220714601252, 1.5584918907237173, 1.5208450639985902, 1.376391190641928, 0.9592985756160382], \"y\": [-0.8716966617734127, 0.7013261138565761, -0.5544701049349221, 0.05001052226888622, -0.29119280176116863, -0.7884322063548443, 1.5600945839772902, -0.4095166952219428, 0.7238653593126602, -1.9214429914653546, -0.6939480398041605, 0.4282488359003404, -0.4143327579500834, 1.1673913352452465, 0.444147569479124, -0.6770353716018512, -0.2531924719668149, -2.5567573414948015, 0.002361320102083564, 1.7175838442659785, -0.9073987650150526, 0.5711743763662668, -0.3977913591718676, 0.48676054190372475, -1.0141484248357846, -1.0033345154297766, 0.3188966173105685, -0.06554296309664742, 0.193272799856892, -0.555381531578989, -0.24665446806897345, -2.626183869022627, 0.1846723944099838, 0.295986102430391, 0.8171677419136167, -0.8447481937849741, -1.0724744961271218, -0.4222559658955456, -0.019230370546892583, -0.6724227289716033, -0.6103970375551124, -0.6860248318586987, 0.7013261138565761, -0.8646848804720183, -1.0485500466234172, -0.3828218376229977, 0.9053136014070668, -0.2667945748539103, -1.0163619287948853, 0.022283944660567635], \"mode\": \"markers\", \"name\": \"Iris-virginica\", \"marker\": {\"size\": 12, \"line\": {\"color\": \"rgba(217, 217, 217, 0.14)\", \"width\": 0.5}, \"opacity\": 0.8}}], {\"showlegend\": true, \"scene\": {\"xaxis\": {\"title\": \"PC1\"}, \"yaxis\": {\"title\": \"PC2\"}}}, {\"showLink\": true, \"linkText\": \"Export to plot.ly\"})});</script>"
      ],
      "text/vnd.plotly.v1+html": [
       "<div id=\"bb96d063-8134-4f71-aa2f-735274cfb85c\" style=\"height: 525px; width: 100%;\" class=\"plotly-graph-div\"></div><script type=\"text/javascript\">require([\"plotly\"], function(Plotly) { window.PLOTLYENV=window.PLOTLYENV || {};window.PLOTLYENV.BASE_URL=\"https://plot.ly\";Plotly.newPlot(\"bb96d063-8134-4f71-aa2f-735274cfb85c\", [{\"type\": \"scatter\", \"x\": [-2.2645417283949003, -2.086425500616158, -2.3679504490625254, -2.3041971611520085, -2.388777493505642, -2.0705368071805537, -2.445711339630283, -2.2338418587092654, -2.3419576764553893, -2.1886757552808698, -2.1634865562665233, -2.327377754134374, -2.2240827220450017, -2.6397162608446285, -2.19229150849843, -2.251465214584066, -2.202750480080086, -2.1901791637910524, -1.8940742930236687, -2.3399490704234083, -1.9145563949595172, -2.204645397533814, -2.7741697937051564, -1.8204115633372138, -2.228217499459725, -1.957024007341397, -2.0520633112766866, -2.1681936533450212, -2.140305963284158, -2.268790194387876, -2.1445544292771346, -1.8319381022015873, -2.6082028676633477, -2.4379508590951433, -2.1886757552808698, -2.211119896812422, -2.0444165193198005, -2.1886757552808698, -2.4359522029660186, -2.17054720188427, -2.2865272388409306, -1.8717072235369498, -2.5578344195375116, -1.9642792903547373, -2.1333728329200286, -2.075357592837306, -2.3812582168023733, -2.398191687662638, -2.226781213091519, -2.205954168648402], \"y\": [-0.505703902773784, 0.6554047293691374, 0.31847731084724995, 0.5753677125331962, -0.6747673967025146, -1.5185485598885125, -0.07456267500687341, -0.24761393175226443, 1.095146362582956, 0.44862904833756, -1.0705955760377255, -0.15858745465947532, 0.7091181580302272, 0.9382819821078549, -1.889978512316465, -2.7223710765744684, -1.513750282546218, -0.5143043082206922, -1.431110706941236, -1.1580334289850005, -0.4304651632801373, -0.9524573172889976, -0.4895170265034944, -0.1067507928354055, -0.1621861626661963, 0.6078925674838088, -0.26601431198165454, -0.5520164953235391, -0.33664040884505353, 0.31487860284052904, 0.4839420967692597, -0.4452668355028064, -1.8284751927341008, -2.185391615630892, 0.44862904833756, 0.1843378105402796, -0.6849564262949358, 0.44862904833756, 0.8821694147756178, -0.2927269549664456, -0.46799171567093734, 2.3276916061149113, 0.4538163804897939, -0.4973916400183828, -1.1714321117742033, 0.6919173471364107, -1.150632592873666, 0.36239076472585785, -1.025482552823544, -0.03223784527377882], \"mode\": \"markers\", \"name\": \"Iris-setosa\", \"marker\": {\"size\": 12, \"line\": {\"color\": \"rgba(217, 217, 217, 0.14)\", \"width\": 0.5}, \"opacity\": 0.8}}, {\"type\": \"scatter\", \"x\": [1.1039936528045713, 0.7324814400086803, 1.2421095053189368, 0.39730728282332783, 1.0725939482015447, 0.3844581461690018, 0.7487150759515524, -0.49786338779811706, 0.9262223675330976, 0.004968025584319968, -0.12469746138036975, 0.4387301177805467, 0.5516339814225077, 0.7171650662368512, -0.037258382965688064, 0.8758905359406824, 0.3480064019802088, 0.15339254456866702, 1.2153032092161542, 0.15694117564425097, 0.7382561043698959, 0.47236968234456833, 1.2279882140834424, 0.6293810453149017, 0.7004727992084578, 0.873536987401433, 1.2542221905224493, 1.3582398473872712, 0.6621261375659377, -0.047281513319879925, 0.12153420888011918, 0.01411822605138821, 0.23601083732659697, 1.0566914280905768, 0.2214170883302182, 0.4317831607410532, 1.0494133552191796, 1.0358782103228243, 0.0670675998729805, 0.2754250662518347, 0.2723350662617725, 0.6231705397262214, 0.3300053638372267, -0.3736276226873752, 0.2829443429551031, 0.08905311031901153, 0.22435678320860616, 0.5738834855584667, -0.4570128725046742, 0.25224447326946947], \"y\": [-0.8631124458513235, -0.5986355733419965, -0.6148224496122858, 1.758168947443527, 0.21175790267989647, 0.5910624686227373, -0.7786986113887815, 1.8488687712754435, -0.030330826783380282, 1.0294011124030886, 2.6580626779617615, 0.05888128502145509, 1.772581564856256, 0.18543431450504463, 0.4327950987141697, -0.5099981510591467, 0.1906216466572785, 0.7907254562344862, 1.633355644515484, 1.303103270172912, -0.40247038161853527, 0.41660822244388035, 0.9409147925302733, 0.41681164254177294, 0.06349392765170309, -0.25070861070205314, 0.08262009981311341, -0.3288202662704013, 0.22434607094346493, 1.0572124126050213, 1.5635923798655789, 1.5733923546480608, 0.7759237840118173, 0.6369012837689378, 0.28084769308564084, -0.8551369202180021, -0.5221972645127759, 1.3924664843877816, 0.2126207348933895, 1.329815913157703, 1.119441524119405, -0.027542633302293673, 0.9889007318191556, 2.017932265204174, 0.8539507169865508, 0.17490854779054246, 0.3804846594865462, 0.1537199740800658, 1.5394645102639815, 0.5958607459650318], \"mode\": \"markers\", \"name\": \"Iris-versicolor\", \"marker\": {\"size\": 12, \"line\": {\"color\": \"rgba(217, 217, 217, 0.14)\", \"width\": 0.5}, \"opacity\": 0.8}}, {\"type\": \"scatter\", \"x\": [1.8476725943096641, 1.1531898082521295, 2.2063494971265927, 1.4386854023261817, 1.8678907025555844, 2.7541967088257513, 0.3583744748416689, 2.3030058981503183, 2.0017352992189164, 2.2675545991022674, 1.3659094292022138, 1.5990645856518693, 1.8842518537520738, 1.2530865143775924, 1.4640615229856233, 1.5918093026385285, 1.4712801894655434, 2.4373784821935067, 3.3091411826760786, 1.2539809866905784, 2.0404962596630383, 0.9739151144704743, 2.8980644358432754, 1.3291936913234934, 1.7042407085196054, 1.9577276617934343, 1.1719045079878687, 1.019781052816263, 1.786008861248468, 1.8647779127074653, 2.4354973914151428, 2.316082411961153, 1.860371425852316, 1.111271725675969, 1.1974691551180379, 2.8009494037340277, 1.580155248520537, 1.3470444243548014, 0.9234329777663843, 1.85355198406644, 2.0161572006777586, 1.9031168585994866, 1.1531898082521295, 2.043308439287809, 2.0016909669349974, 1.8705220714601252, 1.5584918907237173, 1.5208450639985902, 1.376391190641928, 0.9592985756160382], \"y\": [-0.8716966617734127, 0.7013261138565761, -0.5544701049349221, 0.05001052226888622, -0.29119280176116863, -0.7884322063548443, 1.5600945839772902, -0.4095166952219428, 0.7238653593126602, -1.9214429914653546, -0.6939480398041605, 0.4282488359003404, -0.4143327579500834, 1.1673913352452465, 0.444147569479124, -0.6770353716018512, -0.2531924719668149, -2.5567573414948015, 0.002361320102083564, 1.7175838442659785, -0.9073987650150526, 0.5711743763662668, -0.3977913591718676, 0.48676054190372475, -1.0141484248357846, -1.0033345154297766, 0.3188966173105685, -0.06554296309664742, 0.193272799856892, -0.555381531578989, -0.24665446806897345, -2.626183869022627, 0.1846723944099838, 0.295986102430391, 0.8171677419136167, -0.8447481937849741, -1.0724744961271218, -0.4222559658955456, -0.019230370546892583, -0.6724227289716033, -0.6103970375551124, -0.6860248318586987, 0.7013261138565761, -0.8646848804720183, -1.0485500466234172, -0.3828218376229977, 0.9053136014070668, -0.2667945748539103, -1.0163619287948853, 0.022283944660567635], \"mode\": \"markers\", \"name\": \"Iris-virginica\", \"marker\": {\"size\": 12, \"line\": {\"color\": \"rgba(217, 217, 217, 0.14)\", \"width\": 0.5}, \"opacity\": 0.8}}], {\"showlegend\": true, \"scene\": {\"xaxis\": {\"title\": \"PC1\"}, \"yaxis\": {\"title\": \"PC2\"}}}, {\"showLink\": true, \"linkText\": \"Export to plot.ly\"})});</script>"
      ]
     },
     "metadata": {},
     "output_type": "display_data"
    }
   ],
   "source": [
    "traces = []\n",
    "\n",
    "for name in ('Iris-setosa', 'Iris-versicolor', 'Iris-virginica'):\n",
    "\n",
    "    trace = Scatter(\n",
    "        x=Y[y==name,0],\n",
    "        y=Y[y==name,1],\n",
    "        mode='markers',\n",
    "        name=name,\n",
    "        marker=Marker(\n",
    "            size=12,\n",
    "            line=Line(\n",
    "                color='rgba(217, 217, 217, 0.14)',\n",
    "                width=0.5),\n",
    "            opacity=0.8))\n",
    "    traces.append(trace)\n",
    "\n",
    "\n",
    "data = Data(traces)\n",
    "layout = Layout(showlegend=True,\n",
    "                scene=Scene(xaxis=XAxis(title='PC1'),\n",
    "                yaxis=YAxis(title='PC2'),))\n",
    "\n",
    "fig = Figure(data=data, layout=layout)\n",
    "iplot(fig)"
   ]
  },
  {
   "cell_type": "markdown",
   "metadata": {},
   "source": [
    "### Scikit learn implementation"
   ]
  },
  {
   "cell_type": "code",
   "execution_count": 31,
   "metadata": {},
   "outputs": [],
   "source": [
    "from sklearn.decomposition import PCA as sklearnPCA\n",
    "sklearn_pca = sklearnPCA(n_components=2)\n",
    "Y_sklearn = sklearn_pca.fit_transform(X_std)"
   ]
  },
  {
   "cell_type": "code",
   "execution_count": 32,
   "metadata": {},
   "outputs": [
    {
     "data": {
      "application/vnd.plotly.v1+json": {
       "data": [
        {
         "marker": {
          "line": {
           "color": "rgba(217, 217, 217, 0.14)",
           "width": 0.5
          },
          "opacity": 0.8,
          "size": 12
         },
         "mode": "markers",
         "name": "Iris-setosa",
         "type": "scatter",
         "x": [
          -2.264541728394902,
          -2.086425500616159,
          -2.3679504490625254,
          -2.30419716115201,
          -2.3887774935056427,
          -2.070536807180554,
          -2.4457113396302845,
          -2.2338418587092663,
          -2.3419576764553907,
          -2.1886757552808707,
          -2.1634865562665233,
          -2.3273777541343748,
          -2.224082722045003,
          -2.63971626084463,
          -2.19229150849843,
          -2.2514652145840657,
          -2.2027504800800863,
          -2.1901791637910524,
          -1.8940742930236685,
          -2.3399490704234087,
          -1.9145563949595175,
          -2.204645397533814,
          -2.7741697937051573,
          -1.8204115633372144,
          -2.228217499459726,
          -1.9570240073413974,
          -2.052063311276687,
          -2.1681936533450217,
          -2.1403059632841583,
          -2.2687901943878774,
          -2.1445544292771355,
          -1.8319381022015875,
          -2.6082028676633486,
          -2.437950859095143,
          -2.1886757552808707,
          -2.2111198968124226,
          -2.0444165193198005,
          -2.1886757552808707,
          -2.4359522029660203,
          -2.1705472018842706,
          -2.2865272388409306,
          -1.8717072235369512,
          -2.5578344195375133,
          -1.9642792903547375,
          -2.1333728329200286,
          -2.075357592837307,
          -2.3812582168023733,
          -2.3981916876626395,
          -2.226781213091519,
          -2.205954168648403
         ],
         "y": [
          0.5057039027737856,
          -0.6554047293691372,
          -0.3184773108472486,
          -0.575367712533195,
          0.6747673967025161,
          1.5185485598885144,
          0.0745626750068747,
          0.24761393175226584,
          -1.0951463625829554,
          -0.4486290483375586,
          1.0705955760377275,
          0.15858745465947663,
          -0.7091181580302259,
          -0.9382819821078539,
          1.8899785123164672,
          2.7223710765744706,
          1.5137502825462201,
          0.5143043082206935,
          1.4311107069412379,
          1.158033428985002,
          0.4304651632801388,
          0.9524573172889991,
          0.4895170265034958,
          0.10675079283540656,
          0.16218616266619756,
          -0.6078925674838078,
          0.2660143119816558,
          0.5520164953235407,
          0.33664040884505503,
          -0.3148786028405278,
          -0.4839420967692586,
          0.4452668355028077,
          1.8284751927341027,
          2.185391615630894,
          -0.4486290483375586,
          -0.18433781054027834,
          0.6849564262949374,
          -0.4486290483375586,
          -0.8821694147756167,
          0.29272695496644696,
          0.4679917156709386,
          -2.327691606114911,
          -0.4538163804897928,
          0.49739164001838393,
          1.171432111774205,
          -0.6919173471364097,
          1.1506325928736676,
          -0.36239076472585663,
          1.0254825528235456,
          0.03223784527378008
         ]
        },
        {
         "marker": {
          "line": {
           "color": "rgba(217, 217, 217, 0.14)",
           "width": 0.5
          },
          "opacity": 0.8,
          "size": 12
         },
         "mode": "markers",
         "name": "Iris-versicolor",
         "type": "scatter",
         "x": [
          1.1039936528045726,
          0.7324814400086809,
          1.242109505318938,
          0.39730728282332745,
          1.0725939482015456,
          0.3844581461690015,
          0.7487150759515532,
          -0.49786338779811823,
          0.9262223675330985,
          0.004968025584319044,
          -0.12469746138037077,
          0.43873011778054677,
          0.5516339814225081,
          0.7171650662368515,
          -0.03725838296568836,
          0.8758905359406833,
          0.3480064019802087,
          0.1533925445686671,
          1.2153032092161544,
          0.15694117564425075,
          0.738256104369896,
          0.4723696823445687,
          1.2279882140834428,
          0.629381045314902,
          0.7004727992084585,
          0.8735369874014338,
          1.2542221905224507,
          1.3582398473872723,
          0.6621261375659379,
          -0.04728151331988012,
          0.12153420888011873,
          0.014118226051387794,
          0.23601083732659697,
          1.0566914280905768,
          0.2214170883302177,
          0.43178316074105344,
          1.0494133552191804,
          1.0358782103228248,
          0.06706759987298026,
          0.2754250662518342,
          0.2723350662617719,
          0.6231705397262217,
          0.3300053638372266,
          -0.3736276226873761,
          0.28294434295510285,
          0.08905311031901136,
          0.224356783208606,
          0.573883485558467,
          -0.4570128725046748,
          0.25224447326946925
         ],
         "y": [
          0.8631124458513246,
          0.5986355733419975,
          0.6148224496122867,
          -1.7581689474435267,
          -0.2117579026798959,
          -0.5910624686227366,
          0.7786986113887825,
          -1.8488687712754432,
          0.03033082678338099,
          -1.0294011124030882,
          -2.658062677961762,
          -0.05888128502145447,
          -1.772581564856256,
          -0.185434314505044,
          -0.43279509871416905,
          0.5099981510591476,
          -0.19062164665727788,
          -0.7907254562344859,
          -1.6333556445154838,
          -1.3031032701729117,
          0.4024703816185359,
          -0.4166082224438798,
          -0.9409147925302725,
          -0.4168116425417724,
          -0.06349392765170236,
          0.2507086107020539,
          -0.08262009981311272,
          0.3288202662704019,
          -0.2243460709434644,
          -1.0572124126050206,
          -1.5635923798655786,
          -1.5733923546480604,
          -0.7759237840118168,
          -0.6369012837689374,
          -0.28084769308564034,
          0.8551369202180029,
          0.5221972645127767,
          -1.3924664843877812,
          -0.21262073489338879,
          -1.3298159131577025,
          -1.1194415241194042,
          0.027542633302294412,
          -0.9889007318191554,
          -2.017932265204174,
          -0.8539507169865503,
          -0.1749085477905417,
          -0.3804846594865457,
          -0.1537199740800651,
          -1.5394645102639812,
          -0.5958607459650311
         ]
        },
        {
         "marker": {
          "line": {
           "color": "rgba(217, 217, 217, 0.14)",
           "width": 0.5
          },
          "opacity": 0.8,
          "size": 12
         },
         "mode": "markers",
         "name": "Iris-virginica",
         "type": "scatter",
         "x": [
          1.8476725943096644,
          1.1531898082521295,
          2.206349497126594,
          1.4386854023261826,
          1.8678907025555853,
          2.7541967088257535,
          0.3583744748416677,
          2.3030058981503196,
          2.0017352992189172,
          2.2675545991022688,
          1.3659094292022147,
          1.5990645856518697,
          1.884251853752075,
          1.253086514377592,
          1.464061522985623,
          1.591809302638529,
          1.4712801894655443,
          2.437378482193509,
          3.30914118267608,
          1.2539809866905787,
          2.0404962596630396,
          0.9739151144704739,
          2.8980644358432777,
          1.329193691323494,
          1.704240708519606,
          1.9577276617934363,
          1.171904507987869,
          1.0197810528162632,
          1.7860088612484688,
          1.8647779127074668,
          2.435497391415144,
          2.3160824119611547,
          1.8603714258523165,
          1.1112717256759694,
          1.197469155118038,
          2.80094940373403,
          1.5801552485205375,
          1.3470444243548023,
          0.9234329777663843,
          1.8535519840664412,
          2.0161572006777595,
          1.9031168585994875,
          1.1531898082521295,
          2.04330843928781,
          2.0016909669349983,
          1.8705220714601263,
          1.558491890723718,
          1.5208450639985909,
          1.376391190641928,
          0.959298575616038
         ],
         "y": [
          0.871696661773413,
          -0.7013261138565761,
          0.5544701049349227,
          -0.050010522268885686,
          0.29119280176116896,
          0.7884322063548451,
          -1.5600945839772897,
          0.40951669522194345,
          -0.72386535931266,
          1.921442991465355,
          0.6939480398041612,
          -0.42824883590033996,
          0.41433275795008384,
          -1.1673913352452463,
          -0.4441475694791239,
          0.6770353716018517,
          0.2531924719668155,
          2.5567573414948024,
          -0.0023613201020834837,
          -1.7175838442659785,
          0.907398765015053,
          -0.5711743763662667,
          0.39779135917186803,
          -0.4867605419037244,
          1.0141484248357853,
          1.0033345154297775,
          -0.3188966173105681,
          0.06554296309664795,
          -0.19327279985689172,
          0.5553815315789898,
          0.24665446806897393,
          2.6261838690226282,
          -0.18467239440998356,
          -0.2959861024303905,
          -0.817167741913616,
          0.8447481937849745,
          1.0724744961271222,
          0.4222559658955462,
          0.019230370546893055,
          0.6724227289716038,
          0.6103970375551128,
          0.686024831858699,
          -0.7013261138565761,
          0.864684880472019,
          1.0485500466234177,
          0.382821837622998,
          -0.9053136014070666,
          0.2667945748539107,
          1.0163619287948857,
          -0.022283944660567143
         ]
        }
       ],
       "layout": {
        "xaxis": {
         "showline": false,
         "title": "PC1"
        },
        "yaxis": {
         "showline": false,
         "title": "PC2"
        }
       }
      },
      "text/html": [
       "<div id=\"24298280-6736-4960-ae87-e0f671221344\" style=\"height: 525px; width: 100%;\" class=\"plotly-graph-div\"></div><script type=\"text/javascript\">require([\"plotly\"], function(Plotly) { window.PLOTLYENV=window.PLOTLYENV || {};window.PLOTLYENV.BASE_URL=\"https://plot.ly\";Plotly.newPlot(\"24298280-6736-4960-ae87-e0f671221344\", [{\"type\": \"scatter\", \"x\": [-2.264541728394902, -2.086425500616159, -2.3679504490625254, -2.30419716115201, -2.3887774935056427, -2.070536807180554, -2.4457113396302845, -2.2338418587092663, -2.3419576764553907, -2.1886757552808707, -2.1634865562665233, -2.3273777541343748, -2.224082722045003, -2.63971626084463, -2.19229150849843, -2.2514652145840657, -2.2027504800800863, -2.1901791637910524, -1.8940742930236685, -2.3399490704234087, -1.9145563949595175, -2.204645397533814, -2.7741697937051573, -1.8204115633372144, -2.228217499459726, -1.9570240073413974, -2.052063311276687, -2.1681936533450217, -2.1403059632841583, -2.2687901943878774, -2.1445544292771355, -1.8319381022015875, -2.6082028676633486, -2.437950859095143, -2.1886757552808707, -2.2111198968124226, -2.0444165193198005, -2.1886757552808707, -2.4359522029660203, -2.1705472018842706, -2.2865272388409306, -1.8717072235369512, -2.5578344195375133, -1.9642792903547375, -2.1333728329200286, -2.075357592837307, -2.3812582168023733, -2.3981916876626395, -2.226781213091519, -2.205954168648403], \"y\": [0.5057039027737856, -0.6554047293691372, -0.3184773108472486, -0.575367712533195, 0.6747673967025161, 1.5185485598885144, 0.0745626750068747, 0.24761393175226584, -1.0951463625829554, -0.4486290483375586, 1.0705955760377275, 0.15858745465947663, -0.7091181580302259, -0.9382819821078539, 1.8899785123164672, 2.7223710765744706, 1.5137502825462201, 0.5143043082206935, 1.4311107069412379, 1.158033428985002, 0.4304651632801388, 0.9524573172889991, 0.4895170265034958, 0.10675079283540656, 0.16218616266619756, -0.6078925674838078, 0.2660143119816558, 0.5520164953235407, 0.33664040884505503, -0.3148786028405278, -0.4839420967692586, 0.4452668355028077, 1.8284751927341027, 2.185391615630894, -0.4486290483375586, -0.18433781054027834, 0.6849564262949374, -0.4486290483375586, -0.8821694147756167, 0.29272695496644696, 0.4679917156709386, -2.327691606114911, -0.4538163804897928, 0.49739164001838393, 1.171432111774205, -0.6919173471364097, 1.1506325928736676, -0.36239076472585663, 1.0254825528235456, 0.03223784527378008], \"mode\": \"markers\", \"name\": \"Iris-setosa\", \"marker\": {\"size\": 12, \"line\": {\"color\": \"rgba(217, 217, 217, 0.14)\", \"width\": 0.5}, \"opacity\": 0.8}}, {\"type\": \"scatter\", \"x\": [1.1039936528045726, 0.7324814400086809, 1.242109505318938, 0.39730728282332745, 1.0725939482015456, 0.3844581461690015, 0.7487150759515532, -0.49786338779811823, 0.9262223675330985, 0.004968025584319044, -0.12469746138037077, 0.43873011778054677, 0.5516339814225081, 0.7171650662368515, -0.03725838296568836, 0.8758905359406833, 0.3480064019802087, 0.1533925445686671, 1.2153032092161544, 0.15694117564425075, 0.738256104369896, 0.4723696823445687, 1.2279882140834428, 0.629381045314902, 0.7004727992084585, 0.8735369874014338, 1.2542221905224507, 1.3582398473872723, 0.6621261375659379, -0.04728151331988012, 0.12153420888011873, 0.014118226051387794, 0.23601083732659697, 1.0566914280905768, 0.2214170883302177, 0.43178316074105344, 1.0494133552191804, 1.0358782103228248, 0.06706759987298026, 0.2754250662518342, 0.2723350662617719, 0.6231705397262217, 0.3300053638372266, -0.3736276226873761, 0.28294434295510285, 0.08905311031901136, 0.224356783208606, 0.573883485558467, -0.4570128725046748, 0.25224447326946925], \"y\": [0.8631124458513246, 0.5986355733419975, 0.6148224496122867, -1.7581689474435267, -0.2117579026798959, -0.5910624686227366, 0.7786986113887825, -1.8488687712754432, 0.03033082678338099, -1.0294011124030882, -2.658062677961762, -0.05888128502145447, -1.772581564856256, -0.185434314505044, -0.43279509871416905, 0.5099981510591476, -0.19062164665727788, -0.7907254562344859, -1.6333556445154838, -1.3031032701729117, 0.4024703816185359, -0.4166082224438798, -0.9409147925302725, -0.4168116425417724, -0.06349392765170236, 0.2507086107020539, -0.08262009981311272, 0.3288202662704019, -0.2243460709434644, -1.0572124126050206, -1.5635923798655786, -1.5733923546480604, -0.7759237840118168, -0.6369012837689374, -0.28084769308564034, 0.8551369202180029, 0.5221972645127767, -1.3924664843877812, -0.21262073489338879, -1.3298159131577025, -1.1194415241194042, 0.027542633302294412, -0.9889007318191554, -2.017932265204174, -0.8539507169865503, -0.1749085477905417, -0.3804846594865457, -0.1537199740800651, -1.5394645102639812, -0.5958607459650311], \"mode\": \"markers\", \"name\": \"Iris-versicolor\", \"marker\": {\"size\": 12, \"line\": {\"color\": \"rgba(217, 217, 217, 0.14)\", \"width\": 0.5}, \"opacity\": 0.8}}, {\"type\": \"scatter\", \"x\": [1.8476725943096644, 1.1531898082521295, 2.206349497126594, 1.4386854023261826, 1.8678907025555853, 2.7541967088257535, 0.3583744748416677, 2.3030058981503196, 2.0017352992189172, 2.2675545991022688, 1.3659094292022147, 1.5990645856518697, 1.884251853752075, 1.253086514377592, 1.464061522985623, 1.591809302638529, 1.4712801894655443, 2.437378482193509, 3.30914118267608, 1.2539809866905787, 2.0404962596630396, 0.9739151144704739, 2.8980644358432777, 1.329193691323494, 1.704240708519606, 1.9577276617934363, 1.171904507987869, 1.0197810528162632, 1.7860088612484688, 1.8647779127074668, 2.435497391415144, 2.3160824119611547, 1.8603714258523165, 1.1112717256759694, 1.197469155118038, 2.80094940373403, 1.5801552485205375, 1.3470444243548023, 0.9234329777663843, 1.8535519840664412, 2.0161572006777595, 1.9031168585994875, 1.1531898082521295, 2.04330843928781, 2.0016909669349983, 1.8705220714601263, 1.558491890723718, 1.5208450639985909, 1.376391190641928, 0.959298575616038], \"y\": [0.871696661773413, -0.7013261138565761, 0.5544701049349227, -0.050010522268885686, 0.29119280176116896, 0.7884322063548451, -1.5600945839772897, 0.40951669522194345, -0.72386535931266, 1.921442991465355, 0.6939480398041612, -0.42824883590033996, 0.41433275795008384, -1.1673913352452463, -0.4441475694791239, 0.6770353716018517, 0.2531924719668155, 2.5567573414948024, -0.0023613201020834837, -1.7175838442659785, 0.907398765015053, -0.5711743763662667, 0.39779135917186803, -0.4867605419037244, 1.0141484248357853, 1.0033345154297775, -0.3188966173105681, 0.06554296309664795, -0.19327279985689172, 0.5553815315789898, 0.24665446806897393, 2.6261838690226282, -0.18467239440998356, -0.2959861024303905, -0.817167741913616, 0.8447481937849745, 1.0724744961271222, 0.4222559658955462, 0.019230370546893055, 0.6724227289716038, 0.6103970375551128, 0.686024831858699, -0.7013261138565761, 0.864684880472019, 1.0485500466234177, 0.382821837622998, -0.9053136014070666, 0.2667945748539107, 1.0163619287948857, -0.022283944660567143], \"mode\": \"markers\", \"name\": \"Iris-virginica\", \"marker\": {\"size\": 12, \"line\": {\"color\": \"rgba(217, 217, 217, 0.14)\", \"width\": 0.5}, \"opacity\": 0.8}}], {\"xaxis\": {\"title\": \"PC1\", \"showline\": false}, \"yaxis\": {\"title\": \"PC2\", \"showline\": false}}, {\"showLink\": true, \"linkText\": \"Export to plot.ly\"})});</script>"
      ],
      "text/vnd.plotly.v1+html": [
       "<div id=\"24298280-6736-4960-ae87-e0f671221344\" style=\"height: 525px; width: 100%;\" class=\"plotly-graph-div\"></div><script type=\"text/javascript\">require([\"plotly\"], function(Plotly) { window.PLOTLYENV=window.PLOTLYENV || {};window.PLOTLYENV.BASE_URL=\"https://plot.ly\";Plotly.newPlot(\"24298280-6736-4960-ae87-e0f671221344\", [{\"type\": \"scatter\", \"x\": [-2.264541728394902, -2.086425500616159, -2.3679504490625254, -2.30419716115201, -2.3887774935056427, -2.070536807180554, -2.4457113396302845, -2.2338418587092663, -2.3419576764553907, -2.1886757552808707, -2.1634865562665233, -2.3273777541343748, -2.224082722045003, -2.63971626084463, -2.19229150849843, -2.2514652145840657, -2.2027504800800863, -2.1901791637910524, -1.8940742930236685, -2.3399490704234087, -1.9145563949595175, -2.204645397533814, -2.7741697937051573, -1.8204115633372144, -2.228217499459726, -1.9570240073413974, -2.052063311276687, -2.1681936533450217, -2.1403059632841583, -2.2687901943878774, -2.1445544292771355, -1.8319381022015875, -2.6082028676633486, -2.437950859095143, -2.1886757552808707, -2.2111198968124226, -2.0444165193198005, -2.1886757552808707, -2.4359522029660203, -2.1705472018842706, -2.2865272388409306, -1.8717072235369512, -2.5578344195375133, -1.9642792903547375, -2.1333728329200286, -2.075357592837307, -2.3812582168023733, -2.3981916876626395, -2.226781213091519, -2.205954168648403], \"y\": [0.5057039027737856, -0.6554047293691372, -0.3184773108472486, -0.575367712533195, 0.6747673967025161, 1.5185485598885144, 0.0745626750068747, 0.24761393175226584, -1.0951463625829554, -0.4486290483375586, 1.0705955760377275, 0.15858745465947663, -0.7091181580302259, -0.9382819821078539, 1.8899785123164672, 2.7223710765744706, 1.5137502825462201, 0.5143043082206935, 1.4311107069412379, 1.158033428985002, 0.4304651632801388, 0.9524573172889991, 0.4895170265034958, 0.10675079283540656, 0.16218616266619756, -0.6078925674838078, 0.2660143119816558, 0.5520164953235407, 0.33664040884505503, -0.3148786028405278, -0.4839420967692586, 0.4452668355028077, 1.8284751927341027, 2.185391615630894, -0.4486290483375586, -0.18433781054027834, 0.6849564262949374, -0.4486290483375586, -0.8821694147756167, 0.29272695496644696, 0.4679917156709386, -2.327691606114911, -0.4538163804897928, 0.49739164001838393, 1.171432111774205, -0.6919173471364097, 1.1506325928736676, -0.36239076472585663, 1.0254825528235456, 0.03223784527378008], \"mode\": \"markers\", \"name\": \"Iris-setosa\", \"marker\": {\"size\": 12, \"line\": {\"color\": \"rgba(217, 217, 217, 0.14)\", \"width\": 0.5}, \"opacity\": 0.8}}, {\"type\": \"scatter\", \"x\": [1.1039936528045726, 0.7324814400086809, 1.242109505318938, 0.39730728282332745, 1.0725939482015456, 0.3844581461690015, 0.7487150759515532, -0.49786338779811823, 0.9262223675330985, 0.004968025584319044, -0.12469746138037077, 0.43873011778054677, 0.5516339814225081, 0.7171650662368515, -0.03725838296568836, 0.8758905359406833, 0.3480064019802087, 0.1533925445686671, 1.2153032092161544, 0.15694117564425075, 0.738256104369896, 0.4723696823445687, 1.2279882140834428, 0.629381045314902, 0.7004727992084585, 0.8735369874014338, 1.2542221905224507, 1.3582398473872723, 0.6621261375659379, -0.04728151331988012, 0.12153420888011873, 0.014118226051387794, 0.23601083732659697, 1.0566914280905768, 0.2214170883302177, 0.43178316074105344, 1.0494133552191804, 1.0358782103228248, 0.06706759987298026, 0.2754250662518342, 0.2723350662617719, 0.6231705397262217, 0.3300053638372266, -0.3736276226873761, 0.28294434295510285, 0.08905311031901136, 0.224356783208606, 0.573883485558467, -0.4570128725046748, 0.25224447326946925], \"y\": [0.8631124458513246, 0.5986355733419975, 0.6148224496122867, -1.7581689474435267, -0.2117579026798959, -0.5910624686227366, 0.7786986113887825, -1.8488687712754432, 0.03033082678338099, -1.0294011124030882, -2.658062677961762, -0.05888128502145447, -1.772581564856256, -0.185434314505044, -0.43279509871416905, 0.5099981510591476, -0.19062164665727788, -0.7907254562344859, -1.6333556445154838, -1.3031032701729117, 0.4024703816185359, -0.4166082224438798, -0.9409147925302725, -0.4168116425417724, -0.06349392765170236, 0.2507086107020539, -0.08262009981311272, 0.3288202662704019, -0.2243460709434644, -1.0572124126050206, -1.5635923798655786, -1.5733923546480604, -0.7759237840118168, -0.6369012837689374, -0.28084769308564034, 0.8551369202180029, 0.5221972645127767, -1.3924664843877812, -0.21262073489338879, -1.3298159131577025, -1.1194415241194042, 0.027542633302294412, -0.9889007318191554, -2.017932265204174, -0.8539507169865503, -0.1749085477905417, -0.3804846594865457, -0.1537199740800651, -1.5394645102639812, -0.5958607459650311], \"mode\": \"markers\", \"name\": \"Iris-versicolor\", \"marker\": {\"size\": 12, \"line\": {\"color\": \"rgba(217, 217, 217, 0.14)\", \"width\": 0.5}, \"opacity\": 0.8}}, {\"type\": \"scatter\", \"x\": [1.8476725943096644, 1.1531898082521295, 2.206349497126594, 1.4386854023261826, 1.8678907025555853, 2.7541967088257535, 0.3583744748416677, 2.3030058981503196, 2.0017352992189172, 2.2675545991022688, 1.3659094292022147, 1.5990645856518697, 1.884251853752075, 1.253086514377592, 1.464061522985623, 1.591809302638529, 1.4712801894655443, 2.437378482193509, 3.30914118267608, 1.2539809866905787, 2.0404962596630396, 0.9739151144704739, 2.8980644358432777, 1.329193691323494, 1.704240708519606, 1.9577276617934363, 1.171904507987869, 1.0197810528162632, 1.7860088612484688, 1.8647779127074668, 2.435497391415144, 2.3160824119611547, 1.8603714258523165, 1.1112717256759694, 1.197469155118038, 2.80094940373403, 1.5801552485205375, 1.3470444243548023, 0.9234329777663843, 1.8535519840664412, 2.0161572006777595, 1.9031168585994875, 1.1531898082521295, 2.04330843928781, 2.0016909669349983, 1.8705220714601263, 1.558491890723718, 1.5208450639985909, 1.376391190641928, 0.959298575616038], \"y\": [0.871696661773413, -0.7013261138565761, 0.5544701049349227, -0.050010522268885686, 0.29119280176116896, 0.7884322063548451, -1.5600945839772897, 0.40951669522194345, -0.72386535931266, 1.921442991465355, 0.6939480398041612, -0.42824883590033996, 0.41433275795008384, -1.1673913352452463, -0.4441475694791239, 0.6770353716018517, 0.2531924719668155, 2.5567573414948024, -0.0023613201020834837, -1.7175838442659785, 0.907398765015053, -0.5711743763662667, 0.39779135917186803, -0.4867605419037244, 1.0141484248357853, 1.0033345154297775, -0.3188966173105681, 0.06554296309664795, -0.19327279985689172, 0.5553815315789898, 0.24665446806897393, 2.6261838690226282, -0.18467239440998356, -0.2959861024303905, -0.817167741913616, 0.8447481937849745, 1.0724744961271222, 0.4222559658955462, 0.019230370546893055, 0.6724227289716038, 0.6103970375551128, 0.686024831858699, -0.7013261138565761, 0.864684880472019, 1.0485500466234177, 0.382821837622998, -0.9053136014070666, 0.2667945748539107, 1.0163619287948857, -0.022283944660567143], \"mode\": \"markers\", \"name\": \"Iris-virginica\", \"marker\": {\"size\": 12, \"line\": {\"color\": \"rgba(217, 217, 217, 0.14)\", \"width\": 0.5}, \"opacity\": 0.8}}], {\"xaxis\": {\"title\": \"PC1\", \"showline\": false}, \"yaxis\": {\"title\": \"PC2\", \"showline\": false}}, {\"showLink\": true, \"linkText\": \"Export to plot.ly\"})});</script>"
      ]
     },
     "metadata": {},
     "output_type": "display_data"
    }
   ],
   "source": [
    "traces = []\n",
    "\n",
    "for name in ('Iris-setosa', 'Iris-versicolor', 'Iris-virginica'):\n",
    "\n",
    "    trace = Scatter(\n",
    "        x=Y_sklearn[y==name,0],\n",
    "        y=Y_sklearn[y==name,1],\n",
    "        mode='markers',\n",
    "        name=name,\n",
    "        marker=Marker(\n",
    "            size=12,\n",
    "            line=Line(\n",
    "                color='rgba(217, 217, 217, 0.14)',\n",
    "                width=0.5),\n",
    "            opacity=0.8))\n",
    "    traces.append(trace)\n",
    "\n",
    "\n",
    "data = Data(traces)\n",
    "layout = Layout(xaxis=XAxis(title='PC1', showline=False),\n",
    "                yaxis=YAxis(title='PC2', showline=False))\n",
    "fig = Figure(data=data, layout=layout)\n",
    "iplot(fig)"
   ]
  },
  {
   "cell_type": "code",
   "execution_count": null,
   "metadata": {},
   "outputs": [],
   "source": []
  }
 ],
 "metadata": {
  "kernelspec": {
   "display_name": "Python 3",
   "language": "python",
   "name": "python3"
  },
  "language_info": {
   "codemirror_mode": {
    "name": "ipython",
    "version": 3
   },
   "file_extension": ".py",
   "mimetype": "text/x-python",
   "name": "python",
   "nbconvert_exporter": "python",
   "pygments_lexer": "ipython3",
   "version": "3.6.3"
  }
 },
 "nbformat": 4,
 "nbformat_minor": 2
}
